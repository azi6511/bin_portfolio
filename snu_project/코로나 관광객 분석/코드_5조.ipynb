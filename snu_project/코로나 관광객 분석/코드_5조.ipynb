{
  "nbformat": 4,
  "nbformat_minor": 0,
  "metadata": {
    "colab": {
      "name": "코드_5조",
      "provenance": [],
      "collapsed_sections": [
        "ne-TgwHhTHQH",
        "kh9BAIzBUvAt",
        "zbRgY3mGO8ou"
      ]
    },
    "kernelspec": {
      "name": "python3",
      "display_name": "Python 3"
    }
  },
  "cells": [
    {
      "cell_type": "markdown",
      "metadata": {
        "id": "6G7Cv6Hox8WG"
      },
      "source": [
        "## 한글 글꼴 설치 & Data Load"
      ]
    },
    {
      "cell_type": "code",
      "metadata": {
        "colab": {
          "base_uri": "https://localhost:8080/"
        },
        "id": "-bf1yp5qGSou",
        "outputId": "c73daf96-0084-4b45-be2f-05b1adc81842"
      },
      "source": [
        "!sudo apt-get install -y fonts-nanum\n",
        "!sudo fc-cache -fv\n",
        "!rm ~/.cache/matplotlib -rf"
      ],
      "execution_count": null,
      "outputs": [
        {
          "output_type": "stream",
          "text": [
            "Reading package lists... Done\n",
            "Building dependency tree       \n",
            "Reading state information... Done\n",
            "The following NEW packages will be installed:\n",
            "  fonts-nanum\n",
            "0 upgraded, 1 newly installed, 0 to remove and 13 not upgraded.\n",
            "Need to get 9,604 kB of archives.\n",
            "After this operation, 29.5 MB of additional disk space will be used.\n",
            "Get:1 http://archive.ubuntu.com/ubuntu bionic/universe amd64 fonts-nanum all 20170925-1 [9,604 kB]\n",
            "Fetched 9,604 kB in 2s (5,162 kB/s)\n",
            "debconf: unable to initialize frontend: Dialog\n",
            "debconf: (No usable dialog-like program is installed, so the dialog based frontend cannot be used. at /usr/share/perl5/Debconf/FrontEnd/Dialog.pm line 76, <> line 1.)\n",
            "debconf: falling back to frontend: Readline\n",
            "debconf: unable to initialize frontend: Readline\n",
            "debconf: (This frontend requires a controlling tty.)\n",
            "debconf: falling back to frontend: Teletype\n",
            "dpkg-preconfigure: unable to re-open stdin: \n",
            "Selecting previously unselected package fonts-nanum.\n",
            "(Reading database ... 146374 files and directories currently installed.)\n",
            "Preparing to unpack .../fonts-nanum_20170925-1_all.deb ...\n",
            "Unpacking fonts-nanum (20170925-1) ...\n",
            "Setting up fonts-nanum (20170925-1) ...\n",
            "Processing triggers for fontconfig (2.12.6-0ubuntu2) ...\n",
            "/usr/share/fonts: caching, new cache contents: 0 fonts, 1 dirs\n",
            "/usr/share/fonts/truetype: caching, new cache contents: 0 fonts, 3 dirs\n",
            "/usr/share/fonts/truetype/humor-sans: caching, new cache contents: 1 fonts, 0 dirs\n",
            "/usr/share/fonts/truetype/liberation: caching, new cache contents: 16 fonts, 0 dirs\n",
            "/usr/share/fonts/truetype/nanum: caching, new cache contents: 10 fonts, 0 dirs\n",
            "/usr/local/share/fonts: caching, new cache contents: 0 fonts, 0 dirs\n",
            "/root/.local/share/fonts: skipping, no such directory\n",
            "/root/.fonts: skipping, no such directory\n",
            "/var/cache/fontconfig: cleaning cache directory\n",
            "/root/.cache/fontconfig: not cleaning non-existent cache directory\n",
            "/root/.fontconfig: not cleaning non-existent cache directory\n",
            "fc-cache: succeeded\n"
          ],
          "name": "stdout"
        }
      ]
    },
    {
      "cell_type": "code",
      "metadata": {
        "id": "ppod5WVoCXsM"
      },
      "source": [
        "import numpy as np\n",
        "import pandas as pd\n",
        "from matplotlib import pyplot as plt\n",
        "import matplotlib as mpl\n",
        "%matplotlib inline\n",
        "import os\n",
        "import seaborn as sns\n",
        "import datetime as dt"
      ],
      "execution_count": null,
      "outputs": []
    },
    {
      "cell_type": "code",
      "metadata": {
        "id": "a0zqOKjWXXpQ"
      },
      "source": [
        "mpl.rcParams['font.family'] = 'NanumGothic'\n",
        "mpl.rcParams['font.size'] =16"
      ],
      "execution_count": null,
      "outputs": []
    },
    {
      "cell_type": "code",
      "metadata": {
        "colab": {
          "base_uri": "https://localhost:8080/"
        },
        "id": "BNiB-AuZvXSE",
        "outputId": "6096b8ee-2a38-47c1-d7cb-ca8c895fc499"
      },
      "source": [
        "from google.colab import drive\n",
        "drive.mount('/content/drive')"
      ],
      "execution_count": null,
      "outputs": [
        {
          "output_type": "stream",
          "text": [
            "Mounted at /content/drive\n"
          ],
          "name": "stdout"
        }
      ]
    },
    {
      "cell_type": "code",
      "metadata": {
        "id": "rwwoIQfgm7Se"
      },
      "source": [
        "duration = pd.read_excel('/content/drive/MyDrive/SNU_Fintech/SNU - 5조/Covid-19 관광객 분석(~1 31)/외래객 평균 체재일/외래객 평균 체재일.xls',na_values=np.nan,header=[0],index_col=[0])\n",
        "df2 = pd.read_excel('/content/drive/MyDrive/SNU_Fintech/SNU - 5조/Covid-19 관광객 분석(~1 31)/외래객 평균 체재일/국적별 입국자 수.xls',na_values=np.nan,header=[0],index_col=[0])\n",
        "C_entrance = pd.read_excel('/content/drive/MyDrive/SNU_Fintech/SNU - 5조/Covid-19 관광객 분석(~1 31)/소현/국적별 입국_210126101506.xlsx',index_col=[0])\n",
        "income= pd.read_excel(\"/content/drive/MyDrive/SNU_Fintech/SNU - 5조/Covid-19 관광객 분석(~1 31)/소현/관광수지_관광수입.xlsx\")\n",
        "abroad = pd.read_excel(\"/content/drive/MyDrive/SNU_Fintech/SNU - 5조/Covid-19 관광객 분석(~1 31)/소현/국민해외관광객_전체.xlsx\")"
      ],
      "execution_count": null,
      "outputs": []
    },
    {
      "cell_type": "markdown",
      "metadata": {
        "id": "s-r_pPBxTD_Q"
      },
      "source": [
        "#### 2019년 기준, 입국자 기준 Top 10 국가 리스트 추출"
      ]
    },
    {
      "cell_type": "code",
      "metadata": {
        "colab": {
          "base_uri": "https://localhost:8080/",
          "height": 235
        },
        "id": "JCKDjkkX7Wpd",
        "outputId": "9c4320b1-a128-4ddb-aa1a-dce0b736c36c"
      },
      "source": [
        "df2 = df2.iloc[1:,:]\n",
        "df2.head()"
      ],
      "execution_count": null,
      "outputs": [
        {
          "output_type": "execute_result",
          "data": {
            "text/html": [
              "<div>\n",
              "<style scoped>\n",
              "    .dataframe tbody tr th:only-of-type {\n",
              "        vertical-align: middle;\n",
              "    }\n",
              "\n",
              "    .dataframe tbody tr th {\n",
              "        vertical-align: top;\n",
              "    }\n",
              "\n",
              "    .dataframe thead th {\n",
              "        text-align: right;\n",
              "    }\n",
              "</style>\n",
              "<table border=\"1\" class=\"dataframe\">\n",
              "  <thead>\n",
              "    <tr style=\"text-align: right;\">\n",
              "      <th></th>\n",
              "      <th>2019년</th>\n",
              "      <th>2020년</th>\n",
              "      <th>계</th>\n",
              "    </tr>\n",
              "    <tr>\n",
              "      <th>국적별</th>\n",
              "      <th></th>\n",
              "      <th></th>\n",
              "      <th></th>\n",
              "    </tr>\n",
              "  </thead>\n",
              "  <tbody>\n",
              "    <tr>\n",
              "      <th>일  본</th>\n",
              "      <td>3271706</td>\n",
              "      <td>429791</td>\n",
              "      <td>3701497</td>\n",
              "    </tr>\n",
              "    <tr>\n",
              "      <th>중  국</th>\n",
              "      <td>6023021</td>\n",
              "      <td>678443</td>\n",
              "      <td>6701464</td>\n",
              "    </tr>\n",
              "    <tr>\n",
              "      <th>대  만</th>\n",
              "      <td>1260493</td>\n",
              "      <td>166452</td>\n",
              "      <td>1426945</td>\n",
              "    </tr>\n",
              "    <tr>\n",
              "      <th>필리핀</th>\n",
              "      <td>503867</td>\n",
              "      <td>105978</td>\n",
              "      <td>609845</td>\n",
              "    </tr>\n",
              "    <tr>\n",
              "      <th>홍  콩</th>\n",
              "      <td>694934</td>\n",
              "      <td>88819</td>\n",
              "      <td>783753</td>\n",
              "    </tr>\n",
              "  </tbody>\n",
              "</table>\n",
              "</div>"
            ],
            "text/plain": [
              "        2019년   2020년        계\n",
              "국적별                           \n",
              "일  본  3271706  429791  3701497\n",
              "중  국  6023021  678443  6701464\n",
              "대  만  1260493  166452  1426945\n",
              "필리핀    503867  105978   609845\n",
              "홍  콩   694934   88819   783753"
            ]
          },
          "metadata": {
            "tags": []
          },
          "execution_count": 7
        }
      ]
    },
    {
      "cell_type": "code",
      "metadata": {
        "colab": {
          "base_uri": "https://localhost:8080/"
        },
        "id": "eU2Cn_oMZqeJ",
        "outputId": "fe7d959e-f3f0-418c-b095-1422568b631b"
      },
      "source": [
        "df2.shape"
      ],
      "execution_count": null,
      "outputs": [
        {
          "output_type": "execute_result",
          "data": {
            "text/plain": [
              "(61, 3)"
            ]
          },
          "metadata": {
            "tags": []
          },
          "execution_count": 8
        }
      ]
    },
    {
      "cell_type": "code",
      "metadata": {
        "id": "0D9mOrWv7kKh",
        "colab": {
          "base_uri": "https://localhost:8080/"
        },
        "outputId": "d9ae4d82-9d1e-45e6-ffd2-4fbeb94c013c"
      },
      "source": [
        "df2 = df2.sort_values(by=['2019년'],axis=0,ascending=False)\n",
        "# df2 = df2.head(10)\n",
        "top_cntry = []\n",
        "for i in df2.index[:10]:\n",
        "    top_cntry.append(i)\n",
        "\n",
        "top_cntry"
      ],
      "execution_count": null,
      "outputs": [
        {
          "output_type": "execute_result",
          "data": {
            "text/plain": [
              "['중  국',\n",
              " '일  본',\n",
              " '대  만',\n",
              " '미  국',\n",
              " '홍  콩',\n",
              " '태  국',\n",
              " '베트남',\n",
              " '필리핀',\n",
              " '말레이시아',\n",
              " '러시아(연방)']"
            ]
          },
          "metadata": {
            "tags": []
          },
          "execution_count": 9
        }
      ]
    },
    {
      "cell_type": "markdown",
      "metadata": {
        "id": "ne-TgwHhTHQH"
      },
      "source": [
        "#### 체류기간(Duration Data) 전처리"
      ]
    },
    {
      "cell_type": "code",
      "metadata": {
        "id": "azTnc9dx3uAg"
      },
      "source": [
        "duration = duration.iloc[1:,:-2]\n",
        "duration = duration.astype('float32')"
      ],
      "execution_count": null,
      "outputs": []
    },
    {
      "cell_type": "code",
      "metadata": {
        "id": "Dz3yKrN1MMJA"
      },
      "source": [
        "new_col = []\n",
        "for col in duration.columns:\n",
        "    col = col.replace('년','.')\n",
        "    col = col.replace('월','.01')\n",
        "    new_col.append(col)\n",
        "\n",
        "new_col = pd.to_datetime(new_col)\n",
        "duration.columns=new_col"
      ],
      "execution_count": null,
      "outputs": []
    },
    {
      "cell_type": "code",
      "metadata": {
        "colab": {
          "base_uri": "https://localhost:8080/",
          "height": 827
        },
        "id": "Wl865mDhSPdZ",
        "outputId": "52a0ffc2-04b4-4e27-8043-2dbc07c2dc99"
      },
      "source": [
        "duration"
      ],
      "execution_count": null,
      "outputs": [
        {
          "output_type": "execute_result",
          "data": {
            "text/html": [
              "<div>\n",
              "<style scoped>\n",
              "    .dataframe tbody tr th:only-of-type {\n",
              "        vertical-align: middle;\n",
              "    }\n",
              "\n",
              "    .dataframe tbody tr th {\n",
              "        vertical-align: top;\n",
              "    }\n",
              "\n",
              "    .dataframe thead th {\n",
              "        text-align: right;\n",
              "    }\n",
              "</style>\n",
              "<table border=\"1\" class=\"dataframe\">\n",
              "  <thead>\n",
              "    <tr style=\"text-align: right;\">\n",
              "      <th></th>\n",
              "      <th>2019-01-01</th>\n",
              "      <th>2019-02-01</th>\n",
              "      <th>2019-03-01</th>\n",
              "      <th>2019-04-01</th>\n",
              "      <th>2019-05-01</th>\n",
              "      <th>2019-06-01</th>\n",
              "      <th>2019-07-01</th>\n",
              "      <th>2019-08-01</th>\n",
              "      <th>2019-09-01</th>\n",
              "      <th>2019-10-01</th>\n",
              "      <th>2019-11-01</th>\n",
              "      <th>2019-12-01</th>\n",
              "      <th>2020-01-01</th>\n",
              "      <th>2020-02-01</th>\n",
              "      <th>2020-03-01</th>\n",
              "      <th>2020-04-01</th>\n",
              "      <th>2020-05-01</th>\n",
              "      <th>2020-06-01</th>\n",
              "      <th>2020-07-01</th>\n",
              "      <th>2020-08-01</th>\n",
              "      <th>2020-09-01</th>\n",
              "      <th>2020-10-01</th>\n",
              "      <th>2020-11-01</th>\n",
              "    </tr>\n",
              "    <tr>\n",
              "      <th>국적</th>\n",
              "      <th></th>\n",
              "      <th></th>\n",
              "      <th></th>\n",
              "      <th></th>\n",
              "      <th></th>\n",
              "      <th></th>\n",
              "      <th></th>\n",
              "      <th></th>\n",
              "      <th></th>\n",
              "      <th></th>\n",
              "      <th></th>\n",
              "      <th></th>\n",
              "      <th></th>\n",
              "      <th></th>\n",
              "      <th></th>\n",
              "      <th></th>\n",
              "      <th></th>\n",
              "      <th></th>\n",
              "      <th></th>\n",
              "      <th></th>\n",
              "      <th></th>\n",
              "      <th></th>\n",
              "      <th></th>\n",
              "    </tr>\n",
              "  </thead>\n",
              "  <tbody>\n",
              "    <tr>\n",
              "      <th>아시아주</th>\n",
              "      <td>9.3</td>\n",
              "      <td>8.400000</td>\n",
              "      <td>6.500000</td>\n",
              "      <td>7.2</td>\n",
              "      <td>7.800000</td>\n",
              "      <td>7.700000</td>\n",
              "      <td>8.300000</td>\n",
              "      <td>8.600000</td>\n",
              "      <td>8.2</td>\n",
              "      <td>7.4</td>\n",
              "      <td>8.700000</td>\n",
              "      <td>9.000000</td>\n",
              "      <td>8.600000</td>\n",
              "      <td>8.300000</td>\n",
              "      <td>32.000000</td>\n",
              "      <td>48.700001</td>\n",
              "      <td>42.000000</td>\n",
              "      <td>25.500000</td>\n",
              "      <td>15.600000</td>\n",
              "      <td>19.600000</td>\n",
              "      <td>20.500000</td>\n",
              "      <td>23.799999</td>\n",
              "      <td>21.600000</td>\n",
              "    </tr>\n",
              "    <tr>\n",
              "      <th>일  본</th>\n",
              "      <td>3.1</td>\n",
              "      <td>3.500000</td>\n",
              "      <td>3.100000</td>\n",
              "      <td>3.0</td>\n",
              "      <td>3.100000</td>\n",
              "      <td>3.000000</td>\n",
              "      <td>3.300000</td>\n",
              "      <td>3.800000</td>\n",
              "      <td>3.5</td>\n",
              "      <td>3.4</td>\n",
              "      <td>3.700000</td>\n",
              "      <td>3.900000</td>\n",
              "      <td>3.300000</td>\n",
              "      <td>3.400000</td>\n",
              "      <td>10.400000</td>\n",
              "      <td>57.599998</td>\n",
              "      <td>73.599998</td>\n",
              "      <td>64.300003</td>\n",
              "      <td>36.700001</td>\n",
              "      <td>43.500000</td>\n",
              "      <td>44.500000</td>\n",
              "      <td>47.099998</td>\n",
              "      <td>43.200001</td>\n",
              "    </tr>\n",
              "    <tr>\n",
              "      <th>중  국</th>\n",
              "      <td>14.2</td>\n",
              "      <td>11.900000</td>\n",
              "      <td>9.100000</td>\n",
              "      <td>10.7</td>\n",
              "      <td>11.000000</td>\n",
              "      <td>10.600000</td>\n",
              "      <td>11.200000</td>\n",
              "      <td>10.900000</td>\n",
              "      <td>10.3</td>\n",
              "      <td>9.1</td>\n",
              "      <td>11.200000</td>\n",
              "      <td>11.600000</td>\n",
              "      <td>12.100000</td>\n",
              "      <td>19.000000</td>\n",
              "      <td>43.400002</td>\n",
              "      <td>63.700001</td>\n",
              "      <td>54.400002</td>\n",
              "      <td>58.700001</td>\n",
              "      <td>47.599998</td>\n",
              "      <td>43.400002</td>\n",
              "      <td>37.799999</td>\n",
              "      <td>44.099998</td>\n",
              "      <td>46.200001</td>\n",
              "    </tr>\n",
              "    <tr>\n",
              "      <th>대  만</th>\n",
              "      <td>4.8</td>\n",
              "      <td>4.900000</td>\n",
              "      <td>4.400000</td>\n",
              "      <td>4.2</td>\n",
              "      <td>4.400000</td>\n",
              "      <td>4.300000</td>\n",
              "      <td>4.500000</td>\n",
              "      <td>5.000000</td>\n",
              "      <td>4.4</td>\n",
              "      <td>4.4</td>\n",
              "      <td>4.700000</td>\n",
              "      <td>4.600000</td>\n",
              "      <td>5.000000</td>\n",
              "      <td>5.300000</td>\n",
              "      <td>33.099998</td>\n",
              "      <td>65.099998</td>\n",
              "      <td>71.000000</td>\n",
              "      <td>55.900002</td>\n",
              "      <td>34.599998</td>\n",
              "      <td>37.799999</td>\n",
              "      <td>34.299999</td>\n",
              "      <td>44.400002</td>\n",
              "      <td>47.099998</td>\n",
              "    </tr>\n",
              "    <tr>\n",
              "      <th>필리핀</th>\n",
              "      <td>6.6</td>\n",
              "      <td>6.600000</td>\n",
              "      <td>6.800000</td>\n",
              "      <td>5.5</td>\n",
              "      <td>6.600000</td>\n",
              "      <td>6.900000</td>\n",
              "      <td>8.300000</td>\n",
              "      <td>9.200000</td>\n",
              "      <td>8.4</td>\n",
              "      <td>6.1</td>\n",
              "      <td>6.600000</td>\n",
              "      <td>7.100000</td>\n",
              "      <td>6.300000</td>\n",
              "      <td>6.500000</td>\n",
              "      <td>11.800000</td>\n",
              "      <td>18.500000</td>\n",
              "      <td>19.900000</td>\n",
              "      <td>13.300000</td>\n",
              "      <td>12.200000</td>\n",
              "      <td>10.600000</td>\n",
              "      <td>7.000000</td>\n",
              "      <td>7.600000</td>\n",
              "      <td>7.700000</td>\n",
              "    </tr>\n",
              "    <tr>\n",
              "      <th>...</th>\n",
              "      <td>...</td>\n",
              "      <td>...</td>\n",
              "      <td>...</td>\n",
              "      <td>...</td>\n",
              "      <td>...</td>\n",
              "      <td>...</td>\n",
              "      <td>...</td>\n",
              "      <td>...</td>\n",
              "      <td>...</td>\n",
              "      <td>...</td>\n",
              "      <td>...</td>\n",
              "      <td>...</td>\n",
              "      <td>...</td>\n",
              "      <td>...</td>\n",
              "      <td>...</td>\n",
              "      <td>...</td>\n",
              "      <td>...</td>\n",
              "      <td>...</td>\n",
              "      <td>...</td>\n",
              "      <td>...</td>\n",
              "      <td>...</td>\n",
              "      <td>...</td>\n",
              "      <td>...</td>\n",
              "    </tr>\n",
              "    <tr>\n",
              "      <th>이집트</th>\n",
              "      <td>22.0</td>\n",
              "      <td>16.600000</td>\n",
              "      <td>14.200000</td>\n",
              "      <td>15.9</td>\n",
              "      <td>21.799999</td>\n",
              "      <td>12.200000</td>\n",
              "      <td>18.000000</td>\n",
              "      <td>20.000000</td>\n",
              "      <td>17.4</td>\n",
              "      <td>13.4</td>\n",
              "      <td>14.000000</td>\n",
              "      <td>20.900000</td>\n",
              "      <td>20.299999</td>\n",
              "      <td>19.000000</td>\n",
              "      <td>25.299999</td>\n",
              "      <td>0.000000</td>\n",
              "      <td>58.000000</td>\n",
              "      <td>56.000000</td>\n",
              "      <td>11.200000</td>\n",
              "      <td>17.500000</td>\n",
              "      <td>47.599998</td>\n",
              "      <td>55.400002</td>\n",
              "      <td>44.299999</td>\n",
              "    </tr>\n",
              "    <tr>\n",
              "      <th>아프리카주 기타</th>\n",
              "      <td>29.5</td>\n",
              "      <td>22.700001</td>\n",
              "      <td>21.700001</td>\n",
              "      <td>20.4</td>\n",
              "      <td>22.700001</td>\n",
              "      <td>19.900000</td>\n",
              "      <td>21.799999</td>\n",
              "      <td>20.299999</td>\n",
              "      <td>20.6</td>\n",
              "      <td>21.6</td>\n",
              "      <td>22.500000</td>\n",
              "      <td>30.200001</td>\n",
              "      <td>27.000000</td>\n",
              "      <td>21.200001</td>\n",
              "      <td>34.599998</td>\n",
              "      <td>24.799999</td>\n",
              "      <td>15.700000</td>\n",
              "      <td>38.799999</td>\n",
              "      <td>8.400000</td>\n",
              "      <td>22.000000</td>\n",
              "      <td>9.200000</td>\n",
              "      <td>28.100000</td>\n",
              "      <td>24.900000</td>\n",
              "    </tr>\n",
              "    <tr>\n",
              "      <th>기 타</th>\n",
              "      <td>20.4</td>\n",
              "      <td>19.700001</td>\n",
              "      <td>16.200001</td>\n",
              "      <td>17.9</td>\n",
              "      <td>15.800000</td>\n",
              "      <td>25.200001</td>\n",
              "      <td>14.300000</td>\n",
              "      <td>25.799999</td>\n",
              "      <td>20.0</td>\n",
              "      <td>16.9</td>\n",
              "      <td>23.700001</td>\n",
              "      <td>14.000000</td>\n",
              "      <td>10.000000</td>\n",
              "      <td>11.900000</td>\n",
              "      <td>10.400000</td>\n",
              "      <td>0.000000</td>\n",
              "      <td>41.500000</td>\n",
              "      <td>1.000000</td>\n",
              "      <td>1.800000</td>\n",
              "      <td>14.000000</td>\n",
              "      <td>9.300000</td>\n",
              "      <td>0.000000</td>\n",
              "      <td>2.000000</td>\n",
              "    </tr>\n",
              "    <tr>\n",
              "      <th>미상</th>\n",
              "      <td>20.4</td>\n",
              "      <td>19.700001</td>\n",
              "      <td>16.200001</td>\n",
              "      <td>17.9</td>\n",
              "      <td>15.800000</td>\n",
              "      <td>25.200001</td>\n",
              "      <td>14.300000</td>\n",
              "      <td>25.799999</td>\n",
              "      <td>20.0</td>\n",
              "      <td>16.9</td>\n",
              "      <td>23.700001</td>\n",
              "      <td>14.000000</td>\n",
              "      <td>10.000000</td>\n",
              "      <td>11.900000</td>\n",
              "      <td>10.400000</td>\n",
              "      <td>0.000000</td>\n",
              "      <td>41.500000</td>\n",
              "      <td>1.000000</td>\n",
              "      <td>1.800000</td>\n",
              "      <td>14.000000</td>\n",
              "      <td>9.300000</td>\n",
              "      <td>0.000000</td>\n",
              "      <td>2.000000</td>\n",
              "    </tr>\n",
              "    <tr>\n",
              "      <th>전 체</th>\n",
              "      <td>9.7</td>\n",
              "      <td>8.900000</td>\n",
              "      <td>7.100000</td>\n",
              "      <td>7.6</td>\n",
              "      <td>8.500000</td>\n",
              "      <td>8.600000</td>\n",
              "      <td>9.200000</td>\n",
              "      <td>9.600000</td>\n",
              "      <td>9.0</td>\n",
              "      <td>8.1</td>\n",
              "      <td>9.300000</td>\n",
              "      <td>9.800000</td>\n",
              "      <td>9.000000</td>\n",
              "      <td>9.300000</td>\n",
              "      <td>29.900000</td>\n",
              "      <td>46.599998</td>\n",
              "      <td>43.000000</td>\n",
              "      <td>32.200001</td>\n",
              "      <td>22.299999</td>\n",
              "      <td>32.299999</td>\n",
              "      <td>28.799999</td>\n",
              "      <td>29.299999</td>\n",
              "      <td>28.700001</td>\n",
              "    </tr>\n",
              "  </tbody>\n",
              "</table>\n",
              "<p>74 rows × 23 columns</p>\n",
              "</div>"
            ],
            "text/plain": [
              "          2019-01-01  2019-02-01  ...  2020-10-01  2020-11-01\n",
              "국적                                ...                        \n",
              "아시아주             9.3    8.400000  ...   23.799999   21.600000\n",
              "일  본             3.1    3.500000  ...   47.099998   43.200001\n",
              "중  국            14.2   11.900000  ...   44.099998   46.200001\n",
              "대  만             4.8    4.900000  ...   44.400002   47.099998\n",
              "필리핀              6.6    6.600000  ...    7.600000    7.700000\n",
              "...              ...         ...  ...         ...         ...\n",
              "이집트             22.0   16.600000  ...   55.400002   44.299999\n",
              "아프리카주 기타        29.5   22.700001  ...   28.100000   24.900000\n",
              "기 타             20.4   19.700001  ...    0.000000    2.000000\n",
              "미상              20.4   19.700001  ...    0.000000    2.000000\n",
              "전 체              9.7    8.900000  ...   29.299999   28.700001\n",
              "\n",
              "[74 rows x 23 columns]"
            ]
          },
          "metadata": {
            "tags": []
          },
          "execution_count": 12
        }
      ]
    },
    {
      "cell_type": "code",
      "metadata": {
        "id": "CA3eEd0UDKl2"
      },
      "source": [
        "duration = duration.loc[top_cntry].transpose()\n",
        "# duration = duration.reset_index().rename(columns={'index':'date'})"
      ],
      "execution_count": null,
      "outputs": []
    },
    {
      "cell_type": "code",
      "metadata": {
        "colab": {
          "base_uri": "https://localhost:8080/",
          "height": 204
        },
        "id": "qFChqmQYN4wq",
        "outputId": "6148f06c-e319-4253-b475-3d22e32ead8e"
      },
      "source": [
        "duration.head()"
      ],
      "execution_count": null,
      "outputs": [
        {
          "output_type": "execute_result",
          "data": {
            "text/html": [
              "<div>\n",
              "<style scoped>\n",
              "    .dataframe tbody tr th:only-of-type {\n",
              "        vertical-align: middle;\n",
              "    }\n",
              "\n",
              "    .dataframe tbody tr th {\n",
              "        vertical-align: top;\n",
              "    }\n",
              "\n",
              "    .dataframe thead th {\n",
              "        text-align: right;\n",
              "    }\n",
              "</style>\n",
              "<table border=\"1\" class=\"dataframe\">\n",
              "  <thead>\n",
              "    <tr style=\"text-align: right;\">\n",
              "      <th>국적</th>\n",
              "      <th>중  국</th>\n",
              "      <th>일  본</th>\n",
              "      <th>대  만</th>\n",
              "      <th>미  국</th>\n",
              "      <th>홍  콩</th>\n",
              "      <th>태  국</th>\n",
              "      <th>베트남</th>\n",
              "      <th>필리핀</th>\n",
              "      <th>말레이시아</th>\n",
              "      <th>러시아(연방)</th>\n",
              "    </tr>\n",
              "  </thead>\n",
              "  <tbody>\n",
              "    <tr>\n",
              "      <th>2019-01-01</th>\n",
              "      <td>14.2</td>\n",
              "      <td>3.1</td>\n",
              "      <td>4.8</td>\n",
              "      <td>11.9</td>\n",
              "      <td>4.9</td>\n",
              "      <td>8.9</td>\n",
              "      <td>18.4</td>\n",
              "      <td>6.6</td>\n",
              "      <td>7.8</td>\n",
              "      <td>10.7</td>\n",
              "    </tr>\n",
              "    <tr>\n",
              "      <th>2019-02-01</th>\n",
              "      <td>11.9</td>\n",
              "      <td>3.5</td>\n",
              "      <td>4.9</td>\n",
              "      <td>13.3</td>\n",
              "      <td>4.9</td>\n",
              "      <td>10.0</td>\n",
              "      <td>11.2</td>\n",
              "      <td>6.6</td>\n",
              "      <td>6.4</td>\n",
              "      <td>13.2</td>\n",
              "    </tr>\n",
              "    <tr>\n",
              "      <th>2019-03-01</th>\n",
              "      <td>9.1</td>\n",
              "      <td>3.1</td>\n",
              "      <td>4.4</td>\n",
              "      <td>11.5</td>\n",
              "      <td>4.3</td>\n",
              "      <td>8.7</td>\n",
              "      <td>10.4</td>\n",
              "      <td>6.8</td>\n",
              "      <td>6.0</td>\n",
              "      <td>11.3</td>\n",
              "    </tr>\n",
              "    <tr>\n",
              "      <th>2019-04-01</th>\n",
              "      <td>10.7</td>\n",
              "      <td>3.0</td>\n",
              "      <td>4.2</td>\n",
              "      <td>10.1</td>\n",
              "      <td>4.5</td>\n",
              "      <td>7.4</td>\n",
              "      <td>7.7</td>\n",
              "      <td>5.5</td>\n",
              "      <td>6.2</td>\n",
              "      <td>11.0</td>\n",
              "    </tr>\n",
              "    <tr>\n",
              "      <th>2019-05-01</th>\n",
              "      <td>11.0</td>\n",
              "      <td>3.1</td>\n",
              "      <td>4.4</td>\n",
              "      <td>12.9</td>\n",
              "      <td>4.7</td>\n",
              "      <td>9.1</td>\n",
              "      <td>14.0</td>\n",
              "      <td>6.6</td>\n",
              "      <td>7.6</td>\n",
              "      <td>11.9</td>\n",
              "    </tr>\n",
              "  </tbody>\n",
              "</table>\n",
              "</div>"
            ],
            "text/plain": [
              "국적          중  국  일  본  대  만  미  국  홍  콩  태  국   베트남  필리핀  말레이시아  러시아(연방)\n",
              "2019-01-01  14.2   3.1   4.8  11.9   4.9   8.9  18.4  6.6    7.8     10.7\n",
              "2019-02-01  11.9   3.5   4.9  13.3   4.9  10.0  11.2  6.6    6.4     13.2\n",
              "2019-03-01   9.1   3.1   4.4  11.5   4.3   8.7  10.4  6.8    6.0     11.3\n",
              "2019-04-01  10.7   3.0   4.2  10.1   4.5   7.4   7.7  5.5    6.2     11.0\n",
              "2019-05-01  11.0   3.1   4.4  12.9   4.7   9.1  14.0  6.6    7.6     11.9"
            ]
          },
          "metadata": {
            "tags": []
          },
          "execution_count": 14
        }
      ]
    },
    {
      "cell_type": "markdown",
      "metadata": {
        "id": "kh9BAIzBUvAt"
      },
      "source": [
        "#### 국적별 입국자 수 전처리"
      ]
    },
    {
      "cell_type": "code",
      "metadata": {
        "id": "_Waqtkz2HSHm"
      },
      "source": [
        "C_entrance = C_entrance.loc[top_cntry]\n",
        "C_entrance = C_entrance.iloc[:,:-1]"
      ],
      "execution_count": null,
      "outputs": []
    },
    {
      "cell_type": "code",
      "metadata": {
        "colab": {
          "base_uri": "https://localhost:8080/",
          "height": 388
        },
        "id": "M12Wkts2VocO",
        "outputId": "776f7ad3-3623-4a04-dd1c-476cbbc86463"
      },
      "source": [
        "C_entrance.head()"
      ],
      "execution_count": null,
      "outputs": [
        {
          "output_type": "execute_result",
          "data": {
            "text/html": [
              "<div>\n",
              "<style scoped>\n",
              "    .dataframe tbody tr th:only-of-type {\n",
              "        vertical-align: middle;\n",
              "    }\n",
              "\n",
              "    .dataframe tbody tr th {\n",
              "        vertical-align: top;\n",
              "    }\n",
              "\n",
              "    .dataframe thead th {\n",
              "        text-align: right;\n",
              "    }\n",
              "</style>\n",
              "<table border=\"1\" class=\"dataframe\">\n",
              "  <thead>\n",
              "    <tr style=\"text-align: right;\">\n",
              "      <th></th>\n",
              "      <th>2019년01월</th>\n",
              "      <th>2019년02월</th>\n",
              "      <th>2019년03월</th>\n",
              "      <th>2019년04월</th>\n",
              "      <th>2019년05월</th>\n",
              "      <th>2019년06월</th>\n",
              "      <th>2019년07월</th>\n",
              "      <th>2019년08월</th>\n",
              "      <th>2019년09월</th>\n",
              "      <th>2019년10월</th>\n",
              "      <th>2019년11월</th>\n",
              "      <th>2019년12월</th>\n",
              "      <th>2020년01월</th>\n",
              "      <th>2020년02월</th>\n",
              "      <th>2020년03월</th>\n",
              "      <th>2020년04월</th>\n",
              "      <th>2020년05월</th>\n",
              "      <th>2020년06월</th>\n",
              "      <th>2020년07월</th>\n",
              "      <th>2020년08월</th>\n",
              "      <th>2020년09월</th>\n",
              "      <th>2020년10월</th>\n",
              "      <th>2020년11월</th>\n",
              "    </tr>\n",
              "    <tr>\n",
              "      <th>국적별</th>\n",
              "      <th></th>\n",
              "      <th></th>\n",
              "      <th></th>\n",
              "      <th></th>\n",
              "      <th></th>\n",
              "      <th></th>\n",
              "      <th></th>\n",
              "      <th></th>\n",
              "      <th></th>\n",
              "      <th></th>\n",
              "      <th></th>\n",
              "      <th></th>\n",
              "      <th></th>\n",
              "      <th></th>\n",
              "      <th></th>\n",
              "      <th></th>\n",
              "      <th></th>\n",
              "      <th></th>\n",
              "      <th></th>\n",
              "      <th></th>\n",
              "      <th></th>\n",
              "      <th></th>\n",
              "      <th></th>\n",
              "    </tr>\n",
              "  </thead>\n",
              "  <tbody>\n",
              "    <tr>\n",
              "      <th>중  국</th>\n",
              "      <td>392814</td>\n",
              "      <td>453379</td>\n",
              "      <td>487623</td>\n",
              "      <td>493250</td>\n",
              "      <td>500413</td>\n",
              "      <td>475007</td>\n",
              "      <td>519132</td>\n",
              "      <td>578112</td>\n",
              "      <td>541350</td>\n",
              "      <td>567695</td>\n",
              "      <td>505369</td>\n",
              "      <td>508877</td>\n",
              "      <td>481681</td>\n",
              "      <td>104086</td>\n",
              "      <td>16595</td>\n",
              "      <td>3935</td>\n",
              "      <td>5124</td>\n",
              "      <td>5051</td>\n",
              "      <td>9738</td>\n",
              "      <td>16275</td>\n",
              "      <td>15307</td>\n",
              "      <td>11477</td>\n",
              "      <td>9174</td>\n",
              "    </tr>\n",
              "    <tr>\n",
              "      <th>일  본</th>\n",
              "      <td>206526</td>\n",
              "      <td>213200</td>\n",
              "      <td>375119</td>\n",
              "      <td>290092</td>\n",
              "      <td>286273</td>\n",
              "      <td>282476</td>\n",
              "      <td>274830</td>\n",
              "      <td>329652</td>\n",
              "      <td>251119</td>\n",
              "      <td>248541</td>\n",
              "      <td>258522</td>\n",
              "      <td>255356</td>\n",
              "      <td>203969</td>\n",
              "      <td>211199</td>\n",
              "      <td>8347</td>\n",
              "      <td>360</td>\n",
              "      <td>413</td>\n",
              "      <td>498</td>\n",
              "      <td>755</td>\n",
              "      <td>1275</td>\n",
              "      <td>794</td>\n",
              "      <td>927</td>\n",
              "      <td>1254</td>\n",
              "    </tr>\n",
              "    <tr>\n",
              "      <th>대  만</th>\n",
              "      <td>87954</td>\n",
              "      <td>94559</td>\n",
              "      <td>98510</td>\n",
              "      <td>113072</td>\n",
              "      <td>101779</td>\n",
              "      <td>118437</td>\n",
              "      <td>113587</td>\n",
              "      <td>109273</td>\n",
              "      <td>102758</td>\n",
              "      <td>127944</td>\n",
              "      <td>102241</td>\n",
              "      <td>90379</td>\n",
              "      <td>110354</td>\n",
              "      <td>53042</td>\n",
              "      <td>585</td>\n",
              "      <td>155</td>\n",
              "      <td>189</td>\n",
              "      <td>240</td>\n",
              "      <td>305</td>\n",
              "      <td>655</td>\n",
              "      <td>329</td>\n",
              "      <td>299</td>\n",
              "      <td>299</td>\n",
              "    </tr>\n",
              "    <tr>\n",
              "      <th>미  국</th>\n",
              "      <td>62737</td>\n",
              "      <td>57732</td>\n",
              "      <td>84275</td>\n",
              "      <td>102524</td>\n",
              "      <td>95815</td>\n",
              "      <td>105398</td>\n",
              "      <td>97428</td>\n",
              "      <td>86586</td>\n",
              "      <td>90819</td>\n",
              "      <td>101099</td>\n",
              "      <td>82238</td>\n",
              "      <td>77387</td>\n",
              "      <td>67255</td>\n",
              "      <td>42439</td>\n",
              "      <td>10570</td>\n",
              "      <td>6417</td>\n",
              "      <td>8735</td>\n",
              "      <td>9717</td>\n",
              "      <td>11922</td>\n",
              "      <td>13368</td>\n",
              "      <td>12426</td>\n",
              "      <td>12366</td>\n",
              "      <td>13100</td>\n",
              "    </tr>\n",
              "    <tr>\n",
              "      <th>홍  콩</th>\n",
              "      <td>35896</td>\n",
              "      <td>51312</td>\n",
              "      <td>46068</td>\n",
              "      <td>76104</td>\n",
              "      <td>57026</td>\n",
              "      <td>61728</td>\n",
              "      <td>59036</td>\n",
              "      <td>65958</td>\n",
              "      <td>45911</td>\n",
              "      <td>65544</td>\n",
              "      <td>58600</td>\n",
              "      <td>71751</td>\n",
              "      <td>66962</td>\n",
              "      <td>20966</td>\n",
              "      <td>262</td>\n",
              "      <td>35</td>\n",
              "      <td>24</td>\n",
              "      <td>62</td>\n",
              "      <td>78</td>\n",
              "      <td>167</td>\n",
              "      <td>115</td>\n",
              "      <td>59</td>\n",
              "      <td>89</td>\n",
              "    </tr>\n",
              "  </tbody>\n",
              "</table>\n",
              "</div>"
            ],
            "text/plain": [
              "      2019년01월  2019년02월  2019년03월  ...  2020년09월  2020년10월  2020년11월\n",
              "국적별                                 ...                              \n",
              "중  국    392814    453379    487623  ...     15307     11477      9174\n",
              "일  본    206526    213200    375119  ...       794       927      1254\n",
              "대  만     87954     94559     98510  ...       329       299       299\n",
              "미  국     62737     57732     84275  ...     12426     12366     13100\n",
              "홍  콩     35896     51312     46068  ...       115        59        89\n",
              "\n",
              "[5 rows x 23 columns]"
            ]
          },
          "metadata": {
            "tags": []
          },
          "execution_count": 15
        }
      ]
    },
    {
      "cell_type": "code",
      "metadata": {
        "id": "N3gzGKyVU4bD"
      },
      "source": [
        "new_col = []\n",
        "for col in C_entrance.columns:\n",
        "    col = col.replace('년','.')\n",
        "    col = col.replace('월','.01')\n",
        "    new_col.append(col)\n",
        "\n",
        "new_col = pd.to_datetime(new_col)\n",
        "C_entrance.columns=new_col"
      ],
      "execution_count": null,
      "outputs": []
    },
    {
      "cell_type": "code",
      "metadata": {
        "id": "ZX1C3K1gVko4"
      },
      "source": [
        "C_entrance = C_entrance.transpose()\n",
        "C_entrance['total'] = C_entrance.sum(axis=1) # Top 10 국가 월별 입국자 수\n",
        "# C_entrance = C_entrance.reset_index().rename(columns={'index':'date'})"
      ],
      "execution_count": null,
      "outputs": []
    },
    {
      "cell_type": "code",
      "metadata": {
        "colab": {
          "base_uri": "https://localhost:8080/",
          "height": 204
        },
        "id": "_p2Y8eUaVyDE",
        "outputId": "68ed3995-fb91-45ad-d2b5-5e86131324df"
      },
      "source": [
        "C_entrance.head()"
      ],
      "execution_count": null,
      "outputs": [
        {
          "output_type": "execute_result",
          "data": {
            "text/html": [
              "<div>\n",
              "<style scoped>\n",
              "    .dataframe tbody tr th:only-of-type {\n",
              "        vertical-align: middle;\n",
              "    }\n",
              "\n",
              "    .dataframe tbody tr th {\n",
              "        vertical-align: top;\n",
              "    }\n",
              "\n",
              "    .dataframe thead th {\n",
              "        text-align: right;\n",
              "    }\n",
              "</style>\n",
              "<table border=\"1\" class=\"dataframe\">\n",
              "  <thead>\n",
              "    <tr style=\"text-align: right;\">\n",
              "      <th>국적별</th>\n",
              "      <th>중  국</th>\n",
              "      <th>일  본</th>\n",
              "      <th>대  만</th>\n",
              "      <th>미  국</th>\n",
              "      <th>홍  콩</th>\n",
              "      <th>태  국</th>\n",
              "      <th>베트남</th>\n",
              "      <th>필리핀</th>\n",
              "      <th>말레이시아</th>\n",
              "      <th>러시아(연방)</th>\n",
              "      <th>total</th>\n",
              "    </tr>\n",
              "  </thead>\n",
              "  <tbody>\n",
              "    <tr>\n",
              "      <th>2019-01-01</th>\n",
              "      <td>392814</td>\n",
              "      <td>206526</td>\n",
              "      <td>87954</td>\n",
              "      <td>62737</td>\n",
              "      <td>35896</td>\n",
              "      <td>41334</td>\n",
              "      <td>20183</td>\n",
              "      <td>30473</td>\n",
              "      <td>22065</td>\n",
              "      <td>25194</td>\n",
              "      <td>925176</td>\n",
              "    </tr>\n",
              "    <tr>\n",
              "      <th>2019-02-01</th>\n",
              "      <td>453379</td>\n",
              "      <td>213200</td>\n",
              "      <td>94559</td>\n",
              "      <td>57732</td>\n",
              "      <td>51312</td>\n",
              "      <td>39220</td>\n",
              "      <td>42181</td>\n",
              "      <td>29294</td>\n",
              "      <td>27484</td>\n",
              "      <td>20001</td>\n",
              "      <td>1028362</td>\n",
              "    </tr>\n",
              "    <tr>\n",
              "      <th>2019-03-01</th>\n",
              "      <td>487623</td>\n",
              "      <td>375119</td>\n",
              "      <td>98510</td>\n",
              "      <td>84275</td>\n",
              "      <td>46068</td>\n",
              "      <td>53100</td>\n",
              "      <td>46991</td>\n",
              "      <td>38701</td>\n",
              "      <td>40789</td>\n",
              "      <td>27992</td>\n",
              "      <td>1299168</td>\n",
              "    </tr>\n",
              "    <tr>\n",
              "      <th>2019-04-01</th>\n",
              "      <td>493250</td>\n",
              "      <td>290092</td>\n",
              "      <td>113072</td>\n",
              "      <td>102524</td>\n",
              "      <td>76104</td>\n",
              "      <td>69726</td>\n",
              "      <td>63169</td>\n",
              "      <td>66525</td>\n",
              "      <td>43726</td>\n",
              "      <td>34205</td>\n",
              "      <td>1352393</td>\n",
              "    </tr>\n",
              "    <tr>\n",
              "      <th>2019-05-01</th>\n",
              "      <td>500413</td>\n",
              "      <td>286273</td>\n",
              "      <td>101779</td>\n",
              "      <td>95815</td>\n",
              "      <td>57026</td>\n",
              "      <td>52660</td>\n",
              "      <td>44416</td>\n",
              "      <td>50569</td>\n",
              "      <td>31217</td>\n",
              "      <td>32955</td>\n",
              "      <td>1253123</td>\n",
              "    </tr>\n",
              "  </tbody>\n",
              "</table>\n",
              "</div>"
            ],
            "text/plain": [
              "국적별           중  국    일  본    대  만    미  국  ...    필리핀  말레이시아  러시아(연방)    total\n",
              "2019-01-01  392814  206526   87954   62737  ...  30473  22065    25194   925176\n",
              "2019-02-01  453379  213200   94559   57732  ...  29294  27484    20001  1028362\n",
              "2019-03-01  487623  375119   98510   84275  ...  38701  40789    27992  1299168\n",
              "2019-04-01  493250  290092  113072  102524  ...  66525  43726    34205  1352393\n",
              "2019-05-01  500413  286273  101779   95815  ...  50569  31217    32955  1253123\n",
              "\n",
              "[5 rows x 11 columns]"
            ]
          },
          "metadata": {
            "tags": []
          },
          "execution_count": 18
        }
      ]
    },
    {
      "cell_type": "markdown",
      "metadata": {
        "id": "zbRgY3mGO8ou"
      },
      "source": [
        "#### 코로나 확진자 수 전처리"
      ]
    },
    {
      "cell_type": "code",
      "metadata": {
        "id": "-3rREKlOO-hF"
      },
      "source": [
        "# 코로나 일별 확진자 (2/20 ~ 12/08)\n",
        "CovidN = pd.read_csv('/content/drive/MyDrive/SNU_Fintech/SNU - 5조/Covid-19 관광객 분석(~1 31)/외래객 평균 체재일/daily_corona_conut.csv',index_col=[0])\n",
        "CovidN['date'] = '2020/' + CovidN['date']\n",
        "CovidN['date'] = pd.to_datetime(CovidN.date,format='%Y-%m-%d')\n",
        "CovidN.set_index('date',inplace=True)\n",
        "CovidN = CovidN.resample('MS').mean()\n",
        "CovidN.rename(columns={'count':'월별 평균 확진자'},inplace=True)"
      ],
      "execution_count": null,
      "outputs": []
    },
    {
      "cell_type": "code",
      "metadata": {
        "colab": {
          "base_uri": "https://localhost:8080/",
          "height": 235
        },
        "id": "gOEPXBxDE1ZU",
        "outputId": "7ac5403f-c09f-41ae-81c4-5d7ebca0250c"
      },
      "source": [
        "CovidN.head()"
      ],
      "execution_count": null,
      "outputs": [
        {
          "output_type": "execute_result",
          "data": {
            "text/html": [
              "<div>\n",
              "<style scoped>\n",
              "    .dataframe tbody tr th:only-of-type {\n",
              "        vertical-align: middle;\n",
              "    }\n",
              "\n",
              "    .dataframe tbody tr th {\n",
              "        vertical-align: top;\n",
              "    }\n",
              "\n",
              "    .dataframe thead th {\n",
              "        text-align: right;\n",
              "    }\n",
              "</style>\n",
              "<table border=\"1\" class=\"dataframe\">\n",
              "  <thead>\n",
              "    <tr style=\"text-align: right;\">\n",
              "      <th></th>\n",
              "      <th>월별 평균 확진자</th>\n",
              "    </tr>\n",
              "    <tr>\n",
              "      <th>date</th>\n",
              "      <th></th>\n",
              "    </tr>\n",
              "  </thead>\n",
              "  <tbody>\n",
              "    <tr>\n",
              "      <th>2020-02-01</th>\n",
              "      <td>311.900000</td>\n",
              "    </tr>\n",
              "    <tr>\n",
              "      <th>2020-03-01</th>\n",
              "      <td>214.064516</td>\n",
              "    </tr>\n",
              "    <tr>\n",
              "      <th>2020-04-01</th>\n",
              "      <td>32.933333</td>\n",
              "    </tr>\n",
              "    <tr>\n",
              "      <th>2020-05-01</th>\n",
              "      <td>23.516129</td>\n",
              "    </tr>\n",
              "    <tr>\n",
              "      <th>2020-06-01</th>\n",
              "      <td>44.900000</td>\n",
              "    </tr>\n",
              "  </tbody>\n",
              "</table>\n",
              "</div>"
            ],
            "text/plain": [
              "             월별 평균 확진자\n",
              "date                  \n",
              "2020-02-01  311.900000\n",
              "2020-03-01  214.064516\n",
              "2020-04-01   32.933333\n",
              "2020-05-01   23.516129\n",
              "2020-06-01   44.900000"
            ]
          },
          "metadata": {
            "tags": []
          },
          "execution_count": 20
        }
      ]
    },
    {
      "cell_type": "markdown",
      "metadata": {
        "id": "ueKvUu5FJglG"
      },
      "source": [
        "#### 명목/실질 관광객 수 연산"
      ]
    },
    {
      "cell_type": "code",
      "metadata": {
        "colab": {
          "base_uri": "https://localhost:8080/",
          "height": 173
        },
        "id": "4--CLRPvE_rp",
        "outputId": "466bb647-e40c-455a-cab3-736d463da215"
      },
      "source": [
        "duration.iloc[10:14]"
      ],
      "execution_count": null,
      "outputs": [
        {
          "output_type": "execute_result",
          "data": {
            "text/html": [
              "<div>\n",
              "<style scoped>\n",
              "    .dataframe tbody tr th:only-of-type {\n",
              "        vertical-align: middle;\n",
              "    }\n",
              "\n",
              "    .dataframe tbody tr th {\n",
              "        vertical-align: top;\n",
              "    }\n",
              "\n",
              "    .dataframe thead th {\n",
              "        text-align: right;\n",
              "    }\n",
              "</style>\n",
              "<table border=\"1\" class=\"dataframe\">\n",
              "  <thead>\n",
              "    <tr style=\"text-align: right;\">\n",
              "      <th>국적</th>\n",
              "      <th>중  국</th>\n",
              "      <th>일  본</th>\n",
              "      <th>대  만</th>\n",
              "      <th>미  국</th>\n",
              "      <th>홍  콩</th>\n",
              "      <th>태  국</th>\n",
              "      <th>베트남</th>\n",
              "      <th>필리핀</th>\n",
              "      <th>말레이시아</th>\n",
              "      <th>러시아(연방)</th>\n",
              "    </tr>\n",
              "  </thead>\n",
              "  <tbody>\n",
              "    <tr>\n",
              "      <th>2019-11-01</th>\n",
              "      <td>11.2</td>\n",
              "      <td>3.7</td>\n",
              "      <td>4.7</td>\n",
              "      <td>13.6</td>\n",
              "      <td>4.6</td>\n",
              "      <td>8.3</td>\n",
              "      <td>17.799999</td>\n",
              "      <td>6.6</td>\n",
              "      <td>7.3</td>\n",
              "      <td>12.4</td>\n",
              "    </tr>\n",
              "    <tr>\n",
              "      <th>2019-12-01</th>\n",
              "      <td>11.6</td>\n",
              "      <td>3.9</td>\n",
              "      <td>4.6</td>\n",
              "      <td>15.0</td>\n",
              "      <td>4.5</td>\n",
              "      <td>9.0</td>\n",
              "      <td>24.500000</td>\n",
              "      <td>7.1</td>\n",
              "      <td>6.6</td>\n",
              "      <td>15.3</td>\n",
              "    </tr>\n",
              "    <tr>\n",
              "      <th>2020-01-01</th>\n",
              "      <td>12.1</td>\n",
              "      <td>3.3</td>\n",
              "      <td>5.0</td>\n",
              "      <td>12.0</td>\n",
              "      <td>5.0</td>\n",
              "      <td>8.1</td>\n",
              "      <td>17.799999</td>\n",
              "      <td>6.3</td>\n",
              "      <td>6.9</td>\n",
              "      <td>9.2</td>\n",
              "    </tr>\n",
              "    <tr>\n",
              "      <th>2020-02-01</th>\n",
              "      <td>19.0</td>\n",
              "      <td>3.4</td>\n",
              "      <td>5.3</td>\n",
              "      <td>14.7</td>\n",
              "      <td>5.3</td>\n",
              "      <td>8.9</td>\n",
              "      <td>18.200001</td>\n",
              "      <td>6.5</td>\n",
              "      <td>6.8</td>\n",
              "      <td>11.2</td>\n",
              "    </tr>\n",
              "  </tbody>\n",
              "</table>\n",
              "</div>"
            ],
            "text/plain": [
              "국적          중  국  일  본  대  만  미  국  홍  콩  태  국        베트남  필리핀  말레이시아  러시아(연방)\n",
              "2019-11-01  11.2   3.7   4.7  13.6   4.6   8.3  17.799999  6.6    7.3     12.4\n",
              "2019-12-01  11.6   3.9   4.6  15.0   4.5   9.0  24.500000  7.1    6.6     15.3\n",
              "2020-01-01  12.1   3.3   5.0  12.0   5.0   8.1  17.799999  6.3    6.9      9.2\n",
              "2020-02-01  19.0   3.4   5.3  14.7   5.3   8.9  18.200001  6.5    6.8     11.2"
            ]
          },
          "metadata": {
            "tags": []
          },
          "execution_count": 21
        }
      ]
    },
    {
      "cell_type": "code",
      "metadata": {
        "colab": {
          "base_uri": "https://localhost:8080/",
          "height": 688
        },
        "id": "7CRZ3rfIiWt_",
        "outputId": "d28c1919-dcb6-400e-b011-1b7f98204b45"
      },
      "source": [
        "#2019년 boxplot\n",
        "plt.figure(figsize=(15,5))\n",
        "sns.boxenplot(data=duration.iloc[:12,:])\n",
        "\n",
        "#2020년 boxplot\n",
        "plt.figure(figsize=(15,5))\n",
        "sns.boxenplot(data=duration.iloc[12:,:])\n"
      ],
      "execution_count": null,
      "outputs": [
        {
          "output_type": "execute_result",
          "data": {
            "text/plain": [
              "<matplotlib.axes._subplots.AxesSubplot at 0x7fac780556a0>"
            ]
          },
          "metadata": {
            "tags": []
          },
          "execution_count": 22
        },
        {
          "output_type": "display_data",
          "data": {
            "image/png": "[encoded data removed]",
            "text/plain": [
              "<Figure size 1080x360 with 1 Axes>"
            ]
          },
          "metadata": {
            "tags": [],
            "needs_background": "light"
          }
        },
        {
          "output_type": "display_data",
          "data": {
            "image/png": "[encoded data removed]",
            "text/plain": [
              "<Figure size 1080x360 with 1 Axes>"
            ]
          },
          "metadata": {
            "tags": [],
            "needs_background": "light"
          }
        }
      ]
    },
    {
      "cell_type": "code",
      "metadata": {
        "colab": {
          "base_uri": "https://localhost:8080/"
        },
        "id": "02GZwJByFm7z",
        "outputId": "7b44c340-be19-4b6a-ddc1-3420346b1be0"
      },
      "source": [
        "et1 = C_entrance['2019-01-01':'2019-11-01'] \n",
        "et1['year'] = et1.index.year\n",
        "et1['month'] = et1.index.month\n",
        "\n",
        "et2 = C_entrance['2020-01-01':'2020-11-01'] \n",
        "et2['year'] = et2.index.year\n",
        "et2['month'] = et2.index.month"
      ],
      "execution_count": null,
      "outputs": [
        {
          "output_type": "stream",
          "text": [
            "/usr/local/lib/python3.6/dist-packages/ipykernel_launcher.py:2: SettingWithCopyWarning: \n",
            "A value is trying to be set on a copy of a slice from a DataFrame.\n",
            "Try using .loc[row_indexer,col_indexer] = value instead\n",
            "\n",
            "See the caveats in the documentation: https://pandas.pydata.org/pandas-docs/stable/user_guide/indexing.html#returning-a-view-versus-a-copy\n",
            "  \n",
            "/usr/local/lib/python3.6/dist-packages/ipykernel_launcher.py:3: SettingWithCopyWarning: \n",
            "A value is trying to be set on a copy of a slice from a DataFrame.\n",
            "Try using .loc[row_indexer,col_indexer] = value instead\n",
            "\n",
            "See the caveats in the documentation: https://pandas.pydata.org/pandas-docs/stable/user_guide/indexing.html#returning-a-view-versus-a-copy\n",
            "  This is separate from the ipykernel package so we can avoid doing imports until\n",
            "/usr/local/lib/python3.6/dist-packages/ipykernel_launcher.py:6: SettingWithCopyWarning: \n",
            "A value is trying to be set on a copy of a slice from a DataFrame.\n",
            "Try using .loc[row_indexer,col_indexer] = value instead\n",
            "\n",
            "See the caveats in the documentation: https://pandas.pydata.org/pandas-docs/stable/user_guide/indexing.html#returning-a-view-versus-a-copy\n",
            "  \n",
            "/usr/local/lib/python3.6/dist-packages/ipykernel_launcher.py:7: SettingWithCopyWarning: \n",
            "A value is trying to be set on a copy of a slice from a DataFrame.\n",
            "Try using .loc[row_indexer,col_indexer] = value instead\n",
            "\n",
            "See the caveats in the documentation: https://pandas.pydata.org/pandas-docs/stable/user_guide/indexing.html#returning-a-view-versus-a-copy\n",
            "  import sys\n"
          ],
          "name": "stderr"
        }
      ]
    },
    {
      "cell_type": "code",
      "metadata": {
        "colab": {
          "base_uri": "https://localhost:8080/",
          "height": 204
        },
        "id": "YgST5-WMHswk",
        "outputId": "599d739d-9b84-4487-c1a6-4086886a5291"
      },
      "source": [
        "et1.head()"
      ],
      "execution_count": null,
      "outputs": [
        {
          "output_type": "execute_result",
          "data": {
            "text/html": [
              "<div>\n",
              "<style scoped>\n",
              "    .dataframe tbody tr th:only-of-type {\n",
              "        vertical-align: middle;\n",
              "    }\n",
              "\n",
              "    .dataframe tbody tr th {\n",
              "        vertical-align: top;\n",
              "    }\n",
              "\n",
              "    .dataframe thead th {\n",
              "        text-align: right;\n",
              "    }\n",
              "</style>\n",
              "<table border=\"1\" class=\"dataframe\">\n",
              "  <thead>\n",
              "    <tr style=\"text-align: right;\">\n",
              "      <th>국적별</th>\n",
              "      <th>중  국</th>\n",
              "      <th>일  본</th>\n",
              "      <th>대  만</th>\n",
              "      <th>미  국</th>\n",
              "      <th>홍  콩</th>\n",
              "      <th>태  국</th>\n",
              "      <th>베트남</th>\n",
              "      <th>필리핀</th>\n",
              "      <th>말레이시아</th>\n",
              "      <th>러시아(연방)</th>\n",
              "      <th>total</th>\n",
              "      <th>year</th>\n",
              "      <th>month</th>\n",
              "    </tr>\n",
              "  </thead>\n",
              "  <tbody>\n",
              "    <tr>\n",
              "      <th>2019-01-01</th>\n",
              "      <td>392814</td>\n",
              "      <td>206526</td>\n",
              "      <td>87954</td>\n",
              "      <td>62737</td>\n",
              "      <td>35896</td>\n",
              "      <td>41334</td>\n",
              "      <td>20183</td>\n",
              "      <td>30473</td>\n",
              "      <td>22065</td>\n",
              "      <td>25194</td>\n",
              "      <td>925176</td>\n",
              "      <td>2019</td>\n",
              "      <td>1</td>\n",
              "    </tr>\n",
              "    <tr>\n",
              "      <th>2019-02-01</th>\n",
              "      <td>453379</td>\n",
              "      <td>213200</td>\n",
              "      <td>94559</td>\n",
              "      <td>57732</td>\n",
              "      <td>51312</td>\n",
              "      <td>39220</td>\n",
              "      <td>42181</td>\n",
              "      <td>29294</td>\n",
              "      <td>27484</td>\n",
              "      <td>20001</td>\n",
              "      <td>1028362</td>\n",
              "      <td>2019</td>\n",
              "      <td>2</td>\n",
              "    </tr>\n",
              "    <tr>\n",
              "      <th>2019-03-01</th>\n",
              "      <td>487623</td>\n",
              "      <td>375119</td>\n",
              "      <td>98510</td>\n",
              "      <td>84275</td>\n",
              "      <td>46068</td>\n",
              "      <td>53100</td>\n",
              "      <td>46991</td>\n",
              "      <td>38701</td>\n",
              "      <td>40789</td>\n",
              "      <td>27992</td>\n",
              "      <td>1299168</td>\n",
              "      <td>2019</td>\n",
              "      <td>3</td>\n",
              "    </tr>\n",
              "    <tr>\n",
              "      <th>2019-04-01</th>\n",
              "      <td>493250</td>\n",
              "      <td>290092</td>\n",
              "      <td>113072</td>\n",
              "      <td>102524</td>\n",
              "      <td>76104</td>\n",
              "      <td>69726</td>\n",
              "      <td>63169</td>\n",
              "      <td>66525</td>\n",
              "      <td>43726</td>\n",
              "      <td>34205</td>\n",
              "      <td>1352393</td>\n",
              "      <td>2019</td>\n",
              "      <td>4</td>\n",
              "    </tr>\n",
              "    <tr>\n",
              "      <th>2019-05-01</th>\n",
              "      <td>500413</td>\n",
              "      <td>286273</td>\n",
              "      <td>101779</td>\n",
              "      <td>95815</td>\n",
              "      <td>57026</td>\n",
              "      <td>52660</td>\n",
              "      <td>44416</td>\n",
              "      <td>50569</td>\n",
              "      <td>31217</td>\n",
              "      <td>32955</td>\n",
              "      <td>1253123</td>\n",
              "      <td>2019</td>\n",
              "      <td>5</td>\n",
              "    </tr>\n",
              "  </tbody>\n",
              "</table>\n",
              "</div>"
            ],
            "text/plain": [
              "국적별           중  국    일  본    대  만    미  국  ...  러시아(연방)    total  year  month\n",
              "2019-01-01  392814  206526   87954   62737  ...    25194   925176  2019      1\n",
              "2019-02-01  453379  213200   94559   57732  ...    20001  1028362  2019      2\n",
              "2019-03-01  487623  375119   98510   84275  ...    27992  1299168  2019      3\n",
              "2019-04-01  493250  290092  113072  102524  ...    34205  1352393  2019      4\n",
              "2019-05-01  500413  286273  101779   95815  ...    32955  1253123  2019      5\n",
              "\n",
              "[5 rows x 13 columns]"
            ]
          },
          "metadata": {
            "tags": []
          },
          "execution_count": 24
        }
      ]
    },
    {
      "cell_type": "code",
      "metadata": {
        "colab": {
          "base_uri": "https://localhost:8080/",
          "height": 204
        },
        "id": "PVr73fbhIEds",
        "outputId": "3e5d5c51-2a3d-4347-8012-f9f9b66bf372"
      },
      "source": [
        "et2.tail()"
      ],
      "execution_count": null,
      "outputs": [
        {
          "output_type": "execute_result",
          "data": {
            "text/html": [
              "<div>\n",
              "<style scoped>\n",
              "    .dataframe tbody tr th:only-of-type {\n",
              "        vertical-align: middle;\n",
              "    }\n",
              "\n",
              "    .dataframe tbody tr th {\n",
              "        vertical-align: top;\n",
              "    }\n",
              "\n",
              "    .dataframe thead th {\n",
              "        text-align: right;\n",
              "    }\n",
              "</style>\n",
              "<table border=\"1\" class=\"dataframe\">\n",
              "  <thead>\n",
              "    <tr style=\"text-align: right;\">\n",
              "      <th>국적별</th>\n",
              "      <th>중  국</th>\n",
              "      <th>일  본</th>\n",
              "      <th>대  만</th>\n",
              "      <th>미  국</th>\n",
              "      <th>홍  콩</th>\n",
              "      <th>태  국</th>\n",
              "      <th>베트남</th>\n",
              "      <th>필리핀</th>\n",
              "      <th>말레이시아</th>\n",
              "      <th>러시아(연방)</th>\n",
              "      <th>total</th>\n",
              "      <th>year</th>\n",
              "      <th>month</th>\n",
              "    </tr>\n",
              "  </thead>\n",
              "  <tbody>\n",
              "    <tr>\n",
              "      <th>2020-07-01</th>\n",
              "      <td>9738</td>\n",
              "      <td>755</td>\n",
              "      <td>305</td>\n",
              "      <td>11922</td>\n",
              "      <td>78</td>\n",
              "      <td>609</td>\n",
              "      <td>1060</td>\n",
              "      <td>10166</td>\n",
              "      <td>136</td>\n",
              "      <td>2004</td>\n",
              "      <td>36773</td>\n",
              "      <td>2020</td>\n",
              "      <td>7</td>\n",
              "    </tr>\n",
              "    <tr>\n",
              "      <th>2020-08-01</th>\n",
              "      <td>16275</td>\n",
              "      <td>1275</td>\n",
              "      <td>655</td>\n",
              "      <td>13368</td>\n",
              "      <td>167</td>\n",
              "      <td>781</td>\n",
              "      <td>1938</td>\n",
              "      <td>7362</td>\n",
              "      <td>276</td>\n",
              "      <td>2086</td>\n",
              "      <td>44183</td>\n",
              "      <td>2020</td>\n",
              "      <td>8</td>\n",
              "    </tr>\n",
              "    <tr>\n",
              "      <th>2020-09-01</th>\n",
              "      <td>15307</td>\n",
              "      <td>794</td>\n",
              "      <td>329</td>\n",
              "      <td>12426</td>\n",
              "      <td>115</td>\n",
              "      <td>523</td>\n",
              "      <td>1447</td>\n",
              "      <td>8485</td>\n",
              "      <td>186</td>\n",
              "      <td>1700</td>\n",
              "      <td>41312</td>\n",
              "      <td>2020</td>\n",
              "      <td>9</td>\n",
              "    </tr>\n",
              "    <tr>\n",
              "      <th>2020-10-01</th>\n",
              "      <td>11477</td>\n",
              "      <td>927</td>\n",
              "      <td>299</td>\n",
              "      <td>12366</td>\n",
              "      <td>59</td>\n",
              "      <td>460</td>\n",
              "      <td>853</td>\n",
              "      <td>9041</td>\n",
              "      <td>180</td>\n",
              "      <td>2240</td>\n",
              "      <td>37902</td>\n",
              "      <td>2020</td>\n",
              "      <td>10</td>\n",
              "    </tr>\n",
              "    <tr>\n",
              "      <th>2020-11-01</th>\n",
              "      <td>9174</td>\n",
              "      <td>1254</td>\n",
              "      <td>299</td>\n",
              "      <td>13100</td>\n",
              "      <td>89</td>\n",
              "      <td>391</td>\n",
              "      <td>1269</td>\n",
              "      <td>9700</td>\n",
              "      <td>168</td>\n",
              "      <td>1806</td>\n",
              "      <td>37250</td>\n",
              "      <td>2020</td>\n",
              "      <td>11</td>\n",
              "    </tr>\n",
              "  </tbody>\n",
              "</table>\n",
              "</div>"
            ],
            "text/plain": [
              "국적별          중  국  일  본  대  만   미  국  홍  콩  ...  말레이시아  러시아(연방)  total  year  month\n",
              "2020-07-01   9738   755   305  11922    78  ...    136     2004  36773  2020      7\n",
              "2020-08-01  16275  1275   655  13368   167  ...    276     2086  44183  2020      8\n",
              "2020-09-01  15307   794   329  12426   115  ...    186     1700  41312  2020      9\n",
              "2020-10-01  11477   927   299  12366    59  ...    180     2240  37902  2020     10\n",
              "2020-11-01   9174  1254   299  13100    89  ...    168     1806  37250  2020     11\n",
              "\n",
              "[5 rows x 13 columns]"
            ]
          },
          "metadata": {
            "tags": []
          },
          "execution_count": 25
        }
      ]
    },
    {
      "cell_type": "code",
      "metadata": {
        "id": "aBgCus58d31u"
      },
      "source": [
        "et1.reset_index(inplace=True)\n",
        "et2.reset_index(inplace=True)\n",
        "\n",
        "resultpd = pd.DataFrame()\n",
        "resultpd[\"month\"] = et1.month[:11]\n",
        "resultpd['2019'] = et1.total\n",
        "resultpd['2020'] = et2.total"
      ],
      "execution_count": null,
      "outputs": []
    },
    {
      "cell_type": "code",
      "metadata": {
        "colab": {
          "base_uri": "https://localhost:8080/",
          "height": 390
        },
        "id": "7jH6TS2Fe9bz",
        "outputId": "813075ba-daf7-456e-8723-8d674db5d2ab"
      },
      "source": [
        "resultpd"
      ],
      "execution_count": null,
      "outputs": [
        {
          "output_type": "execute_result",
          "data": {
            "text/html": [
              "<div>\n",
              "<style scoped>\n",
              "    .dataframe tbody tr th:only-of-type {\n",
              "        vertical-align: middle;\n",
              "    }\n",
              "\n",
              "    .dataframe tbody tr th {\n",
              "        vertical-align: top;\n",
              "    }\n",
              "\n",
              "    .dataframe thead th {\n",
              "        text-align: right;\n",
              "    }\n",
              "</style>\n",
              "<table border=\"1\" class=\"dataframe\">\n",
              "  <thead>\n",
              "    <tr style=\"text-align: right;\">\n",
              "      <th></th>\n",
              "      <th>month</th>\n",
              "      <th>2019</th>\n",
              "      <th>2020</th>\n",
              "    </tr>\n",
              "  </thead>\n",
              "  <tbody>\n",
              "    <tr>\n",
              "      <th>0</th>\n",
              "      <td>1</td>\n",
              "      <td>925176</td>\n",
              "      <td>1086061</td>\n",
              "    </tr>\n",
              "    <tr>\n",
              "      <th>1</th>\n",
              "      <td>2</td>\n",
              "      <td>1028362</td>\n",
              "      <td>554852</td>\n",
              "    </tr>\n",
              "    <tr>\n",
              "      <th>2</th>\n",
              "      <td>3</td>\n",
              "      <td>1299168</td>\n",
              "      <td>53507</td>\n",
              "    </tr>\n",
              "    <tr>\n",
              "      <th>3</th>\n",
              "      <td>4</td>\n",
              "      <td>1352393</td>\n",
              "      <td>20303</td>\n",
              "    </tr>\n",
              "    <tr>\n",
              "      <th>4</th>\n",
              "      <td>5</td>\n",
              "      <td>1253123</td>\n",
              "      <td>19331</td>\n",
              "    </tr>\n",
              "    <tr>\n",
              "      <th>5</th>\n",
              "      <td>6</td>\n",
              "      <td>1234021</td>\n",
              "      <td>22092</td>\n",
              "    </tr>\n",
              "    <tr>\n",
              "      <th>6</th>\n",
              "      <td>7</td>\n",
              "      <td>1228138</td>\n",
              "      <td>36773</td>\n",
              "    </tr>\n",
              "    <tr>\n",
              "      <th>7</th>\n",
              "      <td>8</td>\n",
              "      <td>1337031</td>\n",
              "      <td>44183</td>\n",
              "    </tr>\n",
              "    <tr>\n",
              "      <th>8</th>\n",
              "      <td>9</td>\n",
              "      <td>1206164</td>\n",
              "      <td>41312</td>\n",
              "    </tr>\n",
              "    <tr>\n",
              "      <th>9</th>\n",
              "      <td>10</td>\n",
              "      <td>1375648</td>\n",
              "      <td>37902</td>\n",
              "    </tr>\n",
              "    <tr>\n",
              "      <th>10</th>\n",
              "      <td>11</td>\n",
              "      <td>1217887</td>\n",
              "      <td>37250</td>\n",
              "    </tr>\n",
              "  </tbody>\n",
              "</table>\n",
              "</div>"
            ],
            "text/plain": [
              "    month     2019     2020\n",
              "0       1   925176  1086061\n",
              "1       2  1028362   554852\n",
              "2       3  1299168    53507\n",
              "3       4  1352393    20303\n",
              "4       5  1253123    19331\n",
              "5       6  1234021    22092\n",
              "6       7  1228138    36773\n",
              "7       8  1337031    44183\n",
              "8       9  1206164    41312\n",
              "9      10  1375648    37902\n",
              "10     11  1217887    37250"
            ]
          },
          "metadata": {
            "tags": []
          },
          "execution_count": 27
        }
      ]
    },
    {
      "cell_type": "code",
      "metadata": {
        "id": "bypfZapph0eq"
      },
      "source": [
        "df1_weight = duration.copy()\n",
        "df1_weight = duration * C_entrance.iloc[:,:-3]\n",
        "df1_weight[\"total\"] = df1_weight.sum(axis=1)\n",
        "df1_weight['year'] = df1_weight.index.year\n",
        "df1_weight['month'] = df1_weight.index.month"
      ],
      "execution_count": null,
      "outputs": []
    },
    {
      "cell_type": "code",
      "metadata": {
        "id": "16ZH3UN7g0in"
      },
      "source": [
        "et19 = df1_weight[df1_weight.year == 2019].iloc[:11].reset_index() # 12월 제외\n",
        "et20 = df1_weight[df1_weight.year == 2020].reset_index() # columns 숫자 통일을 위해 reset"
      ],
      "execution_count": null,
      "outputs": []
    },
    {
      "cell_type": "code",
      "metadata": {
        "colab": {
          "base_uri": "https://localhost:8080/",
          "height": 390
        },
        "id": "yq3n9b_5imYj",
        "outputId": "63e9e952-15ec-497b-db4e-a0065c5b633a"
      },
      "source": [
        "resultpd[\"weighted_2019\"] = et19.total\n",
        "resultpd[\"weighted_2020\"] = et20.total\n",
        "resultpd"
      ],
      "execution_count": null,
      "outputs": [
        {
          "output_type": "execute_result",
          "data": {
            "text/html": [
              "<div>\n",
              "<style scoped>\n",
              "    .dataframe tbody tr th:only-of-type {\n",
              "        vertical-align: middle;\n",
              "    }\n",
              "\n",
              "    .dataframe tbody tr th {\n",
              "        vertical-align: top;\n",
              "    }\n",
              "\n",
              "    .dataframe thead th {\n",
              "        text-align: right;\n",
              "    }\n",
              "</style>\n",
              "<table border=\"1\" class=\"dataframe\">\n",
              "  <thead>\n",
              "    <tr style=\"text-align: right;\">\n",
              "      <th></th>\n",
              "      <th>month</th>\n",
              "      <th>2019</th>\n",
              "      <th>2020</th>\n",
              "      <th>weighted_2019</th>\n",
              "      <th>weighted_2020</th>\n",
              "    </tr>\n",
              "  </thead>\n",
              "  <tbody>\n",
              "    <tr>\n",
              "      <th>0</th>\n",
              "      <td>1</td>\n",
              "      <td>925176</td>\n",
              "      <td>1086061</td>\n",
              "      <td>8.503191e+06</td>\n",
              "      <td>9.238205e+06</td>\n",
              "    </tr>\n",
              "    <tr>\n",
              "      <th>1</th>\n",
              "      <td>2</td>\n",
              "      <td>1028362</td>\n",
              "      <td>554852</td>\n",
              "      <td>8.681981e+06</td>\n",
              "      <td>4.678476e+06</td>\n",
              "    </tr>\n",
              "    <tr>\n",
              "      <th>2</th>\n",
              "      <td>3</td>\n",
              "      <td>1299168</td>\n",
              "      <td>53507</td>\n",
              "      <td>8.414780e+06</td>\n",
              "      <td>1.425323e+06</td>\n",
              "    </tr>\n",
              "    <tr>\n",
              "      <th>3</th>\n",
              "      <td>4</td>\n",
              "      <td>1352393</td>\n",
              "      <td>20303</td>\n",
              "      <td>9.369175e+06</td>\n",
              "      <td>8.289165e+05</td>\n",
              "    </tr>\n",
              "    <tr>\n",
              "      <th>4</th>\n",
              "      <td>5</td>\n",
              "      <td>1253123</td>\n",
              "      <td>19331</td>\n",
              "      <td>9.778638e+06</td>\n",
              "      <td>8.414208e+05</td>\n",
              "    </tr>\n",
              "    <tr>\n",
              "      <th>5</th>\n",
              "      <td>6</td>\n",
              "      <td>1234021</td>\n",
              "      <td>22092</td>\n",
              "      <td>9.675286e+06</td>\n",
              "      <td>8.684171e+05</td>\n",
              "    </tr>\n",
              "    <tr>\n",
              "      <th>6</th>\n",
              "      <td>7</td>\n",
              "      <td>1228138</td>\n",
              "      <td>36773</td>\n",
              "      <td>1.042601e+07</td>\n",
              "      <td>1.149211e+06</td>\n",
              "    </tr>\n",
              "    <tr>\n",
              "      <th>7</th>\n",
              "      <td>8</td>\n",
              "      <td>1337031</td>\n",
              "      <td>44183</td>\n",
              "      <td>1.163759e+07</td>\n",
              "      <td>1.568143e+06</td>\n",
              "    </tr>\n",
              "    <tr>\n",
              "      <th>8</th>\n",
              "      <td>9</td>\n",
              "      <td>1206164</td>\n",
              "      <td>41312</td>\n",
              "      <td>9.919965e+06</td>\n",
              "      <td>1.289773e+06</td>\n",
              "    </tr>\n",
              "    <tr>\n",
              "      <th>9</th>\n",
              "      <td>10</td>\n",
              "      <td>1375648</td>\n",
              "      <td>37902</td>\n",
              "      <td>9.704797e+06</td>\n",
              "      <td>1.195009e+06</td>\n",
              "    </tr>\n",
              "    <tr>\n",
              "      <th>10</th>\n",
              "      <td>11</td>\n",
              "      <td>1217887</td>\n",
              "      <td>37250</td>\n",
              "      <td>9.944436e+06</td>\n",
              "      <td>1.203514e+06</td>\n",
              "    </tr>\n",
              "  </tbody>\n",
              "</table>\n",
              "</div>"
            ],
            "text/plain": [
              "    month     2019     2020  weighted_2019  weighted_2020\n",
              "0       1   925176  1086061   8.503191e+06   9.238205e+06\n",
              "1       2  1028362   554852   8.681981e+06   4.678476e+06\n",
              "2       3  1299168    53507   8.414780e+06   1.425323e+06\n",
              "3       4  1352393    20303   9.369175e+06   8.289165e+05\n",
              "4       5  1253123    19331   9.778638e+06   8.414208e+05\n",
              "5       6  1234021    22092   9.675286e+06   8.684171e+05\n",
              "6       7  1228138    36773   1.042601e+07   1.149211e+06\n",
              "7       8  1337031    44183   1.163759e+07   1.568143e+06\n",
              "8       9  1206164    41312   9.919965e+06   1.289773e+06\n",
              "9      10  1375648    37902   9.704797e+06   1.195009e+06\n",
              "10     11  1217887    37250   9.944436e+06   1.203514e+06"
            ]
          },
          "metadata": {
            "tags": []
          },
          "execution_count": 30
        }
      ]
    },
    {
      "cell_type": "code",
      "metadata": {
        "id": "sOVVdlr9im3j"
      },
      "source": [
        "resultpd['입국자 전년대비 비율(%)'] = resultpd['2020'] / resultpd['2019'] *100\n",
        "resultpd['weighted_입국자 전년대비 비율(%)'] = resultpd[\"weighted_2020\"] / resultpd['weighted_2019'] *100"
      ],
      "execution_count": null,
      "outputs": []
    },
    {
      "cell_type": "code",
      "metadata": {
        "colab": {
          "base_uri": "https://localhost:8080/",
          "height": 204
        },
        "id": "jEYZ8zaZNm1O",
        "outputId": "fca6137d-31e3-421b-a29c-cb383c393e88"
      },
      "source": [
        "resultpd.head()"
      ],
      "execution_count": null,
      "outputs": [
        {
          "output_type": "execute_result",
          "data": {
            "text/html": [
              "<div>\n",
              "<style scoped>\n",
              "    .dataframe tbody tr th:only-of-type {\n",
              "        vertical-align: middle;\n",
              "    }\n",
              "\n",
              "    .dataframe tbody tr th {\n",
              "        vertical-align: top;\n",
              "    }\n",
              "\n",
              "    .dataframe thead th {\n",
              "        text-align: right;\n",
              "    }\n",
              "</style>\n",
              "<table border=\"1\" class=\"dataframe\">\n",
              "  <thead>\n",
              "    <tr style=\"text-align: right;\">\n",
              "      <th></th>\n",
              "      <th>month</th>\n",
              "      <th>2019</th>\n",
              "      <th>2020</th>\n",
              "      <th>weighted_2019</th>\n",
              "      <th>weighted_2020</th>\n",
              "      <th>입국자 전년대비 비율(%)</th>\n",
              "      <th>weighted_입국자 전년대비 비율(%)</th>\n",
              "    </tr>\n",
              "  </thead>\n",
              "  <tbody>\n",
              "    <tr>\n",
              "      <th>0</th>\n",
              "      <td>1</td>\n",
              "      <td>925176</td>\n",
              "      <td>1086061</td>\n",
              "      <td>8.503191e+06</td>\n",
              "      <td>9.238205e+06</td>\n",
              "      <td>117.389664</td>\n",
              "      <td>108.643979</td>\n",
              "    </tr>\n",
              "    <tr>\n",
              "      <th>1</th>\n",
              "      <td>2</td>\n",
              "      <td>1028362</td>\n",
              "      <td>554852</td>\n",
              "      <td>8.681981e+06</td>\n",
              "      <td>4.678476e+06</td>\n",
              "      <td>53.954930</td>\n",
              "      <td>53.887197</td>\n",
              "    </tr>\n",
              "    <tr>\n",
              "      <th>2</th>\n",
              "      <td>3</td>\n",
              "      <td>1299168</td>\n",
              "      <td>53507</td>\n",
              "      <td>8.414780e+06</td>\n",
              "      <td>1.425323e+06</td>\n",
              "      <td>4.118559</td>\n",
              "      <td>16.938326</td>\n",
              "    </tr>\n",
              "    <tr>\n",
              "      <th>3</th>\n",
              "      <td>4</td>\n",
              "      <td>1352393</td>\n",
              "      <td>20303</td>\n",
              "      <td>9.369175e+06</td>\n",
              "      <td>8.289165e+05</td>\n",
              "      <td>1.501265</td>\n",
              "      <td>8.847273</td>\n",
              "    </tr>\n",
              "    <tr>\n",
              "      <th>4</th>\n",
              "      <td>5</td>\n",
              "      <td>1253123</td>\n",
              "      <td>19331</td>\n",
              "      <td>9.778638e+06</td>\n",
              "      <td>8.414208e+05</td>\n",
              "      <td>1.542626</td>\n",
              "      <td>8.604683</td>\n",
              "    </tr>\n",
              "  </tbody>\n",
              "</table>\n",
              "</div>"
            ],
            "text/plain": [
              "   month     2019  ...  입국자 전년대비 비율(%)  weighted_입국자 전년대비 비율(%)\n",
              "0      1   925176  ...      117.389664               108.643979\n",
              "1      2  1028362  ...       53.954930                53.887197\n",
              "2      3  1299168  ...        4.118559                16.938326\n",
              "3      4  1352393  ...        1.501265                 8.847273\n",
              "4      5  1253123  ...        1.542626                 8.604683\n",
              "\n",
              "[5 rows x 7 columns]"
            ]
          },
          "metadata": {
            "tags": []
          },
          "execution_count": 32
        }
      ]
    },
    {
      "cell_type": "code",
      "metadata": {
        "id": "042iNotnkjkN"
      },
      "source": [
        "income = income.rename(columns = {\"관광수입(US$1,000,000)\":\"관광수입(US$1M)\",\"증감률(%)\":\"전년대비 관광수입 비율(%)\"})\n",
        "income[\"date\"] = pd.to_datetime(income[\"시점\"],format='%Y%m',errors=\"ignore\")"
      ],
      "execution_count": null,
      "outputs": []
    },
    {
      "cell_type": "code",
      "metadata": {
        "colab": {
          "base_uri": "https://localhost:8080/",
          "height": 204
        },
        "id": "tRCkMwYNltq7",
        "outputId": "00e6ee96-cf74-4d82-a232-c04d99468a0c"
      },
      "source": [
        "income.drop([\"시점\"],axis=1,inplace=True)\n",
        "income.head()"
      ],
      "execution_count": null,
      "outputs": [
        {
          "output_type": "execute_result",
          "data": {
            "text/html": [
              "<div>\n",
              "<style scoped>\n",
              "    .dataframe tbody tr th:only-of-type {\n",
              "        vertical-align: middle;\n",
              "    }\n",
              "\n",
              "    .dataframe tbody tr th {\n",
              "        vertical-align: top;\n",
              "    }\n",
              "\n",
              "    .dataframe thead th {\n",
              "        text-align: right;\n",
              "    }\n",
              "</style>\n",
              "<table border=\"1\" class=\"dataframe\">\n",
              "  <thead>\n",
              "    <tr style=\"text-align: right;\">\n",
              "      <th></th>\n",
              "      <th>관광수입(US$1M)</th>\n",
              "      <th>전년대비 관광수입 비율(%)</th>\n",
              "      <th>date</th>\n",
              "    </tr>\n",
              "  </thead>\n",
              "  <tbody>\n",
              "    <tr>\n",
              "      <th>0</th>\n",
              "      <td>1548.8</td>\n",
              "      <td>24.8</td>\n",
              "      <td>2019-01-01</td>\n",
              "    </tr>\n",
              "    <tr>\n",
              "      <th>1</th>\n",
              "      <td>1554.4</td>\n",
              "      <td>21.7</td>\n",
              "      <td>2019-02-01</td>\n",
              "    </tr>\n",
              "    <tr>\n",
              "      <th>2</th>\n",
              "      <td>2227.9</td>\n",
              "      <td>40.1</td>\n",
              "      <td>2019-03-01</td>\n",
              "    </tr>\n",
              "    <tr>\n",
              "      <th>3</th>\n",
              "      <td>2098.0</td>\n",
              "      <td>22.4</td>\n",
              "      <td>2019-04-01</td>\n",
              "    </tr>\n",
              "    <tr>\n",
              "      <th>4</th>\n",
              "      <td>1923.6</td>\n",
              "      <td>19.1</td>\n",
              "      <td>2019-05-01</td>\n",
              "    </tr>\n",
              "  </tbody>\n",
              "</table>\n",
              "</div>"
            ],
            "text/plain": [
              "   관광수입(US$1M)  전년대비 관광수입 비율(%)       date\n",
              "0       1548.8             24.8 2019-01-01\n",
              "1       1554.4             21.7 2019-02-01\n",
              "2       2227.9             40.1 2019-03-01\n",
              "3       2098.0             22.4 2019-04-01\n",
              "4       1923.6             19.1 2019-05-01"
            ]
          },
          "metadata": {
            "tags": []
          },
          "execution_count": 34
        }
      ]
    },
    {
      "cell_type": "code",
      "metadata": {
        "id": "aomCycQolvZB"
      },
      "source": [
        "resultpd[\"2020_전년대비 관광수입 비율(%)\"]= 100+income[income[\"date\"].dt.year == 2020][\"전년대비 관광수입 비율(%)\"].reset_index().drop([\"index\"],axis=1)\n",
        "resultpd[\"2019_매출액\"]= income[\"관광수입(US$1M)\"][:11]\n",
        "resultpd[\"2020_매출액\"]= income[\"관광수입(US$1M)\"][12:].reset_index().drop([\"index\"],axis=1)\n",
        "resultpd[\"month\"] = income[\"date\"].dt.month[:11]\n",
        "resultpd[\"weighted_2019\"] = resultpd[\"weighted_2019\"].astype('int64')\n",
        "resultpd[\"weighted_2020\"] = resultpd[\"weighted_2020\"].astype('int64')"
      ],
      "execution_count": null,
      "outputs": []
    },
    {
      "cell_type": "code",
      "metadata": {
        "id": "UhpPX1O1W-SL",
        "colab": {
          "base_uri": "https://localhost:8080/",
          "height": 204
        },
        "outputId": "5984983f-a4e8-4e2b-fc1e-c49257290938"
      },
      "source": [
        "resultpd.head()"
      ],
      "execution_count": null,
      "outputs": [
        {
          "output_type": "execute_result",
          "data": {
            "text/html": [
              "<div>\n",
              "<style scoped>\n",
              "    .dataframe tbody tr th:only-of-type {\n",
              "        vertical-align: middle;\n",
              "    }\n",
              "\n",
              "    .dataframe tbody tr th {\n",
              "        vertical-align: top;\n",
              "    }\n",
              "\n",
              "    .dataframe thead th {\n",
              "        text-align: right;\n",
              "    }\n",
              "</style>\n",
              "<table border=\"1\" class=\"dataframe\">\n",
              "  <thead>\n",
              "    <tr style=\"text-align: right;\">\n",
              "      <th></th>\n",
              "      <th>month</th>\n",
              "      <th>2019</th>\n",
              "      <th>2020</th>\n",
              "      <th>weighted_2019</th>\n",
              "      <th>weighted_2020</th>\n",
              "      <th>입국자 전년대비 비율(%)</th>\n",
              "      <th>weighted_입국자 전년대비 비율(%)</th>\n",
              "      <th>2020_전년대비 관광수입 비율(%)</th>\n",
              "      <th>2019_매출액</th>\n",
              "      <th>2020_매출액</th>\n",
              "    </tr>\n",
              "  </thead>\n",
              "  <tbody>\n",
              "    <tr>\n",
              "      <th>0</th>\n",
              "      <td>1</td>\n",
              "      <td>925176</td>\n",
              "      <td>1086061</td>\n",
              "      <td>8503190</td>\n",
              "      <td>9238204</td>\n",
              "      <td>117.389664</td>\n",
              "      <td>108.643979</td>\n",
              "      <td>101.99</td>\n",
              "      <td>1548.8</td>\n",
              "      <td>1579.7</td>\n",
              "    </tr>\n",
              "    <tr>\n",
              "      <th>1</th>\n",
              "      <td>2</td>\n",
              "      <td>1028362</td>\n",
              "      <td>554852</td>\n",
              "      <td>8681981</td>\n",
              "      <td>4678476</td>\n",
              "      <td>53.954930</td>\n",
              "      <td>53.887197</td>\n",
              "      <td>73.83</td>\n",
              "      <td>1554.4</td>\n",
              "      <td>1147.5</td>\n",
              "    </tr>\n",
              "    <tr>\n",
              "      <th>2</th>\n",
              "      <td>3</td>\n",
              "      <td>1299168</td>\n",
              "      <td>53507</td>\n",
              "      <td>8414780</td>\n",
              "      <td>1425322</td>\n",
              "      <td>4.118559</td>\n",
              "      <td>16.938326</td>\n",
              "      <td>32.76</td>\n",
              "      <td>2227.9</td>\n",
              "      <td>729.8</td>\n",
              "    </tr>\n",
              "    <tr>\n",
              "      <th>3</th>\n",
              "      <td>4</td>\n",
              "      <td>1352393</td>\n",
              "      <td>20303</td>\n",
              "      <td>9369174</td>\n",
              "      <td>828916</td>\n",
              "      <td>1.501265</td>\n",
              "      <td>8.847273</td>\n",
              "      <td>16.77</td>\n",
              "      <td>2098.0</td>\n",
              "      <td>351.8</td>\n",
              "    </tr>\n",
              "    <tr>\n",
              "      <th>4</th>\n",
              "      <td>5</td>\n",
              "      <td>1253123</td>\n",
              "      <td>19331</td>\n",
              "      <td>9778637</td>\n",
              "      <td>841420</td>\n",
              "      <td>1.542626</td>\n",
              "      <td>8.604683</td>\n",
              "      <td>22.18</td>\n",
              "      <td>1923.6</td>\n",
              "      <td>426.6</td>\n",
              "    </tr>\n",
              "  </tbody>\n",
              "</table>\n",
              "</div>"
            ],
            "text/plain": [
              "   month     2019     2020  ...  2020_전년대비 관광수입 비율(%)  2019_매출액  2020_매출액\n",
              "0      1   925176  1086061  ...                101.99    1548.8    1579.7\n",
              "1      2  1028362   554852  ...                 73.83    1554.4    1147.5\n",
              "2      3  1299168    53507  ...                 32.76    2227.9     729.8\n",
              "3      4  1352393    20303  ...                 16.77    2098.0     351.8\n",
              "4      5  1253123    19331  ...                 22.18    1923.6     426.6\n",
              "\n",
              "[5 rows x 10 columns]"
            ]
          },
          "metadata": {
            "tags": []
          },
          "execution_count": 36
        }
      ]
    },
    {
      "cell_type": "markdown",
      "metadata": {
        "id": "h59WxcKNuOFG"
      },
      "source": [
        "# 시각화"
      ]
    },
    {
      "cell_type": "markdown",
      "metadata": {
        "id": "quDmXvDKdmYx"
      },
      "source": [
        "## 0. 상위 10개국 비율"
      ]
    },
    {
      "cell_type": "code",
      "metadata": {
        "id": "Y657o3FSYgzD"
      },
      "source": [
        "etc_2019 = 0\n",
        "etc_2020 = 0\n",
        "etc_total = 0\n",
        "for i in range(10,61):\n",
        "  etc_2019 += df2['2019년'].iloc[i]\n",
        "  etc_2020 += df2['2020년'].iloc[i]\n",
        "  etc_total += df2['계'].iloc[i]\n",
        "\n",
        "etc = pd.Series([etc_2019, etc_2020, etc_total], index=['2019년','2020년','계'], name = '기 타')\n",
        "df_2 = df2.head(10).append(etc)"
      ],
      "execution_count": null,
      "outputs": []
    },
    {
      "cell_type": "code",
      "metadata": {
        "colab": {
          "base_uri": "https://localhost:8080/",
          "height": 235
        },
        "id": "j9CMMsWtcoRs",
        "outputId": "0110464e-0dfd-458d-985a-0a10d743484b"
      },
      "source": [
        "df_2.tail()"
      ],
      "execution_count": null,
      "outputs": [
        {
          "output_type": "execute_result",
          "data": {
            "text/html": [
              "<div>\n",
              "<style scoped>\n",
              "    .dataframe tbody tr th:only-of-type {\n",
              "        vertical-align: middle;\n",
              "    }\n",
              "\n",
              "    .dataframe tbody tr th {\n",
              "        vertical-align: top;\n",
              "    }\n",
              "\n",
              "    .dataframe thead th {\n",
              "        text-align: right;\n",
              "    }\n",
              "</style>\n",
              "<table border=\"1\" class=\"dataframe\">\n",
              "  <thead>\n",
              "    <tr style=\"text-align: right;\">\n",
              "      <th></th>\n",
              "      <th>2019년</th>\n",
              "      <th>2020년</th>\n",
              "      <th>계</th>\n",
              "    </tr>\n",
              "    <tr>\n",
              "      <th>국적별</th>\n",
              "      <th></th>\n",
              "      <th></th>\n",
              "      <th></th>\n",
              "    </tr>\n",
              "  </thead>\n",
              "  <tbody>\n",
              "    <tr>\n",
              "      <th>베트남</th>\n",
              "      <td>553731</td>\n",
              "      <td>80170</td>\n",
              "      <td>633901</td>\n",
              "    </tr>\n",
              "    <tr>\n",
              "      <th>필리핀</th>\n",
              "      <td>503867</td>\n",
              "      <td>105978</td>\n",
              "      <td>609845</td>\n",
              "    </tr>\n",
              "    <tr>\n",
              "      <th>말레이시아</th>\n",
              "      <td>408590</td>\n",
              "      <td>48289</td>\n",
              "      <td>456879</td>\n",
              "    </tr>\n",
              "    <tr>\n",
              "      <th>러시아(연방)</th>\n",
              "      <td>343057</td>\n",
              "      <td>71124</td>\n",
              "      <td>414181</td>\n",
              "    </tr>\n",
              "    <tr>\n",
              "      <th>기 타</th>\n",
              "      <td>2682927</td>\n",
              "      <td>468078</td>\n",
              "      <td>3151005</td>\n",
              "    </tr>\n",
              "  </tbody>\n",
              "</table>\n",
              "</div>"
            ],
            "text/plain": [
              "           2019년   2020년        계\n",
              "국적별                              \n",
              "베트남       553731   80170   633901\n",
              "필리핀       503867  105978   609845\n",
              "말레이시아     408590   48289   456879\n",
              "러시아(연방)   343057   71124   414181\n",
              "기 타      2682927  468078  3151005"
            ]
          },
          "metadata": {
            "tags": []
          },
          "execution_count": 38
        }
      ]
    },
    {
      "cell_type": "code",
      "metadata": {
        "colab": {
          "base_uri": "https://localhost:8080/",
          "height": 562
        },
        "id": "ZOsxLBEitvrN",
        "outputId": "baa65468-cde2-41d4-b17a-4bd5f74a2ca2"
      },
      "source": [
        "plt.figure(figsize=[15, 8])\n",
        "\n",
        "ratio_2019 = df_2['2019년']\n",
        "labels = df_2.index\n",
        "ratio_2020 = df_2['2020년']\n",
        "cmap = plt.get_cmap('Spectral')\n",
        "colors = [cmap(i) for i in np.linspace(0, 1, 11)]\n",
        "\n",
        "plt.subplot(1,2,1)\n",
        "plt.title('19년 국적별 입국자 비율')\n",
        "plt.pie(ratio_2019, labels=labels, autopct='%.1f%%',  labeldistance=1.05, pctdistance=.8, colors = colors)\n",
        "\n",
        "plt.subplot(1,2,2)\n",
        "plt.title('20년 국적별 입국자 비율')\n",
        "plt.pie(ratio_2020, labels=labels, autopct='%.1f%%',  labeldistance=1.05, pctdistance=.8, colors = colors)\n",
        "plt.tight_layout()\n",
        "plt.show()"
      ],
      "execution_count": null,
      "outputs": [
        {
          "output_type": "display_data",
          "data": {
            "image/png": "[encoded data removed]",
            "text/plain": [
              "<Figure size 1080x576 with 2 Axes>"
            ]
          },
          "metadata": {
            "tags": []
          }
        }
      ]
    },
    {
      "cell_type": "markdown",
      "metadata": {
        "id": "IFaIujT1ObKn"
      },
      "source": [
        "## 1. 코로나 확진자 수에 따른 외국인 입국자 수"
      ]
    },
    {
      "cell_type": "code",
      "metadata": {
        "colab": {
          "base_uri": "https://localhost:8080/",
          "height": 572
        },
        "id": "roBZy3iuOs_L",
        "outputId": "4d85e7c9-ddd7-44e9-ad7a-9ddd261e8366"
      },
      "source": [
        "fig, ax1 = plt.subplots(1,1,figsize=(15,8),sharex=True)\n",
        "ax2 = ax1.twinx()\n",
        "\n",
        "plt.title('평균 체제일 수와 국내 월별 평균확진자')\n",
        "duration.loc[:'2020-11-01'].plot(kind='line',ax=ax1,legend=True)\n",
        "ax1.set_ylabel('평균 체제일(일)')\n",
        "ax1.set_ylim(0,100)\n",
        "\n",
        "CovidN.loc['2020-02-01':'2020-11-01'].plot(kind='area',secondary_y=True,ax=ax2,color='b',alpha=0.1,legend=False)\n",
        "ax2.set_ylabel('확진자 수(명)')\n",
        "plt.legend(loc='upper right')\n",
        "ax2.set_xlim('2019-01-01','2020-11-01')\n",
        "\n",
        "fig.tight_layout()\n",
        "plt.show()\n"
      ],
      "execution_count": null,
      "outputs": [
        {
          "output_type": "display_data",
          "data": {
            "image/png": "[encoded data removed]",
            "text/plain": [
              "<Figure size 1080x576 with 3 Axes>"
            ]
          },
          "metadata": {
            "tags": [],
            "needs_background": "light"
          }
        }
      ]
    },
    {
      "cell_type": "markdown",
      "metadata": {
        "id": "GiWgJE9Bwv-b"
      },
      "source": [
        "## 2. 외국인 관광객수와 관광 수입간의 관계"
      ]
    },
    {
      "cell_type": "code",
      "metadata": {
        "id": "5hUNYrICS8zc"
      },
      "source": [
        "plt.rcParams['figure.figsize'] = (15, 10)"
      ],
      "execution_count": null,
      "outputs": []
    },
    {
      "cell_type": "code",
      "metadata": {
        "id": "pJL_ySLFuPu8",
        "colab": {
          "base_uri": "https://localhost:8080/",
          "height": 611
        },
        "outputId": "b1e6fd98-7f3f-4528-83ba-4eed809c6627"
      },
      "source": [
        "fig, ax1 = plt.subplots()\n",
        "ax2 = ax1.twinx()\n",
        "line1 = ax1.plot(resultpd[\"month\"], resultpd[\"2019\"],c='b',label=\"2019 외국인 입국자수\")\n",
        "line2 = ax1.plot(resultpd[\"month\"], resultpd[\"2020\"],c='c',label=\"2020 외국인 입국자수\")\n",
        "line3 = ax2.plot(resultpd[\"month\"], resultpd[\"2019_매출액\"],c=\"r\",label=\"관광수입(USD 1M)\")\n",
        "line4 = ax2.plot(resultpd[\"month\"], resultpd[\"2020_매출액\"],c=\"m\",label=\"관광수입(USD 1M)\")\n",
        "plt.xlabel('기간')\n",
        "ax1.set_ylabel(\"외국인 입국자수\")\n",
        "ax2.set_ylabel(\"관광수입\")\n",
        "\n",
        "lines = line1+line2+line3+line4\n",
        "labels = [l.get_label() for l in lines]\n",
        "ax1.legend(lines, labels, loc='upper right')\n",
        "\n",
        "plt.show()"
      ],
      "execution_count": null,
      "outputs": [
        {
          "output_type": "display_data",
          "data": {
            "image/png": "[encoded data removed]",
            "text/plain": [
              "<Figure size 1080x720 with 2 Axes>"
            ]
          },
          "metadata": {
            "tags": [],
            "needs_background": "light"
          }
        }
      ]
    },
    {
      "cell_type": "markdown",
      "metadata": {
        "id": "VhE7EMXiUfj2"
      },
      "source": [
        "## 3. 외국인 입국자 감소 비율과 매출 감소 비율  비교"
      ]
    },
    {
      "cell_type": "code",
      "metadata": {
        "colab": {
          "base_uri": "https://localhost:8080/",
          "height": 204
        },
        "id": "9QgKpKeKZ6nf",
        "outputId": "ec006c9e-305a-44f4-fd9e-165b9dddf613"
      },
      "source": [
        "resultpd.head()"
      ],
      "execution_count": null,
      "outputs": [
        {
          "output_type": "execute_result",
          "data": {
            "text/html": [
              "<div>\n",
              "<style scoped>\n",
              "    .dataframe tbody tr th:only-of-type {\n",
              "        vertical-align: middle;\n",
              "    }\n",
              "\n",
              "    .dataframe tbody tr th {\n",
              "        vertical-align: top;\n",
              "    }\n",
              "\n",
              "    .dataframe thead th {\n",
              "        text-align: right;\n",
              "    }\n",
              "</style>\n",
              "<table border=\"1\" class=\"dataframe\">\n",
              "  <thead>\n",
              "    <tr style=\"text-align: right;\">\n",
              "      <th></th>\n",
              "      <th>month</th>\n",
              "      <th>2019</th>\n",
              "      <th>2020</th>\n",
              "      <th>weighted_2019</th>\n",
              "      <th>weighted_2020</th>\n",
              "      <th>입국자 전년대비 비율(%)</th>\n",
              "      <th>weighted_입국자 전년대비 비율(%)</th>\n",
              "      <th>2020_전년대비 관광수입 비율(%)</th>\n",
              "      <th>2019_매출액</th>\n",
              "      <th>2020_매출액</th>\n",
              "    </tr>\n",
              "  </thead>\n",
              "  <tbody>\n",
              "    <tr>\n",
              "      <th>0</th>\n",
              "      <td>1</td>\n",
              "      <td>925176</td>\n",
              "      <td>1086061</td>\n",
              "      <td>8503190</td>\n",
              "      <td>9238204</td>\n",
              "      <td>117.389664</td>\n",
              "      <td>108.643979</td>\n",
              "      <td>101.99</td>\n",
              "      <td>1548.8</td>\n",
              "      <td>1579.7</td>\n",
              "    </tr>\n",
              "    <tr>\n",
              "      <th>1</th>\n",
              "      <td>2</td>\n",
              "      <td>1028362</td>\n",
              "      <td>554852</td>\n",
              "      <td>8681981</td>\n",
              "      <td>4678476</td>\n",
              "      <td>53.954930</td>\n",
              "      <td>53.887197</td>\n",
              "      <td>73.83</td>\n",
              "      <td>1554.4</td>\n",
              "      <td>1147.5</td>\n",
              "    </tr>\n",
              "    <tr>\n",
              "      <th>2</th>\n",
              "      <td>3</td>\n",
              "      <td>1299168</td>\n",
              "      <td>53507</td>\n",
              "      <td>8414780</td>\n",
              "      <td>1425322</td>\n",
              "      <td>4.118559</td>\n",
              "      <td>16.938326</td>\n",
              "      <td>32.76</td>\n",
              "      <td>2227.9</td>\n",
              "      <td>729.8</td>\n",
              "    </tr>\n",
              "    <tr>\n",
              "      <th>3</th>\n",
              "      <td>4</td>\n",
              "      <td>1352393</td>\n",
              "      <td>20303</td>\n",
              "      <td>9369174</td>\n",
              "      <td>828916</td>\n",
              "      <td>1.501265</td>\n",
              "      <td>8.847273</td>\n",
              "      <td>16.77</td>\n",
              "      <td>2098.0</td>\n",
              "      <td>351.8</td>\n",
              "    </tr>\n",
              "    <tr>\n",
              "      <th>4</th>\n",
              "      <td>5</td>\n",
              "      <td>1253123</td>\n",
              "      <td>19331</td>\n",
              "      <td>9778637</td>\n",
              "      <td>841420</td>\n",
              "      <td>1.542626</td>\n",
              "      <td>8.604683</td>\n",
              "      <td>22.18</td>\n",
              "      <td>1923.6</td>\n",
              "      <td>426.6</td>\n",
              "    </tr>\n",
              "  </tbody>\n",
              "</table>\n",
              "</div>"
            ],
            "text/plain": [
              "   month     2019     2020  ...  2020_전년대비 관광수입 비율(%)  2019_매출액  2020_매출액\n",
              "0      1   925176  1086061  ...                101.99    1548.8    1579.7\n",
              "1      2  1028362   554852  ...                 73.83    1554.4    1147.5\n",
              "2      3  1299168    53507  ...                 32.76    2227.9     729.8\n",
              "3      4  1352393    20303  ...                 16.77    2098.0     351.8\n",
              "4      5  1253123    19331  ...                 22.18    1923.6     426.6\n",
              "\n",
              "[5 rows x 10 columns]"
            ]
          },
          "metadata": {
            "tags": []
          },
          "execution_count": 43
        }
      ]
    },
    {
      "cell_type": "code",
      "metadata": {
        "colab": {
          "base_uri": "https://localhost:8080/",
          "height": 616
        },
        "id": "liwQemclZ3bT",
        "outputId": "eb42d0b8-4c84-4488-a5fd-b4f4ed0897c1"
      },
      "source": [
        "fig, ax1 = plt.subplots()\n",
        "line1 = ax1.plot(resultpd[\"month\"], resultpd[\"입국자 전년대비 비율(%)\"],c='b',label=\"전년대비 명목 입국자수 비율\",alpha=0.4 )\n",
        "line2 = ax1.plot(resultpd[\"month\"], resultpd[\"weighted_입국자 전년대비 비율(%)\"],c='g',label=\"전년대비 실질 입국자수 비율\", marker=\"*\")\n",
        "line3 = ax1.plot(resultpd[\"month\"], resultpd[\"2020_전년대비 관광수입 비율(%)\"],c=\"r\",label=\"젼년대비 관광수입 비율\", marker=\"*\")\n",
        "plt.xlabel('월')\n",
        "ax1.set_ylabel(\"비율\")\n",
        "\n",
        "lines = line1+line2+line3\n",
        "labels = [l.get_label() for l in lines]\n",
        "ax1.legend(lines, labels, loc='upper right')\n",
        "#ax1.title(\"2020 전년대비 변화\")\n",
        "plt.show()"
      ],
      "execution_count": null,
      "outputs": [
        {
          "output_type": "display_data",
          "data": {
            "image/png": "[encoded data removed]",
            "text/plain": [
              "<Figure size 1080x720 with 1 Axes>"
            ]
          },
          "metadata": {
            "tags": [],
            "needs_background": "light"
          }
        }
      ]
    },
    {
      "cell_type": "markdown",
      "metadata": {
        "id": "vVuEMXNbcbjQ"
      },
      "source": [
        "## 4. 내국인 국내여행 연관성 팩트체크"
      ]
    },
    {
      "cell_type": "code",
      "metadata": {
        "colab": {
          "base_uri": "https://localhost:8080/",
          "height": 204
        },
        "id": "il0GfM1_ce7f",
        "outputId": "98fd958a-7a6f-49e4-cd45-c447c98bad31"
      },
      "source": [
        "abroad = abroad.rename(columns = {\"인원수(명)\":\"내국인출국수\"})\n",
        "abroad[\"시점\"] = pd.to_datetime(abroad[\"시점\"],format='%Y%m',errors=\"ignore\")\n",
        "abroad.head()"
      ],
      "execution_count": null,
      "outputs": [
        {
          "output_type": "execute_result",
          "data": {
            "text/html": [
              "<div>\n",
              "<style scoped>\n",
              "    .dataframe tbody tr th:only-of-type {\n",
              "        vertical-align: middle;\n",
              "    }\n",
              "\n",
              "    .dataframe tbody tr th {\n",
              "        vertical-align: top;\n",
              "    }\n",
              "\n",
              "    .dataframe thead th {\n",
              "        text-align: right;\n",
              "    }\n",
              "</style>\n",
              "<table border=\"1\" class=\"dataframe\">\n",
              "  <thead>\n",
              "    <tr style=\"text-align: right;\">\n",
              "      <th></th>\n",
              "      <th>시점</th>\n",
              "      <th>내국인출국수</th>\n",
              "      <th>전년동기인원수(명)</th>\n",
              "      <th>증감률(%)</th>\n",
              "      <th>diff</th>\n",
              "    </tr>\n",
              "  </thead>\n",
              "  <tbody>\n",
              "    <tr>\n",
              "      <th>0</th>\n",
              "      <td>2019-01-01</td>\n",
              "      <td>2912331</td>\n",
              "      <td>2866780</td>\n",
              "      <td>1.6</td>\n",
              "      <td>-45551</td>\n",
              "    </tr>\n",
              "    <tr>\n",
              "      <th>1</th>\n",
              "      <td>2019-02-01</td>\n",
              "      <td>2617946</td>\n",
              "      <td>2311009</td>\n",
              "      <td>13.3</td>\n",
              "      <td>-306937</td>\n",
              "    </tr>\n",
              "    <tr>\n",
              "      <th>2</th>\n",
              "      <td>2019-03-01</td>\n",
              "      <td>2334153</td>\n",
              "      <td>2252565</td>\n",
              "      <td>3.6</td>\n",
              "      <td>-81588</td>\n",
              "    </tr>\n",
              "    <tr>\n",
              "      <th>3</th>\n",
              "      <td>2019-04-01</td>\n",
              "      <td>2246417</td>\n",
              "      <td>2230200</td>\n",
              "      <td>0.7</td>\n",
              "      <td>-16217</td>\n",
              "    </tr>\n",
              "    <tr>\n",
              "      <th>4</th>\n",
              "      <td>2019-05-01</td>\n",
              "      <td>2401204</td>\n",
              "      <td>2331565</td>\n",
              "      <td>3.0</td>\n",
              "      <td>-69639</td>\n",
              "    </tr>\n",
              "  </tbody>\n",
              "</table>\n",
              "</div>"
            ],
            "text/plain": [
              "          시점   내국인출국수  전년동기인원수(명)  증감률(%)    diff\n",
              "0 2019-01-01  2912331     2866780     1.6  -45551\n",
              "1 2019-02-01  2617946     2311009    13.3 -306937\n",
              "2 2019-03-01  2334153     2252565     3.6  -81588\n",
              "3 2019-04-01  2246417     2230200     0.7  -16217\n",
              "4 2019-05-01  2401204     2331565     3.0  -69639"
            ]
          },
          "metadata": {
            "tags": []
          },
          "execution_count": 49
        }
      ]
    },
    {
      "cell_type": "code",
      "metadata": {
        "id": "xendatiXdpKU"
      },
      "source": [
        "abroad['diff'] = abroad[\"전년동기인원수(명)\"] - abroad[\"내국인출국수\"]\n",
        "abroad1 = abroad[\"diff\"][12:].reset_index()\n",
        "resultpd['adj_입국자 전년대비 비율(%)'] = (abroad1[\"diff\"]*0.4+resultpd[\"weighted_2020\"])/resultpd[\"weighted_2019\"]*100\n",
        "# 외국을 나가지 않은 한국인 중 40%정도는 국내 여행을 했을 것으로 추측"
      ],
      "execution_count": null,
      "outputs": []
    },
    {
      "cell_type": "code",
      "metadata": {
        "colab": {
          "base_uri": "https://localhost:8080/",
          "height": 616
        },
        "id": "whuleiZWdAJ3",
        "outputId": "87d5ad62-9153-45b7-a9f5-62d88a66ee68"
      },
      "source": [
        "fig, ax1 = plt.subplots()\n",
        "line1 = ax1.plot(resultpd[\"month\"], resultpd[\"입국자 전년대비 비율(%)\"],c='b',label=\"(전년대비) 명목 입국자수 비율\",alpha=0.4 )\n",
        "line2 = ax1.plot(resultpd[\"month\"], resultpd[\"weighted_입국자 전년대비 비율(%)\"],c='g',label=\"(전년대비) 실질 입국자수 비율\", marker=\"\",alpha=0.4)\n",
        "line3 = ax1.plot(resultpd[\"month\"], resultpd[\"adj_입국자 전년대비 비율(%)\"],c=\"m\",label=\"실질 입국자 + 국내관광객 비율\", marker=\"*\")\n",
        "line4 = ax1.plot(resultpd[\"month\"], resultpd[\"2020_전년대비 관광수입 비율(%)\"],c=\"r\",label=\"(전년대비) 관광수입 비율\", marker=\"o\")\n",
        "\n",
        "plt.xlabel('월')\n",
        "ax1.set_ylabel(\"비율\")\n",
        "\n",
        "lines = line1+line2+line3+line4\n",
        "labels = [l.get_label() for l in lines]\n",
        "ax1.legend(lines, labels, loc='upper right')\n",
        "#ax1.title(\"2020 전년대비 변화\")\n",
        "plt.show()"
      ],
      "execution_count": null,
      "outputs": [
        {
          "output_type": "display_data",
          "data": {
            "image/png": "[encoded data removed]",
            "text/plain": [
              "<Figure size 1080x720 with 1 Axes>"
            ]
          },
          "metadata": {
            "tags": [],
            "needs_background": "light"
          }
        }
      ]
    },
    {
      "cell_type": "code",
      "metadata": {
        "id": "oNNQhZolRu0K"
      },
      "source": [
        ""
      ],
      "execution_count": null,
      "outputs": []
    }
  ]
}