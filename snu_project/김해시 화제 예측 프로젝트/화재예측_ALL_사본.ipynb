{
  "nbformat": 4,
  "nbformat_minor": 0,
  "metadata": {
    "colab": {
      "name": "화재예측_ALL_사본.ipynb",
      "provenance": [],
      "collapsed_sections": [],
      "toc_visible": true
    },
    "kernelspec": {
      "display_name": "Python 3",
      "language": "python",
      "name": "python3"
    },
    "language_info": {
      "codemirror_mode": {
        "name": "ipython",
        "version": 3
      },
      "file_extension": ".py",
      "mimetype": "text/x-python",
      "name": "python",
      "nbconvert_exporter": "python",
      "pygments_lexer": "ipython3",
      "version": "3.8.5"
    }
  },
  "cells": [
    {
      "cell_type": "markdown",
      "metadata": {
        "id": "to2KYGxDUYJI"
      },
      "source": [
        "## 1.건축물의 화재 위험도 분석 및 예측 모델 제시"
      ]
    },
    {
      "cell_type": "code",
      "metadata": {
        "id": "pKSjb2r_K8SG"
      },
      "source": [
        "import pandas as pd\n",
        "import numpy as np\n",
        "import seaborn as sns\n",
        "import matplotlib.pyplot as plt\n",
        "%matplotlib inline\n",
        "import os\n",
        "import re\n",
        "from sklearn.metrics import f1_score, recall_score, roc_auc_score, accuracy_score\n",
        "from sklearn.ensemble import RandomForestClassifier\n",
        "\n",
        "import warnings\n",
        "warnings.filterwarnings('ignore')\n",
        "\n",
        "from sklearn.preprocessing import RobustScaler\n",
        "from sklearn.model_selection import train_test_split\n",
        "from sklearn.metrics import r2_score, explained_variance_score, confusion_matrix\n",
        "from sklearn.metrics import accuracy_score, classification_report, roc_curve, auc, mean_squared_error\n",
        "from sklearn.linear_model import LogisticRegression\n",
        "\n",
        "from imblearn.over_sampling import SMOTE\n",
        "import xgboost\n",
        "from xgboost import XGBClassifier\n",
        "from sklearn.model_selection import GridSearchCV\n",
        "from lightgbm import LGBMClassifier, plot_importance\n",
        "from sklearn.tree import DecisionTreeClassifier\n",
        "from sklearn.linear_model import LogisticRegression"
      ],
      "execution_count": null,
      "outputs": []
    },
    {
      "cell_type": "markdown",
      "metadata": {
        "id": "Iel9nCYKjiGX"
      },
      "source": [
        "### 월별 평균 전처리"
      ]
    },
    {
      "cell_type": "code",
      "metadata": {
        "id": "Gm4qibVKj5Im"
      },
      "source": [
        "# train.csv\n",
        "\n",
        "df_train.drop(columns=['id'],inplace=True)\n",
        "newmonth = [\"avg_gas_01\",\"avg_gas_02\",\"avg_gas_03\",\"avg_gas_04\",\"avg_gas_05\",\"avg_gas_06\",\"avg_gas_07\",\"avg_gas_08\",\"avg_gas_09\",\"avg_gas_10\",\"avg_gas_11\",\"avg_gas_12\"]\n",
        "\n",
        "# ele 월별 묶음 list 생성\n",
        "ele_energy_us_month = [[] for i in range(12)]\n",
        "for i in range(2014,2019):\n",
        "  for j in range(1,13):\n",
        "    if j<10:\n",
        "      ele_energy_us_month[j-1].append(\"ele_engry_us_{}0{}\".format(i,j))\n",
        "    else:\n",
        "      ele_energy_us_month[j-1].append(\"ele_engry_us_{}{}\".format(i,j))\n",
        "ele_energy_us_month\n",
        "\n",
        "# gas 월별 묶음 list 생성\n",
        "gas_energy_us_month = [[] for i in range(12)]\n",
        "for i in range(2014,2019):\n",
        "  for j in range(1,13):\n",
        "    if j<10:\n",
        "      gas_energy_us_month[j-1].append(\"gas_engry_us_{}0{}\".format(i,j))\n",
        "    else:\n",
        "      gas_energy_us_month[j-1].append(\"gas_engry_us_{}{}\".format(i,j))\n",
        "gas_energy_us_month\n",
        "\n",
        "df_train.iloc[:,17:137] = df_train.iloc[:,17:137].fillna(0) # ele 이랑 gas nan 값 0으로 채우기"
      ],
      "execution_count": null,
      "outputs": []
    },
    {
      "cell_type": "code",
      "metadata": {
        "id": "99AffShXj5F_"
      },
      "source": [
        "# 201401~201801 까지 5개년을 더해서 ele_engry_us_01 을 만듬. 이때 기록 있으면 count 증가해서 평균 만듦\n",
        "\n",
        "gas_energy_us_m = []\n",
        "ele_energy_us_m = []\n",
        "for i in range(len(df_train)):\n",
        "  j = 0\n",
        "  months_g = []\n",
        "  months_e = []\n",
        "  for m in range(12):\n",
        "    count_g = 0\n",
        "    rec_value_g = 0\n",
        "    count_e = 0\n",
        "    rec_value_e = 0\n",
        "    for y in range(5):\n",
        "      if df_train.iloc[i][gas_energy_us_month[m][y]] > 0 :\n",
        "        rec_value_g += df_train.iloc[i][gas_energy_us_month[m][y]]\n",
        "        count_g += 1\n",
        "      if df_train.iloc[i][ele_energy_us_month[m][y]] > 0 :\n",
        "        rec_value_e += df_train.iloc[i][ele_energy_us_month[m][y]]\n",
        "        count_e += 1  \n",
        "        \n",
        "    if count_g == 0:\n",
        "      months_g.append(0)\n",
        "    else:\n",
        "      months_g.append(rec_value_g/count_g)\n",
        "\n",
        "    if count_e == 0:\n",
        "      months_e.append(0)\n",
        "    else:\n",
        "      months_e.append(rec_value_e/count_e)\n",
        "\n",
        "  gas_energy_us_m.append(months_g)\n",
        "  ele_energy_us_m.append(months_e)\n",
        "\n",
        "#gas_energy_us_m\n",
        "#ele_energy_us_m\n",
        "\n",
        "avg_gas = [\"avg_gas_energy_us_%d\"%(i) for i in range(1,13)] \n",
        "avg_ele = [\"avg_ele_energy_us_%d\"%(i) for i in range(1,13)]\n",
        "\n",
        "tmp_avg_gas = pd.DataFrame(np.array(gas_energy_us_m),columns=avg_gas) # avg_gas이름으로 된 591999*12 로 된 gas_energy_us_m 데이터를 pandas로 변환\n",
        "tmp_avg_ele = pd.DataFrame(np.array(ele_energy_us_m),columns=avg_ele)\n",
        "\n",
        "df_train.drop(columns = df_train.columns[17:137],axis=1,inplace=True)\n",
        "\n",
        "newdata = pd.concat([df_train,tmp_avg_ele,tmp_avg_gas],axis=1)\n",
        "\n",
        "df_train_tmp = pd.read_csv(\"/content/drive/MyDrive/SNU_Fintech/SNU - 5조/ML_Fire_Prediction/Data/train_avgfiltered.csv\")"
      ],
      "execution_count": null,
      "outputs": []
    },
    {
      "cell_type": "code",
      "metadata": {
        "id": "u11u0Xvmj5A7"
      },
      "source": [
        "# validation.csv\n",
        "df_test.drop(columns=['id'],inplace=True)\n",
        "newmonth = [\"avg_gas_01\",\"avg_gas_02\",\"avg_gas_03\",\"avg_gas_04\",\"avg_gas_05\",\"avg_gas_06\",\"avg_gas_07\",\"avg_gas_08\",\"avg_gas_09\",\"avg_gas_10\",\"avg_gas_11\",\"avg_gas_12\"]\n",
        "\n",
        "# ele 월별 묶음 list 생성\n",
        "ele_energy_us_month = [[] for i in range(12)]\n",
        "for i in range(2014,2019):\n",
        "  for j in range(1,13):\n",
        "    if j<10:\n",
        "      ele_energy_us_month[j-1].append(\"ele_engry_us_{}0{}\".format(i,j))\n",
        "    else:\n",
        "      ele_energy_us_month[j-1].append(\"ele_engry_us_{}{}\".format(i,j))\n",
        "ele_energy_us_month\n",
        "\n",
        "# gas 월별 묶음 list 생성\n",
        "gas_energy_us_month = [[] for i in range(12)]\n",
        "for i in range(2014,2019):\n",
        "  for j in range(1,13):\n",
        "    if j<10:\n",
        "      gas_energy_us_month[j-1].append(\"gas_engry_us_{}0{}\".format(i,j))\n",
        "    else:\n",
        "      gas_energy_us_month[j-1].append(\"gas_engry_us_{}{}\".format(i,j))\n",
        "gas_energy_us_month\n",
        "\n",
        "df_test.iloc[:,17:137] = df_test.iloc[:,17:137].fillna(0) # ele 이랑 gas nan 값 0으로 채우기"
      ],
      "execution_count": null,
      "outputs": []
    },
    {
      "cell_type": "code",
      "metadata": {
        "id": "XwLtnvEDj49X"
      },
      "source": [
        "# 201401~201801 까지 5개년을 더해서 ele_engry_us_01 을 만듬. 이때 기록 있으면 count 증가해서 평균 만듦\n",
        "\n",
        "gas_energy_us_m = []\n",
        "ele_energy_us_m = []\n",
        "for i in range(len(df_test)):\n",
        "  j = 0\n",
        "  months_g = []\n",
        "  months_e = []\n",
        "  for m in range(12):\n",
        "    count_g = 0\n",
        "    rec_value_g = 0\n",
        "    count_e = 0\n",
        "    rec_value_e = 0\n",
        "    for y in range(5):\n",
        "      if df_test.iloc[i][gas_energy_us_month[m][y]] > 0 :\n",
        "        rec_value_g += df_test.iloc[i][gas_energy_us_month[m][y]]\n",
        "        count_g += 1\n",
        "      if df_test.iloc[i][ele_energy_us_month[m][y]] > 0 :\n",
        "        rec_value_e += df_test.iloc[i][ele_energy_us_month[m][y]]\n",
        "        count_e += 1  \n",
        "        \n",
        "    if count_g == 0:\n",
        "      months_g.append(0)\n",
        "    else:\n",
        "      months_g.append(rec_value_g/count_g)\n",
        "\n",
        "    if count_e == 0:\n",
        "      months_e.append(0)\n",
        "    else:\n",
        "      months_e.append(rec_value_e/count_e)\n",
        "\n",
        "  gas_energy_us_m.append(months_g)\n",
        "  ele_energy_us_m.append(months_e)\n",
        "\n",
        "#gas_energy_us_m\n",
        "#ele_energy_us_m\n",
        "\n",
        "avg_gas = [\"avg_gas_energy_us_%d\"%(i) for i in range(1,13)] \n",
        "avg_ele = [\"avg_ele_energy_us_%d\"%(i) for i in range(1,13)]\n",
        "\n",
        "tmp_avg_gas = pd.DataFrame(np.array(gas_energy_us_m),columns=avg_gas) # avg_gas이름으로 된 591999*12 로 된 gas_energy_us_m 데이터를 pandas로 변환\n",
        "tmp_avg_ele = pd.DataFrame(np.array(ele_energy_us_m),columns=avg_ele)\n",
        "\n",
        "df_test.drop(columns = df_test.columns[17:137],axis=1,inplace=True)\n",
        "\n",
        "newdata = pd.concat([df_test,tmp_avg_ele,tmp_avg_gas],axis=1)\n",
        "\n",
        "df_test_tmp = pd.read_csv(\"/content/drive/MyDrive/SNU_Fintech/SNU - 5조/ML_Fire_Prediction/Data/train_avgfiltered.csv\")"
      ],
      "execution_count": null,
      "outputs": []
    },
    {
      "cell_type": "markdown",
      "metadata": {
        "id": "q5QBQWGnkio8"
      },
      "source": [
        "## 2.결측치 처리 Version1"
      ]
    },
    {
      "cell_type": "code",
      "metadata": {
        "id": "1VrM_MClK-2j"
      },
      "source": [
        "df_test = pd.read_csv('/Users/Ugeon/Anaconda/SNU_FinTech/Team Project/화재 예측/Fire_Data/validation.csv')\n",
        "df_train = pd.read_csv('/Users/Ugeon/Anaconda/SNU_FinTech/Team Project/화재 예측/Fire_Data/train_avgfiltered.csv',index_col=[0],infer_datetime_format='dt_of_fr')"
      ],
      "execution_count": null,
      "outputs": []
    },
    {
      "cell_type": "code",
      "metadata": {
        "id": "R8sv8w19sCLW",
        "outputId": "ade88bd5-b90a-4ef6-a324-5c3b88a713eb"
      },
      "source": [
        "df_train.fr_yn = df_train.fr_yn.map({'Y':1,\"N\":0})\n",
        "df_test.fr_yn = df_test.fr_yn.map({'Y':1,\"N\":0})\n",
        "\n",
        "df_train.dt_of_fr = pd.to_datetime(df_train.dt_of_fr)\n",
        "df_train['month'] = df_train.dt_of_fr.dt.month \n",
        "df_train.drop(columns=['dt_of_fr'],inplace=True)\n",
        "\n",
        "drop_col = ['rgnl_ar_nm2', 'rd_sd_nm','emd_nm','slf_fr_brgd_yn', 'fr_fghtng_fclt_spcl_css_5_yn',\n",
        "            'fr_fghtng_fclt_spcl_css_6_yn'] #'dt_of_athrztn']\n",
        "df_train.drop(columns=drop_col,inplace=True)\n",
        "# df_train.shape\n",
        "\n",
        "df_test.dt_of_fr = pd.to_datetime(df_test.dt_of_fr)\n",
        "df_test['month'] = df_test.dt_of_fr.dt.month \n",
        "df_test.drop(columns=['dt_of_fr'],inplace=True)\n",
        "\n",
        "df_test.drop(columns=drop_col,inplace=True)\n",
        "df_train.shape"
      ],
      "execution_count": null,
      "outputs": [
        {
          "output_type": "execute_result",
          "data": {
            "text/plain": [
              "(59199, 77)"
            ]
          },
          "metadata": {
            "tags": []
          },
          "execution_count": 3
        }
      ]
    },
    {
      "cell_type": "code",
      "metadata": {
        "id": "95eHHzEWsCLX",
        "outputId": "4bf782bb-184d-4873-b0c4-cc8b12d2bac7"
      },
      "source": [
        "fire_y = df_train[df_train.fr_yn==1]\n",
        "print(fire_y.shape)\n",
        "\n",
        "# 불이 난 데이터들 중에 80% 이상 nan값을 가지는 열들 제거\n",
        "low_corr_idx=[]\n",
        "low_corr_col=[]\n",
        "\n",
        "for idx,cnt in enumerate(fire_y.isnull().sum()):\n",
        "    if cnt >= (7657*0.8):\n",
        "        low_corr_col.append(fire_y.columns[idx])\n",
        "        low_corr_idx.append(idx)\n",
        "        \n",
        "df_train.drop(columns=low_corr_col,inplace=True)\n",
        "df_test.drop(columns=low_corr_col,inplace=True)\n",
        "print(df_train.shape)"
      ],
      "execution_count": null,
      "outputs": [
        {
          "output_type": "stream",
          "text": [
            "(7657, 77)\n",
            "(59199, 61)\n"
          ],
          "name": "stdout"
        }
      ]
    },
    {
      "cell_type": "code",
      "metadata": {
        "id": "-DqCgznSsCLY"
      },
      "source": [
        "# 승인날짜 결측치 처리 : 있음(1) 없음(0)\n",
        "df_train.dt_of_athrztn.fillna(123456,inplace=True)\n",
        "df_train.dt_of_athrztn = np.where(df_train.dt_of_athrztn == 123456,0,1)\n",
        "\n",
        "df_train.loc[(df_train['dt_of_athrztn']==0) & (df_train['bldng_us'].isnull()==True), 'bldng_us'] = '미확인'\n",
        "df_train.bldng_us.fillna('없음',inplace=True)\n",
        "\n",
        "df_test.dt_of_athrztn.fillna(123456,inplace=True)\n",
        "df_test.dt_of_athrztn = np.where(df_test.dt_of_athrztn == 123456,0,1)\n",
        "\n",
        "df_test.loc[(df_test['dt_of_athrztn']==0) & (df_test['bldng_us'].isnull()==True), 'bldng_us'] = '미확인'\n",
        "df_test.bldng_us.fillna('없음',inplace=True)"
      ],
      "execution_count": null,
      "outputs": []
    },
    {
      "cell_type": "code",
      "metadata": {
        "id": "IRK7phILsCLY",
        "outputId": "3a79e0b7-2dbd-4d26-84f0-22b97fe74b34"
      },
      "source": [
        "plt.figure(figsize=(30,30))\n",
        "\n",
        "for i in range(len(df_train.columns)):\n",
        "    plt.subplot(8,8,i+1)\n",
        "    col = df_train.columns[i]\n",
        "    if df_train[col].dtypes != object:\n",
        "        sns.boxplot(data=df_train, x=df_train[col])"
      ],
      "execution_count": null,
      "outputs": [
        {
          "output_type": "display_data",
          "data": {
            "image/png": "[encoded data removed]",
            "text/plain": [
              "<Figure size 2160x2160 with 61 Axes>"
            ]
          },
          "metadata": {
            "tags": [],
            "needs_background": "light"
          }
        }
      ]
    },
    {
      "cell_type": "code",
      "metadata": {
        "id": "5mbsQ3ShsCLZ"
      },
      "source": [
        "# 결측치 채우기 version2\n",
        "    # numerical_cat은 mean으로\n",
        "    # ordinal_cat은 most_freq으로\n",
        "\n",
        "cat_col_idx = np.where(df_train.drop(columns=['fr_yn']).dtypes == object)[0]\n",
        "cat_col_list =[]\n",
        "for idx in cat_col_idx:\n",
        "    col = df_train.drop(columns=['fr_yn']).columns[idx]\n",
        "    cat_col_list.append(col)\n",
        "\n",
        "\n",
        "ordinal_cat = ['month','ttl_grnd_flr','ttl_dwn_flr','bldng_cnt_in_50m',]\n",
        "\n",
        "non_numerical_cat = set(cat_col_list + ordinal_cat)\n",
        "numerical_cat = set(df_train.drop(columns=['fr_yn']).columns)\n",
        "numerical_cat = list(numerical_cat.difference(non_numerical_cat))\n",
        "\n",
        "bldng_us_list = df_train.bldng_us.unique()\n",
        "# temp_1 = df_train.copy().drop(columns=['fr_yn'])\n",
        "\n",
        "for bldng in bldng_us_list:\n",
        "    temp_data = df_train[df_train.bldng_us == bldng]\n",
        "    if bldng in list(df_test.bldng_us):\n",
        "        temp_data2 = df_test[df_test.bldng_us == bldng]\n",
        "    \n",
        "    # ordinal_cat\n",
        "    for column in ordinal_cat:\n",
        "        val_cnt = temp_data[column].value_counts()\n",
        "        if len(val_cnt) != 0:\n",
        "            freq = val_cnt.idxmax()\n",
        "        elif len(val_cnt) == 0:\n",
        "            freq = 0\n",
        "        temp_data[column].fillna(freq,inplace=True)\n",
        "        if freq in list(temp_data2[column]):\n",
        "            temp_data2[column].fillna(freq,inplace=True)\n",
        "\n",
        "    # numerical_cat\n",
        "    for num_col in numerical_cat:\n",
        "        val_cnt = temp_data[num_col].value_counts()\n",
        "        if len(val_cnt) != 0:\n",
        "            mean = temp_data[num_col].mean()\n",
        "        elif len(val_cnt) == 0:\n",
        "            mean = 0\n",
        "            \n",
        "        temp_data[num_col].fillna(mean,inplace=True)\n",
        "        if num_col in temp_data2.columns:\n",
        "            temp_data2[num_col].fillna(mean,inplace=True)\n",
        "        \n",
        "    # categorical_cat\n",
        "    for column in cat_col_list:\n",
        "        val_cnt = temp_data[column].value_counts()\n",
        "        if len(val_cnt) != 0:\n",
        "            freq = val_cnt.idxmax()\n",
        "        elif len(val_cnt) == 0:\n",
        "            freq = '없음'\n",
        "            \n",
        "        temp_data[column].fillna(freq,inplace=True)\n",
        "        if freq in list(temp_data2[column]):\n",
        "            temp_data2[column].fillna(freq,inplace=True)\n",
        "    \n",
        "    df_train.update(temp_data)\n",
        "    df_test.update(temp_data2)"
      ],
      "execution_count": null,
      "outputs": []
    },
    {
      "cell_type": "code",
      "metadata": {
        "id": "IpN5FA_LsCLZ",
        "outputId": "393af2d3-cd0d-47a9-e15f-beffe405586c"
      },
      "source": [
        "from sklearn.preprocessing import OrdinalEncoder\n",
        "\n",
        "train_temp = df_train.copy()\n",
        "ordinal_encoder = OrdinalEncoder()\n",
        "train_temp_ord = pd.DataFrame(ordinal_encoder.fit_transform(train_temp[cat_col_list]),index=train_temp.index,\n",
        "                                                          columns=cat_col_list)\n",
        "\n",
        "train_temp.update(train_temp_ord)\n",
        "train_temp[cat_col_list]\n",
        "\n"
      ],
      "execution_count": null,
      "outputs": [
        {
          "output_type": "execute_result",
          "data": {
            "text/html": [
              "<div>\n",
              "<style scoped>\n",
              "    .dataframe tbody tr th:only-of-type {\n",
              "        vertical-align: middle;\n",
              "    }\n",
              "\n",
              "    .dataframe tbody tr th {\n",
              "        vertical-align: top;\n",
              "    }\n",
              "\n",
              "    .dataframe thead th {\n",
              "        text-align: right;\n",
              "    }\n",
              "</style>\n",
              "<table border=\"1\" class=\"dataframe\">\n",
              "  <thead>\n",
              "    <tr style=\"text-align: right;\">\n",
              "      <th></th>\n",
              "      <th>bldng_us</th>\n",
              "      <th>bldng_archtctr</th>\n",
              "      <th>bldng_us_clssfctn</th>\n",
              "      <th>jmk</th>\n",
              "      <th>rgnl_ar_nm</th>\n",
              "      <th>lnd_us_sttn_nm</th>\n",
              "      <th>mlt_us_yn</th>\n",
              "      <th>us_yn</th>\n",
              "      <th>dngrs_thng_yn</th>\n",
              "      <th>blk_dngrs_thng_mnfctr_yn</th>\n",
              "      <th>cltrl_hrtg_yn</th>\n",
              "    </tr>\n",
              "  </thead>\n",
              "  <tbody>\n",
              "    <tr>\n",
              "      <th>0</th>\n",
              "      <td>9</td>\n",
              "      <td>8</td>\n",
              "      <td>7</td>\n",
              "      <td>4</td>\n",
              "      <td>13</td>\n",
              "      <td>11</td>\n",
              "      <td>0</td>\n",
              "      <td>2</td>\n",
              "      <td>0</td>\n",
              "      <td>0</td>\n",
              "      <td>0</td>\n",
              "    </tr>\n",
              "    <tr>\n",
              "      <th>1</th>\n",
              "      <td>13</td>\n",
              "      <td>10</td>\n",
              "      <td>6</td>\n",
              "      <td>4</td>\n",
              "      <td>1</td>\n",
              "      <td>11</td>\n",
              "      <td>0</td>\n",
              "      <td>2</td>\n",
              "      <td>0</td>\n",
              "      <td>0</td>\n",
              "      <td>0</td>\n",
              "    </tr>\n",
              "    <tr>\n",
              "      <th>2</th>\n",
              "      <td>1</td>\n",
              "      <td>16</td>\n",
              "      <td>7</td>\n",
              "      <td>3</td>\n",
              "      <td>17</td>\n",
              "      <td>24</td>\n",
              "      <td>0</td>\n",
              "      <td>2</td>\n",
              "      <td>0</td>\n",
              "      <td>0</td>\n",
              "      <td>0</td>\n",
              "    </tr>\n",
              "    <tr>\n",
              "      <th>3</th>\n",
              "      <td>9</td>\n",
              "      <td>11</td>\n",
              "      <td>7</td>\n",
              "      <td>4</td>\n",
              "      <td>15</td>\n",
              "      <td>11</td>\n",
              "      <td>0</td>\n",
              "      <td>2</td>\n",
              "      <td>0</td>\n",
              "      <td>0</td>\n",
              "      <td>0</td>\n",
              "    </tr>\n",
              "    <tr>\n",
              "      <th>4</th>\n",
              "      <td>13</td>\n",
              "      <td>10</td>\n",
              "      <td>6</td>\n",
              "      <td>13</td>\n",
              "      <td>14</td>\n",
              "      <td>30</td>\n",
              "      <td>0</td>\n",
              "      <td>2</td>\n",
              "      <td>0</td>\n",
              "      <td>0</td>\n",
              "      <td>0</td>\n",
              "    </tr>\n",
              "    <tr>\n",
              "      <th>...</th>\n",
              "      <td>...</td>\n",
              "      <td>...</td>\n",
              "      <td>...</td>\n",
              "      <td>...</td>\n",
              "      <td>...</td>\n",
              "      <td>...</td>\n",
              "      <td>...</td>\n",
              "      <td>...</td>\n",
              "      <td>...</td>\n",
              "      <td>...</td>\n",
              "      <td>...</td>\n",
              "    </tr>\n",
              "    <tr>\n",
              "      <th>59194</th>\n",
              "      <td>10</td>\n",
              "      <td>1</td>\n",
              "      <td>3</td>\n",
              "      <td>6</td>\n",
              "      <td>1</td>\n",
              "      <td>34</td>\n",
              "      <td>0</td>\n",
              "      <td>2</td>\n",
              "      <td>0</td>\n",
              "      <td>0</td>\n",
              "      <td>0</td>\n",
              "    </tr>\n",
              "    <tr>\n",
              "      <th>59195</th>\n",
              "      <td>13</td>\n",
              "      <td>10</td>\n",
              "      <td>6</td>\n",
              "      <td>4</td>\n",
              "      <td>1</td>\n",
              "      <td>21</td>\n",
              "      <td>0</td>\n",
              "      <td>2</td>\n",
              "      <td>0</td>\n",
              "      <td>0</td>\n",
              "      <td>0</td>\n",
              "    </tr>\n",
              "    <tr>\n",
              "      <th>59196</th>\n",
              "      <td>13</td>\n",
              "      <td>10</td>\n",
              "      <td>6</td>\n",
              "      <td>15</td>\n",
              "      <td>1</td>\n",
              "      <td>5</td>\n",
              "      <td>0</td>\n",
              "      <td>2</td>\n",
              "      <td>0</td>\n",
              "      <td>0</td>\n",
              "      <td>0</td>\n",
              "    </tr>\n",
              "    <tr>\n",
              "      <th>59197</th>\n",
              "      <td>29</td>\n",
              "      <td>1</td>\n",
              "      <td>5</td>\n",
              "      <td>3</td>\n",
              "      <td>4</td>\n",
              "      <td>13</td>\n",
              "      <td>0</td>\n",
              "      <td>2</td>\n",
              "      <td>0</td>\n",
              "      <td>0</td>\n",
              "      <td>0</td>\n",
              "    </tr>\n",
              "    <tr>\n",
              "      <th>59198</th>\n",
              "      <td>32</td>\n",
              "      <td>1</td>\n",
              "      <td>2</td>\n",
              "      <td>21</td>\n",
              "      <td>4</td>\n",
              "      <td>13</td>\n",
              "      <td>0</td>\n",
              "      <td>2</td>\n",
              "      <td>0</td>\n",
              "      <td>0</td>\n",
              "      <td>0</td>\n",
              "    </tr>\n",
              "  </tbody>\n",
              "</table>\n",
              "<p>59199 rows × 11 columns</p>\n",
              "</div>"
            ],
            "text/plain": [
              "      bldng_us bldng_archtctr bldng_us_clssfctn jmk rgnl_ar_nm lnd_us_sttn_nm  \\\n",
              "0            9              8                 7   4         13             11   \n",
              "1           13             10                 6   4          1             11   \n",
              "2            1             16                 7   3         17             24   \n",
              "3            9             11                 7   4         15             11   \n",
              "4           13             10                 6  13         14             30   \n",
              "...        ...            ...               ...  ..        ...            ...   \n",
              "59194       10              1                 3   6          1             34   \n",
              "59195       13             10                 6   4          1             21   \n",
              "59196       13             10                 6  15          1              5   \n",
              "59197       29              1                 5   3          4             13   \n",
              "59198       32              1                 2  21          4             13   \n",
              "\n",
              "      mlt_us_yn us_yn dngrs_thng_yn blk_dngrs_thng_mnfctr_yn cltrl_hrtg_yn  \n",
              "0             0     2             0                        0             0  \n",
              "1             0     2             0                        0             0  \n",
              "2             0     2             0                        0             0  \n",
              "3             0     2             0                        0             0  \n",
              "4             0     2             0                        0             0  \n",
              "...         ...   ...           ...                      ...           ...  \n",
              "59194         0     2             0                        0             0  \n",
              "59195         0     2             0                        0             0  \n",
              "59196         0     2             0                        0             0  \n",
              "59197         0     2             0                        0             0  \n",
              "59198         0     2             0                        0             0  \n",
              "\n",
              "[59199 rows x 11 columns]"
            ]
          },
          "metadata": {
            "tags": []
          },
          "execution_count": 134
        }
      ]
    },
    {
      "cell_type": "code",
      "metadata": {
        "id": "MqpINZz2sCLa",
        "outputId": "041fdea7-b68d-4e7f-b660-443319b35a1b"
      },
      "source": [
        "plt.figure(figsize=(20,10))\n",
        "sns.heatmap(train_temp.corr())"
      ],
      "execution_count": null,
      "outputs": [
        {
          "output_type": "execute_result",
          "data": {
            "text/plain": [
              "<AxesSubplot:>"
            ]
          },
          "metadata": {
            "tags": []
          },
          "execution_count": 109
        },
        {
          "output_type": "display_data",
          "data": {
            "image/png": "[encoded data removed]",
            "text/plain": [
              "<Figure size 1440x720 with 2 Axes>"
            ]
          },
          "metadata": {
            "tags": [],
            "needs_background": "light"
          }
        }
      ]
    },
    {
      "cell_type": "code",
      "metadata": {
        "id": "h7CNN8WhsCLa",
        "outputId": "6c9dc73a-bd98-4eae-cba0-b7d83acb033f"
      },
      "source": [
        "# target과 상관이 높은 변수  : hmdt, fr_wthr_fclt_dstnc\n",
        "train_temp[['fr_yn','hmdt','fr_wthr_fclt_dstnc']].corr()"
      ],
      "execution_count": null,
      "outputs": [
        {
          "output_type": "execute_result",
          "data": {
            "text/html": [
              "<div>\n",
              "<style scoped>\n",
              "    .dataframe tbody tr th:only-of-type {\n",
              "        vertical-align: middle;\n",
              "    }\n",
              "\n",
              "    .dataframe tbody tr th {\n",
              "        vertical-align: top;\n",
              "    }\n",
              "\n",
              "    .dataframe thead th {\n",
              "        text-align: right;\n",
              "    }\n",
              "</style>\n",
              "<table border=\"1\" class=\"dataframe\">\n",
              "  <thead>\n",
              "    <tr style=\"text-align: right;\">\n",
              "      <th></th>\n",
              "      <th>fr_yn</th>\n",
              "      <th>hmdt</th>\n",
              "      <th>fr_wthr_fclt_dstnc</th>\n",
              "    </tr>\n",
              "  </thead>\n",
              "  <tbody>\n",
              "    <tr>\n",
              "      <th>fr_yn</th>\n",
              "      <td>1.000000</td>\n",
              "      <td>-0.140291</td>\n",
              "      <td>-0.165280</td>\n",
              "    </tr>\n",
              "    <tr>\n",
              "      <th>hmdt</th>\n",
              "      <td>-0.140291</td>\n",
              "      <td>1.000000</td>\n",
              "      <td>-0.010154</td>\n",
              "    </tr>\n",
              "    <tr>\n",
              "      <th>fr_wthr_fclt_dstnc</th>\n",
              "      <td>-0.165280</td>\n",
              "      <td>-0.010154</td>\n",
              "      <td>1.000000</td>\n",
              "    </tr>\n",
              "  </tbody>\n",
              "</table>\n",
              "</div>"
            ],
            "text/plain": [
              "                       fr_yn      hmdt  fr_wthr_fclt_dstnc\n",
              "fr_yn               1.000000 -0.140291           -0.165280\n",
              "hmdt               -0.140291  1.000000           -0.010154\n",
              "fr_wthr_fclt_dstnc -0.165280 -0.010154            1.000000"
            ]
          },
          "metadata": {
            "tags": []
          },
          "execution_count": 112
        }
      ]
    },
    {
      "cell_type": "code",
      "metadata": {
        "id": "cteA2CGZsCLb",
        "outputId": "59f75999-c0da-40b8-c5cc-7d754f33c01f"
      },
      "source": [
        "plt.figure(figsize=(30,30))\n",
        "\n",
        "for i in range(len(train_temp.columns)):\n",
        "    plt.subplot(6,11,i+1)\n",
        "    col = train_temp.columns[i]\n",
        "#     if df_train[col].dtypes != object:\n",
        "    sns.boxplot(data=train_temp, x='fr_yn',y=col)\n",
        "    plt.title(col)\n",
        "plt.tight_layout()"
      ],
      "execution_count": null,
      "outputs": [
        {
          "output_type": "display_data",
          "data": {
            "image/png": "[encoded data removed]",
            "text/plain": [
              "<Figure size 2160x2160 with 61 Axes>"
            ]
          },
          "metadata": {
            "tags": [],
            "needs_background": "light"
          }
        }
      ]
    },
    {
      "cell_type": "code",
      "metadata": {
        "id": "rv_-7XGBsCLb"
      },
      "source": [
        "X_train = df_train.drop(columns=['fr_yn'])\n",
        "y_train = df_train['fr_yn']\n",
        "X_test = df_test.drop(columns=['fr_yn'])\n",
        "y_test = df_test['fr_yn']\n",
        "\n",
        "# train 더미변수\n",
        "cat_col_idx = np.where(X_train.dtypes == object)[0]\n",
        "cat_col_list =[]\n",
        "\n",
        "for idx in cat_col_idx:\n",
        "    col = X_train.columns[idx]\n",
        "    cat_col_list.append(col)\n",
        "    temp_data = pd.get_dummies(X_train[col],prefix=\"{}\".format(col))\n",
        "    X_train = X_train.merge(temp_data,left_index=True,right_index=True)\n",
        "\n",
        "X_train.drop(columns=cat_col_list,inplace=True)    \n",
        "# X = X.rename(columns = lambda x : re.sub('[^A-Za-z0-9ㄱ-ㅣ가-힣_]]+', '', x))\n",
        "X_train = X_train.rename(columns = lambda x : re.sub('[^A-Za-z0-9ㄱ-ㅣ가-힣_]+', '', x))\n",
        "\n",
        "# test 더미변수\n",
        "test_cat_col_idx = np.where(X_test.dtypes == object)[0]\n",
        "test_cat_col_list =[]\n",
        "\n",
        "for idx in test_cat_col_idx:\n",
        "    col = X_test.columns[idx]\n",
        "    cat_col_list.append(col)\n",
        "    temp_data = pd.get_dummies(X_test[col],prefix=\"{}\".format(col))\n",
        "    X_test = X_test.merge(temp_data,left_index=True,right_index=True)\n",
        "\n",
        "X_test.drop(columns=cat_col_list,inplace=True)    "
      ],
      "execution_count": null,
      "outputs": []
    },
    {
      "cell_type": "code",
      "metadata": {
        "id": "gXx4flBQsCLc"
      },
      "source": [
        "train_col = set(X_train.columns)\n",
        "test_col = set(X_test.columns)\n",
        "\n",
        "not_in_test = list(train_col.difference(test_col)) # train에 있지만 test에 없는 열\n",
        "only_in_test = list(test_col.difference(train_col)) # test에만 있는 열\n",
        "# print(list(test_col.difference(train_col))) # test_set에만 있는거 : 'lnd_us_sttn_nm_경마장'\n",
        "# diff_col\n",
        "\n",
        "for col in only_in_test:\n",
        "    X_test.drop(columns=[col],inplace=True)\n",
        "#     X_train[co=0\n",
        "for col in not_in_test:\n",
        "#     X_test[col] = 0\n",
        "    X_train.drop(columns=[col],inplace=True)\n",
        "    \n",
        "X_train = X_train.rename(columns = lambda x : re.sub('[^A-Za-z0-9ㄱ-ㅣ가-힣_]]+', '', x))\n",
        "X_test = X_test.rename(columns = lambda x : re.sub('[^A-Za-z0-9ㄱ-ㅣ가-힣_]]+', '', x))\n",
        "\n",
        "X_test.fillna('-1',inplace=True)\n",
        "print(X_train.shape,X_test.shape,sep='\\n')"
      ],
      "execution_count": null,
      "outputs": []
    },
    {
      "cell_type": "code",
      "metadata": {
        "id": "kPh1lhQUsCLd"
      },
      "source": [
        "robust_scaler = RobustScaler() # 0~1사이로 데이터 scale\n",
        "\n",
        "robust_scaler.fit(X_train)\n",
        "\n",
        "X_scd = pd.DataFrame(robust_scaler.transform(X_train),index=X_train.index,\n",
        "                              columns=X_train.columns)\n",
        "X_test = pd.DataFrame(robust_scaler.transform(X_test),index=X_test.index,\n",
        "                              columns=X_test.columns)"
      ],
      "execution_count": null,
      "outputs": []
    },
    {
      "cell_type": "code",
      "metadata": {
        "id": "4xT-u0yEsCLd"
      },
      "source": [
        "# 데이터 불균형 해결 - overfitting\n",
        "smote = SMOTE(random_state=113)\n",
        "X_smote, y_smote = smote.fit_sample(X_train,y_train)"
      ],
      "execution_count": null,
      "outputs": []
    },
    {
      "cell_type": "code",
      "metadata": {
        "id": "7eMB9RHAsCLe"
      },
      "source": [
        "# data split\n",
        "\n",
        "X_valid, X_test, y_valid, y_test = train_test_split(X_test, y_test, train_size=0.6,random_state=97)"
      ],
      "execution_count": null,
      "outputs": []
    },
    {
      "cell_type": "markdown",
      "metadata": {
        "id": "qvyU2kyll5RH"
      },
      "source": [
        "## 3.결측치 처리 Version2(Imputation)"
      ]
    },
    {
      "cell_type": "markdown",
      "metadata": {
        "id": "opxbWL6Kk9jx"
      },
      "source": [
        "### train data 전처리"
      ]
    },
    {
      "cell_type": "code",
      "metadata": {
        "id": "xcF6bBDE0GNz"
      },
      "source": [
        "!pip install impyute"
      ],
      "execution_count": null,
      "outputs": []
    },
    {
      "cell_type": "code",
      "metadata": {
        "colab": {
          "base_uri": "https://localhost:8080/"
        },
        "id": "uKcfjlffRvgY",
        "outputId": "812932be-b89e-4e2a-89b5-4f03e290e66f"
      },
      "source": [
        "df_train = pd.read_csv(\"./train_avgfiltered.csv\")"
      ],
      "execution_count": null,
      "outputs": [
        {
          "output_type": "stream",
          "text": [
            "/usr/local/lib/python3.6/dist-packages/IPython/core/interactiveshell.py:2718: DtypeWarning: Columns (9) have mixed types.Specify dtype option on import or set low_memory=False.\n",
            "  interactivity=interactivity, compiler=compiler, result=result)\n"
          ],
          "name": "stderr"
        }
      ]
    },
    {
      "cell_type": "code",
      "metadata": {
        "id": "zuqIy9c7k9MA"
      },
      "source": [
        "#column renaming\n",
        "df_train.rename(columns={\n",
        "    \"bldng_us\":\"건물용도\",\n",
        "    \"bldng_archtctr\":\"건물구조\",\n",
        "    \"bldng_cnt\":\"건물채수\",\n",
        "    \"bldng_ar\":\"건물건축면적\",\n",
        "    \"ttl_ar\":\"건물층별합계전체면적\",\n",
        "    \"lnd_ar\":\"토지면적\" ,\n",
        "    \"dt_of_athrztn\":\"건물승인일자\" ,\n",
        "    \"ttl_grnd_flr\":\"건물들지상층수합\" ,\n",
        "    \"ttl_dwn_flr\":\"건물들지하층수합\",\n",
        "    \"bldng_us_clssfctn\":\"건물용도분류명\",\n",
        "    \"tmprtr\":\"온도\",\n",
        "    \"prcpttn\":\"강수량\",\n",
        "    \"wnd_spd\":\"풍속\" ,\n",
        "    \"wnd_drctn\":\"풍향\",\n",
        "    \"hmdt\":\"습도\",\n",
        "    'avg_ele_energy_us_1':'전기 에너지 사용량_1월',\n",
        "    'avg_ele_energy_us_2':'전기 에너지 사용량_2월',\n",
        "    'avg_ele_energy_us_3':'전기 에너지 사용량_3월',\n",
        "    'avg_ele_energy_us_4':'전기 에너지 사용량_4월',\n",
        "    'avg_ele_energy_us_5':'전기 에너지 사용량_5월',\n",
        "    'avg_ele_energy_us_6':'전기 에너지 사용량_6월',\n",
        "    'avg_ele_energy_us_7':'전기 에너지 사용량_7월',\n",
        "    'avg_ele_energy_us_8':'전기 에너지 사용량_8월',\n",
        "    'avg_ele_energy_us_9':'전기 에너지 사용량_9월',\n",
        "    'avg_ele_energy_us_10':'전기 에너지 사용량_10월',\n",
        "    'avg_ele_energy_us_11':'전기 에너지 사용량_11월',\n",
        "    'avg_ele_energy_us_12':'전기 에너지 사용량_12월',\n",
        "    'avg_gas_energy_us_1':'가스 에너지 사용량_1월',\n",
        "    'avg_gas_energy_us_2':'가스 에너지 사용량_2월',\n",
        "    'avg_gas_energy_us_3':'가스 에너지 사용량_3월',\n",
        "    'avg_gas_energy_us_4':'가스 에너지 사용량_4월',\n",
        "    'avg_gas_energy_us_5':'가스 에너지 사용량_5월',\n",
        "    'avg_gas_energy_us_6':'가스 에너지 사용량_6월',\n",
        "    'avg_gas_energy_us_7':'가스 에너지 사용량_7월',\n",
        "    'avg_gas_energy_us_8':'가스 에너지 사용량_8월',\n",
        "    'avg_gas_energy_us_9':'가스 에너지 사용량_9월',\n",
        "    'avg_gas_energy_us_10':'가스 에너지 사용량_10월',\n",
        "    'avg_gas_energy_us_11':'가스 에너지 사용량_11월',\n",
        "    'avg_gas_energy_us_12':'가스 에너지 사용량_12월',\n",
        "    \"lw_13101010\": \"복도/계단/출입구의 성능 유지여부(0~5)\",\n",
        "    \"lw_13101110\": \"옥상광장의 피난성능 유지여부(0~5)\",\n",
        "    \"lw_13101210\": \"방화문/방화셔터 등의 성능 유지여부(0~5)\",\n",
        "    \"lw_13101211\": \"방화구획 적합 여부(0~5)\",\n",
        "    \"lw_13101310\": \"경계벽 및 칸막이벽의 변경 등 방화성능 유지여부(0~5)\",\n",
        "    \"lw_13101410\": \"배연설비의 성능 유지여부(0~5)\",\n",
        "    \"lw_13111010\": \"내화구조의 성능 유지여부(0~5)\",\n",
        "    \"lw_13111110\": \"방화벽의 성능 유지여부(0~5)\",\n",
        "    \"lw_13121010\": \"외벽의 성능 유지여부(0~5)\",\n",
        "    \"lw_13121011\": \"창호의 성능 유지여부(0~5)\",\n",
        "    \"lw_13131010\": \"내부마감의 방화성능 유지여부(0~5)\",\n",
        "    \"lw_13131110\": \"외부마감의 노후화 및 마감재 탈락 여부(0~5)\",\n",
        "    \"lw_13141010\": \"지하층의 소방설비 성능 유지여부(0~5)\",\n",
        "    \"lw_13141011\": \"지하층 피난구/피난계단의 성능 유지여부(0~5)\",\n",
        "    \"jmk\":\"지적상지목\",\n",
        "    \"rgnl_ar_nm\":\"용도지역지구명\",\n",
        "    \"rgnl_ar_nm2\":\"용도지역지구명2\",\n",
        "    \"lnd_us_sttn_nm\":\"토지이용상황명\",\n",
        "    \"rd_sd_nm\":\"도로측면명\",\n",
        "    \"emd_nm\":\"행정구역명\",\n",
        "    \"hm_cnt\":\"행정구역인구\",\n",
        "    \"fr_sttn_dstnc\":\"소방서거리\",\n",
        "    \"bldng_ar_prc\":\"건물면적당가격\",\n",
        "    \"fr_wthr_fclt_dstnc\":\"소방용수시설거리\",\n",
        "    \"fr_mn_cnt\":\"관할소방서인원\",\n",
        "    \"mlt_us_yn\":\"다중이용시설여부\",\n",
        "    \"cctv_dstnc\":\"공공CCTV거리\"\t,\n",
        "    \"cctv_in_100m\":\"백미터이내CCTV수\",\n",
        "    \"fr_wthr_fclt_in_100m\":\"백미터이내소방용수시설수\",\n",
        "    \"tbc_rtl_str_dstnc\":\"담배소매점거리\",\n",
        "    \"sft_emrgnc_bll_dstnc\":\"안전비상벨최소거리\",\n",
        "    \"ahsm_dstnc\":\"자동심장충격기거리\",\n",
        "    \"no_tbc_zn_dstnc\":\"금연구역최소거리\",\n",
        "    \"bldng_cnt_in_50m\":\"반경50m건물수\",\n",
        "    \"fr_yn\":\"화재발생\",\n",
        "    \"trgt_crtr\":\"소방점검대상물기준\",\n",
        "    \"fr_fghtng_fclt_spcl_css_5_yn\":\"소방시설특례5호여부\",\n",
        "    \"fr_fghtng_fclt_spcl_css_6_yn\":\"소방시설특례6호여부\",\n",
        "    \"us_yn\":\"사용여부\",\n",
        "    \"dngrs_thng_yn\":\"위험물대상여부\",\n",
        "    \"slf_fr_brgd_yn\":\"자체소방대여부\",\n",
        "    \"blk_dngrs_thng_mnfctr_yn\":\"대량위험물제조소등여부\",\n",
        "    \"cltrl_hrtg_yn\":\"문화재여부\"}, inplace=True)"
      ],
      "execution_count": null,
      "outputs": []
    },
    {
      "cell_type": "code",
      "metadata": {
        "id": "LjxVivRgloE_"
      },
      "source": [
        "#학습에 불필요한 변수 제거\n",
        "df_train.drop(['dt_of_fr',\n",
        " '소방시설특례5호여부',\n",
        " '소방시설특례6호여부',\n",
        " '자체소방대여부'], axis=1, inplace=True)\n",
        "df_train.drop('Unnamed: 0', axis=1, inplace=True)\n",
        "df_train.drop('행정구역명', axis=1, inplace=True)\n",
        "df_train.drop('도로측면명', axis=1, inplace=True) \n",
        "\n",
        "#건물승인일자 -> 건물승인여부로 처리\n",
        "df_train.loc[df_train['건물승인일자'].isnull()==False, '건물승인일자']=1\n",
        "df_train.loc[df_train['건물승인일자'].isnull(), '건물승인일자']=0\n",
        "df_train.rename(columns = {'건물승인일자':'건물승인여부'}, inplace = True) \n",
        "\n",
        "#Binary 변수들 1,0 값으로 변환\n",
        "df_train['화재발생']=df_train['화재발생'].replace(['Y', 'N'], [1, 0]) \n",
        "df_train['다중이용시설여부']=df_train['다중이용시설여부'].replace(['Y', 'N'], [1, 0]) \n",
        "df_train['위험물대상여부']=df_train['위험물대상여부'].replace(['Y', 'N'], [1, 0]) \n",
        "df_train['대량위험물제조소등여부']=df_train['대량위험물제조소등여부'].replace(['Y', 'N'], [1, 0]) \n",
        "df_train['문화재여부']=df_train['문화재여부'].replace(['Y', 'N'], [1, 0]) \n",
        "\n",
        "df_train['건물승인여부']=df_train['건물승인여부'].astype(int)"
      ],
      "execution_count": null,
      "outputs": []
    },
    {
      "cell_type": "code",
      "metadata": {
        "id": "beTy4fjHmBI_"
      },
      "source": [
        "# create a list of categorical columns to iterate over\n",
        "cat = [] \n",
        "for i in df_train.columns:\n",
        "  if df_train[i].dtype==object:\n",
        "    cat.append(i)\n",
        "\n",
        "#instantiate both packages to use\n",
        "encoder = OrdinalEncoder()\n",
        "\n",
        "\n",
        "def encode(data):\n",
        "    '''function to encode non-null data and replace it in the original data'''\n",
        "    #retains only non-null values\n",
        "    nonulls = np.array(data.dropna())\n",
        "    #reshapes the data for encoding\n",
        "    impute_reshape = nonulls.reshape(-1,1)\n",
        "    #encode date\n",
        "    impute_ordinal = encoder.fit_transform(impute_reshape.astype(str))\n",
        "    #Assign back encoded values to non-null values\n",
        "    data.loc[data.notnull()] = np.squeeze(impute_ordinal)\n",
        "    return data\n",
        "\n",
        "#create a for loop to iterate through each column in the data\n",
        "for columns in cat:\n",
        "    encode(df_train[columns])\n"
      ],
      "execution_count": null,
      "outputs": []
    },
    {
      "cell_type": "code",
      "metadata": {
        "id": "5AB-ExNImXqC"
      },
      "source": [
        "#imputation\n",
        "imputer = IterativeImputer(ExtraTreesRegressor(n_estimators=30,max_depth=10), n_nearest_features=5, max_iter=50, random_state=10)\n",
        "encode_data = pd.DataFrame(np.round(imputer.fit_transform(df_train)),columns = df_train.columns)\n"
      ],
      "execution_count": null,
      "outputs": []
    },
    {
      "cell_type": "code",
      "metadata": {
        "id": "DwYhNFjVmXgo"
      },
      "source": [
        "#one-hot-encoding\n",
        "new_train = pd.get_dummies(encode_data, columns =cat)"
      ],
      "execution_count": null,
      "outputs": []
    },
    {
      "cell_type": "code",
      "metadata": {
        "id": "S74QIUnvmfdz"
      },
      "source": [
        "#standardization\n",
        "from sklearn.preprocessing import StandardScaler\n",
        "std_scaler = StandardScaler()\n",
        "\n",
        "std_train = std_scaler.fit_transform(new_train[num])\n",
        "num_train = pd.DataFrame(std_train, columns=num, index=list(df_train.index.values))"
      ],
      "execution_count": null,
      "outputs": []
    },
    {
      "cell_type": "code",
      "metadata": {
        "id": "eSxsgUiHmrXj"
      },
      "source": [
        "#categorical columns\n",
        "c=['건물승인여부',\n",
        " '다중이용시설여부',\n",
        " '위험물대상여부',\n",
        " '건물용도_0.0',\n",
        " '건물용도_1.0',\n",
        " '건물용도_2.0',\n",
        " '건물용도_3.0',\n",
        " '건물용도_4.0',\n",
        " '건물용도_5.0',\n",
        " '건물용도_6.0',\n",
        " '건물용도_7.0',\n",
        " '건물용도_8.0',\n",
        " '건물용도_9.0',\n",
        " '건물용도_10.0',\n",
        " '건물용도_11.0',\n",
        " '건물용도_12.0',\n",
        " '건물용도_13.0',\n",
        " '건물용도_14.0',\n",
        " '건물용도_15.0',\n",
        " '건물용도_16.0',\n",
        " '건물용도_17.0',\n",
        " '건물용도_18.0',\n",
        " '건물용도_19.0',\n",
        " '건물용도_20.0',\n",
        " '건물용도_21.0',\n",
        " '건물용도_22.0',\n",
        " '건물용도_23.0',\n",
        " '건물용도_24.0',\n",
        " '건물구조_0.0',\n",
        " '건물구조_1.0',\n",
        " '건물구조_2.0',\n",
        " '건물구조_3.0',\n",
        " '건물구조_4.0',\n",
        " '건물구조_5.0',\n",
        " '건물구조_6.0',\n",
        " '건물구조_7.0',\n",
        " '건물구조_8.0',\n",
        " '건물구조_9.0',\n",
        " '건물구조_10.0',\n",
        " '건물구조_11.0',\n",
        " '건물구조_12.0',\n",
        " '건물구조_13.0',\n",
        " '건물구조_14.0',\n",
        " '건물구조_15.0',\n",
        " '건물구조_16.0',\n",
        " '건물용도분류명_0.0',\n",
        " '건물용도분류명_1.0',\n",
        " '건물용도분류명_2.0',\n",
        " '건물용도분류명_3.0',\n",
        " '건물용도분류명_4.0',\n",
        " '건물용도분류명_5.0',\n",
        " '건물용도분류명_6.0',\n",
        " '용도지역지구명_0.0',\n",
        " '용도지역지구명_1.0',\n",
        " '용도지역지구명_2.0',\n",
        " '용도지역지구명_3.0',\n",
        " '용도지역지구명_4.0',\n",
        " '용도지역지구명_5.0',\n",
        " '용도지역지구명_6.0',\n",
        " '용도지역지구명_7.0',\n",
        " '용도지역지구명_8.0',\n",
        " '용도지역지구명_9.0',\n",
        " '용도지역지구명_10.0',\n",
        " '용도지역지구명_11.0',\n",
        " '용도지역지구명_12.0',\n",
        " '용도지역지구명_13.0',\n",
        " '용도지역지구명_14.0',\n",
        " '용도지역지구명_15.0',\n",
        " '용도지역지구명_16.0',\n",
        " '용도지역지구명2_0.0',\n",
        " '용도지역지구명2_1.0',\n",
        " '용도지역지구명2_2.0',\n",
        " '용도지역지구명2_3.0',\n",
        " '용도지역지구명2_4.0',\n",
        " '용도지역지구명2_5.0',\n",
        " '용도지역지구명2_6.0',\n",
        " '용도지역지구명2_7.0',\n",
        " '용도지역지구명2_8.0',\n",
        " '용도지역지구명2_9.0',\n",
        " '용도지역지구명2_10.0',\n",
        " '용도지역지구명2_11.0',\n",
        " '용도지역지구명2_12.0',\n",
        " '용도지역지구명2_13.0',\n",
        " '용도지역지구명2_14.0',\n",
        " '용도지역지구명2_15.0',\n",
        " '토지이용상황명_0.0',\n",
        " '토지이용상황명_1.0',\n",
        " '토지이용상황명_2.0',\n",
        " '토지이용상황명_3.0',\n",
        " '토지이용상황명_4.0',\n",
        " '토지이용상황명_5.0',\n",
        " '토지이용상황명_6.0',\n",
        " '토지이용상황명_7.0',\n",
        " '토지이용상황명_8.0',\n",
        " '토지이용상황명_9.0',\n",
        " '토지이용상황명_10.0',\n",
        " '토지이용상황명_11.0',\n",
        " '토지이용상황명_12.0',\n",
        " '토지이용상황명_13.0',\n",
        " '토지이용상황명_14.0',\n",
        " '토지이용상황명_15.0',\n",
        " '토지이용상황명_16.0',\n",
        " '토지이용상황명_17.0',\n",
        " '토지이용상황명_18.0',\n",
        " '토지이용상황명_19.0',\n",
        " '토지이용상황명_20.0',\n",
        " '토지이용상황명_21.0',\n",
        " '토지이용상황명_22.0',\n",
        " '토지이용상황명_23.0',\n",
        " '토지이용상황명_24.0',\n",
        " '토지이용상황명_25.0',\n",
        " '토지이용상황명_26.0',\n",
        " '토지이용상황명_27.0',\n",
        " '토지이용상황명_28.0',\n",
        " '토지이용상황명_29.0',\n",
        " '토지이용상황명_30.0',\n",
        " '토지이용상황명_31.0',\n",
        " '토지이용상황명_32.0',\n",
        " '토지이용상황명_33.0',\n",
        " '토지이용상황명_34.0',\n",
        " '토지이용상황명_35.0',\n",
        " '토지이용상황명_36.0',\n",
        " '토지이용상황명_37.0',\n",
        " '소방점검대상물기준_0.0',\n",
        " '소방점검대상물기준_1.0',\n",
        " '소방점검대상물기준_2.0',\n",
        " '소방점검대상물기준_3.0',\n",
        " '소방점검대상물기준_4.0',\n",
        " '소방점검대상물기준_5.0',\n",
        " '소방점검대상물기준_6.0',\n",
        " '사용여부_0.0',\n",
        " '사용여부_1.0',\n",
        " '사용여부_2.0']\n",
        "\n",
        "#numeric columns\n",
        "n=[]\n",
        "for i in num_train.columns:\n",
        "        n.append(i)\n",
        "\n",
        "new_train = pd.concat([new_train['화재발생'],num_train[n], new_train[c]], axis=1)"
      ],
      "execution_count": null,
      "outputs": []
    },
    {
      "cell_type": "code",
      "metadata": {
        "id": "Ld8QTcWTpDaW"
      },
      "source": [
        "X  = new_train.drop(columns='화재발생')\n",
        "y =new_train['화재발생']\n",
        "\n",
        "smote = SMOTE(random_state=113)\n",
        "X_smote, y_smote = smote.fit_resample(X,y)"
      ],
      "execution_count": null,
      "outputs": []
    },
    {
      "cell_type": "code",
      "metadata": {
        "id": "BS_PKFWRpDUX"
      },
      "source": [
        "X_train, X_valid, y_train, y_valid = train_test_split(X_smote, y_smote, train_size=0.8, test_size=0.2, random_state=47)\n",
        "X_valid, X_eval, y_valid, y_eval = train_test_split(X_train,y_train,test_size=0.25,random_state=73)"
      ],
      "execution_count": null,
      "outputs": []
    },
    {
      "cell_type": "markdown",
      "metadata": {
        "id": "azVyD2uflZkf"
      },
      "source": [
        "### test data 전처리"
      ]
    },
    {
      "cell_type": "code",
      "metadata": {
        "id": "5rv08XWjkvM9"
      },
      "source": [
        "df_test = pd.read_csv(\"/content/drive/MyDrive/빅데이터/ML_Fire_Prediction/valid_avgfiltered.csv\")"
      ],
      "execution_count": null,
      "outputs": []
    },
    {
      "cell_type": "code",
      "metadata": {
        "id": "S0P3uMb_kwcW"
      },
      "source": [
        "df_test.rename(columns={\n",
        "    \"bldng_us\":\"건물용도\",\n",
        "    \"bldng_archtctr\":\"건물구조\",\n",
        "    \"bldng_cnt\":\"건물채수\",\n",
        "    \"bldng_ar\":\"건물건축면적\",\n",
        "    \"ttl_ar\":\"건물층별합계전체면적\",\n",
        "    \"lnd_ar\":\"토지면적\" ,\n",
        "    \"dt_of_athrztn\":\"건물승인일자\" ,\n",
        "    \"ttl_grnd_flr\":\"건물들지상층수합\" ,\n",
        "    \"ttl_dwn_flr\":\"건물들지하층수합\",\n",
        "    \"bldng_us_clssfctn\":\"건물용도분류명\",\n",
        "    \"tmprtr\":\"온도\",\n",
        "    \"prcpttn\":\"강수량\",\n",
        "    \"wnd_spd\":\"풍속\" ,\n",
        "    \"wnd_drctn\":\"풍향\",\n",
        "    \"hmdt\":\"습도\",\n",
        "    'avg_ele_energy_us_1':'전기 에너지 사용량_1월',\n",
        "    'avg_ele_energy_us_2':'전기 에너지 사용량_2월',\n",
        "    'avg_ele_energy_us_3':'전기 에너지 사용량_3월',\n",
        "    'avg_ele_energy_us_4':'전기 에너지 사용량_4월',\n",
        "    'avg_ele_energy_us_5':'전기 에너지 사용량_5월',\n",
        "    'avg_ele_energy_us_6':'전기 에너지 사용량_6월',\n",
        "    'avg_ele_energy_us_7':'전기 에너지 사용량_7월',\n",
        "    'avg_ele_energy_us_8':'전기 에너지 사용량_8월',\n",
        "    'avg_ele_energy_us_9':'전기 에너지 사용량_9월',\n",
        "    'avg_ele_energy_us_10':'전기 에너지 사용량_10월',\n",
        "    'avg_ele_energy_us_11':'전기 에너지 사용량_11월',\n",
        "    'avg_ele_energy_us_12':'전기 에너지 사용량_12월',\n",
        "    'avg_gas_energy_us_1':'가스 에너지 사용량_1월',\n",
        "    'avg_gas_energy_us_2':'가스 에너지 사용량_2월',\n",
        "    'avg_gas_energy_us_3':'가스 에너지 사용량_3월',\n",
        "    'avg_gas_energy_us_4':'가스 에너지 사용량_4월',\n",
        "    'avg_gas_energy_us_5':'가스 에너지 사용량_5월',\n",
        "    'avg_gas_energy_us_6':'가스 에너지 사용량_6월',\n",
        "    'avg_gas_energy_us_7':'가스 에너지 사용량_7월',\n",
        "    'avg_gas_energy_us_8':'가스 에너지 사용량_8월',\n",
        "    'avg_gas_energy_us_9':'가스 에너지 사용량_9월',\n",
        "    'avg_gas_energy_us_10':'가스 에너지 사용량_10월',\n",
        "    'avg_gas_energy_us_11':'가스 에너지 사용량_11월',\n",
        "    'avg_gas_energy_us_12':'가스 에너지 사용량_12월',\n",
        "    \"lw_13101010\": \"복도/계단/출입구의 성능 유지여부(0~5)\",\n",
        "    \"lw_13101110\": \"옥상광장의 피난성능 유지여부(0~5)\",\n",
        "    \"lw_13101210\": \"방화문/방화셔터 등의 성능 유지여부(0~5)\",\n",
        "    \"lw_13101211\": \"방화구획 적합 여부(0~5)\",\n",
        "    \"lw_13101310\": \"경계벽 및 칸막이벽의 변경 등 방화성능 유지여부(0~5)\",\n",
        "    \"lw_13101410\": \"배연설비의 성능 유지여부(0~5)\",\n",
        "    \"lw_13111010\": \"내화구조의 성능 유지여부(0~5)\",\n",
        "    \"lw_13111110\": \"방화벽의 성능 유지여부(0~5)\",\n",
        "    \"lw_13121010\": \"외벽의 성능 유지여부(0~5)\",\n",
        "    \"lw_13121011\": \"창호의 성능 유지여부(0~5)\",\n",
        "    \"lw_13131010\": \"내부마감의 방화성능 유지여부(0~5)\",\n",
        "    \"lw_13131110\": \"외부마감의 노후화 및 마감재 탈락 여부(0~5)\",\n",
        "    \"lw_13141010\": \"지하층의 소방설비 성능 유지여부(0~5)\",\n",
        "    \"lw_13141011\": \"지하층 피난구/피난계단의 성능 유지여부(0~5)\",\n",
        "    \"jmk\":\"지적상지목\",\n",
        "    \"rgnl_ar_nm\":\"용도지역지구명\",\n",
        "    \"rgnl_ar_nm2\":\"용도지역지구명2\",\n",
        "    \"lnd_us_sttn_nm\":\"토지이용상황명\",\n",
        "    \"rd_sd_nm\":\"도로측면명\",\n",
        "    \"emd_nm\":\"행정구역명\",\n",
        "    \"hm_cnt\":\"행정구역인구\",\n",
        "    \"fr_sttn_dstnc\":\"소방서거리\",\n",
        "    \"bldng_ar_prc\":\"건물면적당가격\",\n",
        "    \"fr_wthr_fclt_dstnc\":\"소방용수시설거리\",\n",
        "    \"fr_mn_cnt\":\"관할소방서인원\",\n",
        "    \"mlt_us_yn\":\"다중이용시설여부\",\n",
        "    \"cctv_dstnc\":\"공공CCTV거리\"\t,\n",
        "    \"cctv_in_100m\":\"백미터이내CCTV수\",\n",
        "    \"fr_wthr_fclt_in_100m\":\"백미터이내소방용수시설수\",\n",
        "    \"tbc_rtl_str_dstnc\":\"담배소매점거리\",\n",
        "    \"sft_emrgnc_bll_dstnc\":\"안전비상벨최소거리\",\n",
        "    \"ahsm_dstnc\":\"자동심장충격기거리\",\n",
        "    \"no_tbc_zn_dstnc\":\"금연구역최소거리\",\n",
        "    \"bldng_cnt_in_50m\":\"반경50m건물수\",\n",
        "    \"fr_yn\":\"화재발생\",\n",
        "    \"trgt_crtr\":\"소방점검대상물기준\",\n",
        "    \"fr_fghtng_fclt_spcl_css_5_yn\":\"소방시설특례5호여부\",\n",
        "    \"fr_fghtng_fclt_spcl_css_6_yn\":\"소방시설특례6호여부\",\n",
        "    \"us_yn\":\"사용여부\",\n",
        "    \"dngrs_thng_yn\":\"위험물대상여부\",\n",
        "    \"slf_fr_brgd_yn\":\"자체소방대여부\",\n",
        "    \"blk_dngrs_thng_mnfctr_yn\":\"대량위험물제조소등여부\",\n",
        "    \"cltrl_hrtg_yn\":\"문화재여부\"}, inplace=True)"
      ],
      "execution_count": null,
      "outputs": []
    },
    {
      "cell_type": "code",
      "metadata": {
        "id": "ugCU2KOvkwf7"
      },
      "source": [
        "#train set과 test set에 동시에 적용 불가능한 변수 제거\n",
        "df_test.drop('행정구역명', axis=1, inplace=True)\n",
        "df_test.drop('Unnamed: 0', axis=1, inplace=True)\n",
        "df_test.drop('도로측면명', axis=1, inplace=True)\n",
        "\n",
        "#건물승인일자 -> 건물승인여부로 처리\n",
        "df_test.loc[df_test['건물승인일자'].isnull()==False, '건물승인일자']=1\n",
        "df_test.loc[df_test['건물승인일자'].isnull(), '건물승인일자']=0\n",
        "df_test.rename(columns = {'건물승인일자':'건물승인여부'}, inplace = True) \n",
        "\n",
        "#Binary 변수들 1,0 값으로 변환\n",
        "df_test['화재발생']=df_test['화재발생'].replace(['Y', 'N'], [1, 0]) \n",
        "df_test['다중이용시설여부']=df_test['다중이용시설여부'].replace(['Y', 'N'], [1, 0]) \n",
        "df_test['위험물대상여부']=df_test['위험물대상여부'].replace(['Y', 'N'], [1, 0]) \n",
        "df_test['대량위험물제조소등여부']=df_test['대량위험물제조소등여부'].replace(['Y', 'N'], [1, 0]) \n",
        "df_test['문화재여부']=df_test['문화재여부'].replace(['Y', 'N'], [1, 0]) \n",
        "df_test\n",
        "\n",
        "#학습에 불필요한 변수 제거\n",
        "df_test.drop(['dt_of_fr',\n",
        " '소방시설특례5호여부',\n",
        " '소방시설특례6호여부',\n",
        " '자체소방대여부'], axis=1, inplace=True)\n",
        "\n",
        "df_test['건물승인여부']=df_test['건물승인여부'].astype(int)"
      ],
      "execution_count": null,
      "outputs": []
    },
    {
      "cell_type": "code",
      "metadata": {
        "id": "KMfUgDPXnoug"
      },
      "source": [
        "# create a list of categorical columns to iterate over\n",
        "cat = [] \n",
        "for i in df_test.columns:\n",
        "  if df_test[i].dtype==object:\n",
        "    cat.append(i)\n",
        "\n",
        "#instantiate both packages to use\n",
        "encoder = OrdinalEncoder()\n",
        "\n",
        "def encode(data):\n",
        "    '''function to encode non-null data and replace it in the original data'''\n",
        "    #retains only non-null values\n",
        "    nonulls = np.array(data.dropna())\n",
        "    #reshapes the data for encoding\n",
        "    impute_reshape = nonulls.reshape(-1,1)\n",
        "    #encode date\n",
        "    impute_ordinal = encoder.fit_transform(impute_reshape.astype(str))\n",
        "    #Assign back encoded values to non-null values\n",
        "    data.loc[data.notnull()] = np.squeeze(impute_ordinal)\n",
        "    return data\n",
        "\n",
        "#create a for loop to iterate through each column in the data\n",
        "for columns in cat:\n",
        "    encode(df_test[columns])"
      ],
      "execution_count": null,
      "outputs": []
    },
    {
      "cell_type": "code",
      "metadata": {
        "id": "APwxPykakwmP"
      },
      "source": [
        "#imputation\n",
        "encode_data = pd.DataFrame(np.round(imputer.fit_transform(df_test)),columns = df_test.columns)"
      ],
      "execution_count": null,
      "outputs": []
    },
    {
      "cell_type": "code",
      "metadata": {
        "id": "v4BaWxq9kwpw"
      },
      "source": [
        "#one-hot-encoding\n",
        "new_test = pd.get_dummies(encode_data, columns =cat)"
      ],
      "execution_count": null,
      "outputs": []
    },
    {
      "cell_type": "code",
      "metadata": {
        "id": "D4dlV0q_kwsT"
      },
      "source": [
        "#standardization\n",
        "from sklearn.preprocessing import StandardScaler\n",
        "std_scaler = StandardScaler()\n",
        "std_test = std_scaler.fit_transform(new_test[num])\n",
        "num_test = pd.DataFrame(std_test, columns=num, index=list(df_test.index.values))"
      ],
      "execution_count": null,
      "outputs": []
    },
    {
      "cell_type": "code",
      "metadata": {
        "id": "zTQ3iv1Xkwu-"
      },
      "source": [
        "#categorical columns\n",
        "c=['건물승인여부',\n",
        " '다중이용시설여부',\n",
        " '위험물대상여부',\n",
        " '건물용도_0.0',\n",
        " '건물용도_1.0',\n",
        " '건물용도_2.0',\n",
        " '건물용도_3.0',\n",
        " '건물용도_4.0',\n",
        " '건물용도_5.0',\n",
        " '건물용도_6.0',\n",
        " '건물용도_7.0',\n",
        " '건물용도_8.0',\n",
        " '건물용도_9.0',\n",
        " '건물용도_10.0',\n",
        " '건물용도_11.0',\n",
        " '건물용도_12.0',\n",
        " '건물용도_13.0',\n",
        " '건물용도_14.0',\n",
        " '건물용도_15.0',\n",
        " '건물용도_16.0',\n",
        " '건물용도_17.0',\n",
        " '건물용도_18.0',\n",
        " '건물용도_19.0',\n",
        " '건물용도_20.0',\n",
        " '건물용도_21.0',\n",
        " '건물용도_22.0',\n",
        " '건물용도_23.0',\n",
        " '건물용도_24.0',\n",
        " '건물구조_0.0',\n",
        " '건물구조_1.0',\n",
        " '건물구조_2.0',\n",
        " '건물구조_3.0',\n",
        " '건물구조_4.0',\n",
        " '건물구조_5.0',\n",
        " '건물구조_6.0',\n",
        " '건물구조_7.0',\n",
        " '건물구조_8.0',\n",
        " '건물구조_9.0',\n",
        " '건물구조_10.0',\n",
        " '건물구조_11.0',\n",
        " '건물구조_12.0',\n",
        " '건물구조_13.0',\n",
        " '건물구조_14.0',\n",
        " '건물구조_15.0',\n",
        " '건물구조_16.0',\n",
        " '건물용도분류명_0.0',\n",
        " '건물용도분류명_1.0',\n",
        " '건물용도분류명_2.0',\n",
        " '건물용도분류명_3.0',\n",
        " '건물용도분류명_4.0',\n",
        " '건물용도분류명_5.0',\n",
        " '건물용도분류명_6.0',\n",
        " '용도지역지구명_0.0',\n",
        " '용도지역지구명_1.0',\n",
        " '용도지역지구명_2.0',\n",
        " '용도지역지구명_3.0',\n",
        " '용도지역지구명_4.0',\n",
        " '용도지역지구명_5.0',\n",
        " '용도지역지구명_6.0',\n",
        " '용도지역지구명_7.0',\n",
        " '용도지역지구명_8.0',\n",
        " '용도지역지구명_9.0',\n",
        " '용도지역지구명_10.0',\n",
        " '용도지역지구명_11.0',\n",
        " '용도지역지구명_12.0',\n",
        " '용도지역지구명_13.0',\n",
        " '용도지역지구명_14.0',\n",
        " '용도지역지구명_15.0',\n",
        " '용도지역지구명_16.0',\n",
        " '용도지역지구명2_0.0',\n",
        " '용도지역지구명2_1.0',\n",
        " '용도지역지구명2_2.0',\n",
        " '용도지역지구명2_3.0',\n",
        " '용도지역지구명2_4.0',\n",
        " '용도지역지구명2_5.0',\n",
        " '용도지역지구명2_6.0',\n",
        " '용도지역지구명2_7.0',\n",
        " '용도지역지구명2_8.0',\n",
        " '용도지역지구명2_9.0',\n",
        " '용도지역지구명2_10.0',\n",
        " '용도지역지구명2_11.0',\n",
        " '용도지역지구명2_12.0',\n",
        " '용도지역지구명2_13.0',\n",
        " '용도지역지구명2_14.0',\n",
        " '용도지역지구명2_15.0',\n",
        " '토지이용상황명_0.0',\n",
        " '토지이용상황명_1.0',\n",
        " '토지이용상황명_2.0',\n",
        " '토지이용상황명_3.0',\n",
        " '토지이용상황명_4.0',\n",
        " '토지이용상황명_5.0',\n",
        " '토지이용상황명_6.0',\n",
        " '토지이용상황명_7.0',\n",
        " '토지이용상황명_8.0',\n",
        " '토지이용상황명_9.0',\n",
        " '토지이용상황명_10.0',\n",
        " '토지이용상황명_11.0',\n",
        " '토지이용상황명_12.0',\n",
        " '토지이용상황명_13.0',\n",
        " '토지이용상황명_14.0',\n",
        " '토지이용상황명_15.0',\n",
        " '토지이용상황명_16.0',\n",
        " '토지이용상황명_17.0',\n",
        " '토지이용상황명_18.0',\n",
        " '토지이용상황명_19.0',\n",
        " '토지이용상황명_20.0',\n",
        " '토지이용상황명_21.0',\n",
        " '토지이용상황명_22.0',\n",
        " '토지이용상황명_23.0',\n",
        " '토지이용상황명_24.0',\n",
        " '토지이용상황명_25.0',\n",
        " '토지이용상황명_26.0',\n",
        " '토지이용상황명_27.0',\n",
        " '토지이용상황명_28.0',\n",
        " '토지이용상황명_29.0',\n",
        " '토지이용상황명_30.0',\n",
        " '토지이용상황명_31.0',\n",
        " '토지이용상황명_32.0',\n",
        " '토지이용상황명_33.0',\n",
        " '토지이용상황명_34.0',\n",
        " '토지이용상황명_35.0',\n",
        " '토지이용상황명_36.0',\n",
        " '토지이용상황명_37.0',\n",
        " '소방점검대상물기준_0.0',\n",
        " '소방점검대상물기준_1.0',\n",
        " '소방점검대상물기준_2.0',\n",
        " '소방점검대상물기준_3.0',\n",
        " '소방점검대상물기준_4.0',\n",
        " '소방점검대상물기준_5.0',\n",
        " '소방점검대상물기준_6.0',\n",
        " '사용여부_0.0',\n",
        " '사용여부_1.0',\n",
        " '사용여부_2.0']\n",
        "\n",
        " #numeric columns\n",
        "n=[]\n",
        "for i in num_test.columns:\n",
        "        n.append(i)\n",
        "\n",
        "new_test = pd.concat([new_test['화재발생'],num_test[n], new_test[c]], axis=1)"
      ],
      "execution_count": null,
      "outputs": []
    },
    {
      "cell_type": "code",
      "metadata": {
        "id": "AelbVJe5kwxo"
      },
      "source": [
        "X_test  = new_test.drop(columns='화재발생')\n",
        "y_test =new_test['화재발생']"
      ],
      "execution_count": null,
      "outputs": []
    },
    {
      "cell_type": "markdown",
      "metadata": {
        "id": "U7vnCsGR2NzO"
      },
      "source": [
        "## 4.Decision Tree"
      ]
    },
    {
      "cell_type": "markdown",
      "metadata": {
        "id": "ONdOrnLH2YFS"
      },
      "source": [
        "### 1)Version1"
      ]
    },
    {
      "cell_type": "code",
      "metadata": {
        "id": "HwMmFU_8sCLf",
        "outputId": "54e0b3df-61d7-41db-f078-7f30cacd8d4c"
      },
      "source": [
        "dtc = DecisionTreeClassifier(random_state = 43)\n",
        "dtc_params={'criterion':('entropy','gini'),'max_depth' : [5,7,9,11],\n",
        "            'splitter':('best','random'), 'max_features' : ('auto','sqrt','log2','none')}\n",
        "dtc_grid = GridSearchCV(estimator = dtc, param_grid = dtc_params,\n",
        "                        n_jobs=10, cv=5, refit=True, return_train_score=True)\n",
        "\n",
        "dtc_grid.fit(X=X_smote, y=y_smote)\n",
        "\n",
        "print('final params', dtc_grid.best_params_)\n",
        "print('best score', dtc_grid.best_score_)"
      ],
      "execution_count": null,
      "outputs": [
        {
          "output_type": "stream",
          "text": [
            "final params {'criterion': 'gini', 'max_depth': 11, 'max_features': 'auto', 'splitter': 'best'}\n",
            "best score 0.835221371315785\n"
          ],
          "name": "stdout"
        }
      ]
    },
    {
      "cell_type": "code",
      "metadata": {
        "id": "M41xA_9vsCLg",
        "outputId": "e221b0a9-5287-43dc-800e-3bcb1cc3e515"
      },
      "source": [
        "dtc_grid.cv_results_"
      ],
      "execution_count": null,
      "outputs": [
        {
          "output_type": "execute_result",
          "data": {
            "text/plain": [
              "{'mean_fit_time': array([1.85913267, 1.62313719, 0.7895196 , 0.676688  , 0.69428515,\n",
              "        0.61956511, 0.64006109, 0.61692252, 0.97066798, 0.75359359,\n",
              "        0.82350941, 0.66436944, 0.86985059, 0.68654175, 0.84504824,\n",
              "        0.78296161, 0.89635096, 0.87389674, 1.13186898, 0.84430499,\n",
              "        0.97269278, 0.80967383, 0.66214385, 0.52513475, 1.07673211,\n",
              "        0.81915765, 1.22665319, 0.85732713, 1.181148  , 0.740832  ,\n",
              "        0.48187819, 0.60199399, 0.90672622, 0.7372674 , 1.01662445,\n",
              "        0.78439193, 0.81210051, 0.70056615, 0.58400207, 0.57798562,\n",
              "        0.88876982, 0.72318592, 1.01401253, 0.8038692 , 0.86170802,\n",
              "        0.72151165, 0.64117765, 0.53734198, 1.05593095, 0.83572674,\n",
              "        1.04795518, 0.81973839, 0.95719943, 0.75246081, 0.68879199,\n",
              "        0.63437343, 0.89751606, 0.73094144, 1.08623705, 0.80256057,\n",
              "        0.88808002, 0.71536121, 0.7207346 , 0.52829819]),\n",
              " 'std_fit_time': array([0.09004377, 0.07424907, 0.04210093, 0.0305407 , 0.03698689,\n",
              "        0.02831031, 0.01213797, 0.03732323, 0.0456599 , 0.06286603,\n",
              "        0.01974915, 0.06745731, 0.04020721, 0.01458441, 0.01947053,\n",
              "        0.06476819, 0.12035654, 0.02207677, 0.03682081, 0.01315464,\n",
              "        0.04569129, 0.05281512, 0.00889467, 0.07665468, 0.04137719,\n",
              "        0.03576096, 0.01774756, 0.04164396, 0.03452577, 0.12858659,\n",
              "        0.01218468, 0.09403878, 0.04462142, 0.04129396, 0.02590444,\n",
              "        0.07292933, 0.02594279, 0.02312925, 0.01655922, 0.02364595,\n",
              "        0.03193291, 0.02839782, 0.03079202, 0.01571593, 0.00588434,\n",
              "        0.02461378, 0.02036654, 0.06595949, 0.07540766, 0.05933095,\n",
              "        0.021778  , 0.03480464, 0.03896134, 0.0197112 , 0.02099499,\n",
              "        0.04155284, 0.03618509, 0.0444285 , 0.04127656, 0.030731  ,\n",
              "        0.01614483, 0.03185182, 0.02652435, 0.13549882]),\n",
              " 'mean_score_time': array([0.12583051, 0.11468253, 0.09534874, 0.09330707, 0.08440666,\n",
              "        0.09751582, 0.        , 0.        , 0.08215837, 0.09341726,\n",
              "        0.08490787, 0.09120312, 0.08990207, 0.0881948 , 0.        ,\n",
              "        0.        , 0.10011368, 0.06953096, 0.09114881, 0.06840138,\n",
              "        0.08733401, 0.10124307, 0.        , 0.        , 0.09812064,\n",
              "        0.08268833, 0.07066011, 0.08733616, 0.08116269, 0.06112604,\n",
              "        0.        , 0.        , 0.08407159, 0.08711619, 0.07933421,\n",
              "        0.0761198 , 0.08857045, 0.06847739, 0.        , 0.        ,\n",
              "        0.10137191, 0.08435926, 0.07885671, 0.07379775, 0.08441133,\n",
              "        0.08235478, 0.        , 0.        , 0.10952392, 0.0800456 ,\n",
              "        0.11512146, 0.08478665, 0.09888139, 0.09225683, 0.        ,\n",
              "        0.        , 0.07541227, 0.06650615, 0.06945724, 0.07029343,\n",
              "        0.06813073, 0.08003602, 0.        , 0.        ]),\n",
              " 'std_score_time': array([0.02420008, 0.01944978, 0.02458221, 0.01480682, 0.01476992,\n",
              "        0.02748265, 0.        , 0.        , 0.01116688, 0.02541591,\n",
              "        0.03015742, 0.02370322, 0.02457359, 0.02839313, 0.        ,\n",
              "        0.        , 0.01145795, 0.02033936, 0.01073498, 0.01735536,\n",
              "        0.01856435, 0.01997203, 0.        , 0.        , 0.01672598,\n",
              "        0.03759171, 0.01677293, 0.03533255, 0.01787067, 0.00613171,\n",
              "        0.        , 0.        , 0.02854886, 0.03282557, 0.01316521,\n",
              "        0.01843261, 0.02485787, 0.02315316, 0.        , 0.        ,\n",
              "        0.0274619 , 0.03582164, 0.02133875, 0.01329726, 0.01986732,\n",
              "        0.01648382, 0.        , 0.        , 0.03777952, 0.01251617,\n",
              "        0.02724669, 0.02191954, 0.01893254, 0.01630305, 0.        ,\n",
              "        0.        , 0.01540899, 0.01565576, 0.01481828, 0.01167873,\n",
              "        0.01498017, 0.03401964, 0.        , 0.        ]),\n",
              " 'param_criterion': masked_array(data=['entropy', 'entropy', 'entropy', 'entropy', 'entropy',\n",
              "                    'entropy', 'entropy', 'entropy', 'entropy', 'entropy',\n",
              "                    'entropy', 'entropy', 'entropy', 'entropy', 'entropy',\n",
              "                    'entropy', 'entropy', 'entropy', 'entropy', 'entropy',\n",
              "                    'entropy', 'entropy', 'entropy', 'entropy', 'entropy',\n",
              "                    'entropy', 'entropy', 'entropy', 'entropy', 'entropy',\n",
              "                    'entropy', 'entropy', 'gini', 'gini', 'gini', 'gini',\n",
              "                    'gini', 'gini', 'gini', 'gini', 'gini', 'gini', 'gini',\n",
              "                    'gini', 'gini', 'gini', 'gini', 'gini', 'gini', 'gini',\n",
              "                    'gini', 'gini', 'gini', 'gini', 'gini', 'gini', 'gini',\n",
              "                    'gini', 'gini', 'gini', 'gini', 'gini', 'gini', 'gini'],\n",
              "              mask=[False, False, False, False, False, False, False, False,\n",
              "                    False, False, False, False, False, False, False, False,\n",
              "                    False, False, False, False, False, False, False, False,\n",
              "                    False, False, False, False, False, False, False, False,\n",
              "                    False, False, False, False, False, False, False, False,\n",
              "                    False, False, False, False, False, False, False, False,\n",
              "                    False, False, False, False, False, False, False, False,\n",
              "                    False, False, False, False, False, False, False, False],\n",
              "        fill_value='?',\n",
              "             dtype=object),\n",
              " 'param_max_depth': masked_array(data=[5, 5, 5, 5, 5, 5, 5, 5, 7, 7, 7, 7, 7, 7, 7, 7, 9, 9,\n",
              "                    9, 9, 9, 9, 9, 9, 11, 11, 11, 11, 11, 11, 11, 11, 5, 5,\n",
              "                    5, 5, 5, 5, 5, 5, 7, 7, 7, 7, 7, 7, 7, 7, 9, 9, 9, 9,\n",
              "                    9, 9, 9, 9, 11, 11, 11, 11, 11, 11, 11, 11],\n",
              "              mask=[False, False, False, False, False, False, False, False,\n",
              "                    False, False, False, False, False, False, False, False,\n",
              "                    False, False, False, False, False, False, False, False,\n",
              "                    False, False, False, False, False, False, False, False,\n",
              "                    False, False, False, False, False, False, False, False,\n",
              "                    False, False, False, False, False, False, False, False,\n",
              "                    False, False, False, False, False, False, False, False,\n",
              "                    False, False, False, False, False, False, False, False],\n",
              "        fill_value='?',\n",
              "             dtype=object),\n",
              " 'param_max_features': masked_array(data=['auto', 'auto', 'sqrt', 'sqrt', 'log2', 'log2', 'none',\n",
              "                    'none', 'auto', 'auto', 'sqrt', 'sqrt', 'log2', 'log2',\n",
              "                    'none', 'none', 'auto', 'auto', 'sqrt', 'sqrt', 'log2',\n",
              "                    'log2', 'none', 'none', 'auto', 'auto', 'sqrt', 'sqrt',\n",
              "                    'log2', 'log2', 'none', 'none', 'auto', 'auto', 'sqrt',\n",
              "                    'sqrt', 'log2', 'log2', 'none', 'none', 'auto', 'auto',\n",
              "                    'sqrt', 'sqrt', 'log2', 'log2', 'none', 'none', 'auto',\n",
              "                    'auto', 'sqrt', 'sqrt', 'log2', 'log2', 'none', 'none',\n",
              "                    'auto', 'auto', 'sqrt', 'sqrt', 'log2', 'log2', 'none',\n",
              "                    'none'],\n",
              "              mask=[False, False, False, False, False, False, False, False,\n",
              "                    False, False, False, False, False, False, False, False,\n",
              "                    False, False, False, False, False, False, False, False,\n",
              "                    False, False, False, False, False, False, False, False,\n",
              "                    False, False, False, False, False, False, False, False,\n",
              "                    False, False, False, False, False, False, False, False,\n",
              "                    False, False, False, False, False, False, False, False,\n",
              "                    False, False, False, False, False, False, False, False],\n",
              "        fill_value='?',\n",
              "             dtype=object),\n",
              " 'param_splitter': masked_array(data=['best', 'random', 'best', 'random', 'best', 'random',\n",
              "                    'best', 'random', 'best', 'random', 'best', 'random',\n",
              "                    'best', 'random', 'best', 'random', 'best', 'random',\n",
              "                    'best', 'random', 'best', 'random', 'best', 'random',\n",
              "                    'best', 'random', 'best', 'random', 'best', 'random',\n",
              "                    'best', 'random', 'best', 'random', 'best', 'random',\n",
              "                    'best', 'random', 'best', 'random', 'best', 'random',\n",
              "                    'best', 'random', 'best', 'random', 'best', 'random',\n",
              "                    'best', 'random', 'best', 'random', 'best', 'random',\n",
              "                    'best', 'random', 'best', 'random', 'best', 'random',\n",
              "                    'best', 'random', 'best', 'random'],\n",
              "              mask=[False, False, False, False, False, False, False, False,\n",
              "                    False, False, False, False, False, False, False, False,\n",
              "                    False, False, False, False, False, False, False, False,\n",
              "                    False, False, False, False, False, False, False, False,\n",
              "                    False, False, False, False, False, False, False, False,\n",
              "                    False, False, False, False, False, False, False, False,\n",
              "                    False, False, False, False, False, False, False, False,\n",
              "                    False, False, False, False, False, False, False, False],\n",
              "        fill_value='?',\n",
              "             dtype=object),\n",
              " 'params': [{'criterion': 'entropy',\n",
              "   'max_depth': 5,\n",
              "   'max_features': 'auto',\n",
              "   'splitter': 'best'},\n",
              "  {'criterion': 'entropy',\n",
              "   'max_depth': 5,\n",
              "   'max_features': 'auto',\n",
              "   'splitter': 'random'},\n",
              "  {'criterion': 'entropy',\n",
              "   'max_depth': 5,\n",
              "   'max_features': 'sqrt',\n",
              "   'splitter': 'best'},\n",
              "  {'criterion': 'entropy',\n",
              "   'max_depth': 5,\n",
              "   'max_features': 'sqrt',\n",
              "   'splitter': 'random'},\n",
              "  {'criterion': 'entropy',\n",
              "   'max_depth': 5,\n",
              "   'max_features': 'log2',\n",
              "   'splitter': 'best'},\n",
              "  {'criterion': 'entropy',\n",
              "   'max_depth': 5,\n",
              "   'max_features': 'log2',\n",
              "   'splitter': 'random'},\n",
              "  {'criterion': 'entropy',\n",
              "   'max_depth': 5,\n",
              "   'max_features': 'none',\n",
              "   'splitter': 'best'},\n",
              "  {'criterion': 'entropy',\n",
              "   'max_depth': 5,\n",
              "   'max_features': 'none',\n",
              "   'splitter': 'random'},\n",
              "  {'criterion': 'entropy',\n",
              "   'max_depth': 7,\n",
              "   'max_features': 'auto',\n",
              "   'splitter': 'best'},\n",
              "  {'criterion': 'entropy',\n",
              "   'max_depth': 7,\n",
              "   'max_features': 'auto',\n",
              "   'splitter': 'random'},\n",
              "  {'criterion': 'entropy',\n",
              "   'max_depth': 7,\n",
              "   'max_features': 'sqrt',\n",
              "   'splitter': 'best'},\n",
              "  {'criterion': 'entropy',\n",
              "   'max_depth': 7,\n",
              "   'max_features': 'sqrt',\n",
              "   'splitter': 'random'},\n",
              "  {'criterion': 'entropy',\n",
              "   'max_depth': 7,\n",
              "   'max_features': 'log2',\n",
              "   'splitter': 'best'},\n",
              "  {'criterion': 'entropy',\n",
              "   'max_depth': 7,\n",
              "   'max_features': 'log2',\n",
              "   'splitter': 'random'},\n",
              "  {'criterion': 'entropy',\n",
              "   'max_depth': 7,\n",
              "   'max_features': 'none',\n",
              "   'splitter': 'best'},\n",
              "  {'criterion': 'entropy',\n",
              "   'max_depth': 7,\n",
              "   'max_features': 'none',\n",
              "   'splitter': 'random'},\n",
              "  {'criterion': 'entropy',\n",
              "   'max_depth': 9,\n",
              "   'max_features': 'auto',\n",
              "   'splitter': 'best'},\n",
              "  {'criterion': 'entropy',\n",
              "   'max_depth': 9,\n",
              "   'max_features': 'auto',\n",
              "   'splitter': 'random'},\n",
              "  {'criterion': 'entropy',\n",
              "   'max_depth': 9,\n",
              "   'max_features': 'sqrt',\n",
              "   'splitter': 'best'},\n",
              "  {'criterion': 'entropy',\n",
              "   'max_depth': 9,\n",
              "   'max_features': 'sqrt',\n",
              "   'splitter': 'random'},\n",
              "  {'criterion': 'entropy',\n",
              "   'max_depth': 9,\n",
              "   'max_features': 'log2',\n",
              "   'splitter': 'best'},\n",
              "  {'criterion': 'entropy',\n",
              "   'max_depth': 9,\n",
              "   'max_features': 'log2',\n",
              "   'splitter': 'random'},\n",
              "  {'criterion': 'entropy',\n",
              "   'max_depth': 9,\n",
              "   'max_features': 'none',\n",
              "   'splitter': 'best'},\n",
              "  {'criterion': 'entropy',\n",
              "   'max_depth': 9,\n",
              "   'max_features': 'none',\n",
              "   'splitter': 'random'},\n",
              "  {'criterion': 'entropy',\n",
              "   'max_depth': 11,\n",
              "   'max_features': 'auto',\n",
              "   'splitter': 'best'},\n",
              "  {'criterion': 'entropy',\n",
              "   'max_depth': 11,\n",
              "   'max_features': 'auto',\n",
              "   'splitter': 'random'},\n",
              "  {'criterion': 'entropy',\n",
              "   'max_depth': 11,\n",
              "   'max_features': 'sqrt',\n",
              "   'splitter': 'best'},\n",
              "  {'criterion': 'entropy',\n",
              "   'max_depth': 11,\n",
              "   'max_features': 'sqrt',\n",
              "   'splitter': 'random'},\n",
              "  {'criterion': 'entropy',\n",
              "   'max_depth': 11,\n",
              "   'max_features': 'log2',\n",
              "   'splitter': 'best'},\n",
              "  {'criterion': 'entropy',\n",
              "   'max_depth': 11,\n",
              "   'max_features': 'log2',\n",
              "   'splitter': 'random'},\n",
              "  {'criterion': 'entropy',\n",
              "   'max_depth': 11,\n",
              "   'max_features': 'none',\n",
              "   'splitter': 'best'},\n",
              "  {'criterion': 'entropy',\n",
              "   'max_depth': 11,\n",
              "   'max_features': 'none',\n",
              "   'splitter': 'random'},\n",
              "  {'criterion': 'gini',\n",
              "   'max_depth': 5,\n",
              "   'max_features': 'auto',\n",
              "   'splitter': 'best'},\n",
              "  {'criterion': 'gini',\n",
              "   'max_depth': 5,\n",
              "   'max_features': 'auto',\n",
              "   'splitter': 'random'},\n",
              "  {'criterion': 'gini',\n",
              "   'max_depth': 5,\n",
              "   'max_features': 'sqrt',\n",
              "   'splitter': 'best'},\n",
              "  {'criterion': 'gini',\n",
              "   'max_depth': 5,\n",
              "   'max_features': 'sqrt',\n",
              "   'splitter': 'random'},\n",
              "  {'criterion': 'gini',\n",
              "   'max_depth': 5,\n",
              "   'max_features': 'log2',\n",
              "   'splitter': 'best'},\n",
              "  {'criterion': 'gini',\n",
              "   'max_depth': 5,\n",
              "   'max_features': 'log2',\n",
              "   'splitter': 'random'},\n",
              "  {'criterion': 'gini',\n",
              "   'max_depth': 5,\n",
              "   'max_features': 'none',\n",
              "   'splitter': 'best'},\n",
              "  {'criterion': 'gini',\n",
              "   'max_depth': 5,\n",
              "   'max_features': 'none',\n",
              "   'splitter': 'random'},\n",
              "  {'criterion': 'gini',\n",
              "   'max_depth': 7,\n",
              "   'max_features': 'auto',\n",
              "   'splitter': 'best'},\n",
              "  {'criterion': 'gini',\n",
              "   'max_depth': 7,\n",
              "   'max_features': 'auto',\n",
              "   'splitter': 'random'},\n",
              "  {'criterion': 'gini',\n",
              "   'max_depth': 7,\n",
              "   'max_features': 'sqrt',\n",
              "   'splitter': 'best'},\n",
              "  {'criterion': 'gini',\n",
              "   'max_depth': 7,\n",
              "   'max_features': 'sqrt',\n",
              "   'splitter': 'random'},\n",
              "  {'criterion': 'gini',\n",
              "   'max_depth': 7,\n",
              "   'max_features': 'log2',\n",
              "   'splitter': 'best'},\n",
              "  {'criterion': 'gini',\n",
              "   'max_depth': 7,\n",
              "   'max_features': 'log2',\n",
              "   'splitter': 'random'},\n",
              "  {'criterion': 'gini',\n",
              "   'max_depth': 7,\n",
              "   'max_features': 'none',\n",
              "   'splitter': 'best'},\n",
              "  {'criterion': 'gini',\n",
              "   'max_depth': 7,\n",
              "   'max_features': 'none',\n",
              "   'splitter': 'random'},\n",
              "  {'criterion': 'gini',\n",
              "   'max_depth': 9,\n",
              "   'max_features': 'auto',\n",
              "   'splitter': 'best'},\n",
              "  {'criterion': 'gini',\n",
              "   'max_depth': 9,\n",
              "   'max_features': 'auto',\n",
              "   'splitter': 'random'},\n",
              "  {'criterion': 'gini',\n",
              "   'max_depth': 9,\n",
              "   'max_features': 'sqrt',\n",
              "   'splitter': 'best'},\n",
              "  {'criterion': 'gini',\n",
              "   'max_depth': 9,\n",
              "   'max_features': 'sqrt',\n",
              "   'splitter': 'random'},\n",
              "  {'criterion': 'gini',\n",
              "   'max_depth': 9,\n",
              "   'max_features': 'log2',\n",
              "   'splitter': 'best'},\n",
              "  {'criterion': 'gini',\n",
              "   'max_depth': 9,\n",
              "   'max_features': 'log2',\n",
              "   'splitter': 'random'},\n",
              "  {'criterion': 'gini',\n",
              "   'max_depth': 9,\n",
              "   'max_features': 'none',\n",
              "   'splitter': 'best'},\n",
              "  {'criterion': 'gini',\n",
              "   'max_depth': 9,\n",
              "   'max_features': 'none',\n",
              "   'splitter': 'random'},\n",
              "  {'criterion': 'gini',\n",
              "   'max_depth': 11,\n",
              "   'max_features': 'auto',\n",
              "   'splitter': 'best'},\n",
              "  {'criterion': 'gini',\n",
              "   'max_depth': 11,\n",
              "   'max_features': 'auto',\n",
              "   'splitter': 'random'},\n",
              "  {'criterion': 'gini',\n",
              "   'max_depth': 11,\n",
              "   'max_features': 'sqrt',\n",
              "   'splitter': 'best'},\n",
              "  {'criterion': 'gini',\n",
              "   'max_depth': 11,\n",
              "   'max_features': 'sqrt',\n",
              "   'splitter': 'random'},\n",
              "  {'criterion': 'gini',\n",
              "   'max_depth': 11,\n",
              "   'max_features': 'log2',\n",
              "   'splitter': 'best'},\n",
              "  {'criterion': 'gini',\n",
              "   'max_depth': 11,\n",
              "   'max_features': 'log2',\n",
              "   'splitter': 'random'},\n",
              "  {'criterion': 'gini',\n",
              "   'max_depth': 11,\n",
              "   'max_features': 'none',\n",
              "   'splitter': 'best'},\n",
              "  {'criterion': 'gini',\n",
              "   'max_depth': 11,\n",
              "   'max_features': 'none',\n",
              "   'splitter': 'random'}],\n",
              " 'split0_test_score': array([0.79613911, 0.52000776, 0.79613911, 0.52000776, 0.655624  ,\n",
              "        0.53843915,        nan,        nan, 0.77062618, 0.56273949,\n",
              "        0.77062618, 0.56273949, 0.70805646, 0.69418441,        nan,\n",
              "               nan, 0.76339914, 0.56700781, 0.76339914, 0.56700781,\n",
              "        0.70703788, 0.60842994,        nan,        nan, 0.76005238,\n",
              "        0.62133191, 0.76005238, 0.62133191, 0.73536402, 0.71145171,\n",
              "               nan,        nan, 0.79065819, 0.52005626, 0.79065819,\n",
              "        0.52005626, 0.69961682, 0.53863317,        nan,        nan,\n",
              "        0.71183974, 0.56230295, 0.71183974, 0.56230295, 0.72129796,\n",
              "        0.69423291,        nan,        nan, 0.75641461, 0.56710482,\n",
              "        0.75641461, 0.56710482, 0.70267255, 0.61313479,        nan,\n",
              "               nan, 0.74409468, 0.62948053, 0.74409468, 0.62948053,\n",
              "        0.73104719, 0.71276131,        nan,        nan]),\n",
              " 'split1_test_score': array([0.82359218, 0.58456613, 0.82359218, 0.58456613, 0.6476694 ,\n",
              "        0.57855168,        nan,        nan, 0.81243634, 0.62671582,\n",
              "        0.81243634, 0.62671582, 0.82174904, 0.70563128,        nan,\n",
              "               nan, 0.8635107 , 0.85056022, 0.8635107 , 0.85056022,\n",
              "        0.73269632, 0.72508124,        nan,        nan, 0.87917738,\n",
              "        0.66726488, 0.87917738, 0.66726488, 0.84862007, 0.84537033,\n",
              "               nan,        nan, 0.83746423, 0.58020081, 0.83746423,\n",
              "        0.58020081, 0.7457438 , 0.57860018,        nan,        nan,\n",
              "        0.83130426, 0.86957365, 0.83130426, 0.86957365, 0.82630839,\n",
              "        0.70538876,        nan,        nan, 0.85080274, 0.86865208,\n",
              "        0.85080274, 0.86865208, 0.83241985, 0.7310957 ,        nan,\n",
              "               nan, 0.89096377, 0.88063249, 0.89096377, 0.88063249,\n",
              "        0.84134452, 0.70092642,        nan,        nan]),\n",
              " 'split2_test_score': array([0.80816802, 0.56138138, 0.80816802, 0.56138138, 0.63981181,\n",
              "        0.58476015,        nan,        nan, 0.80753747, 0.6423825 ,\n",
              "        0.80753747, 0.6423825 , 0.72309259, 0.71116069,        nan,\n",
              "               nan, 0.83533007, 0.80312364, 0.83533007, 0.80312364,\n",
              "        0.78648688, 0.72032788,        nan,        nan, 0.86268613,\n",
              "        0.6794393 , 0.86268613, 0.6794393 , 0.82267061, 0.82242809,\n",
              "               nan,        nan, 0.8092836 , 0.56138138, 0.8092836 ,\n",
              "        0.56138138, 0.71290682, 0.58388708,        nan,        nan,\n",
              "        0.85502255, 0.64213998, 0.85502255, 0.64213998, 0.7642722 ,\n",
              "        0.71533201,        nan,        nan, 0.84260562, 0.80084396,\n",
              "        0.84260562, 0.80084396, 0.80579134, 0.72154048,        nan,\n",
              "               nan, 0.8675365 , 0.69714313, 0.8675365 , 0.69714313,\n",
              "        0.80603386, 0.75146724,        nan,        nan]),\n",
              " 'split3_test_score': array([0.82732696, 0.582723  , 0.82732696, 0.582723  , 0.68006985,\n",
              "        0.57462288,        nan,        nan, 0.85085124, 0.62147742,\n",
              "        0.85085124, 0.62147742, 0.78837852, 0.70029587,        nan,\n",
              "               nan, 0.87039822, 0.82936412, 0.87039822, 0.82936412,\n",
              "        0.81398846, 0.71426493,        nan,        nan, 0.8715623 ,\n",
              "        0.75253432, 0.8715623 , 0.75253432, 0.83552408, 0.68967357,\n",
              "               nan,        nan, 0.82732696, 0.582723  , 0.82732696,\n",
              "        0.582723  , 0.68312558, 0.57462288,        nan,        nan,\n",
              "        0.83014018, 0.62157443, 0.83014018, 0.62157443, 0.76228355,\n",
              "        0.70029587,        nan,        nan, 0.8569627 , 0.85114226,\n",
              "        0.8569627 , 0.85114226, 0.79769123, 0.71605956,        nan,\n",
              "               nan, 0.87844982, 0.73914731, 0.87844982, 0.73914731,\n",
              "        0.85245186, 0.78178202,        nan,        nan]),\n",
              " 'split4_test_score': array([0.74704113, 0.62529104, 0.74704113, 0.62529104, 0.52789096,\n",
              "        0.52328289,        nan,        nan, 0.75092161, 0.65381257,\n",
              "        0.75092161, 0.65381257, 0.66103997, 0.58614668,        nan,\n",
              "               nan, 0.77318588, 0.75388048, 0.77318588, 0.75388048,\n",
              "        0.705617  , 0.59318005,        nan,        nan, 0.78764067,\n",
              "        0.71415406, 0.78764067, 0.71415406, 0.73195576, 0.74641055,\n",
              "               nan,        nan, 0.73991075, 0.62558207, 0.73991075,\n",
              "        0.62558207, 0.6080714 , 0.52328289,        nan,        nan,\n",
              "        0.76605549, 0.63334303, 0.76605549, 0.63334303, 0.74553745,\n",
              "        0.58604967,        nan,        nan, 0.78201397, 0.65948778,\n",
              "        0.78201397, 0.65948778, 0.67433062, 0.59293752,        nan,\n",
              "               nan, 0.79506209, 0.77202173, 0.79506209, 0.77202173,\n",
              "        0.7217695 , 0.69305394,        nan,        nan]),\n",
              " 'mean_test_score': array([0.80045348, 0.57479386, 0.80045348, 0.57479386, 0.6302132 ,\n",
              "        0.55993135,        nan,        nan, 0.79847457, 0.62142556,\n",
              "        0.79847457, 0.62142556, 0.74046332, 0.67948379,        nan,\n",
              "               nan, 0.8211648 , 0.76078725, 0.8211648 , 0.76078725,\n",
              "        0.74916531, 0.67225681,        nan,        nan, 0.83222377,\n",
              "        0.68694489, 0.83222377, 0.68694489, 0.79482691, 0.76306685,\n",
              "               nan,        nan, 0.80092875, 0.5739887 , 0.80092875,\n",
              "        0.5739887 , 0.68989289, 0.55980524,        nan,        nan,\n",
              "        0.79887245, 0.66578681, 0.79887245, 0.66578681, 0.76393991,\n",
              "        0.68025984,        nan,        nan, 0.81775993, 0.74944618,\n",
              "        0.81775993, 0.74944618, 0.76258112, 0.67495361,        nan,\n",
              "               nan, 0.83522137, 0.74368504, 0.83522137, 0.74368504,\n",
              "        0.79052939, 0.72799819,        nan,        nan]),\n",
              " 'std_test_score': array([0.02894336, 0.03432126, 0.02894336, 0.03432126, 0.05291141,\n",
              "        0.0244297 ,        nan,        nan, 0.03480574, 0.03149653,\n",
              "        0.03480574, 0.03149653, 0.05755563, 0.04700677,        nan,\n",
              "               nan, 0.04484776, 0.10212984, 0.04484776, 0.10212984,\n",
              "        0.04367458, 0.05863946,        nan,        nan, 0.04873701,\n",
              "        0.04425158, 0.04873701, 0.04425158, 0.05062381, 0.061034  ,\n",
              "               nan,        nan, 0.03443891, 0.03418891, 0.03443891,\n",
              "        0.03418891, 0.04579099, 0.02422761,        nan,        nan,\n",
              "        0.05260033, 0.10564515, 0.05260033, 0.10564515, 0.0347841 ,\n",
              "        0.04761043,        nan,        nan, 0.04071121, 0.11707669,\n",
              "        0.04071121, 0.11707669, 0.06221652, 0.05926242,        nan,\n",
              "               nan, 0.0564571 , 0.08341101, 0.0564571 , 0.08341101,\n",
              "        0.05463152, 0.03355485,        nan,        nan]),\n",
              " 'rank_test_score': array([11, 43, 11, 43, 40, 47, 62, 61, 15, 41, 15, 41, 29, 35, 60, 59,  5,\n",
              "        22,  5, 22, 26, 37, 58, 57,  3, 32,  3, 32, 17, 20, 56, 51,  9, 45,\n",
              "         9, 45, 31, 48, 54, 53, 13, 38, 13, 38, 19, 34, 52, 63,  7, 24,  7,\n",
              "        24, 21, 36, 49, 50,  1, 27,  1, 27, 18, 30, 55, 64], dtype=int32),\n",
              " 'split0_train_score': array([0.82323839, 0.55833242, 0.82323839, 0.55833242, 0.71421296,\n",
              "        0.56842131,        nan,        nan, 0.84122134, 0.62061188,\n",
              "        0.84122134, 0.62061188, 0.78646004, 0.76873174,        nan,\n",
              "               nan, 0.84687208, 0.64199013, 0.84687208, 0.64199013,\n",
              "        0.81781804, 0.68974256,        nan,        nan, 0.86649205,\n",
              "        0.7329841 , 0.86649205, 0.7329841 , 0.83468539, 0.78217954,\n",
              "               nan,        nan, 0.82321413, 0.55834455, 0.82321413,\n",
              "        0.55834455, 0.77348515, 0.56844556,        nan,        nan,\n",
              "        0.79705822, 0.62093928, 0.79705822, 0.62093928, 0.81057878,\n",
              "        0.76874386,        nan,        nan, 0.84940643, 0.641978  ,\n",
              "        0.84940643, 0.641978  , 0.77783841, 0.69061564,        nan,\n",
              "               nan, 0.86132635, 0.73262032, 0.86132635, 0.73262032,\n",
              "        0.83662556, 0.78225229,        nan,        nan]),\n",
              " 'split1_train_score': array([0.78356191, 0.59571707, 0.78356191, 0.59571707, 0.63412031,\n",
              "        0.55840518,        nan,        nan, 0.77175112, 0.6316466 ,\n",
              "        0.77175112, 0.6316466 , 0.78055465, 0.67693744,        nan,\n",
              "               nan, 0.82612439, 0.80389732, 0.82612439, 0.80389732,\n",
              "        0.70317824, 0.68690507,        nan,        nan, 0.84687208,\n",
              "        0.67106843, 0.84687208, 0.67106843, 0.81367092, 0.80113257,\n",
              "               nan,        nan, 0.7971431 , 0.59123043, 0.7971431 ,\n",
              "        0.59123043, 0.70696157, 0.55850219,        nan,        nan,\n",
              "        0.79231693, 0.81057878, 0.79231693, 0.81057878, 0.78250694,\n",
              "        0.67727697,        nan,        nan, 0.81973395, 0.82038876,\n",
              "        0.81973395, 0.82038876, 0.80233305, 0.69523567,        nan,\n",
              "               nan, 0.8573005 , 0.83373956, 0.8573005 , 0.83373956,\n",
              "        0.80849309, 0.68380079,        nan,        nan]),\n",
              " 'split2_train_score': array([0.78411971, 0.60148908, 0.78411971, 0.60148908, 0.63013084,\n",
              "        0.55680454,        nan,        nan, 0.78040913, 0.64996908,\n",
              "        0.78040913, 0.64996908, 0.69180399, 0.6772891 ,        nan,\n",
              "               nan, 0.80908727, 0.78470176, 0.80908727, 0.78470176,\n",
              "        0.76215941, 0.68844507,        nan,        nan, 0.84136685,\n",
              "        0.68711121, 0.84136685, 0.68711121, 0.80052627, 0.78887313,\n",
              "               nan,        nan, 0.78521105, 0.60150121, 0.78521105,\n",
              "        0.60150121, 0.68479513, 0.55882959,        nan,        nan,\n",
              "        0.83114458, 0.65000546, 0.83114458, 0.65000546, 0.74918452,\n",
              "        0.68335213,        nan,        nan, 0.81816969, 0.78367104,\n",
              "        0.81816969, 0.78367104, 0.78354978, 0.69502953,        nan,\n",
              "               nan, 0.84813319, 0.69958893, 0.84813319, 0.69958893,\n",
              "        0.78701784, 0.73351765,        nan,        nan]),\n",
              " 'split3_train_score': array([0.80437023, 0.6039628 , 0.80437023, 0.6039628 , 0.65215177,\n",
              "        0.559254  ,        nan,        nan, 0.82195302, 0.63869184,\n",
              "        0.82195302, 0.63869184, 0.76219579, 0.67835619,        nan,\n",
              "               nan, 0.84175488, 0.80333952, 0.84175488, 0.80333952,\n",
              "        0.78917628, 0.6758461 ,        nan,        nan, 0.8485576 ,\n",
              "        0.73048613, 0.8485576 , 0.73048613, 0.8204979 , 0.67805304,\n",
              "               nan,        nan, 0.80437023, 0.6039628 , 0.80437023,\n",
              "        0.6039628 , 0.65422533, 0.559254  ,        nan,        nan,\n",
              "        0.79647617, 0.63872822, 0.79647617, 0.63872822, 0.74295173,\n",
              "        0.67838044,        nan,        nan, 0.83820195, 0.80863861,\n",
              "        0.83820195, 0.80863861, 0.77492815, 0.6767313 ,        nan,\n",
              "               nan, 0.85602726, 0.72717572, 0.85602726, 0.72717572,\n",
              "        0.82862236, 0.76502116,        nan,        nan]),\n",
              " 'split4_train_score': array([0.81984527, 0.60337343, 0.81984527, 0.60337343, 0.61134016,\n",
              "        0.57140952,        nan,        nan, 0.82025755, 0.6848232 ,\n",
              "        0.82025755, 0.6848232 , 0.72374739, 0.68638745,        nan,\n",
              "               nan, 0.84389096, 0.82429548, 0.84389096, 0.82429548,\n",
              "        0.77793811, 0.68639957,        nan,        nan, 0.86468691,\n",
              "        0.79812776, 0.86468691, 0.79812776, 0.79821264, 0.81113887,\n",
              "               nan,        nan, 0.81902071, 0.60342193, 0.81902071,\n",
              "        0.60342193, 0.71847262, 0.57140952,        nan,        nan,\n",
              "        0.83625164, 0.65332008, 0.83625164, 0.65332008, 0.79090071,\n",
              "        0.68639957,        nan,        nan, 0.85559247, 0.72658486,\n",
              "        0.85559247, 0.72658486, 0.72954358, 0.68615705,        nan,\n",
              "               nan, 0.87084687, 0.83546345, 0.87084687, 0.83546345,\n",
              "        0.80084396, 0.74384003,        nan,        nan]),\n",
              " 'mean_train_score': array([0.8030271 , 0.59257496, 0.8030271 , 0.59257496, 0.64839121,\n",
              "        0.56285891,        nan,        nan, 0.80711843, 0.64514852,\n",
              "        0.80711843, 0.64514852, 0.74895237, 0.69754038,        nan,\n",
              "               nan, 0.83354592, 0.77164484, 0.83354592, 0.77164484,\n",
              "        0.77005401, 0.68546767,        nan,        nan, 0.8535951 ,\n",
              "        0.72395553, 0.8535951 , 0.72395553, 0.81351862, 0.77227543,\n",
              "               nan,        nan, 0.80579185, 0.59169218, 0.80579185,\n",
              "        0.59169218, 0.70758796, 0.56328817,        nan,        nan,\n",
              "        0.81064951, 0.67471436, 0.81064951, 0.67471436, 0.77522454,\n",
              "        0.6988306 ,        nan,        nan, 0.8362209 , 0.75625225,\n",
              "        0.8362209 , 0.75625225, 0.7736386 , 0.68875384,        nan,\n",
              "               nan, 0.85872683, 0.7657176 , 0.85872683, 0.7657176 ,\n",
              "        0.81232056, 0.74168639,        nan,        nan]),\n",
              " 'std_train_score': array([0.01690878, 0.01736765, 0.01690878, 0.01736765, 0.03537379,\n",
              "        0.00589134,        nan,        nan, 0.02653278, 0.02201525,\n",
              "        0.02653278, 0.02201525, 0.03600596, 0.03576374,        nan,\n",
              "               nan, 0.01417955, 0.0660268 , 0.01417955, 0.0660268 ,\n",
              "        0.03806288, 0.00495275,        nan,        nan, 0.01009421,\n",
              "        0.04422722, 0.01009421, 0.04422722, 0.01341521, 0.04815503,\n",
              "               nan,        nan, 0.01399235, 0.01730115, 0.01399235,\n",
              "        0.01730115, 0.03956865, 0.00550661,        nan,        nan,\n",
              "        0.01895894, 0.0688682 , 0.01895894, 0.0688682 , 0.02556683,\n",
              "        0.03511337,        nan,        nan, 0.01517041, 0.06564811,\n",
              "        0.01517041, 0.06564811, 0.02402197, 0.0068724 ,        nan,\n",
              "               nan, 0.0074189 , 0.05735046, 0.0074189 , 0.05735046,\n",
              "        0.01812772, 0.03350287,        nan,        nan])}"
            ]
          },
          "metadata": {
            "tags": []
          },
          "execution_count": 41
        }
      ]
    },
    {
      "cell_type": "code",
      "metadata": {
        "id": "R2afdtL0sCLg",
        "outputId": "e1d5bce0-f4dc-4611-9074-fed0dadba4a0"
      },
      "source": [
        "dtc = dtc_grid.best_estimator_\n",
        "\n",
        "threshold_interval = np.linspace(0,1,101)\n",
        "ths_table = pd.DataFrame()\n",
        "idx = 0\n",
        "\n",
        "for i in threshold_interval:\n",
        "    valid_result_temp = pd.DataFrame(dtc.predict_proba(X_valid)[:,1],columns=['pred_prob'])\n",
        "    valid_result_temp['binary'] = np.where(valid_result_temp['pred_prob']>=i,1,0)\n",
        "\n",
        "    ths_table.loc[idx,'threshold'] = i\n",
        "    ths_table.loc[idx,'accuracy'] = accuracy_score(y_valid, valid_result_temp['binary'])\n",
        "    ths_table.loc[idx,'f1_score'] = f1_score(y_valid, valid_result_temp['binary'])\n",
        "    ths_table.loc[idx,'recall'] = recall_score(y_valid, valid_result_temp['binary'])\n",
        "    idx += 1\n",
        "    \n",
        "mx_idx = ths_table['f1_score'].idxmax()\n",
        "# print(ths_table.iloc[mx_idx])\n",
        "\n",
        "optimal_threshold_dtc = ths_table.iloc[mx_idx].threshold\n",
        "print('optimal threshold(dtc) : {}'.format(optimal_threshold_dtc))\n",
        "\n",
        "test_result2 = pd.DataFrame(dtc.predict_proba(X_test)[:,1],columns=['pred_prob'])\n",
        "test_result2['dtc_binary'] = np.where(test_result2['pred_prob']>=optimal_threshold_dtc,1,0)\n",
        "\n",
        "print('f1_score : ', f1_score(y_test, test_result2['dtc_binary']))\n",
        "print('accuracy : ', accuracy_score(y_test, test_result2['dtc_binary']))\n",
        "print('recall : ', recall_score(y_test, test_result2['dtc_binary']))\n",
        "print('roc_auc : ', roc_auc_score(y_test, test_result2['dtc_binary']))"
      ],
      "execution_count": null,
      "outputs": [
        {
          "output_type": "stream",
          "text": [
            "optimal threshold(dtc) : 0.0\n",
            "f1_score :  0.310376492194674\n",
            "accuracy :  0.18369565217391304\n",
            "recall :  1.0\n",
            "roc_auc :  0.5\n"
          ],
          "name": "stdout"
        }
      ]
    },
    {
      "cell_type": "code",
      "metadata": {
        "id": "-8QbVTwYsCLh",
        "outputId": "d0f92a69-619d-40a5-f126-aad2aebae680"
      },
      "source": [
        "feature_pd = pd.DataFrame(zip(X_test.columns, dtc.feature_importances_),columns=['feature', 'importance'])\n",
        "feature_pd = feature_pd.sort_values('importance',ascending=False).head(20)\n",
        "\n",
        "fig = plt.figure(figsize=(15, 8))\n",
        "plt.bar(feature_pd.feature, feature_pd.importance)\n",
        "plt.xticks(rotation=90)\n",
        "plt.tight_layout()"
      ],
      "execution_count": null,
      "outputs": [
        {
          "output_type": "display_data",
          "data": {
            "image/png": "[encoded data removed]",
            "text/plain": [
              "<Figure size 1080x576 with 1 Axes>"
            ]
          },
          "metadata": {
            "tags": [],
            "needs_background": "light"
          }
        }
      ]
    },
    {
      "cell_type": "markdown",
      "metadata": {
        "id": "J7B79EJC2X4r"
      },
      "source": [
        "### 2)Version2"
      ]
    },
    {
      "cell_type": "code",
      "metadata": {
        "id": "bndtO1glWHpk"
      },
      "source": [
        "from sklearn.tree import DecisionTreeClassifier\n",
        "from sklearn import tree"
      ],
      "execution_count": null,
      "outputs": []
    },
    {
      "cell_type": "code",
      "metadata": {
        "colab": {
          "base_uri": "https://localhost:8080/"
        },
        "id": "ZEl7GDKnWHrv",
        "outputId": "950dff83-5203-4b81-e54b-bf287938e1a0"
      },
      "source": [
        "from sklearn.model_selection import GridSearchCV\n",
        "dt_clf = tree.DecisionTreeClassifier(criterion='entropy', max_depth=3, random_state=0)\n",
        "\n",
        "parameters = {'max_depth': [3, 5, 7],\n",
        "              'min_samples_split': [3, 5],\n",
        "              'splitter': ['best', 'random']}\n",
        "\n",
        "grid_dt = GridSearchCV(estimator= dt_clf,param_grid = parameters, cv = 5, refit=True)\n",
        "grid_dt.fit(X_smote, y_smote)"
      ],
      "execution_count": null,
      "outputs": [
        {
          "output_type": "execute_result",
          "data": {
            "text/plain": [
              "GridSearchCV(cv=5, error_score=nan,\n",
              "             estimator=DecisionTreeClassifier(ccp_alpha=0.0, class_weight=None,\n",
              "                                              criterion='entropy', max_depth=3,\n",
              "                                              max_features=None,\n",
              "                                              max_leaf_nodes=None,\n",
              "                                              min_impurity_decrease=0.0,\n",
              "                                              min_impurity_split=None,\n",
              "                                              min_samples_leaf=1,\n",
              "                                              min_samples_split=2,\n",
              "                                              min_weight_fraction_leaf=0.0,\n",
              "                                              presort='deprecated',\n",
              "                                              random_state=0, splitter='best'),\n",
              "             iid='deprecated', n_jobs=None,\n",
              "             param_grid={'max_depth': [3, 5, 7], 'min_samples_split': [3, 5],\n",
              "                         'splitter': ['best', 'random']},\n",
              "             pre_dispatch='2*n_jobs', refit=True, return_train_score=False,\n",
              "             scoring=None, verbose=0)"
            ]
          },
          "metadata": {
            "tags": []
          },
          "execution_count": 31
        }
      ]
    },
    {
      "cell_type": "code",
      "metadata": {
        "colab": {
          "base_uri": "https://localhost:8080/"
        },
        "id": "XNCBExxSiVmJ",
        "outputId": "55495280-5c16-45b8-e01e-e45ec4ce48bf"
      },
      "source": [
        "from sklearn.metrics import roc_auc_score,accuracy_score ,f1_score,recall_score\n",
        "threshold_interval = np.linspace(0,1,101)\n",
        "ths_table = pd.DataFrame()\n",
        "idx = 0\n",
        "for i in threshold_interval:\n",
        "    valid_result_temp = pd.DataFrame(grid_dt.predict_proba(X_valid)[:,1],columns=['pred_prob'])\n",
        "    valid_result_temp['binary'] = np.where(valid_result_temp['pred_prob']>=i,1,0)\n",
        "\n",
        "    cm_temp0 = confusion_matrix(y_valid,valid_result_temp['binary'])\n",
        "    cm_norm_temp0 = cm_temp0 / cm_temp0.sum(axis=1).reshape(-1,1)\n",
        "\n",
        "    ths_table.loc[idx,'threshold']=i\n",
        "#     ths_table.loc[idx,'accuracy'] = (cm_temp1[0,0]+cm_temp1[1,1])/(cm_temp1[0,0]+cm_temp1[0,1]+cm_temp1[1,0]+cm_temp1[1,1])\n",
        "    ths_table.loc[idx,'accuracy'] = accuracy_score(y_valid, valid_result_temp['binary'])\n",
        "    ths_table.loc[idx,'f1_score'] = f1_score(y_valid, valid_result_temp['binary'])\n",
        "    ths_table.loc[idx,'recall'] = recall_score(y_valid, valid_result_temp['binary'])\n",
        "    idx += 1\n",
        "    \n",
        "mx_idx = ths_table['f1_score'].idxmax()\n",
        "print(ths_table.iloc[mx_idx])\n",
        "\n",
        "optimal_threshold_rf = ths_table.iloc[mx_idx].threshold\n",
        "\n",
        "test_result2 = pd.DataFrame(grid_dt.predict_proba(X_eval)[:,1],columns=['pred_prob'])\n",
        "test_result2['rf_binary'] = np.where(test_result2['pred_prob']>=optimal_threshold_rf,1,0)\n",
        "\n",
        "print(\"f1_score: \",f1_score(y_eval, test_result2['rf_binary']))\n",
        "print(\"accuracy_score: \",accuracy_score(y_eval, test_result2['rf_binary']))\n",
        "print(\"recall_score: \",recall_score(y_eval, test_result2['rf_binary']))\n",
        "print(\"roc_auc_score: \" ,roc_auc_score(y_eval,test_result2['rf_binary']))"
      ],
      "execution_count": null,
      "outputs": [
        {
          "output_type": "stream",
          "text": [
            "threshold    0.690000\n",
            "accuracy     0.744854\n",
            "f1_score     0.446541\n",
            "recall       0.559055\n",
            "Name: 69, dtype: float64\n",
            "f1_score:  0.44838921761998685\n",
            "accuracy_score:  0.7567410843722818\n",
            "recall_score:  0.5353218210361067\n",
            "roc_auc_score:  0.6711104126517661\n"
          ],
          "name": "stdout"
        }
      ]
    },
    {
      "cell_type": "code",
      "metadata": {
        "colab": {
          "base_uri": "https://localhost:8080/",
          "height": 592
        },
        "id": "fNQFmS09nuPh",
        "outputId": "bc23d1c9-7a06-49eb-f869-270ac37cded6"
      },
      "source": [
        "final_dt =  grid_dt.best_estimator_\n",
        "feature_pd = pd.DataFrame(zip(X_eval.columns, final_dt.feature_importances_),columns=['feature', 'importance'])\n",
        "feature_pd = feature_pd.sort_values('importance',ascending=False).head(20)\n",
        "\n",
        "fig = plt.figure(figsize=(15, 8))\n",
        "plt.bar(feature_pd.feature, feature_pd.importance)\n",
        "plt.xticks(rotation=90)\n",
        "plt.show()"
      ],
      "execution_count": null,
      "outputs": [
        {
          "output_type": "stream",
          "text": [
            "findfont: Font family ['Malgun Gothic'] not found. Falling back to DejaVu Sans.\n"
          ],
          "name": "stderr"
        },
        {
          "output_type": "display_data",
          "data": {
            "image/png": "[encoded data removed]",
            "text/plain": [
              "<Figure size 1080x576 with 1 Axes>"
            ]
          },
          "metadata": {
            "tags": [],
            "image/png": {
              "width": 874,
              "height": 557
            },
            "needs_background": "light"
          }
        }
      ]
    },
    {
      "cell_type": "code",
      "metadata": {
        "colab": {
          "base_uri": "https://localhost:8080/"
        },
        "id": "57DtDa0kQOzd",
        "outputId": "22e26fdf-21bb-402c-83c5-545dad5052a5"
      },
      "source": [
        "feature_pd.feature"
      ],
      "execution_count": null,
      "outputs": [
        {
          "output_type": "execute_result",
          "data": {
            "text/plain": [
              "62                 건물승인여부\n",
              "4                건물들지상층수합\n",
              "0                    건물채수\n",
              "28               소방용수시설거리\n",
              "34              안전비상벨최소거리\n",
              "10                     습도\n",
              "2              건물층별합계전체면적\n",
              "1                  건물건축면적\n",
              "46          전기 에너지 사용량_9월\n",
              "3                    토지면적\n",
              "26                  소방서거리\n",
              "16     배연설비의 성능 유지여부(0~5)\n",
              "6                      온도\n",
              "115           용도지역지구명_1.0\n",
              "193              사용여부_1.0\n",
              "93               건물구조_3.0\n",
              "144         용도지역지구명2_13.0\n",
              "134          용도지역지구명2_3.0\n",
              "128          용도지역지구명_14.0\n",
              "129          용도지역지구명_15.0\n",
              "Name: feature, dtype: object"
            ]
          },
          "metadata": {
            "tags": []
          },
          "execution_count": 44
        }
      ]
    },
    {
      "cell_type": "markdown",
      "metadata": {
        "id": "HKctO1Ng5f_K"
      },
      "source": [
        "## 5.Random Forest"
      ]
    },
    {
      "cell_type": "markdown",
      "metadata": {
        "id": "Jk2QT_4k2vE9"
      },
      "source": [
        "### 1)Version1"
      ]
    },
    {
      "cell_type": "code",
      "metadata": {
        "id": "_bvXU3vUsCLh"
      },
      "source": [
        "X_valid=X_valid[X_train.columns]\n",
        "X_test=X_test[X_train.columns]"
      ],
      "execution_count": null,
      "outputs": []
    },
    {
      "cell_type": "code",
      "metadata": {
        "id": "cSZnXLdvsCLi",
        "outputId": "b7a39ef0-68f1-4083-8b90-ac0061e39a0d"
      },
      "source": [
        "rf_model = RandomForestClassifier(random_state=47)\n",
        "\n",
        "rf_params={'criterion':('entropy','gini'),'max_depth' : [5,7,9,11],'max_features' : ('auto','sqrt','log2')}\n",
        "rf_grid = GridSearchCV(estimator=rf_model,param_grid=rf_params,\n",
        "                        n_jobs=10, cv=5, refit=True, return_train_score=True)\n",
        "\n",
        "rf_grid.fit(X=X_smote, y=y_smote)\n",
        "\n",
        "print('final params', rf_grid.best_params_)\n",
        "print('best score', rf_grid.best_score_)"
      ],
      "execution_count": null,
      "outputs": [
        {
          "output_type": "stream",
          "text": [
            "final params {'criterion': 'gini', 'max_depth': 11, 'max_features': 'auto'}\n",
            "best score 0.8777689488063141\n"
          ],
          "name": "stdout"
        }
      ]
    },
    {
      "cell_type": "code",
      "metadata": {
        "scrolled": true,
        "id": "xHoyHQJUsCLi",
        "outputId": "93e288d4-4347-407b-daa8-3377cc826b47"
      },
      "source": [
        "rf_grid.cv_results_"
      ],
      "execution_count": null,
      "outputs": [
        {
          "output_type": "execute_result",
          "data": {
            "text/plain": [
              "{'mean_fit_time': array([19.30843167, 19.28624873, 13.07325993, 26.43273339, 26.50920663,\n",
              "        16.42779384, 34.59231825, 35.72869091, 24.6890801 , 42.143961  ,\n",
              "        40.28458271, 26.40613184, 18.43771653, 18.95661864, 13.47336516,\n",
              "        26.07161136, 26.05423923, 17.65947042, 32.10657868, 32.72318969,\n",
              "        22.64569373, 38.56580858, 38.09432874, 19.25853052]),\n",
              " 'std_fit_time': array([0.3395876 , 0.33079441, 0.23132385, 0.4696769 , 0.46488294,\n",
              "        0.33285006, 0.5804112 , 0.57712082, 0.41614126, 0.57786064,\n",
              "        0.52710385, 0.41374882, 0.12284447, 0.11686844, 0.10137034,\n",
              "        0.40006412, 0.45735797, 0.28031737, 0.33004925, 0.32660432,\n",
              "        0.20747485, 0.18091222, 0.16612739, 0.37282325]),\n",
              " 'mean_score_time': array([0.36200185, 0.37115006, 0.36717405, 0.55477071, 0.42260876,\n",
              "        0.40882711, 0.6195087 , 0.64156446, 0.59711828, 0.71222839,\n",
              "        0.67491555, 0.67580013, 0.42691793, 0.43479347, 0.45448956,\n",
              "        0.53344302, 0.53209534, 0.53010082, 0.67596636, 0.66653886,\n",
              "        0.66711826, 0.71208625, 0.70105114, 0.42840509]),\n",
              " 'std_score_time': array([0.02446885, 0.03887871, 0.01133664, 0.05160811, 0.02817202,\n",
              "        0.01611874, 0.03468349, 0.02915074, 0.01714588, 0.03951251,\n",
              "        0.01336155, 0.02439201, 0.01239808, 0.01576968, 0.01165655,\n",
              "        0.01233157, 0.01943913, 0.01613733, 0.02918385, 0.03025779,\n",
              "        0.00973821, 0.0201141 , 0.01860309, 0.01611424]),\n",
              " 'param_criterion': masked_array(data=['entropy', 'entropy', 'entropy', 'entropy', 'entropy',\n",
              "                    'entropy', 'entropy', 'entropy', 'entropy', 'entropy',\n",
              "                    'entropy', 'entropy', 'gini', 'gini', 'gini', 'gini',\n",
              "                    'gini', 'gini', 'gini', 'gini', 'gini', 'gini', 'gini',\n",
              "                    'gini'],\n",
              "              mask=[False, False, False, False, False, False, False, False,\n",
              "                    False, False, False, False, False, False, False, False,\n",
              "                    False, False, False, False, False, False, False, False],\n",
              "        fill_value='?',\n",
              "             dtype=object),\n",
              " 'param_max_depth': masked_array(data=[5, 5, 5, 7, 7, 7, 9, 9, 9, 11, 11, 11, 5, 5, 5, 7, 7,\n",
              "                    7, 9, 9, 9, 11, 11, 11],\n",
              "              mask=[False, False, False, False, False, False, False, False,\n",
              "                    False, False, False, False, False, False, False, False,\n",
              "                    False, False, False, False, False, False, False, False],\n",
              "        fill_value='?',\n",
              "             dtype=object),\n",
              " 'param_max_features': masked_array(data=['auto', 'sqrt', 'log2', 'auto', 'sqrt', 'log2', 'auto',\n",
              "                    'sqrt', 'log2', 'auto', 'sqrt', 'log2', 'auto', 'sqrt',\n",
              "                    'log2', 'auto', 'sqrt', 'log2', 'auto', 'sqrt', 'log2',\n",
              "                    'auto', 'sqrt', 'log2'],\n",
              "              mask=[False, False, False, False, False, False, False, False,\n",
              "                    False, False, False, False, False, False, False, False,\n",
              "                    False, False, False, False, False, False, False, False],\n",
              "        fill_value='?',\n",
              "             dtype=object),\n",
              " 'params': [{'criterion': 'entropy', 'max_depth': 5, 'max_features': 'auto'},\n",
              "  {'criterion': 'entropy', 'max_depth': 5, 'max_features': 'sqrt'},\n",
              "  {'criterion': 'entropy', 'max_depth': 5, 'max_features': 'log2'},\n",
              "  {'criterion': 'entropy', 'max_depth': 7, 'max_features': 'auto'},\n",
              "  {'criterion': 'entropy', 'max_depth': 7, 'max_features': 'sqrt'},\n",
              "  {'criterion': 'entropy', 'max_depth': 7, 'max_features': 'log2'},\n",
              "  {'criterion': 'entropy', 'max_depth': 9, 'max_features': 'auto'},\n",
              "  {'criterion': 'entropy', 'max_depth': 9, 'max_features': 'sqrt'},\n",
              "  {'criterion': 'entropy', 'max_depth': 9, 'max_features': 'log2'},\n",
              "  {'criterion': 'entropy', 'max_depth': 11, 'max_features': 'auto'},\n",
              "  {'criterion': 'entropy', 'max_depth': 11, 'max_features': 'sqrt'},\n",
              "  {'criterion': 'entropy', 'max_depth': 11, 'max_features': 'log2'},\n",
              "  {'criterion': 'gini', 'max_depth': 5, 'max_features': 'auto'},\n",
              "  {'criterion': 'gini', 'max_depth': 5, 'max_features': 'sqrt'},\n",
              "  {'criterion': 'gini', 'max_depth': 5, 'max_features': 'log2'},\n",
              "  {'criterion': 'gini', 'max_depth': 7, 'max_features': 'auto'},\n",
              "  {'criterion': 'gini', 'max_depth': 7, 'max_features': 'sqrt'},\n",
              "  {'criterion': 'gini', 'max_depth': 7, 'max_features': 'log2'},\n",
              "  {'criterion': 'gini', 'max_depth': 9, 'max_features': 'auto'},\n",
              "  {'criterion': 'gini', 'max_depth': 9, 'max_features': 'sqrt'},\n",
              "  {'criterion': 'gini', 'max_depth': 9, 'max_features': 'log2'},\n",
              "  {'criterion': 'gini', 'max_depth': 11, 'max_features': 'auto'},\n",
              "  {'criterion': 'gini', 'max_depth': 11, 'max_features': 'sqrt'},\n",
              "  {'criterion': 'gini', 'max_depth': 11, 'max_features': 'log2'}],\n",
              " 'split0_test_score': array([0.81568608, 0.81568608, 0.81229083, 0.81263035, 0.81263035,\n",
              "        0.81253335, 0.80690692, 0.80690692, 0.80782849, 0.8039967 ,\n",
              "        0.8039967 , 0.80593685, 0.81801426, 0.81801426, 0.80637338,\n",
              "        0.8119513 , 0.8119513 , 0.81418247, 0.80967163, 0.80967163,\n",
              "        0.8066159 , 0.80428772, 0.80428772, 0.80632488]),\n",
              " 'split1_test_score': array([0.89634767, 0.89634767, 0.89867585, 0.90706698, 0.90706698,\n",
              "        0.90789155, 0.91584615, 0.91584615, 0.91836834, 0.92641994,\n",
              "        0.92641994, 0.92535286, 0.89891837, 0.89891837, 0.89993695,\n",
              "        0.91235388, 0.91235388, 0.91182034, 0.91899888, 0.91899888,\n",
              "        0.91982345, 0.92937867, 0.92937867, 0.92467381]),\n",
              " 'split2_test_score': array([0.88514333, 0.88514333, 0.88441577, 0.89460154, 0.89460154,\n",
              "        0.90168308, 0.90798855, 0.90798855, 0.91012271, 0.91982345,\n",
              "        0.91982345, 0.91667071, 0.88199059, 0.88199059, 0.8926614 ,\n",
              "        0.89717224, 0.89717224, 0.90585439, 0.91109279, 0.91109279,\n",
              "        0.91439104, 0.92229713, 0.92229713, 0.91473056]),\n",
              " 'split3_test_score': array([0.87985643, 0.87985643, 0.88140855, 0.89484406, 0.89484406,\n",
              "        0.89702673, 0.90764903, 0.90764903, 0.90124654, 0.91899888,\n",
              "        0.91899888, 0.91628268, 0.88189358, 0.88189358, 0.88946015,\n",
              "        0.9019741 , 0.9019741 , 0.89702673, 0.91046224, 0.91046224,\n",
              "        0.90944366, 0.92079352, 0.92079352, 0.91890188]),\n",
              " 'split4_test_score': array([0.78453628, 0.78453628, 0.78754366, 0.79093908, 0.79093908,\n",
              "        0.79346139, 0.7975844 , 0.7975844 , 0.7968083 , 0.80689756,\n",
              "        0.80689756, 0.80616997, 0.78521537, 0.78521537, 0.78235351,\n",
              "        0.79239426, 0.79239426, 0.78977493, 0.79967016, 0.79967016,\n",
              "        0.80345363, 0.8120877 , 0.8120877 , 0.80747963]),\n",
              " 'mean_test_score': array([0.85231396, 0.85231396, 0.85286693, 0.8600164 , 0.8600164 ,\n",
              "        0.86251922, 0.86719501, 0.86719501, 0.86687488, 0.87522731,\n",
              "        0.87522731, 0.87408261, 0.85320643, 0.85320643, 0.85415708,\n",
              "        0.86316916, 0.86316916, 0.86373177, 0.86997914, 0.86997914,\n",
              "        0.87074553, 0.87776895, 0.87776895, 0.87442215]),\n",
              " 'std_test_score': array([0.0440698 , 0.0440698 , 0.04432146, 0.04824929, 0.04824929,\n",
              "        0.04909337, 0.05319373, 0.05319373, 0.0531021 , 0.0570407 ,\n",
              "        0.0570407 , 0.05564028, 0.04382313, 0.04382313, 0.04952518,\n",
              "        0.05042524, 0.05042524, 0.05122524, 0.05350233, 0.05350233,\n",
              "        0.0537623 , 0.05694024, 0.05694024, 0.05522134]),\n",
              " 'rank_test_score': array([23, 23, 22, 17, 17, 16, 10, 10, 12,  3,  3,  6, 20, 20, 19, 14, 14,\n",
              "        13,  8,  8,  7,  1,  1,  5], dtype=int32),\n",
              " 'split0_train_score': array([0.88593013, 0.88593013, 0.88546934, 0.90244583, 0.90244583,\n",
              "        0.9049438 , 0.92135036, 0.92135036, 0.92147162, 0.93913929,\n",
              "        0.93913929, 0.93481029, 0.88789455, 0.88789455, 0.88666982,\n",
              "        0.90546522, 0.90546522, 0.90602302, 0.92030752, 0.92030752,\n",
              "        0.92175052, 0.94265585, 0.94265585, 0.93294287]),\n",
              " 'split1_train_score': array([0.85285023, 0.85285023, 0.85437811, 0.86510968, 0.86510968,\n",
              "        0.86430936, 0.87756315, 0.87756315, 0.87696897, 0.89457601,\n",
              "        0.89457601, 0.89022276, 0.8564638 , 0.8564638 , 0.85611214,\n",
              "        0.87105145, 0.87105145, 0.86855348, 0.88172239, 0.88172239,\n",
              "        0.88106758, 0.90039652, 0.90039652, 0.89389695]),\n",
              " 'split2_train_score': array([0.8536748 , 0.8536748 , 0.85300787, 0.86343628, 0.86343628,\n",
              "        0.86873537, 0.87940631, 0.87940631, 0.87812095, 0.89692847,\n",
              "        0.89692847, 0.89120497, 0.851674  , 0.851674  , 0.85500867,\n",
              "        0.86432149, 0.86432149, 0.870142  , 0.88248633, 0.88248633,\n",
              "        0.88157687, 0.90142724, 0.90142724, 0.89313301]),\n",
              " 'split3_train_score': array([0.84893351, 0.84893351, 0.85098282, 0.86462464, 0.86462464,\n",
              "        0.86690434, 0.8784241 , 0.8784241 , 0.87593825, 0.89624941,\n",
              "        0.89624941, 0.88958007, 0.85178314, 0.85178314, 0.85715498,\n",
              "        0.86923254, 0.86923254, 0.86857773, 0.88099482, 0.88099482,\n",
              "        0.87832709, 0.90067542, 0.90067542, 0.89308451]),\n",
              " 'split4_train_score': array([0.88201484, 0.88201484, 0.87655818, 0.89085463, 0.89085463,\n",
              "        0.8883567 , 0.89936703, 0.89936703, 0.89675996, 0.91202648,\n",
              "        0.91202648, 0.90787942, 0.88167532, 0.88167532, 0.87300529,\n",
              "        0.892431  , 0.892431  , 0.88850221, 0.90128292, 0.90128292,\n",
              "        0.89922152, 0.91661008, 0.91661008, 0.90915264]),\n",
              " 'mean_train_score': array([0.8646807 , 0.8646807 , 0.86407926, 0.87729421, 0.87729421,\n",
              "        0.87864991, 0.89122219, 0.89122219, 0.88985195, 0.90778393,\n",
              "        0.90778393, 0.9027395 , 0.86589816, 0.86589816, 0.86559018,\n",
              "        0.88050034, 0.88050034, 0.88035969, 0.89335879, 0.89335879,\n",
              "        0.89238871, 0.91235302, 0.91235302, 0.904442  ]),\n",
              " 'std_train_score': array([0.01588127, 0.01588127, 0.01415248, 0.01623276, 0.01623276,\n",
              "        0.01566843, 0.01711152, 0.01711152, 0.0175767 , 0.01689079,\n",
              "        0.01689079, 0.0174232 , 0.01564179, 0.01564179, 0.01242811,\n",
              "        0.01577077, 0.01577077, 0.01488294, 0.01546292, 0.01546292,\n",
              "        0.01644139, 0.01634063, 0.01634063, 0.01550854])}"
            ]
          },
          "metadata": {
            "tags": []
          },
          "execution_count": 23
        }
      ]
    },
    {
      "cell_type": "code",
      "metadata": {
        "scrolled": false,
        "id": "Ab5hBtePsCLi",
        "outputId": "d9175b9d-88bd-4a06-ee93-b6601b947c3d"
      },
      "source": [
        "rf_model = rf_grid.best_estimator_\n",
        "\n",
        "threshold_interval = np.linspace(0,1,101)\n",
        "ths_table = pd.DataFrame()\n",
        "idx = 0\n",
        "\n",
        "for i in threshold_interval:\n",
        "    valid_result_temp = pd.DataFrame(rf_model.predict_proba(X_valid)[:,1],columns=['pred_prob'])\n",
        "    valid_result_temp['binary'] = np.where(valid_result_temp['pred_prob']>=i,1,0)\n",
        "\n",
        "    ths_table.loc[idx,'threshold'] = i\n",
        "    ths_table.loc[idx,'accuracy'] = accuracy_score(y_valid, valid_result_temp['binary'])\n",
        "    ths_table.loc[idx,'f1_score'] = f1_score(y_valid, valid_result_temp['binary'])\n",
        "    ths_table.loc[idx,'recall'] = recall_score(y_valid, valid_result_temp['binary'])\n",
        "    idx += 1\n",
        "    \n",
        "mx_idx = ths_table['f1_score'].idxmax()\n",
        "# print(ths_table.iloc[mx_idx])\n",
        "\n",
        "optimal_threshold_rf = ths_table.iloc[mx_idx].threshold\n",
        "print('optimal threshold(RF) : ',optimal_threshold_rf)\n",
        "\n",
        "test_result2 = pd.DataFrame(rf_model.predict_proba(X_test)[:,1],columns=['pred_prob'])\n",
        "test_result2['lgb_binary'] = np.where(test_result2['pred_prob']>=optimal_threshold_rf,1,0)\n",
        "\n",
        "print('f1_score : ', f1_score(y_test, test_result2['lgb_binary']))\n",
        "print('accuracy : ', accuracy_score(y_test, test_result2['lgb_binary']))\n",
        "print('recall : ', recall_score(y_test, test_result2['lgb_binary']))\n",
        "print('roc_auc : ', roc_auc_score(y_test, test_result2['lgb_binary']))"
      ],
      "execution_count": null,
      "outputs": [
        {
          "output_type": "stream",
          "text": [
            "optimal threshold(RF) :  0.32\n",
            "f1_score :  0.41295051924251686\n",
            "accuracy :  0.6518115942028986\n",
            "recall :  0.6666666666666666\n",
            "roc_auc :  0.6575676875277409\n"
          ],
          "name": "stdout"
        }
      ]
    },
    {
      "cell_type": "code",
      "metadata": {
        "id": "41JpgaOCsCLj",
        "outputId": "e67e5758-13ad-45aa-e1bf-dc897e4fdcea"
      },
      "source": [
        "feature_pd = pd.DataFrame(zip(X_test.columns, rf_model.feature_importances_),columns=['feature', 'importance'])\n",
        "feature_pd = feature_pd.sort_values('importance',ascending=False).head(20)\n",
        "\n",
        "fig = plt.figure(figsize=(15, 8))\n",
        "plt.bar(feature_pd.feature, feature_pd.importance)\n",
        "plt.xticks(rotation=90)\n",
        "plt.tight_layout()"
      ],
      "execution_count": null,
      "outputs": [
        {
          "output_type": "display_data",
          "data": {
            "image/png": "[encoded data removed]",
            "text/plain": [
              "<Figure size 1080x576 with 1 Axes>"
            ]
          },
          "metadata": {
            "tags": [],
            "needs_background": "light"
          }
        }
      ]
    },
    {
      "cell_type": "markdown",
      "metadata": {
        "id": "SXrxdGGf2r7f"
      },
      "source": [
        "### 2)Version2"
      ]
    },
    {
      "cell_type": "code",
      "metadata": {
        "id": "o5hdPaA4WHwH"
      },
      "source": [
        "from sklearn.ensemble import RandomForestClassifier"
      ],
      "execution_count": null,
      "outputs": []
    },
    {
      "cell_type": "code",
      "metadata": {
        "colab": {
          "base_uri": "https://localhost:8080/"
        },
        "id": "HOOdrHQcWHyd",
        "outputId": "dc97c11f-f647-4c87-f119-5e7b4d9a0ea4"
      },
      "source": [
        "forest = RandomForestClassifier(n_estimators=100,class_weight='balanced',random_state=0)\n",
        "forest_params={'criterion' : [\"gini\", \"entropy\"],'max_depth' : [5,7,9]}\n",
        "forest_grid=GridSearchCV(estimator=forest,param_grid=forest_params,n_jobs=10,cv=5,refit=True,return_train_score=False)\n",
        "\n",
        "forest_grid.fit(X_smote,y_smote)"
      ],
      "execution_count": null,
      "outputs": [
        {
          "output_type": "execute_result",
          "data": {
            "text/plain": [
              "GridSearchCV(cv=5, error_score=nan,\n",
              "             estimator=RandomForestClassifier(bootstrap=True, ccp_alpha=0.0,\n",
              "                                              class_weight='balanced',\n",
              "                                              criterion='gini', max_depth=None,\n",
              "                                              max_features='auto',\n",
              "                                              max_leaf_nodes=None,\n",
              "                                              max_samples=None,\n",
              "                                              min_impurity_decrease=0.0,\n",
              "                                              min_impurity_split=None,\n",
              "                                              min_samples_leaf=1,\n",
              "                                              min_samples_split=2,\n",
              "                                              min_weight_fraction_leaf=0.0,\n",
              "                                              n_estimators=100, n_jobs=None,\n",
              "                                              oob_score=False, random_state=0,\n",
              "                                              verbose=0, warm_start=False),\n",
              "             iid='deprecated', n_jobs=10,\n",
              "             param_grid={'criterion': ['gini', 'entropy'],\n",
              "                         'max_depth': [5, 7, 9]},\n",
              "             pre_dispatch='2*n_jobs', refit=True, return_train_score=False,\n",
              "             scoring=None, verbose=0)"
            ]
          },
          "metadata": {
            "tags": []
          },
          "execution_count": 36
        }
      ]
    },
    {
      "cell_type": "code",
      "metadata": {
        "colab": {
          "base_uri": "https://localhost:8080/"
        },
        "id": "oE5Zqloyi_By",
        "outputId": "2455e1bf-3dc4-4163-905b-79d8b29fe10f"
      },
      "source": [
        "from sklearn.metrics import roc_auc_score,accuracy_score ,f1_score,recall_score\n",
        "threshold_interval = np.linspace(0,1,101)\n",
        "ths_table = pd.DataFrame()\n",
        "idx = 0\n",
        "for i in threshold_interval:\n",
        "    valid_result_temp = pd.DataFrame(forest_grid.predict_proba(X_valid)[:,1],columns=['pred_prob'])\n",
        "    valid_result_temp['binary'] = np.where(valid_result_temp['pred_prob']>=i,1,0)\n",
        "\n",
        "    cm_temp0 = confusion_matrix(y_valid,valid_result_temp['binary'])\n",
        "    cm_norm_temp0 = cm_temp0 / cm_temp0.sum(axis=1).reshape(-1,1)\n",
        "\n",
        "    ths_table.loc[idx,'threshold']=i\n",
        "#     ths_table.loc[idx,'accuracy'] = (cm_temp1[0,0]+cm_temp1[1,1])/(cm_temp1[0,0]+cm_temp1[0,1]+cm_temp1[1,0]+cm_temp1[1,1])\n",
        "    ths_table.loc[idx,'accuracy'] = accuracy_score(y_valid, valid_result_temp['binary'])\n",
        "    ths_table.loc[idx,'f1_score'] = f1_score(y_valid, valid_result_temp['binary'])\n",
        "    ths_table.loc[idx,'recall'] = recall_score(y_valid, valid_result_temp['binary'])\n",
        "    idx += 1\n",
        "    \n",
        "mx_idx = ths_table['f1_score'].idxmax()\n",
        "print(ths_table.iloc[mx_idx])\n",
        "\n",
        "optimal_threshold_rf = ths_table.iloc[mx_idx].threshold\n",
        "\n",
        "test_result2 = pd.DataFrame(forest_grid.predict_proba(X_eval)[:,1],columns=['pred_prob'])\n",
        "test_result2['rf_binary'] = np.where(test_result2['pred_prob']>=optimal_threshold_rf,1,0)\n",
        "\n",
        "print(\"f1_score: \", f1_score(y_eval, test_result2['rf_binary']))\n",
        "print(\"accuracy_score: \",accuracy_score(y_eval, test_result2['rf_binary']))\n",
        "print(\"recall_score: \",recall_score(y_eval, test_result2['rf_binary']))\n",
        "print(\"roc_auc_score: \" ,roc_auc_score(y_eval,test_result2['rf_binary']))"
      ],
      "execution_count": null,
      "outputs": [
        {
          "output_type": "stream",
          "text": [
            "threshold    0.580000\n",
            "accuracy     0.709191\n",
            "f1_score     0.436833\n",
            "recall       0.612598\n",
            "Name: 58, dtype: float64\n",
            "f1_score:  0.4393515930687535\n",
            "accuracy_score:  0.7091910698753262\n",
            "recall_score:  0.6169544740973313\n",
            "roc_auc_score:  0.6735199113018663\n"
          ],
          "name": "stdout"
        }
      ]
    },
    {
      "cell_type": "code",
      "metadata": {
        "id": "Pux7VXCh7hmv"
      },
      "source": [
        ""
      ],
      "execution_count": null,
      "outputs": []
    },
    {
      "cell_type": "code",
      "metadata": {
        "colab": {
          "base_uri": "https://localhost:8080/",
          "height": 551
        },
        "id": "_FwBpLXhEXUB",
        "outputId": "bff86093-a6f5-49c8-9992-b211efd89920"
      },
      "source": [
        "final_fr =  forest_grid.best_estimator_\n",
        "feature_pd = pd.DataFrame(zip(X_eval.columns, final_fr.feature_importances_),columns=['feature', 'importance'])\n",
        "feature_pd = feature_pd.sort_values('importance',ascending=False).head(20)\n",
        "\n",
        "fig = plt.figure(figsize=(15, 8))\n",
        "plt.bar(feature_pd.feature, feature_pd.importance)\n",
        "plt.xticks(rotation=90)\n",
        "plt.show()"
      ],
      "execution_count": null,
      "outputs": [
        {
          "output_type": "display_data",
          "data": {
            "image/png": "[encoded data removed]",
            "text/plain": [
              "<Figure size 1080x576 with 1 Axes>"
            ]
          },
          "metadata": {
            "tags": [],
            "image/png": {
              "width": 880,
              "height": 534
            },
            "needs_background": "light"
          }
        }
      ]
    },
    {
      "cell_type": "markdown",
      "metadata": {
        "id": "Oo5_NlDN3LYs"
      },
      "source": [
        "## 6.Logistic Regression"
      ]
    },
    {
      "cell_type": "markdown",
      "metadata": {
        "id": "-UYmGaZ73OZY"
      },
      "source": [
        "### 1)Version1"
      ]
    },
    {
      "cell_type": "code",
      "metadata": {
        "id": "u5Yqd35KsCLn",
        "outputId": "bbf7dbe8-78b8-4e3c-e5b0-c3ab27326342"
      },
      "source": [
        "lgst = LogisticRegression(random_state=37,max_iter = 1000)\n",
        "lgst_params = [{'solver' : ['newton-cg'], 'penalty' : ['l1']},\n",
        "               {'solver' : ['newton-cg'], 'penalty' : ['l2']},\n",
        "               {'solver' : ['newton-cg'], 'penalty' : ['elasticnet']},\n",
        "               {'solver' : ['newton-cg'], 'penalty' : ['none']},\n",
        "               {'solver' : ['lbfgs'], 'penalty' : ['l1']},\n",
        "               {'solver' : ['lbfgs'], 'penalty' : ['l2']},\n",
        "               {'solver' : ['lbfgs'], 'penalty' : ['elasticnet']},\n",
        "               {'solver' : ['lbfgs'], 'penalty' : ['none']},\n",
        "               {'solver' : ['liblinear'], 'penalty' : ['l1']},\n",
        "               {'solver' : ['liblinear'], 'penalty' : ['l2']},\n",
        "               {'solver' : ['liblinear'], 'penalty' : ['elasticnet']},\n",
        "               {'solver' : ['liblinear'], 'penalty' : ['none']},\n",
        "               {'solver' : ['saga'], 'penalty' : ['l1']},\n",
        "               {'solver' : ['saga'], 'penalty' : ['l2']},\n",
        "               {'solver' : ['saga'], 'penalty' : ['elasticnet']},\n",
        "               {'solver' : ['saga'], 'penalty' : ['none']}]\n",
        "\n",
        "lgst_grid = GridSearchCV(estimator = lgst, param_grid = lgst_params, scoring='f1', \n",
        "                        n_jobs=10, cv=4, refit=True, return_train_score=True)\n",
        "\n",
        "lgst_grid.fit(X_train, y_train)\n",
        "print('final params', lgst_grid.best_params_)\n",
        "print('best score', lgst_grid.best_score_)"
      ],
      "execution_count": null,
      "outputs": [
        {
          "output_type": "stream",
          "text": [
            "final params {'penalty': 'none', 'solver': 'newton-cg'}\n",
            "best score 0.9033536354330655\n"
          ],
          "name": "stdout"
        }
      ]
    },
    {
      "cell_type": "code",
      "metadata": {
        "id": "3ab08699sCLn",
        "outputId": "5ca34cf2-5981-43e5-fd32-8d66fb660af8"
      },
      "source": [
        "lgst = lgst_grid.best_estimator_\n",
        "\n",
        "threshold_interval = np.linspace(0,1,101)\n",
        "ths_table = pd.DataFrame()\n",
        "idx = 0\n",
        "\n",
        "for i in threshold_interval:\n",
        "    valid_result_temp = pd.DataFrame(lgst.predict_proba(X_valid)[:,1],columns=['pred_prob'])\n",
        "    valid_result_temp['binary'] = np.where(valid_result_temp['pred_prob']>=i,1,0)\n",
        "\n",
        "    ths_table.loc[idx,'threshold'] = i\n",
        "    ths_table.loc[idx,'accuracy'] = accuracy_score(y_valid, valid_result_temp['binary'])\n",
        "    ths_table.loc[idx,'f1_score'] = f1_score(y_valid, valid_result_temp['binary'])\n",
        "    ths_table.loc[idx,'recall'] = recall_score(y_valid, valid_result_temp['binary'])\n",
        "    idx += 1\n",
        "    \n",
        "mx_idx = ths_table['f1_score'].idxmax()\n",
        "# print(ths_table.iloc[mx_idx])\n",
        "\n",
        "optimal_threshold_lgst = ths_table.iloc[mx_idx].threshold\n",
        "print('optimal threshold(lgst) : {}'.format(optimal_threshold_lgst))\n",
        "\n",
        "test_result2 = pd.DataFrame(lgst.predict_proba(X_test)[:,1],columns=['pred_prob'])\n",
        "test_result2['lgst_binary'] = np.where(test_result2['pred_prob']>=optimal_threshold_lgst,1,0)\n",
        "\n",
        "print('f1_score : ', f1_score(y_test, test_result2['lgst_binary']))\n",
        "print('accuracy : ', accuracy_score(y_test, test_result2['lgst_binary']))\n",
        "print('recall : ', recall_score(y_test, test_result2['lgst_binary']))\n",
        "print('roc_auc : ', roc_auc_score(y_test, test_result2['lgst_binary']))"
      ],
      "execution_count": null,
      "outputs": [
        {
          "output_type": "stream",
          "text": [
            "optimal threshold(lgst) : 0.0\n",
            "f1_score :  0.310376492194674\n",
            "accuracy :  0.18369565217391304\n",
            "recall :  1.0\n",
            "roc_auc :  0.5\n"
          ],
          "name": "stdout"
        }
      ]
    },
    {
      "cell_type": "code",
      "metadata": {
        "id": "RFJe2K7LsCLn",
        "outputId": "6e55b146-e09e-43bd-bd1d-1f263168b67b"
      },
      "source": [
        "feature_pd = pd.DataFrame(zip(X_test.columns, lgst.coef_[0]),columns=['feature', 'importance'])\n",
        "feature_pd = feature_pd.sort_values('importance',ascending=False).head(20)\n",
        "\n",
        "fig = plt.figure(figsize=(15, 8))\n",
        "plt.bar(feature_pd.feature, feature_pd.importance)\n",
        "plt.xticks(rotation=90)\n",
        "plt.tight_layout()"
      ],
      "execution_count": null,
      "outputs": [
        {
          "output_type": "display_data",
          "data": {
            "image/png": "[encoded data removed]",
            "text/plain": [
              "<Figure size 1080x576 with 1 Axes>"
            ]
          },
          "metadata": {
            "tags": [],
            "needs_background": "light"
          }
        }
      ]
    },
    {
      "cell_type": "markdown",
      "metadata": {
        "id": "p7lXrYDz3RTp"
      },
      "source": [
        "### 2)Version2"
      ]
    },
    {
      "cell_type": "code",
      "metadata": {
        "id": "vm80KcFJVbI5"
      },
      "source": [
        "from sklearn.linear_model import LogisticRegression"
      ],
      "execution_count": null,
      "outputs": []
    },
    {
      "cell_type": "code",
      "metadata": {
        "id": "0uzghqaybTgz"
      },
      "source": [
        "model_lr = LogisticRegression(random_state=30,max_iter= 1000)\n",
        "\n",
        "lr_params = [{'solver' : ['newton-cg'],'penalty' : ['l1']},\n",
        "             {'solver' : ['newton-cg'],'penalty' : ['l2']},\n",
        "             {'solver' : ['newton-cg'],'penalty' : ['elasticnet']},\n",
        "             {'solver' : ['newton-cg'],'penalty' : ['none']},\n",
        "             {'solver' : ['lbfgs'],'penalty' : ['l1']},\n",
        "             {'solver' : ['lbfgs'],'penalty' : ['l2']},\n",
        "             {'solver' : ['lbfgs'],'penalty' : ['elasticnet']},\n",
        "             {'solver' : ['lbfgs'],'penalty' : ['none']},\n",
        "             {'solver' : ['liblinear'],'penalty' : ['l1']},\n",
        "             {'solver' : ['liblinear'],'penalty' : ['l2']},\n",
        "             {'solver' : ['liblinear'],'penalty' : ['elasticnet']},\n",
        "             {'solver' : ['liblinear'],'penalty' : ['none']},\n",
        "             {'solver' : ['saga'],'penalty' : ['l1']},\n",
        "             {'solver' : ['saga'],'penalty' : ['l2']},\n",
        "             {'solver' : ['saga'],'penalty' : ['elasticnet']},\n",
        "             {'solver' : ['saga'],'penalty' : ['none']}] \n",
        "grid_lr = GridSearchCV(estimator= model_lr, param_grid=lr_params , cv = 5, refit=True,)\n",
        "grid_lr.fit(X_smote, y_smote)"
      ],
      "execution_count": null,
      "outputs": []
    },
    {
      "cell_type": "code",
      "metadata": {
        "colab": {
          "base_uri": "https://localhost:8080/"
        },
        "id": "n6pMMtKgiO_-",
        "outputId": "21e89082-a45e-4bf3-e01b-ce9c8c227711"
      },
      "source": [
        "from sklearn.metrics import roc_auc_score,accuracy_score ,f1_score,recall_score\n",
        "threshold_interval = np.linspace(0,1,101)\n",
        "ths_table = pd.DataFrame()\n",
        "idx = 0\n",
        "for i in threshold_interval:\n",
        "    valid_result_temp = pd.DataFrame(grid_lr.predict_proba(X_valid)[:,1],columns=['pred_prob'])\n",
        "    valid_result_temp['binary'] = np.where(valid_result_temp['pred_prob']>=i,1,0)\n",
        "\n",
        "    cm_temp0 = confusion_matrix(y_valid,valid_result_temp['binary'])\n",
        "    cm_norm_temp0 = cm_temp0 / cm_temp0.sum(axis=1).reshape(-1,1)\n",
        "\n",
        "    ths_table.loc[idx,'threshold']=i\n",
        "#     ths_table.loc[idx,'accuracy'] = (cm_temp1[0,0]+cm_temp1[1,1])/(cm_temp1[0,0]+cm_temp1[0,1]+cm_temp1[1,0]+cm_temp1[1,1])\n",
        "    ths_table.loc[idx,'accuracy'] = accuracy_score(y_valid, valid_result_temp['binary'])\n",
        "    ths_table.loc[idx,'f1_score'] = f1_score(y_valid, valid_result_temp['binary'])\n",
        "    ths_table.loc[idx,'recall'] = recall_score(y_valid, valid_result_temp['binary'])\n",
        "    idx += 1\n",
        "    \n",
        "mx_idx = ths_table['f1_score'].idxmax()\n",
        "print(ths_table.iloc[mx_idx])\n",
        "\n",
        "optimal_threshold_rf = ths_table.iloc[mx_idx].threshold\n",
        "\n",
        "test_result2 = pd.DataFrame(grid_lr.predict_proba(X_eval)[:,1],columns=['pred_prob'])\n",
        "test_result2['rf_binary'] = np.where(test_result2['pred_prob']>=optimal_threshold_rf,1,0)\n",
        "\n",
        "print(\"f1_score: \",f1_score(y_eval, test_result2['rf_binary']))\n",
        "print(\"accuracy_score: \",accuracy_score(y_eval, test_result2['rf_binary']))\n",
        "print(\"recall_score: \",recall_score(y_eval, test_result2['rf_binary']))\n",
        "print(\"roc_auc_score: \" ,roc_auc_score(y_eval,test_result2['rf_binary']))"
      ],
      "execution_count": null,
      "outputs": [
        {
          "output_type": "stream",
          "text": [
            "threshold    0.690000\n",
            "accuracy     0.744854\n",
            "f1_score     0.446541\n",
            "recall       0.559055\n",
            "Name: 69, dtype: float64\n",
            "f1_score:  0.44838921761998685\n",
            "accuracy_score:  0.7567410843722818\n",
            "recall_score:  0.5353218210361067\n",
            "roc_auc_score:  0.6711104126517661\n"
          ],
          "name": "stdout"
        }
      ]
    },
    {
      "cell_type": "markdown",
      "metadata": {
        "id": "InBHv4V959H2"
      },
      "source": [
        "## 7.XGB Model"
      ]
    },
    {
      "cell_type": "markdown",
      "metadata": {
        "id": "EUwOtHOq3WkY"
      },
      "source": [
        "### 1)Version1"
      ]
    },
    {
      "cell_type": "code",
      "metadata": {
        "scrolled": true,
        "id": "UKgpgXIXsCLl",
        "outputId": "87839727-b5c5-4960-d379-e77ac7b44c4d"
      },
      "source": [
        "xgb = XGBClassifier(objective='binary:logistic',booster='gbtree', n_estimators=100, random_state=47)\n",
        "xgb_param_grid = {'max_depth': [5,8,11],'learning_rate':[0.01, 0.1, 1]} \n",
        "xgb_grid = GridSearchCV(estimator=xgb, param_grid=xgb_param_grid, scoring='f1', \n",
        "                        n_jobs=10, cv=4, refit=True, return_train_score=True)\n",
        "\n",
        "xgb_grid.fit(X_train, y_train, early_stopping_rounds=40,\n",
        "             eval_metric=\"error\", eval_set=[(X_eval, y_eval)])\n",
        "print('final params', xgb_grid.best_params_)\n",
        "print('best score', xgb_grid.best_score_)"
      ],
      "execution_count": null,
      "outputs": [
        {
          "output_type": "stream",
          "text": [
            "[0]\tvalidation_0-error:0.18487\n",
            "Will train until validation_0-error hasn't improved in 40 rounds.\n",
            "[1]\tvalidation_0-error:0.18487\n",
            "[2]\tvalidation_0-error:0.18487\n",
            "[3]\tvalidation_0-error:0.18487\n",
            "[4]\tvalidation_0-error:0.18487\n",
            "[5]\tvalidation_0-error:0.18487\n",
            "[6]\tvalidation_0-error:0.18487\n",
            "[7]\tvalidation_0-error:0.18487\n",
            "[8]\tvalidation_0-error:0.18487\n",
            "[9]\tvalidation_0-error:0.18487\n",
            "[10]\tvalidation_0-error:0.18487\n",
            "[11]\tvalidation_0-error:0.18487\n",
            "[12]\tvalidation_0-error:0.18487\n",
            "[13]\tvalidation_0-error:0.18487\n",
            "[14]\tvalidation_0-error:0.18487\n",
            "[15]\tvalidation_0-error:0.18487\n",
            "[16]\tvalidation_0-error:0.18487\n",
            "[17]\tvalidation_0-error:0.18487\n",
            "[18]\tvalidation_0-error:0.18487\n",
            "[19]\tvalidation_0-error:0.18487\n",
            "[20]\tvalidation_0-error:0.18487\n",
            "[21]\tvalidation_0-error:0.18487\n",
            "[22]\tvalidation_0-error:0.18487\n",
            "[23]\tvalidation_0-error:0.18511\n",
            "[24]\tvalidation_0-error:0.18511\n",
            "[25]\tvalidation_0-error:0.18487\n",
            "[26]\tvalidation_0-error:0.18487\n",
            "[27]\tvalidation_0-error:0.18487\n",
            "[28]\tvalidation_0-error:0.18487\n",
            "[29]\tvalidation_0-error:0.18487\n",
            "[30]\tvalidation_0-error:0.18487\n",
            "[31]\tvalidation_0-error:0.18487\n",
            "[32]\tvalidation_0-error:0.18487\n",
            "[33]\tvalidation_0-error:0.18487\n",
            "[34]\tvalidation_0-error:0.18487\n",
            "[35]\tvalidation_0-error:0.18487\n",
            "[36]\tvalidation_0-error:0.18487\n",
            "[37]\tvalidation_0-error:0.18487\n",
            "[38]\tvalidation_0-error:0.18487\n",
            "[39]\tvalidation_0-error:0.18487\n",
            "[40]\tvalidation_0-error:0.18511\n",
            "Stopping. Best iteration:\n",
            "[0]\tvalidation_0-error:0.18487\n",
            "\n",
            "final params {'learning_rate': 1, 'max_depth': 5}\n",
            "best score 0.9042438314400841\n"
          ],
          "name": "stdout"
        }
      ]
    },
    {
      "cell_type": "code",
      "metadata": {
        "collapsed": true,
        "id": "4D8n-G9lsCLl",
        "outputId": "5116b97d-42ae-4c5c-fb27-05d7bf918309"
      },
      "source": [
        "xgb_grid.cv_results_"
      ],
      "execution_count": null,
      "outputs": [
        {
          "output_type": "execute_result",
          "data": {
            "text/plain": [
              "{'mean_fit_time': array([ 81.68652928, 138.197442  , 193.39872414,  89.14098126,\n",
              "        141.75098354, 199.92882425, 131.97166783, 175.50699353,\n",
              "        139.6187312 ]),\n",
              " 'std_fit_time': array([ 0.97199371,  0.57300756,  4.83596216,  1.75144079,  2.68309061,\n",
              "         1.14131373, 25.76970303, 51.94031544,  8.49163869]),\n",
              " 'mean_score_time': array([0.62197822, 0.44013005, 0.45387334, 0.42098159, 0.50290871,\n",
              "        0.48453194, 0.48013741, 0.30366153, 0.23285496]),\n",
              " 'std_score_time': array([0.01487084, 0.01228236, 0.03638621, 0.01797873, 0.06822575,\n",
              "        0.00908305, 0.02770532, 0.03306355, 0.03150882]),\n",
              " 'param_learning_rate': masked_array(data=[0.01, 0.01, 0.01, 0.1, 0.1, 0.1, 1, 1, 1],\n",
              "              mask=[False, False, False, False, False, False, False, False,\n",
              "                    False],\n",
              "        fill_value='?',\n",
              "             dtype=object),\n",
              " 'param_max_depth': masked_array(data=[5, 8, 11, 5, 8, 11, 5, 8, 11],\n",
              "              mask=[False, False, False, False, False, False, False, False,\n",
              "                    False],\n",
              "        fill_value='?',\n",
              "             dtype=object),\n",
              " 'params': [{'learning_rate': 0.01, 'max_depth': 5},\n",
              "  {'learning_rate': 0.01, 'max_depth': 8},\n",
              "  {'learning_rate': 0.01, 'max_depth': 11},\n",
              "  {'learning_rate': 0.1, 'max_depth': 5},\n",
              "  {'learning_rate': 0.1, 'max_depth': 8},\n",
              "  {'learning_rate': 0.1, 'max_depth': 11},\n",
              "  {'learning_rate': 1, 'max_depth': 5},\n",
              "  {'learning_rate': 1, 'max_depth': 8},\n",
              "  {'learning_rate': 1, 'max_depth': 11}],\n",
              " 'split0_test_score': array([0.85170405, 0.87171914, 0.89282798, 0.85170405, 0.87171914,\n",
              "        0.89282798, 0.85170405, 0.87171914, 0.89282798]),\n",
              " 'split1_test_score': array([0.85930986, 0.87752114, 0.89426618, 0.85930986, 0.87752114,\n",
              "        0.89426618, 0.92631994, 0.92633221, 0.89426618]),\n",
              " 'split2_test_score': array([0.85354461, 0.87298511, 0.89462511, 0.85354461, 0.87298511,\n",
              "        0.89462511, 0.91346581, 0.92190476, 0.89462511]),\n",
              " 'split3_test_score': array([0.85477291, 0.87006387, 0.88574357, 0.85477291, 0.87006387,\n",
              "        0.88574357, 0.92548553, 0.87006387, 0.88574357]),\n",
              " 'mean_test_score': array([0.85483286, 0.87307232, 0.89186571, 0.85483286, 0.87307232,\n",
              "        0.89186571, 0.90424383, 0.897505  , 0.89186571]),\n",
              " 'std_test_score': array([0.00280607, 0.00276954, 0.00359802, 0.00280607, 0.00276954,\n",
              "        0.00359802, 0.03075727, 0.02666591, 0.00359802]),\n",
              " 'rank_test_score': array([8, 6, 3, 8, 6, 3, 1, 2, 3], dtype=int32),\n",
              " 'split0_train_score': array([0.85542003, 0.87793829, 0.91258461, 0.85542003, 0.87793829,\n",
              "        0.91258461, 0.85542003, 0.87793829, 0.91258461]),\n",
              " 'split1_train_score': array([0.85999764, 0.88020037, 0.91262136, 0.85999764, 0.88020037,\n",
              "        0.91262136, 0.94545335, 0.99990299, 0.91262136]),\n",
              " 'split2_train_score': array([0.85373526, 0.8778006 , 0.9127398 , 0.85373526, 0.8778006 ,\n",
              "        0.9127398 , 0.92187859, 0.97964181, 0.9127398 ]),\n",
              " 'split3_train_score': array([0.85684864, 0.87915197, 0.90999303, 0.85684864, 0.87915197,\n",
              "        0.90999303, 0.94522129, 0.87915197, 0.90999303]),\n",
              " 'mean_train_score': array([0.85650039, 0.87877281, 0.9119847 , 0.85650039, 0.87877281,\n",
              "        0.9119847 , 0.91699332, 0.93415877, 0.9119847 ]),\n",
              " 'std_train_score': array([0.00230028, 0.00097767, 0.00115132, 0.00230028, 0.00097767,\n",
              "        0.00115132, 0.03681687, 0.05607473, 0.00115132])}"
            ]
          },
          "metadata": {
            "tags": []
          },
          "execution_count": 72
        }
      ]
    },
    {
      "cell_type": "code",
      "metadata": {
        "scrolled": true,
        "id": "yiRUN2JAsCLm",
        "outputId": "20da1de2-fd13-4ba4-e172-3d30cc6edf2e"
      },
      "source": [
        "xgb = XGBClassifier(n_estimators=100, learning_rate = 1, max_depth = 5)\n",
        "xgb.fit(X_train,y_train,early_stopping_rounds=40,\n",
        "             eval_metric=\"error\", eval_set=[(X_valid, y_valid)])"
      ],
      "execution_count": null,
      "outputs": [
        {
          "output_type": "stream",
          "text": [
            "[0]\tvalidation_0-error:0.18487\n",
            "Will train until validation_0-error hasn't improved in 40 rounds.\n",
            "[1]\tvalidation_0-error:0.18487\n",
            "[2]\tvalidation_0-error:0.18487\n",
            "[3]\tvalidation_0-error:0.18487\n",
            "[4]\tvalidation_0-error:0.18487\n",
            "[5]\tvalidation_0-error:0.18487\n",
            "[6]\tvalidation_0-error:0.18487\n",
            "[7]\tvalidation_0-error:0.18487\n",
            "[8]\tvalidation_0-error:0.18487\n",
            "[9]\tvalidation_0-error:0.18487\n",
            "[10]\tvalidation_0-error:0.18487\n",
            "[11]\tvalidation_0-error:0.18487\n",
            "[12]\tvalidation_0-error:0.18487\n",
            "[13]\tvalidation_0-error:0.18487\n",
            "[14]\tvalidation_0-error:0.18487\n",
            "[15]\tvalidation_0-error:0.18487\n",
            "[16]\tvalidation_0-error:0.18487\n",
            "[17]\tvalidation_0-error:0.18487\n",
            "[18]\tvalidation_0-error:0.18487\n",
            "[19]\tvalidation_0-error:0.18487\n",
            "[20]\tvalidation_0-error:0.18487\n",
            "[21]\tvalidation_0-error:0.18487\n",
            "[22]\tvalidation_0-error:0.18487\n",
            "[23]\tvalidation_0-error:0.18511\n",
            "[24]\tvalidation_0-error:0.18511\n",
            "[25]\tvalidation_0-error:0.18487\n",
            "[26]\tvalidation_0-error:0.18487\n",
            "[27]\tvalidation_0-error:0.18487\n",
            "[28]\tvalidation_0-error:0.18487\n",
            "[29]\tvalidation_0-error:0.18487\n",
            "[30]\tvalidation_0-error:0.18487\n",
            "[31]\tvalidation_0-error:0.18487\n",
            "[32]\tvalidation_0-error:0.18487\n",
            "[33]\tvalidation_0-error:0.18487\n",
            "[34]\tvalidation_0-error:0.18487\n",
            "[35]\tvalidation_0-error:0.18487\n",
            "[36]\tvalidation_0-error:0.18487\n",
            "[37]\tvalidation_0-error:0.18487\n",
            "[38]\tvalidation_0-error:0.18487\n",
            "[39]\tvalidation_0-error:0.18487\n",
            "[40]\tvalidation_0-error:0.18487\n",
            "Stopping. Best iteration:\n",
            "[0]\tvalidation_0-error:0.18487\n",
            "\n"
          ],
          "name": "stdout"
        },
        {
          "output_type": "execute_result",
          "data": {
            "text/plain": [
              "XGBClassifier(base_score=0.5, booster='gbtree', colsample_bylevel=1,\n",
              "              colsample_bynode=1, colsample_bytree=1, gamma=0, gpu_id=-1,\n",
              "              importance_type='gain', interaction_constraints='',\n",
              "              learning_rate=1, max_delta_step=0, max_depth=5,\n",
              "              min_child_weight=1, missing=nan, monotone_constraints='()',\n",
              "              n_estimators=100, n_jobs=0, num_parallel_tree=1, random_state=0,\n",
              "              reg_alpha=0, reg_lambda=1, scale_pos_weight=1, subsample=1,\n",
              "              tree_method='exact', validate_parameters=1, verbosity=None)"
            ]
          },
          "metadata": {
            "tags": []
          },
          "execution_count": 32
        }
      ]
    },
    {
      "cell_type": "code",
      "metadata": {
        "scrolled": false,
        "id": "OHJrbiM7sCLm",
        "outputId": "b46b2b99-6079-4ba9-985f-88b8a88c4f93"
      },
      "source": [
        "xgb = xgb_grid.best_estimator_\n",
        "\n",
        "threshold_interval = np.linspace(0,1,101)\n",
        "ths_table = pd.DataFrame()\n",
        "idx = 0\n",
        "\n",
        "for i in threshold_interval:\n",
        "    valid_result_temp = pd.DataFrame(xgb.predict_proba(X_valid)[:,1],columns=['pred_prob'])\n",
        "    valid_result_temp['binary'] = np.where(valid_result_temp['pred_prob']>=i,1,0)\n",
        "\n",
        "    ths_table.loc[idx,'threshold'] = i\n",
        "    ths_table.loc[idx,'accuracy'] = accuracy_score(y_valid, valid_result_temp['binary'])\n",
        "    ths_table.loc[idx,'f1_score'] = f1_score(y_valid, valid_result_temp['binary'])\n",
        "    ths_table.loc[idx,'recall'] = recall_score(y_valid, valid_result_temp['binary'])\n",
        "    idx += 1\n",
        "    \n",
        "mx_idx = ths_table['f1_score'].idxmax()\n",
        "# print(ths_table.iloc[mx_idx])\n",
        "\n",
        "optimal_threshold_xgb = ths_table.iloc[mx_idx].threshold\n",
        "print('optimal threshold(XGB) : {}'.format(optimal_threshold_xgb))\n",
        "\n",
        "test_result2 = pd.DataFrame(xgb.predict_proba(X_test)[:,1],columns=['pred_prob'])\n",
        "test_result2['xgb_binary'] = np.where(test_result2['pred_prob']>=optimal_threshold_xgb,1,0)\n",
        "\n",
        "print('f1_score : ', f1_score(y_test, test_result2['xgb_binary']))\n",
        "print('accuracy : ', accuracy_score(y_test, test_result2['xgb_binary']))\n",
        "print('recall : ', recall_score(y_test, test_result2['xgb_binary']))\n",
        "print('roc_auc : ', roc_auc_score(y_test, test_result2['xgb_binary']))"
      ],
      "execution_count": null,
      "outputs": [
        {
          "output_type": "stream",
          "text": [
            "optimal threshold(XGB) : 0.0\n",
            "f1_score :  0.310376492194674\n",
            "accuracy :  0.18369565217391304\n",
            "recall :  1.0\n",
            "roc_auc :  0.5\n"
          ],
          "name": "stdout"
        }
      ]
    },
    {
      "cell_type": "code",
      "metadata": {
        "id": "KiEX0SiasCLm",
        "outputId": "200afac4-52bf-4997-df82-fb94a2e81c5e"
      },
      "source": [
        "feature_pd = pd.DataFrame(zip(X_test.columns, xgb.feature_importances_),columns=['feature', 'importance'])\n",
        "feature_pd = feature_pd.sort_values('importance',ascending=False).head(20)\n",
        "\n",
        "fig = plt.figure(figsize=(15, 8))\n",
        "plt.bar(feature_pd.feature, feature_pd.importance)\n",
        "plt.xticks(rotation=90)\n",
        "plt.tight_layout()"
      ],
      "execution_count": null,
      "outputs": [
        {
          "output_type": "display_data",
          "data": {
            "image/png": "[encoded data removed]",
            "text/plain": [
              "<Figure size 1080x576 with 1 Axes>"
            ]
          },
          "metadata": {
            "tags": [],
            "needs_background": "light"
          }
        }
      ]
    },
    {
      "cell_type": "markdown",
      "metadata": {
        "id": "wITjt7j93Way"
      },
      "source": [
        "### 2)Version2"
      ]
    },
    {
      "cell_type": "code",
      "metadata": {
        "id": "unlikely-gauge",
        "outputId": "e97186ef-9900-4e73-a517-0ea69a1d9bef"
      },
      "source": [
        "xgb = XGBClassifier(objective='binary:logistic',booster='gbtree', n_estimators=100, random_state=47)\n",
        "xgb_param_grid = {'max_depth': [5,8,11],'learning_rate':[0.01, 0.1, 1]} \n",
        "xgb_grid = GridSearchCV(estimator=xgb, param_grid=xgb_param_grid, scoring='f1', \n",
        "                        n_jobs=10, cv=4, refit=True, return_train_score=True)\n",
        "\n",
        "xgb_grid.fit(X_smote, y_smote, early_stopping_rounds=25, \n",
        "             eval_metric=\"error\", eval_set=[(X_valid, y_valid)])\n",
        "print('final params', xgb_grid.best_params_)\n",
        "print('best score', xgb_grid.best_score_)"
      ],
      "execution_count": null,
      "outputs": [
        {
          "output_type": "stream",
          "text": [
            "[0]\tvalidation_0-error:0.59728\n",
            "Will train until validation_0-error hasn't improved in 25 rounds.\n",
            "[1]\tvalidation_0-error:0.56132\n",
            "[2]\tvalidation_0-error:0.51580\n",
            "[3]\tvalidation_0-error:0.51087\n",
            "[4]\tvalidation_0-error:0.49493\n",
            "[5]\tvalidation_0-error:0.49783\n",
            "[6]\tvalidation_0-error:0.50246\n",
            "[7]\tvalidation_0-error:0.49956\n",
            "[8]\tvalidation_0-error:0.49435\n",
            "[9]\tvalidation_0-error:0.49377\n",
            "[10]\tvalidation_0-error:0.49232\n",
            "[11]\tvalidation_0-error:0.50072\n",
            "[12]\tvalidation_0-error:0.49985\n",
            "[13]\tvalidation_0-error:0.49377\n",
            "[14]\tvalidation_0-error:0.49145\n",
            "[15]\tvalidation_0-error:0.48217\n",
            "[16]\tvalidation_0-error:0.47985\n",
            "[17]\tvalidation_0-error:0.47405\n",
            "[18]\tvalidation_0-error:0.47202\n",
            "[19]\tvalidation_0-error:0.46767\n",
            "[20]\tvalidation_0-error:0.46100\n",
            "[21]\tvalidation_0-error:0.45520\n",
            "[22]\tvalidation_0-error:0.44216\n",
            "[23]\tvalidation_0-error:0.43955\n",
            "[24]\tvalidation_0-error:0.43201\n",
            "[25]\tvalidation_0-error:0.42969\n",
            "[26]\tvalidation_0-error:0.43027\n",
            "[27]\tvalidation_0-error:0.43810\n",
            "[28]\tvalidation_0-error:0.43549\n",
            "[29]\tvalidation_0-error:0.43172\n",
            "[30]\tvalidation_0-error:0.42737\n",
            "[31]\tvalidation_0-error:0.42534\n",
            "[32]\tvalidation_0-error:0.42650\n",
            "[33]\tvalidation_0-error:0.42534\n",
            "[34]\tvalidation_0-error:0.42563\n",
            "[35]\tvalidation_0-error:0.42186\n",
            "[36]\tvalidation_0-error:0.41606\n",
            "[37]\tvalidation_0-error:0.41316\n",
            "[38]\tvalidation_0-error:0.41345\n",
            "[39]\tvalidation_0-error:0.41316\n",
            "[40]\tvalidation_0-error:0.41113\n",
            "[41]\tvalidation_0-error:0.40997\n",
            "[42]\tvalidation_0-error:0.40823\n",
            "[43]\tvalidation_0-error:0.40939\n",
            "[44]\tvalidation_0-error:0.40243\n",
            "[45]\tvalidation_0-error:0.39838\n",
            "[46]\tvalidation_0-error:0.39867\n",
            "[47]\tvalidation_0-error:0.39751\n",
            "[48]\tvalidation_0-error:0.39316\n",
            "[49]\tvalidation_0-error:0.39084\n",
            "[50]\tvalidation_0-error:0.38852\n",
            "[51]\tvalidation_0-error:0.39055\n",
            "[52]\tvalidation_0-error:0.39142\n",
            "[53]\tvalidation_0-error:0.38417\n",
            "[54]\tvalidation_0-error:0.37779\n",
            "[55]\tvalidation_0-error:0.38243\n",
            "[56]\tvalidation_0-error:0.38040\n",
            "[57]\tvalidation_0-error:0.37663\n",
            "[58]\tvalidation_0-error:0.37373\n",
            "[59]\tvalidation_0-error:0.37489\n",
            "[60]\tvalidation_0-error:0.36938\n",
            "[61]\tvalidation_0-error:0.36822\n",
            "[62]\tvalidation_0-error:0.36793\n",
            "[63]\tvalidation_0-error:0.36532\n",
            "[64]\tvalidation_0-error:0.35952\n",
            "[65]\tvalidation_0-error:0.35750\n",
            "[66]\tvalidation_0-error:0.35634\n",
            "[67]\tvalidation_0-error:0.35112\n",
            "[68]\tvalidation_0-error:0.34793\n",
            "[69]\tvalidation_0-error:0.34474\n",
            "[70]\tvalidation_0-error:0.34300\n",
            "[71]\tvalidation_0-error:0.35575\n",
            "[72]\tvalidation_0-error:0.35518\n",
            "[73]\tvalidation_0-error:0.34967\n",
            "[74]\tvalidation_0-error:0.34822\n",
            "[75]\tvalidation_0-error:0.34155\n",
            "[76]\tvalidation_0-error:0.33691\n",
            "[77]\tvalidation_0-error:0.33517\n",
            "[78]\tvalidation_0-error:0.33575\n",
            "[79]\tvalidation_0-error:0.33314\n",
            "[80]\tvalidation_0-error:0.33111\n",
            "[81]\tvalidation_0-error:0.32850\n",
            "[82]\tvalidation_0-error:0.32270\n",
            "[83]\tvalidation_0-error:0.32183\n",
            "[84]\tvalidation_0-error:0.32415\n",
            "[85]\tvalidation_0-error:0.32183\n",
            "[86]\tvalidation_0-error:0.31893\n",
            "[87]\tvalidation_0-error:0.31777\n",
            "[88]\tvalidation_0-error:0.31632\n",
            "[89]\tvalidation_0-error:0.31400\n",
            "[90]\tvalidation_0-error:0.31429\n",
            "[91]\tvalidation_0-error:0.31139\n",
            "[92]\tvalidation_0-error:0.31632\n",
            "[93]\tvalidation_0-error:0.31516\n",
            "[94]\tvalidation_0-error:0.31168\n",
            "[95]\tvalidation_0-error:0.31226\n",
            "[96]\tvalidation_0-error:0.30937\n",
            "[97]\tvalidation_0-error:0.30850\n",
            "[98]\tvalidation_0-error:0.30618\n",
            "[99]\tvalidation_0-error:0.30791\n",
            "final params {'learning_rate': 0.1, 'max_depth': 5}\n",
            "best score 0.8887009865999203\n"
          ],
          "name": "stdout"
        }
      ]
    },
    {
      "cell_type": "code",
      "metadata": {
        "id": "dangerous-protocol",
        "outputId": "b5fa2830-f62d-42d7-aa38-17e35cf3bd60"
      },
      "source": [
        "xgb = xgb_grid.best_estimator_\n",
        "xgb.fit(X_smote,y_smote)\n"
      ],
      "execution_count": null,
      "outputs": [
        {
          "output_type": "execute_result",
          "data": {
            "text/plain": [
              "XGBClassifier(base_score=0.5, booster='gbtree', colsample_bylevel=1,\n",
              "              colsample_bynode=1, colsample_bytree=1, gamma=0, gpu_id=-1,\n",
              "              importance_type='gain', interaction_constraints='',\n",
              "              learning_rate=0.1, max_delta_step=0, max_depth=5,\n",
              "              min_child_weight=1, missing=nan, monotone_constraints='()',\n",
              "              n_estimators=100, n_jobs=0, num_parallel_tree=1, random_state=47,\n",
              "              reg_alpha=0, reg_lambda=1, scale_pos_weight=1, subsample=1,\n",
              "              tree_method='exact', validate_parameters=1, verbosity=None)"
            ]
          },
          "metadata": {
            "tags": []
          },
          "execution_count": 29
        }
      ]
    },
    {
      "cell_type": "code",
      "metadata": {
        "id": "acute-thought",
        "outputId": "eee65f93-483e-464d-da71-d853dbe07501"
      },
      "source": [
        "eval_pred = xgb.predict(X_eval)\n",
        "print(f1_score(y_eval, eval_pred, pos_label=1))"
      ],
      "execution_count": null,
      "outputs": [
        {
          "output_type": "stream",
          "text": [
            "0.4647599591419816\n"
          ],
          "name": "stdout"
        }
      ]
    },
    {
      "cell_type": "code",
      "metadata": {
        "id": "confused-brief",
        "outputId": "d7e29ba0-d003-4fdd-f796-c810c3b945ce"
      },
      "source": [
        "xgb.score(X_eval, y_eval)"
      ],
      "execution_count": null,
      "outputs": [
        {
          "output_type": "execute_result",
          "data": {
            "text/plain": [
              "0.6961438097999421"
            ]
          },
          "metadata": {
            "tags": []
          },
          "execution_count": 32
        }
      ]
    },
    {
      "cell_type": "code",
      "metadata": {
        "id": "historical-attraction",
        "outputId": "9abd52fb-5048-47c8-a9e8-5d4eb2ed73f6"
      },
      "source": [
        "fpr, tpr, threshold = roc_curve(y_eval,eval_pred)\n",
        "roc_auc = auc(fpr,tpr)\n",
        "roc_auc"
      ],
      "execution_count": null,
      "outputs": [
        {
          "output_type": "execute_result",
          "data": {
            "text/plain": [
              "0.7031599268441373"
            ]
          },
          "metadata": {
            "tags": []
          },
          "execution_count": 34
        }
      ]
    },
    {
      "cell_type": "code",
      "metadata": {
        "id": "excess-hungarian",
        "outputId": "52654527-b796-492a-c243-5b6c2bb9af09"
      },
      "source": [
        "from sklearn.metrics import precision_score, recall_score\n",
        "print(recall_score(y_eval, eval_pred,pos_label=1))\n",
        "print(precision_score(y_eval, eval_pred,pos_label=1))"
      ],
      "execution_count": null,
      "outputs": [
        {
          "output_type": "stream",
          "text": [
            "0.7142857142857143\n",
            "0.3444360333080999\n"
          ],
          "name": "stdout"
        }
      ]
    },
    {
      "cell_type": "code",
      "metadata": {
        "id": "directed-hardware",
        "outputId": "7a72c503-b17a-4d30-80f0-48ede63fc96e"
      },
      "source": [
        "feature_pd = pd.DataFrame(zip(X_test.columns, xgb.feature_importances_),columns=['feature', 'importance'])\n",
        "feature_pd = feature_pd.sort_values('importance',ascending=False).head(20)\n",
        "\n",
        "fig = plt.figure(figsize=(15, 8))\n",
        "plt.bar(feature_pd.feature, feature_pd.importance)\n",
        "plt.xticks(rotation=90)\n",
        "plt.show()"
      ],
      "execution_count": null,
      "outputs": [
        {
          "output_type": "display_data",
          "data": {
            "image/png": "[encoded data removed]",
            "text/plain": [
              "<Figure size 1080x576 with 1 Axes>"
            ]
          },
          "metadata": {
            "tags": [],
            "needs_background": "light"
          }
        }
      ]
    },
    {
      "cell_type": "code",
      "metadata": {
        "id": "affiliated-madagascar",
        "outputId": "3f2b4513-0ba3-4ac9-e3bc-ad40e0b622af"
      },
      "source": [
        "feature_pd.feature"
      ],
      "execution_count": null,
      "outputs": [
        {
          "output_type": "execute_result",
          "data": {
            "text/plain": [
              "99           건물구조_9.0\n",
              "45      전기 에너지 사용량_8월\n",
              "62             건물승인여부\n",
              "192          사용여부_0.0\n",
              "100         건물구조_10.0\n",
              "97           건물구조_7.0\n",
              "98           건물구조_8.0\n",
              "4            건물들지상층수합\n",
              "0                건물채수\n",
              "8                  풍속\n",
              "28           소방용수시설거리\n",
              "7                 강수량\n",
              "193          사용여부_1.0\n",
              "1              건물건축면적\n",
              "91           건물구조_1.0\n",
              "129      용도지역지구명_15.0\n",
              "48     전기 에너지 사용량_11월\n",
              "105         건물구조_15.0\n",
              "37           반경50m건물수\n",
              "158      토지이용상황명_11.0\n",
              "Name: feature, dtype: object"
            ]
          },
          "metadata": {
            "tags": []
          },
          "execution_count": 36
        }
      ]
    },
    {
      "cell_type": "markdown",
      "metadata": {
        "id": "jwNMXUBB6Cc3"
      },
      "source": [
        "## 8.LGB Model"
      ]
    },
    {
      "cell_type": "markdown",
      "metadata": {
        "id": "beC2qH7T3f6z"
      },
      "source": [
        "### 1)Version1"
      ]
    },
    {
      "cell_type": "code",
      "metadata": {
        "scrolled": true,
        "id": "UyplJrBGw4Ah",
        "outputId": "3f28c7b1-6e3f-422a-fccd-5117e8cba05b"
      },
      "source": [
        "lgb = LGBMClassifier(n_estimators=100)\n",
        "lgbm_params={'learning_rate':[0.01,0.1,0.4,0.7,1],'max_depth' : [5,7,9,11], 'num_leaves' : [30,110,400,800]}\n",
        "\n",
        "lgbm_grid = GridSearchCV(estimator=lgb, param_grid=lgbm_params, scoring='f1', \n",
        "                        n_jobs=10, cv=4, refit=True, return_train_score=True)\n",
        "\n",
        "lgbm_grid.fit(X_train,y_train,early_stopping_rounds=40,\n",
        "             eval_metric=\"error\", eval_set=[(X_valid, y_valid)])\n",
        "print('final params', lgbm_grid.best_params_)\n",
        "print('best score', lgbm_grid.best_score_)"
      ],
      "execution_count": null,
      "outputs": [
        {
          "output_type": "stream",
          "text": [
            "[1]\tvalid_0's binary_error: 0.184872\tvalid_0's binary_logloss: 0.686977\n",
            "Training until validation scores don't improve for 40 rounds\n",
            "[2]\tvalid_0's binary_error: 0.184872\tvalid_0's binary_logloss: 0.680882\n",
            "[3]\tvalid_0's binary_error: 0.184872\tvalid_0's binary_logloss: 0.674944\n",
            "[4]\tvalid_0's binary_error: 0.184872\tvalid_0's binary_logloss: 0.669157\n",
            "[5]\tvalid_0's binary_error: 0.184872\tvalid_0's binary_logloss: 0.663516\n",
            "[6]\tvalid_0's binary_error: 0.184872\tvalid_0's binary_logloss: 0.658019\n",
            "[7]\tvalid_0's binary_error: 0.184872\tvalid_0's binary_logloss: 0.65266\n",
            "[8]\tvalid_0's binary_error: 0.184872\tvalid_0's binary_logloss: 0.647436\n",
            "[9]\tvalid_0's binary_error: 0.184872\tvalid_0's binary_logloss: 0.642343\n",
            "[10]\tvalid_0's binary_error: 0.184872\tvalid_0's binary_logloss: 0.637378\n",
            "[11]\tvalid_0's binary_error: 0.184872\tvalid_0's binary_logloss: 0.632537\n",
            "[12]\tvalid_0's binary_error: 0.184872\tvalid_0's binary_logloss: 0.627818\n",
            "[13]\tvalid_0's binary_error: 0.184872\tvalid_0's binary_logloss: 0.623216\n",
            "[14]\tvalid_0's binary_error: 0.184872\tvalid_0's binary_logloss: 0.618729\n",
            "[15]\tvalid_0's binary_error: 0.184872\tvalid_0's binary_logloss: 0.614354\n",
            "[16]\tvalid_0's binary_error: 0.184872\tvalid_0's binary_logloss: 0.610088\n",
            "[17]\tvalid_0's binary_error: 0.184872\tvalid_0's binary_logloss: 0.605928\n",
            "[18]\tvalid_0's binary_error: 0.184872\tvalid_0's binary_logloss: 0.601872\n",
            "[19]\tvalid_0's binary_error: 0.184872\tvalid_0's binary_logloss: 0.597917\n",
            "[20]\tvalid_0's binary_error: 0.184872\tvalid_0's binary_logloss: 0.594062\n",
            "[21]\tvalid_0's binary_error: 0.184872\tvalid_0's binary_logloss: 0.590302\n",
            "[22]\tvalid_0's binary_error: 0.184872\tvalid_0's binary_logloss: 0.586637\n",
            "[23]\tvalid_0's binary_error: 0.184872\tvalid_0's binary_logloss: 0.583063\n",
            "[24]\tvalid_0's binary_error: 0.184872\tvalid_0's binary_logloss: 0.579579\n",
            "[25]\tvalid_0's binary_error: 0.184872\tvalid_0's binary_logloss: 0.576183\n",
            "[26]\tvalid_0's binary_error: 0.184872\tvalid_0's binary_logloss: 0.572873\n",
            "[27]\tvalid_0's binary_error: 0.184872\tvalid_0's binary_logloss: 0.569646\n",
            "[28]\tvalid_0's binary_error: 0.184872\tvalid_0's binary_logloss: 0.566501\n",
            "[29]\tvalid_0's binary_error: 0.184872\tvalid_0's binary_logloss: 0.563437\n",
            "[30]\tvalid_0's binary_error: 0.184872\tvalid_0's binary_logloss: 0.56045\n",
            "[31]\tvalid_0's binary_error: 0.184872\tvalid_0's binary_logloss: 0.55754\n",
            "[32]\tvalid_0's binary_error: 0.184872\tvalid_0's binary_logloss: 0.554706\n",
            "[33]\tvalid_0's binary_error: 0.184872\tvalid_0's binary_logloss: 0.551944\n",
            "[34]\tvalid_0's binary_error: 0.184872\tvalid_0's binary_logloss: 0.549254\n",
            "[35]\tvalid_0's binary_error: 0.184872\tvalid_0's binary_logloss: 0.546635\n",
            "[36]\tvalid_0's binary_error: 0.184872\tvalid_0's binary_logloss: 0.544084\n",
            "[37]\tvalid_0's binary_error: 0.184872\tvalid_0's binary_logloss: 0.541601\n",
            "[38]\tvalid_0's binary_error: 0.184872\tvalid_0's binary_logloss: 0.539183\n",
            "[39]\tvalid_0's binary_error: 0.184872\tvalid_0's binary_logloss: 0.536831\n",
            "[40]\tvalid_0's binary_error: 0.184872\tvalid_0's binary_logloss: 0.534541\n",
            "[41]\tvalid_0's binary_error: 0.184872\tvalid_0's binary_logloss: 0.532314\n",
            "Early stopping, best iteration is:\n",
            "[1]\tvalid_0's binary_error: 0.184872\tvalid_0's binary_logloss: 0.686977\n",
            "final params {'learning_rate': 0.01, 'max_depth': 11, 'num_leaves': 110}\n",
            "best score 0.8911366785552858\n"
          ],
          "name": "stdout"
        }
      ]
    },
    {
      "cell_type": "code",
      "metadata": {
        "id": "xn-cHeUGsCLj",
        "outputId": "455fdec8-1fdb-483b-8bcb-fd68ed410ee8"
      },
      "source": [
        "lgbm_grid.cv_results_"
      ],
      "execution_count": null,
      "outputs": [
        {
          "output_type": "execute_result",
          "data": {
            "text/plain": [
              "{'mean_fit_time': array([3.29767001, 2.91650867, 2.82285851, 2.98218733, 3.43158847,\n",
              "        3.7816146 , 4.28922802, 3.79344845, 3.5407418 , 4.8168183 ,\n",
              "        5.42287374, 5.4755221 , 3.63928843, 5.3949554 , 7.37532943,\n",
              "        7.55855823, 2.95047468, 3.03190362, 2.90391207, 2.91395772,\n",
              "        3.12000149, 3.92717165, 3.812415  , 3.63644534, 3.33714026,\n",
              "        4.41531253, 4.63086653, 4.92870772, 3.6566537 , 5.00743824,\n",
              "        5.98099941, 6.52034223, 3.05308497, 2.8866961 , 2.87970263,\n",
              "        2.89210725, 2.95005357, 3.48312426, 3.56248868, 3.49608099,\n",
              "        2.98943448, 4.19760704, 4.9342618 , 4.79642361, 3.04495656,\n",
              "        4.4582029 , 6.60057497, 7.10214692, 2.90834373, 2.81139332,\n",
              "        2.75693607, 3.14129525, 3.05177867, 3.59334749, 3.6780982 ,\n",
              "        3.59595722, 2.86352563, 4.90700567, 5.13677347, 5.41760993,\n",
              "        3.21930748, 4.81025797, 7.18153816, 8.27299571, 2.94932973,\n",
              "        3.16084355, 3.04030597, 3.21654087, 3.26339144, 3.48251122,\n",
              "        3.63631248, 3.45079321, 3.24944532, 4.566733  , 5.71357292,\n",
              "        5.92359537, 3.36364597, 5.08059037, 8.14087492, 6.89271092]),\n",
              " 'std_fit_time': array([0.34157517, 0.03839351, 0.05306722, 0.26062438, 0.30656693,\n",
              "        0.03846   , 0.50256064, 0.1403233 , 0.0230491 , 0.46388728,\n",
              "        0.51350603, 0.49592254, 0.05139953, 0.51476798, 0.09005724,\n",
              "        0.12073115, 0.05582554, 0.2378427 , 0.01839883, 0.01401434,\n",
              "        0.03363556, 0.40334931, 0.34695826, 0.06748539, 0.02703235,\n",
              "        0.37114484, 0.03662206, 0.38422003, 0.29931074, 0.46402699,\n",
              "        0.05848023, 0.53951445, 0.23454672, 0.02393018, 0.24391521,\n",
              "        0.20082037, 0.02070193, 0.08269849, 0.04545027, 0.03980089,\n",
              "        0.0378113 , 0.04887643, 0.37617395, 0.08791463, 0.04445097,\n",
              "        0.02023853, 0.09140378, 0.5348103 , 0.07419155, 0.01300025,\n",
              "        0.04281213, 0.20353689, 0.24340816, 0.06692415, 0.04774363,\n",
              "        0.07446655, 0.03846368, 0.44264218, 0.06178256, 0.46938345,\n",
              "        0.25306387, 0.02263726, 0.05109343, 0.74884988, 0.09154903,\n",
              "        0.18404051, 0.02875629, 0.26029921, 0.1019324 , 0.03047488,\n",
              "        0.22922662, 0.04786692, 0.05468894, 0.51833464, 0.9797816 ,\n",
              "        0.97897854, 0.04629817, 0.50710447, 0.47152993, 0.98397709]),\n",
              " 'mean_score_time': array([0.39531118, 0.38992131, 0.36637181, 0.35300469, 0.40879411,\n",
              "        0.47964585, 0.46986502, 0.47476876, 0.44846088, 0.52388054,\n",
              "        0.60005409, 0.59706116, 0.47801405, 0.5722304 , 0.74780101,\n",
              "        0.70770675, 0.37188381, 0.371225  , 0.35640693, 0.36071926,\n",
              "        0.42068225, 0.4721511 , 0.49104071, 0.445862  , 0.46971893,\n",
              "        0.55497396, 0.59796381, 0.5750367 , 0.48668587, 0.58920932,\n",
              "        0.71772712, 0.70692927, 0.37966782, 0.38219392, 0.374681  ,\n",
              "        0.37498826, 0.42964369, 0.54348803, 0.54725367, 0.51713943,\n",
              "        0.41683847, 0.65595776, 0.67829478, 0.68047768, 0.40330148,\n",
              "        0.68641752, 0.8677097 , 0.809349  , 0.39788759, 0.39457017,\n",
              "        0.38473099, 0.37873906, 0.43107128, 0.55812895, 0.58096617,\n",
              "        0.53899455, 0.4358812 , 0.6885137 , 0.69490933, 0.72074109,\n",
              "        0.43356103, 0.7148757 , 0.92086869, 0.92308778, 0.40149522,\n",
              "        0.42310947, 0.41679454, 0.41389972, 0.47975224, 0.54344523,\n",
              "        0.56239653, 0.55583781, 0.49336278, 0.7003687 , 0.77259982,\n",
              "        0.79406363, 0.47440964, 0.82950109, 0.76171571, 0.6111775 ]),\n",
              " 'std_score_time': array([0.00728545, 0.00641728, 0.03248858, 0.01180938, 0.01785332,\n",
              "        0.00377104, 0.00765614, 0.02973932, 0.0029091 , 0.02268825,\n",
              "        0.02268834, 0.02925538, 0.01374426, 0.01198438, 0.02481678,\n",
              "        0.01461244, 0.00664395, 0.01368932, 0.00944501, 0.00790238,\n",
              "        0.00587805, 0.01319512, 0.00937437, 0.00898835, 0.00852053,\n",
              "        0.01336252, 0.01334841, 0.0327495 , 0.00617421, 0.00904772,\n",
              "        0.00504363, 0.0240263 , 0.00892024, 0.00717016, 0.0175909 ,\n",
              "        0.00563203, 0.00590201, 0.01592235, 0.00739365, 0.00361021,\n",
              "        0.00569867, 0.02541524, 0.01369057, 0.01613083, 0.01104378,\n",
              "        0.01579608, 0.01256247, 0.00941266, 0.01754552, 0.00448151,\n",
              "        0.01215603, 0.00904091, 0.01622491, 0.0026954 , 0.00782623,\n",
              "        0.01541033, 0.01728177, 0.00523985, 0.02151345, 0.05722316,\n",
              "        0.0217859 , 0.01205319, 0.01186357, 0.03651866, 0.01515264,\n",
              "        0.01794646, 0.00324013, 0.0089058 , 0.00290468, 0.00818758,\n",
              "        0.02178404, 0.01865934, 0.03392847, 0.0278475 , 0.03505654,\n",
              "        0.05232737, 0.01867065, 0.01781083, 0.03633067, 0.07783736]),\n",
              " 'param_learning_rate': masked_array(data=[0.01, 0.01, 0.01, 0.01, 0.01, 0.01, 0.01, 0.01, 0.01,\n",
              "                    0.01, 0.01, 0.01, 0.01, 0.01, 0.01, 0.01, 0.1, 0.1,\n",
              "                    0.1, 0.1, 0.1, 0.1, 0.1, 0.1, 0.1, 0.1, 0.1, 0.1, 0.1,\n",
              "                    0.1, 0.1, 0.1, 0.4, 0.4, 0.4, 0.4, 0.4, 0.4, 0.4, 0.4,\n",
              "                    0.4, 0.4, 0.4, 0.4, 0.4, 0.4, 0.4, 0.4, 0.7, 0.7, 0.7,\n",
              "                    0.7, 0.7, 0.7, 0.7, 0.7, 0.7, 0.7, 0.7, 0.7, 0.7, 0.7,\n",
              "                    0.7, 0.7, 1, 1, 1, 1, 1, 1, 1, 1, 1, 1, 1, 1, 1, 1, 1,\n",
              "                    1],\n",
              "              mask=[False, False, False, False, False, False, False, False,\n",
              "                    False, False, False, False, False, False, False, False,\n",
              "                    False, False, False, False, False, False, False, False,\n",
              "                    False, False, False, False, False, False, False, False,\n",
              "                    False, False, False, False, False, False, False, False,\n",
              "                    False, False, False, False, False, False, False, False,\n",
              "                    False, False, False, False, False, False, False, False,\n",
              "                    False, False, False, False, False, False, False, False,\n",
              "                    False, False, False, False, False, False, False, False,\n",
              "                    False, False, False, False, False, False, False, False],\n",
              "        fill_value='?',\n",
              "             dtype=object),\n",
              " 'param_max_depth': masked_array(data=[5, 5, 5, 5, 7, 7, 7, 7, 9, 9, 9, 9, 11, 11, 11, 11, 5,\n",
              "                    5, 5, 5, 7, 7, 7, 7, 9, 9, 9, 9, 11, 11, 11, 11, 5, 5,\n",
              "                    5, 5, 7, 7, 7, 7, 9, 9, 9, 9, 11, 11, 11, 11, 5, 5, 5,\n",
              "                    5, 7, 7, 7, 7, 9, 9, 9, 9, 11, 11, 11, 11, 5, 5, 5, 5,\n",
              "                    7, 7, 7, 7, 9, 9, 9, 9, 11, 11, 11, 11],\n",
              "              mask=[False, False, False, False, False, False, False, False,\n",
              "                    False, False, False, False, False, False, False, False,\n",
              "                    False, False, False, False, False, False, False, False,\n",
              "                    False, False, False, False, False, False, False, False,\n",
              "                    False, False, False, False, False, False, False, False,\n",
              "                    False, False, False, False, False, False, False, False,\n",
              "                    False, False, False, False, False, False, False, False,\n",
              "                    False, False, False, False, False, False, False, False,\n",
              "                    False, False, False, False, False, False, False, False,\n",
              "                    False, False, False, False, False, False, False, False],\n",
              "        fill_value='?',\n",
              "             dtype=object),\n",
              " 'param_num_leaves': masked_array(data=[30, 110, 400, 800, 30, 110, 400, 800, 30, 110, 400,\n",
              "                    800, 30, 110, 400, 800, 30, 110, 400, 800, 30, 110,\n",
              "                    400, 800, 30, 110, 400, 800, 30, 110, 400, 800, 30,\n",
              "                    110, 400, 800, 30, 110, 400, 800, 30, 110, 400, 800,\n",
              "                    30, 110, 400, 800, 30, 110, 400, 800, 30, 110, 400,\n",
              "                    800, 30, 110, 400, 800, 30, 110, 400, 800, 30, 110,\n",
              "                    400, 800, 30, 110, 400, 800, 30, 110, 400, 800, 30,\n",
              "                    110, 400, 800],\n",
              "              mask=[False, False, False, False, False, False, False, False,\n",
              "                    False, False, False, False, False, False, False, False,\n",
              "                    False, False, False, False, False, False, False, False,\n",
              "                    False, False, False, False, False, False, False, False,\n",
              "                    False, False, False, False, False, False, False, False,\n",
              "                    False, False, False, False, False, False, False, False,\n",
              "                    False, False, False, False, False, False, False, False,\n",
              "                    False, False, False, False, False, False, False, False,\n",
              "                    False, False, False, False, False, False, False, False,\n",
              "                    False, False, False, False, False, False, False, False],\n",
              "        fill_value='?',\n",
              "             dtype=object),\n",
              " 'params': [{'learning_rate': 0.01, 'max_depth': 5, 'num_leaves': 30},\n",
              "  {'learning_rate': 0.01, 'max_depth': 5, 'num_leaves': 110},\n",
              "  {'learning_rate': 0.01, 'max_depth': 5, 'num_leaves': 400},\n",
              "  {'learning_rate': 0.01, 'max_depth': 5, 'num_leaves': 800},\n",
              "  {'learning_rate': 0.01, 'max_depth': 7, 'num_leaves': 30},\n",
              "  {'learning_rate': 0.01, 'max_depth': 7, 'num_leaves': 110},\n",
              "  {'learning_rate': 0.01, 'max_depth': 7, 'num_leaves': 400},\n",
              "  {'learning_rate': 0.01, 'max_depth': 7, 'num_leaves': 800},\n",
              "  {'learning_rate': 0.01, 'max_depth': 9, 'num_leaves': 30},\n",
              "  {'learning_rate': 0.01, 'max_depth': 9, 'num_leaves': 110},\n",
              "  {'learning_rate': 0.01, 'max_depth': 9, 'num_leaves': 400},\n",
              "  {'learning_rate': 0.01, 'max_depth': 9, 'num_leaves': 800},\n",
              "  {'learning_rate': 0.01, 'max_depth': 11, 'num_leaves': 30},\n",
              "  {'learning_rate': 0.01, 'max_depth': 11, 'num_leaves': 110},\n",
              "  {'learning_rate': 0.01, 'max_depth': 11, 'num_leaves': 400},\n",
              "  {'learning_rate': 0.01, 'max_depth': 11, 'num_leaves': 800},\n",
              "  {'learning_rate': 0.1, 'max_depth': 5, 'num_leaves': 30},\n",
              "  {'learning_rate': 0.1, 'max_depth': 5, 'num_leaves': 110},\n",
              "  {'learning_rate': 0.1, 'max_depth': 5, 'num_leaves': 400},\n",
              "  {'learning_rate': 0.1, 'max_depth': 5, 'num_leaves': 800},\n",
              "  {'learning_rate': 0.1, 'max_depth': 7, 'num_leaves': 30},\n",
              "  {'learning_rate': 0.1, 'max_depth': 7, 'num_leaves': 110},\n",
              "  {'learning_rate': 0.1, 'max_depth': 7, 'num_leaves': 400},\n",
              "  {'learning_rate': 0.1, 'max_depth': 7, 'num_leaves': 800},\n",
              "  {'learning_rate': 0.1, 'max_depth': 9, 'num_leaves': 30},\n",
              "  {'learning_rate': 0.1, 'max_depth': 9, 'num_leaves': 110},\n",
              "  {'learning_rate': 0.1, 'max_depth': 9, 'num_leaves': 400},\n",
              "  {'learning_rate': 0.1, 'max_depth': 9, 'num_leaves': 800},\n",
              "  {'learning_rate': 0.1, 'max_depth': 11, 'num_leaves': 30},\n",
              "  {'learning_rate': 0.1, 'max_depth': 11, 'num_leaves': 110},\n",
              "  {'learning_rate': 0.1, 'max_depth': 11, 'num_leaves': 400},\n",
              "  {'learning_rate': 0.1, 'max_depth': 11, 'num_leaves': 800},\n",
              "  {'learning_rate': 0.4, 'max_depth': 5, 'num_leaves': 30},\n",
              "  {'learning_rate': 0.4, 'max_depth': 5, 'num_leaves': 110},\n",
              "  {'learning_rate': 0.4, 'max_depth': 5, 'num_leaves': 400},\n",
              "  {'learning_rate': 0.4, 'max_depth': 5, 'num_leaves': 800},\n",
              "  {'learning_rate': 0.4, 'max_depth': 7, 'num_leaves': 30},\n",
              "  {'learning_rate': 0.4, 'max_depth': 7, 'num_leaves': 110},\n",
              "  {'learning_rate': 0.4, 'max_depth': 7, 'num_leaves': 400},\n",
              "  {'learning_rate': 0.4, 'max_depth': 7, 'num_leaves': 800},\n",
              "  {'learning_rate': 0.4, 'max_depth': 9, 'num_leaves': 30},\n",
              "  {'learning_rate': 0.4, 'max_depth': 9, 'num_leaves': 110},\n",
              "  {'learning_rate': 0.4, 'max_depth': 9, 'num_leaves': 400},\n",
              "  {'learning_rate': 0.4, 'max_depth': 9, 'num_leaves': 800},\n",
              "  {'learning_rate': 0.4, 'max_depth': 11, 'num_leaves': 30},\n",
              "  {'learning_rate': 0.4, 'max_depth': 11, 'num_leaves': 110},\n",
              "  {'learning_rate': 0.4, 'max_depth': 11, 'num_leaves': 400},\n",
              "  {'learning_rate': 0.4, 'max_depth': 11, 'num_leaves': 800},\n",
              "  {'learning_rate': 0.7, 'max_depth': 5, 'num_leaves': 30},\n",
              "  {'learning_rate': 0.7, 'max_depth': 5, 'num_leaves': 110},\n",
              "  {'learning_rate': 0.7, 'max_depth': 5, 'num_leaves': 400},\n",
              "  {'learning_rate': 0.7, 'max_depth': 5, 'num_leaves': 800},\n",
              "  {'learning_rate': 0.7, 'max_depth': 7, 'num_leaves': 30},\n",
              "  {'learning_rate': 0.7, 'max_depth': 7, 'num_leaves': 110},\n",
              "  {'learning_rate': 0.7, 'max_depth': 7, 'num_leaves': 400},\n",
              "  {'learning_rate': 0.7, 'max_depth': 7, 'num_leaves': 800},\n",
              "  {'learning_rate': 0.7, 'max_depth': 9, 'num_leaves': 30},\n",
              "  {'learning_rate': 0.7, 'max_depth': 9, 'num_leaves': 110},\n",
              "  {'learning_rate': 0.7, 'max_depth': 9, 'num_leaves': 400},\n",
              "  {'learning_rate': 0.7, 'max_depth': 9, 'num_leaves': 800},\n",
              "  {'learning_rate': 0.7, 'max_depth': 11, 'num_leaves': 30},\n",
              "  {'learning_rate': 0.7, 'max_depth': 11, 'num_leaves': 110},\n",
              "  {'learning_rate': 0.7, 'max_depth': 11, 'num_leaves': 400},\n",
              "  {'learning_rate': 0.7, 'max_depth': 11, 'num_leaves': 800},\n",
              "  {'learning_rate': 1, 'max_depth': 5, 'num_leaves': 30},\n",
              "  {'learning_rate': 1, 'max_depth': 5, 'num_leaves': 110},\n",
              "  {'learning_rate': 1, 'max_depth': 5, 'num_leaves': 400},\n",
              "  {'learning_rate': 1, 'max_depth': 5, 'num_leaves': 800},\n",
              "  {'learning_rate': 1, 'max_depth': 7, 'num_leaves': 30},\n",
              "  {'learning_rate': 1, 'max_depth': 7, 'num_leaves': 110},\n",
              "  {'learning_rate': 1, 'max_depth': 7, 'num_leaves': 400},\n",
              "  {'learning_rate': 1, 'max_depth': 7, 'num_leaves': 800},\n",
              "  {'learning_rate': 1, 'max_depth': 9, 'num_leaves': 30},\n",
              "  {'learning_rate': 1, 'max_depth': 9, 'num_leaves': 110},\n",
              "  {'learning_rate': 1, 'max_depth': 9, 'num_leaves': 400},\n",
              "  {'learning_rate': 1, 'max_depth': 9, 'num_leaves': 800},\n",
              "  {'learning_rate': 1, 'max_depth': 11, 'num_leaves': 30},\n",
              "  {'learning_rate': 1, 'max_depth': 11, 'num_leaves': 110},\n",
              "  {'learning_rate': 1, 'max_depth': 11, 'num_leaves': 400},\n",
              "  {'learning_rate': 1, 'max_depth': 11, 'num_leaves': 800}],\n",
              " 'split0_test_score': array([0.88337424, 0.88337424, 0.88337424, 0.88337424, 0.89783282,\n",
              "        0.89830986, 0.89830986, 0.89830986, 0.90659631, 0.90937799,\n",
              "        0.90936932, 0.90936932, 0.90893271, 0.91343776, 0.91411992,\n",
              "        0.91411992, 0.92800236, 0.92746063, 0.92746063, 0.92746063,\n",
              "        0.93265073, 0.93337302, 0.93337302, 0.93337302, 0.93288223,\n",
              "        0.93568413, 0.93414779, 0.93414779, 0.93388471, 0.93587005,\n",
              "        0.93481496, 0.93481496, 0.9302557 , 0.92995025, 0.92995025,\n",
              "        0.92995025, 0.92953835, 0.93079961, 0.93079961, 0.93079961,\n",
              "        0.93106349, 0.93283987, 0.93164082, 0.93164082, 0.93016815,\n",
              "        0.93069013, 0.93277311, 0.93293105, 0.92746344, 0.92770787,\n",
              "        0.92770787, 0.92770787, 0.92401455, 0.92351525, 0.92351525,\n",
              "        0.92351525, 0.92435243, 0.92709563, 0.92983839, 0.92983839,\n",
              "        0.92624239, 0.93002413, 0.93304365, 0.93253596, 0.91008416,\n",
              "        0.89969695, 0.89969695, 0.89969695, 0.90560472, 0.88111681,\n",
              "        0.88111681, 0.88111681, 0.91672772, 0.86261195, 0.92698288,\n",
              "        0.92698288, 0.90029974, 0.92688447, 0.93295264, 0.9300444 ]),\n",
              " 'split1_test_score': array([0.88613704, 0.88613704, 0.88613704, 0.88613704, 0.89990602,\n",
              "        0.90174714, 0.90174714, 0.90174714, 0.90689076, 0.9111995 ,\n",
              "        0.91235804, 0.91235804, 0.9084749 , 0.91622502, 0.91826036,\n",
              "        0.91826036, 0.93011598, 0.92793324, 0.92793324, 0.92793324,\n",
              "        0.93440428, 0.93569625, 0.93569625, 0.93569625, 0.93642595,\n",
              "        0.93606899, 0.93639383, 0.93639383, 0.93615538, 0.9376084 ,\n",
              "        0.93758669, 0.93758669, 0.93348533, 0.9321908 , 0.9321908 ,\n",
              "        0.9321908 , 0.93206374, 0.93119921, 0.93119921, 0.93119921,\n",
              "        0.93127063, 0.92999655, 0.93316233, 0.93316233, 0.93076923,\n",
              "        0.93168806, 0.9359392 , 0.93543929, 0.92924135, 0.92682448,\n",
              "        0.92682448, 0.92682448, 0.92566112, 0.92738142, 0.92738142,\n",
              "        0.92738142, 0.91994334, 0.92962727, 0.93074847, 0.93074847,\n",
              "        0.9226832 , 0.93355007, 0.93501894, 0.93408218, 0.91378887,\n",
              "        0.90822302, 0.90822302, 0.90822302, 0.91380326, 0.89916998,\n",
              "        0.89916998, 0.89916998, 0.91194317, 0.9281795 , 0.92950289,\n",
              "        0.92950289, 0.89567532, 0.83752929, 0.93294718, 0.93320236]),\n",
              " 'split2_test_score': array([0.88404415, 0.88404415, 0.88404415, 0.88404415, 0.89883945,\n",
              "        0.90071888, 0.90071888, 0.90071888, 0.90724025, 0.91251501,\n",
              "        0.91235653, 0.91235653, 0.90961109, 0.91406592, 0.91491424,\n",
              "        0.91491424, 0.92776302, 0.9274007 , 0.9274007 , 0.9274007 ,\n",
              "        0.9329153 , 0.93422297, 0.93422297, 0.93422297, 0.93539717,\n",
              "        0.93488418, 0.93470381, 0.93470381, 0.93462325, 0.93464993,\n",
              "        0.93635597, 0.93635597, 0.93074023, 0.93128938, 0.93128938,\n",
              "        0.93128938, 0.93002079, 0.9293009 , 0.9293009 , 0.9293009 ,\n",
              "        0.93066957, 0.93139191, 0.93263584, 0.93263584, 0.92956074,\n",
              "        0.932643  , 0.93401015, 0.93393942, 0.92639756, 0.92509455,\n",
              "        0.92509455, 0.92509455, 0.92199902, 0.92319018, 0.92319018,\n",
              "        0.92319018, 0.92416019, 0.92878222, 0.93139907, 0.93139907,\n",
              "        0.92351497, 0.92750491, 0.93303704, 0.9321499 , 0.91551504,\n",
              "        0.90673139, 0.90673139, 0.90673139, 0.91246057, 0.90231237,\n",
              "        0.90231237, 0.90231237, 0.9102583 , 0.9255267 , 0.92658079,\n",
              "        0.92658079, 0.91230141, 0.92714258, 0.92933766, 0.92990126]),\n",
              " 'split3_test_score': array([0.88621663, 0.88621663, 0.88621663, 0.88621663, 0.89770375,\n",
              "        0.89817429, 0.89817429, 0.89817429, 0.9057184 , 0.91012208,\n",
              "        0.90961538, 0.90961538, 0.90766914, 0.9113394 , 0.91393363,\n",
              "        0.91393363, 0.92853977, 0.92971907, 0.92971907, 0.92971907,\n",
              "        0.93370468, 0.93406812, 0.93406812, 0.93406812, 0.93384516,\n",
              "        0.93436831, 0.93465682, 0.93465682, 0.93339325, 0.93491478,\n",
              "        0.93373075, 0.93373075, 0.93377121, 0.93320725, 0.93320725,\n",
              "        0.93320725, 0.92976887, 0.93060375, 0.93060375, 0.93060375,\n",
              "        0.92929393, 0.93089431, 0.93093868, 0.93093868, 0.92819268,\n",
              "        0.93138324, 0.93185766, 0.93050251, 0.9282221 , 0.92815496,\n",
              "        0.92815496, 0.92815496, 0.92446061, 0.92583473, 0.92583473,\n",
              "        0.92583473, 0.91831181, 0.92846196, 0.92930591, 0.92930591,\n",
              "        0.91953113, 0.92791457, 0.93293739, 0.93277228, 0.91003358,\n",
              "        0.90908197, 0.90908197, 0.90908197, 0.9193501 , 0.90509936,\n",
              "        0.90509936, 0.90509936, 0.90552938, 0.86910685, 0.8875321 ,\n",
              "        0.8875321 , 0.90736811, 0.84412636, 0.93183839, 0.92988784]),\n",
              " 'mean_test_score': array([0.88494301, 0.88494301, 0.88494301, 0.88494301, 0.89857051,\n",
              "        0.89973754, 0.89973754, 0.89973754, 0.90661143, 0.91080365,\n",
              "        0.91092482, 0.91092482, 0.90867196, 0.91376703, 0.91530704,\n",
              "        0.91530704, 0.92860528, 0.92812841, 0.92812841, 0.92812841,\n",
              "        0.93341875, 0.93434009, 0.93434009, 0.93434009, 0.93463763,\n",
              "        0.9352514 , 0.93497556, 0.93497556, 0.93451415, 0.93576079,\n",
              "        0.93562209, 0.93562209, 0.93206312, 0.93165942, 0.93165942,\n",
              "        0.93165942, 0.93034794, 0.93047587, 0.93047587, 0.93047587,\n",
              "        0.93057441, 0.93128066, 0.93209442, 0.93209442, 0.9296727 ,\n",
              "        0.93160111, 0.93364503, 0.93320307, 0.92783111, 0.92694546,\n",
              "        0.92694546, 0.92694546, 0.92403382, 0.9249804 , 0.9249804 ,\n",
              "        0.9249804 , 0.92169194, 0.92849177, 0.93032296, 0.93032296,\n",
              "        0.92299292, 0.92974842, 0.93350925, 0.93288508, 0.91235541,\n",
              "        0.90593333, 0.90593333, 0.90593333, 0.91280466, 0.89692463,\n",
              "        0.89692463, 0.89692463, 0.91111464, 0.89635625, 0.91764967,\n",
              "        0.91764967, 0.90391115, 0.88392067, 0.93176897, 0.93075897]),\n",
              " 'std_test_score': array([0.00125666, 0.00125666, 0.00125666, 0.00125666, 0.00088761,\n",
              "        0.00153977, 0.00153977, 0.00153977, 0.00056373, 0.00118137,\n",
              "        0.00143511, 0.00143511, 0.00070612, 0.00174161, 0.00174441,\n",
              "        0.00174441, 0.00091644, 0.00094125, 0.00094125, 0.00094125,\n",
              "        0.00068854, 0.00084588, 0.00084588, 0.00084588, 0.00136788,\n",
              "        0.00066528, 0.00084737, 0.00084737, 0.00104381, 0.00115924,\n",
              "        0.00146857, 0.00146857, 0.00157774, 0.00119753, 0.00119753,\n",
              "        0.00119753, 0.00100521, 0.0007115 , 0.0007115 , 0.0007115 ,\n",
              "        0.00077016, 0.00102977, 0.00086242, 0.00086242, 0.00095536,\n",
              "        0.00070186, 0.00152901, 0.00179652, 0.00104066, 0.00117097,\n",
              "        0.00117097, 0.00117097, 0.00132013, 0.00172092, 0.00172092,\n",
              "        0.00172092, 0.00262932, 0.00091156, 0.0008075 , 0.0008075 ,\n",
              "        0.0023933 , 0.002394  , 0.00087263, 0.00072597, 0.00237632,\n",
              "        0.0036975 , 0.0036975 , 0.0036975 , 0.00489381, 0.0093646 ,\n",
              "        0.0093646 , 0.0093646 , 0.0040038 , 0.03059756, 0.01742441,\n",
              "        0.01742441, 0.00638784, 0.04315602, 0.00147524, 0.00141203]),\n",
              " 'rank_test_score': array([76, 76, 76, 76, 71, 68, 68, 68, 63, 61, 59, 59, 62, 55, 53, 53, 36,\n",
              "        38, 38, 38, 14,  9,  9,  9,  7,  4,  5,  5,  8,  1,  2,  2, 19, 21,\n",
              "        21, 21, 31, 28, 28, 28, 27, 25, 17, 17, 35, 24, 12, 15, 41, 42, 42,\n",
              "        42, 48, 45, 45, 45, 50, 37, 32, 32, 49, 34, 13, 16, 57, 64, 64, 64,\n",
              "        56, 72, 72, 72, 58, 75, 51, 51, 67, 80, 20, 26], dtype=int32),\n",
              " 'split0_train_score': array([0.88635536, 0.88635536, 0.88635536, 0.88635536, 0.90158571,\n",
              "        0.90410744, 0.90410744, 0.90410744, 0.90909382, 0.92082149,\n",
              "        0.92116183, 0.92116183, 0.91120975, 0.92528652, 0.93622169,\n",
              "        0.93622169, 0.9372444 , 0.93728452, 0.93728452, 0.93728452,\n",
              "        0.94563181, 0.94956326, 0.94956326, 0.94956326, 0.94598186,\n",
              "        0.96546594, 0.96487398, 0.96487398, 0.9464918 , 0.97432515,\n",
              "        0.98345347, 0.98345347, 0.96205675, 0.962524  , 0.962524  ,\n",
              "        0.962524  , 0.97754415, 0.98886298, 0.98886298, 0.98886298,\n",
              "        0.97819131, 0.99977362, 0.99975745, 0.99975745, 0.97879743,\n",
              "        1.        , 1.        , 1.        , 0.97454581, 0.97393586,\n",
              "        0.97393586, 0.97393586, 0.98733228, 0.99907777, 0.99907777,\n",
              "        0.99907777, 0.99059949, 1.        , 1.        , 1.        ,\n",
              "        0.99013222, 1.        , 1.        , 1.        , 0.9279365 ,\n",
              "        0.92061815, 0.92061815, 0.92061815, 0.93087285, 0.90796617,\n",
              "        0.90796617, 0.90796617, 0.9906636 , 0.89989024, 1.        ,\n",
              "        1.        , 0.93212418, 1.        , 1.        , 1.        ]),\n",
              " 'split1_train_score': array([0.88592413, 0.88592413, 0.88592413, 0.88592413, 0.90063133,\n",
              "        0.90400313, 0.90400313, 0.90400313, 0.90839095, 0.92072202,\n",
              "        0.92097664, 0.92097664, 0.91072756, 0.92526968, 0.93707042,\n",
              "        0.93707042, 0.93598183, 0.93458005, 0.93458005, 0.93458005,\n",
              "        0.94513943, 0.95045149, 0.95045149, 0.95045149, 0.94521684,\n",
              "        0.96311834, 0.9624254 , 0.9624254 , 0.94579085, 0.97209763,\n",
              "        0.98055291, 0.98055291, 0.96243114, 0.96267275, 0.96267275,\n",
              "        0.96267275, 0.97637588, 0.98702232, 0.98702232, 0.98702232,\n",
              "        0.97657161, 0.9993044 , 0.99966042, 0.99966042, 0.97857811,\n",
              "        0.9999515 , 1.        , 1.        , 0.97496598, 0.97547291,\n",
              "        0.97547291, 0.97547291, 0.988128  , 0.99932072, 0.99932072,\n",
              "        0.99932072, 0.971994  , 0.99996767, 0.99996767, 0.99996767,\n",
              "        0.97358243, 0.99998383, 0.99998383, 0.99998383, 0.92815406,\n",
              "        0.9339834 , 0.9339834 , 0.9339834 , 0.94032722, 0.92950023,\n",
              "        0.92950023, 0.92950023, 0.93484475, 0.99998383, 1.        ,\n",
              "        1.        , 0.91668206, 0.88031577, 1.        , 1.        ]),\n",
              " 'split2_train_score': array([0.88705318, 0.88705318, 0.88705318, 0.88705318, 0.90107136,\n",
              "        0.90389407, 0.90389407, 0.90389407, 0.9087214 , 0.92084741,\n",
              "        0.92149362, 0.92149362, 0.91108707, 0.9248508 , 0.93402867,\n",
              "        0.93402867, 0.93592922, 0.93551884, 0.93551884, 0.93551884,\n",
              "        0.94479443, 0.94966198, 0.94966198, 0.94966198, 0.94594595,\n",
              "        0.96270558, 0.96441681, 0.96441681, 0.94569699, 0.97235654,\n",
              "        0.9819452 , 0.9819452 , 0.96163336, 0.96296419, 0.96296419,\n",
              "        0.96296419, 0.97523709, 0.98890376, 0.98890376, 0.98890376,\n",
              "        0.9772354 , 0.99966041, 0.9997898 , 0.9997898 , 0.97862981,\n",
              "        0.99996767, 1.        , 1.        , 0.97433036, 0.97348124,\n",
              "        0.97348124, 0.97348124, 0.98845784, 0.99899683, 0.99899683,\n",
              "        0.99899683, 0.99045358, 1.        , 1.        , 1.        ,\n",
              "        0.99177984, 1.        , 1.        , 1.        , 0.94876959,\n",
              "        0.928272  , 0.928272  , 0.928272  , 0.94283225, 0.94007854,\n",
              "        0.94007854, 0.94007854, 0.95418822, 1.        , 1.        ,\n",
              "        1.        , 0.93985049, 1.        , 1.        , 1.        ]),\n",
              " 'split3_train_score': array([0.8863864 , 0.8863864 , 0.8863864 , 0.8863864 , 0.90189997,\n",
              "        0.90364616, 0.90364616, 0.90364616, 0.90859337, 0.92045164,\n",
              "        0.9216326 , 0.9216326 , 0.91071775, 0.92545637, 0.93559223,\n",
              "        0.93559223, 0.93597306, 0.93717536, 0.93717536, 0.93717536,\n",
              "        0.9459092 , 0.95030223, 0.95030223, 0.95030223, 0.94747871,\n",
              "        0.96389844, 0.96429399, 0.96429399, 0.94706362, 0.97361478,\n",
              "        0.9821329 , 0.9821329 , 0.96215822, 0.96306974, 0.96306974,\n",
              "        0.96306974, 0.9759579 , 0.99031374, 0.99031374, 0.99031374,\n",
              "        0.97834545, 0.99967658, 0.99987066, 0.99987066, 0.97825159,\n",
              "        0.99996767, 1.        , 1.        , 0.97561296, 0.97587457,\n",
              "        0.97587457, 0.97587457, 0.98864691, 0.99953103, 0.99953103,\n",
              "        0.99953103, 0.95125413, 1.        , 1.        , 1.        ,\n",
              "        0.96906271, 1.        , 1.        , 1.        , 0.94261837,\n",
              "        0.93833048, 0.93833048, 0.93833048, 0.99406499, 0.93145428,\n",
              "        0.93145428, 0.93145428, 0.92599155, 0.92785418, 0.94359337,\n",
              "        0.94359337, 0.92513948, 0.89235626, 1.        , 1.        ]),\n",
              " 'mean_train_score': array([0.88642977, 0.88642977, 0.88642977, 0.88642977, 0.9012971 ,\n",
              "        0.9039127 , 0.9039127 , 0.9039127 , 0.90869988, 0.92071064,\n",
              "        0.92131617, 0.92131617, 0.91093553, 0.92521584, 0.93572826,\n",
              "        0.93572826, 0.93628213, 0.93613969, 0.93613969, 0.93613969,\n",
              "        0.94536872, 0.94999474, 0.94999474, 0.94999474, 0.94615584,\n",
              "        0.96379708, 0.96400255, 0.96400255, 0.94626081, 0.97309852,\n",
              "        0.98202112, 0.98202112, 0.96206987, 0.96280767, 0.96280767,\n",
              "        0.96280767, 0.97627876, 0.9887757 , 0.9887757 , 0.9887757 ,\n",
              "        0.97758594, 0.99960375, 0.99976958, 0.99976958, 0.97856423,\n",
              "        0.99997171, 1.        , 1.        , 0.97486378, 0.97469115,\n",
              "        0.97469115, 0.97469115, 0.98814126, 0.99923159, 0.99923159,\n",
              "        0.99923159, 0.9760753 , 0.99999192, 0.99999192, 0.99999192,\n",
              "        0.9811393 , 0.99999596, 0.99999596, 0.99999596, 0.93686963,\n",
              "        0.93030101, 0.93030101, 0.93030101, 0.95202433, 0.92724981,\n",
              "        0.92724981, 0.92724981, 0.95142203, 0.95693206, 0.98589834,\n",
              "        0.98589834, 0.92844905, 0.94316801, 1.        , 1.        ]),\n",
              " 'std_train_score': array([4.03647983e-04, 4.03647983e-04, 4.03647983e-04, 4.03647983e-04,\n",
              "        4.85013894e-04, 1.71387453e-04, 1.71387453e-04, 1.71387453e-04,\n",
              "        2.56141394e-04, 1.56688942e-04, 2.60153115e-04, 2.60153115e-04,\n",
              "        2.17278193e-04, 2.23047976e-04, 1.11264978e-03, 1.11264978e-03,\n",
              "        5.55928472e-04, 1.14030252e-03, 1.14030252e-03, 1.14030252e-03,\n",
              "        4.31194184e-04, 3.87323093e-04, 3.87323093e-04, 3.87323093e-04,\n",
              "        8.22500750e-04, 1.05444416e-03, 9.35860130e-04, 9.35860130e-04,\n",
              "        5.56015244e-04, 9.11517758e-04, 1.02780413e-03, 1.02780413e-03,\n",
              "        2.86809692e-04, 2.19001744e-04, 2.19001744e-04, 2.19001744e-04,\n",
              "        8.36460138e-04, 1.16875494e-03, 1.16875494e-03, 1.16875494e-03,\n",
              "        7.23719909e-04, 1.78173780e-04, 7.53140837e-05, 7.53140837e-05,\n",
              "        1.97877126e-04, 1.76168378e-05, 0.00000000e+00, 0.00000000e+00,\n",
              "        4.89222166e-04, 1.00572714e-03, 1.00572714e-03, 1.00572714e-03,\n",
              "        5.02627509e-04, 2.09986506e-04, 2.09986506e-04, 2.09986506e-04,\n",
              "        1.62052040e-02, 1.40002167e-05, 1.40002167e-05, 1.40002167e-05,\n",
              "        9.96298242e-03, 7.00022151e-06, 6.99999518e-06, 6.99999518e-06,\n",
              "        9.08871429e-03, 6.63149876e-03, 6.63149876e-03, 6.63149876e-03,\n",
              "        2.46785298e-02, 1.18234599e-02, 1.18234599e-02, 1.18234599e-02,\n",
              "        2.48448574e-02, 4.41802982e-02, 2.44247869e-02, 2.44247869e-02,\n",
              "        8.55737499e-03, 5.69912027e-02, 0.00000000e+00, 0.00000000e+00])}"
            ]
          },
          "metadata": {
            "tags": []
          },
          "execution_count": 58
        }
      ]
    },
    {
      "cell_type": "code",
      "metadata": {
        "scrolled": true,
        "id": "M1wE-vzysCLk",
        "outputId": "5e1b48d6-1856-4408-d8a7-11d9faec2f25"
      },
      "source": [
        "lgb = lgbm_grid.best_estimator_\n",
        "\n",
        "threshold_interval = np.linspace(0,1,101)\n",
        "ths_table = pd.DataFrame()\n",
        "idx = 0\n",
        "\n",
        "for i in threshold_interval:\n",
        "    valid_result_temp = pd.DataFrame(lgb.predict_proba(X_valid)[:,1],columns=['pred_prob'])\n",
        "    valid_result_temp['binary'] = np.where(valid_result_temp['pred_prob']>=i,1,0)\n",
        "\n",
        "    ths_table.loc[idx,'threshold'] = i\n",
        "    ths_table.loc[idx,'accuracy'] = accuracy_score(y_valid, valid_result_temp['binary'])\n",
        "    ths_table.loc[idx,'f1_score'] = f1_score(y_valid, valid_result_temp['binary'])\n",
        "    ths_table.loc[idx,'recall'] = recall_score(y_valid, valid_result_temp['binary'])\n",
        "    idx += 1\n",
        "    \n",
        "mx_idx = ths_table['f1_score'].idxmax()\n",
        "# print(ths_table.iloc[mx_idx])\n",
        "\n",
        "optimal_threshold_lgb = ths_table.iloc[mx_idx].threshold\n",
        "print('optimal threshold(LGB) : ',optimal_threshold_lgb)\n",
        "\n",
        "test_result2 = pd.DataFrame(lgb.predict_proba(X_test)[:,1],columns=['pred_prob'])\n",
        "test_result2['lgb_binary'] = np.where(test_result2['pred_prob']>=optimal_threshold_lgb,1,0)\n",
        "\n",
        "print('f1_score : ', f1_score(y_test, test_result2['lgb_binary']))\n",
        "print('accuracy : ', accuracy_score(y_test, test_result2['lgb_binary']))\n",
        "print('recall : ', recall_score(y_test, test_result2['lgb_binary']))\n",
        "print('roc_auc : ', roc_auc_score(y_test, test_result2['lgb_binary']))"
      ],
      "execution_count": null,
      "outputs": [
        {
          "output_type": "stream",
          "text": [
            "optimal threshold(LGB) :  0.0\n",
            "f1_score :  0.310376492194674\n",
            "accuracy :  0.18369565217391304\n",
            "recall :  1.0\n",
            "roc_auc :  0.5\n"
          ],
          "name": "stdout"
        }
      ]
    },
    {
      "cell_type": "code",
      "metadata": {
        "scrolled": true,
        "id": "oaze6Ay2sCLk",
        "outputId": "bbcc10cc-978e-4fe6-e3b3-b398ab7b4c21"
      },
      "source": [
        "feature_pd = pd.DataFrame(zip(X_test.columns, lgb.feature_importances_),columns=['feature', 'importance'])\n",
        "feature_pd = feature_pd.sort_values('importance',ascending=False).head(20)\n",
        "\n",
        "fig = plt.figure(figsize=(15, 8))\n",
        "plt.bar(feature_pd.feature, feature_pd.importance)\n",
        "plt.xticks(rotation=90)\n",
        "plt.tight_layout()"
      ],
      "execution_count": null,
      "outputs": [
        {
          "output_type": "display_data",
          "data": {
            "image/png": "[encoded data removed]",
            "text/plain": [
              "<Figure size 1080x576 with 1 Axes>"
            ]
          },
          "metadata": {
            "tags": [],
            "needs_background": "light"
          }
        }
      ]
    },
    {
      "cell_type": "markdown",
      "metadata": {
        "id": "zgHWqZZP3fzR"
      },
      "source": [
        "### 2)Version2"
      ]
    },
    {
      "cell_type": "code",
      "metadata": {
        "id": "painful-projector",
        "outputId": "767a16cf-1db0-4170-a206-ab1d5924bb85"
      },
      "source": [
        "lgb = LGBMClassifier(n_estimators=100)\n",
        "lgbm_params={'learning_rate':[0.01,0.1,1],'max_depth' : [5,7,9,11], 'num_leaves' : [30,110,400,800]}\n",
        "\n",
        "lgbm_grid = GridSearchCV(estimator=lgb, param_grid=lgbm_params, scoring='f1', \n",
        "                        n_jobs=10, cv=4, refit=True, return_train_score=True)\n",
        "\n",
        "lgbm_grid.fit(X_smote,y_smote, early_stopping_rounds=40,\n",
        "             eval_metric=\"error\", eval_set=[(X_valid, y_valid)])\n",
        "print('final params', lgbm_grid.best_params_)\n",
        "print('best score', lgbm_grid.best_score_)"
      ],
      "execution_count": null,
      "outputs": [
        {
          "output_type": "stream",
          "text": [
            "[1]\tvalid_0's binary_error: 0.409684\tvalid_0's binary_logloss: 0.68976\n",
            "Training until validation scores don't improve for 40 rounds\n",
            "[2]\tvalid_0's binary_error: 0.373442\tvalid_0's binary_logloss: 0.672426\n",
            "[3]\tvalid_0's binary_error: 0.358655\tvalid_0's binary_logloss: 0.690511\n",
            "[4]\tvalid_0's binary_error: 0.354596\tvalid_0's binary_logloss: 0.695401\n",
            "[5]\tvalid_0's binary_error: 0.347637\tvalid_0's binary_logloss: 0.691468\n",
            "[6]\tvalid_0's binary_error: 0.357495\tvalid_0's binary_logloss: 0.734198\n",
            "[7]\tvalid_0's binary_error: 0.351406\tvalid_0's binary_logloss: 0.741127\n",
            "[8]\tvalid_0's binary_error: 0.358655\tvalid_0's binary_logloss: 0.753113\n",
            "[9]\tvalid_0's binary_error: 0.356335\tvalid_0's binary_logloss: 0.756712\n",
            "[10]\tvalid_0's binary_error: 0.340389\tvalid_0's binary_logloss: 0.736211\n",
            "[11]\tvalid_0's binary_error: 0.328211\tvalid_0's binary_logloss: 0.748262\n",
            "[12]\tvalid_0's binary_error: 0.316324\tvalid_0's binary_logloss: 0.75749\n",
            "[13]\tvalid_0's binary_error: 0.330821\tvalid_0's binary_logloss: 0.78932\n",
            "[14]\tvalid_0's binary_error: 0.321253\tvalid_0's binary_logloss: 0.785075\n",
            "[15]\tvalid_0's binary_error: 0.320383\tvalid_0's binary_logloss: 0.809448\n",
            "[16]\tvalid_0's binary_error: 0.352566\tvalid_0's binary_logloss: 0.95619\n",
            "[17]\tvalid_0's binary_error: 0.354885\tvalid_0's binary_logloss: 0.969983\n",
            "[18]\tvalid_0's binary_error: 0.348507\tvalid_0's binary_logloss: 0.94681\n",
            "[19]\tvalid_0's binary_error: 0.339519\tvalid_0's binary_logloss: 0.944222\n",
            "[20]\tvalid_0's binary_error: 0.321832\tvalid_0's binary_logloss: 0.911988\n",
            "[21]\tvalid_0's binary_error: 0.321832\tvalid_0's binary_logloss: 0.922419\n",
            "[22]\tvalid_0's binary_error: 0.33401\tvalid_0's binary_logloss: 0.948429\n",
            "[23]\tvalid_0's binary_error: 0.33488\tvalid_0's binary_logloss: 0.938571\n",
            "[24]\tvalid_0's binary_error: 0.341548\tvalid_0's binary_logloss: 1.03845\n",
            "[25]\tvalid_0's binary_error: 0.344158\tvalid_0's binary_logloss: 1.05056\n",
            "[26]\tvalid_0's binary_error: 0.33314\tvalid_0's binary_logloss: 1.03363\n",
            "[27]\tvalid_0's binary_error: 0.330531\tvalid_0's binary_logloss: 1.04118\n",
            "[28]\tvalid_0's binary_error: 0.33488\tvalid_0's binary_logloss: 1.04325\n",
            "[29]\tvalid_0's binary_error: 0.329661\tvalid_0's binary_logloss: 1.03575\n",
            "[30]\tvalid_0's binary_error: 0.321253\tvalid_0's binary_logloss: 1.01599\n",
            "[31]\tvalid_0's binary_error: 0.318933\tvalid_0's binary_logloss: 1.01428\n",
            "[32]\tvalid_0's binary_error: 0.328501\tvalid_0's binary_logloss: 1.05939\n",
            "[33]\tvalid_0's binary_error: 0.327341\tvalid_0's binary_logloss: 1.06005\n",
            "[34]\tvalid_0's binary_error: 0.329081\tvalid_0's binary_logloss: 1.09462\n",
            "[35]\tvalid_0's binary_error: 0.323282\tvalid_0's binary_logloss: 1.08207\n",
            "[36]\tvalid_0's binary_error: 0.323862\tvalid_0's binary_logloss: 1.08443\n",
            "[37]\tvalid_0's binary_error: 0.322412\tvalid_0's binary_logloss: 1.0875\n",
            "[38]\tvalid_0's binary_error: 0.319513\tvalid_0's binary_logloss: 1.0828\n",
            "[39]\tvalid_0's binary_error: 0.320673\tvalid_0's binary_logloss: 1.081\n",
            "[40]\tvalid_0's binary_error: 0.321253\tvalid_0's binary_logloss: 1.08663\n",
            "[41]\tvalid_0's binary_error: 0.317483\tvalid_0's binary_logloss: 1.08159\n",
            "[42]\tvalid_0's binary_error: 0.318063\tvalid_0's binary_logloss: 1.08832\n",
            "Early stopping, best iteration is:\n",
            "[2]\tvalid_0's binary_error: 0.373442\tvalid_0's binary_logloss: 0.672426\n",
            "final params {'learning_rate': 1, 'max_depth': 11, 'num_leaves': 110}\n",
            "best score 0.8803565697050398\n"
          ],
          "name": "stdout"
        }
      ]
    },
    {
      "cell_type": "code",
      "metadata": {
        "id": "fossil-input",
        "outputId": "96993910-b7bd-4e81-84a2-626572233647"
      },
      "source": [
        "lgb = lgbm_grid.best_estimator_\n",
        "\n",
        "valid_pred = lgb.predict(X_eval)\n",
        "fpr, tpr, threshold = roc_curve(y_eval,valid_pred)\n",
        "roc_auc = auc(fpr,tpr)\n",
        "roc_auc"
      ],
      "execution_count": null,
      "outputs": [
        {
          "output_type": "execute_result",
          "data": {
            "text/plain": [
              "0.6790116254401968"
            ]
          },
          "metadata": {
            "tags": []
          },
          "execution_count": 38
        }
      ]
    },
    {
      "cell_type": "code",
      "metadata": {
        "id": "supreme-torture",
        "outputId": "9ed9258c-4b26-4af4-843a-1ff65f6a69c7"
      },
      "source": [
        "print(f1_score(y_eval, valid_pred, pos_label=1))"
      ],
      "execution_count": null,
      "outputs": [
        {
          "output_type": "stream",
          "text": [
            "0.43035714285714277\n"
          ],
          "name": "stdout"
        }
      ]
    },
    {
      "cell_type": "code",
      "metadata": {
        "id": "vital-burst",
        "outputId": "d4b647ed-799e-4be7-d53c-a0fe0a64f3a0"
      },
      "source": [
        "lgb.score(X_eval, y_eval)"
      ],
      "execution_count": null,
      "outputs": [
        {
          "output_type": "execute_result",
          "data": {
            "text/plain": [
              "0.6300376920846622"
            ]
          },
          "metadata": {
            "tags": []
          },
          "execution_count": 40
        }
      ]
    },
    {
      "cell_type": "code",
      "metadata": {
        "id": "distinct-religious",
        "outputId": "4252a020-cea9-42b8-8e92-9cb6df978605"
      },
      "source": [
        "from sklearn.metrics import precision_score, recall_score\n",
        "print(recall_score(y_eval, valid_pred,pos_label=1))\n",
        "print(precision_score(y_eval, valid_pred,pos_label=1))"
      ],
      "execution_count": null,
      "outputs": [
        {
          "output_type": "stream",
          "text": [
            "0.7566718995290423\n",
            "0.3006862133499688\n"
          ],
          "name": "stdout"
        }
      ]
    },
    {
      "cell_type": "code",
      "metadata": {
        "id": "boolean-cream",
        "outputId": "62236208-0a99-4b22-cda6-04d6508a7fc0"
      },
      "source": [
        "feature_pd = pd.DataFrame(zip(X_test.columns, lgb.feature_importances_),columns=['feature', 'importance'])\n",
        "feature_pd = feature_pd.sort_values('importance',ascending=False).head(20)\n",
        "fig = plt.figure(figsize=(15, 8))\n",
        "plt.bar(feature_pd.feature, feature_pd.importance)\n",
        "plt.xticks(rotation=90)\n",
        "plt.show()\n",
        "##깨진 폰트는 아래에 따로 출력함."
      ],
      "execution_count": null,
      "outputs": [
        {
          "output_type": "display_data",
          "data": {
            "image/png": "[encoded data removed]",
            "text/plain": [
              "<Figure size 1080x576 with 1 Axes>"
            ]
          },
          "metadata": {
            "tags": [],
            "needs_background": "light"
          }
        }
      ]
    },
    {
      "cell_type": "code",
      "metadata": {
        "id": "hazardous-financing",
        "outputId": "3966c632-1f72-45ba-caaa-c0e3d8cc2ea3"
      },
      "source": [
        "feature_pd.feature"
      ],
      "execution_count": null,
      "outputs": [
        {
          "output_type": "execute_result",
          "data": {
            "text/plain": [
              "0               건물채수\n",
              "4           건물들지상층수합\n",
              "10                습도\n",
              "1             건물건축면적\n",
              "28          소방용수시설거리\n",
              "8                 풍속\n",
              "3               토지면적\n",
              "35         자동심장충격기거리\n",
              "36          금연구역최소거리\n",
              "2         건물층별합계전체면적\n",
              "29           관할소방서인원\n",
              "7                강수량\n",
              "34         안전비상벨최소거리\n",
              "100        건물구조_10.0\n",
              "27           건물면적당가격\n",
              "44     전기 에너지 사용량_7월\n",
              "26             소방서거리\n",
              "9                 풍향\n",
              "181     토지이용상황명_34.0\n",
              "42     전기 에너지 사용량_5월\n",
              "Name: feature, dtype: object"
            ]
          },
          "metadata": {
            "tags": []
          },
          "execution_count": 43
        }
      ]
    }
  ]
}