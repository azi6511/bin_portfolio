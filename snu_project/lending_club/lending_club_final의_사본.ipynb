{
  "nbformat": 4,
  "nbformat_minor": 0,
  "metadata": {
    "colab": {
      "name": "lending_club_final의 사본",
      "provenance": [],
      "collapsed_sections": [
        "YBkWn0I9RrB0"
      ]
    },
    "kernelspec": {
      "display_name": "Python 3",
      "name": "python3"
    }
  },
  "cells": [
    {
      "cell_type": "markdown",
      "metadata": {
        "id": "HjryD812RmXE"
      },
      "source": [
        "# 1. Dependencies"
      ]
    },
    {
      "cell_type": "code",
      "metadata": {
        "id": "g31QKUe-PFLT"
      },
      "source": [
        "import numpy as np\n",
        "import pandas as pd\n",
        "from matplotlib import pyplot as plt\n",
        "%matplotlib inline\n",
        "\n",
        "import seaborn as sns\n",
        "from sklearn import tree\n",
        "from sklearn import metrics\n",
        "from sklearn.tree import DecisionTreeClassifier\n",
        "from sklearn.model_selection import train_test_split\n",
        "from sklearn.metrics import r2_score, explained_variance_score, confusion_matrix, accuracy_score, classification_report, roc_curve, auc, mean_squared_error\n",
        "from sklearn.ensemble import RandomForestClassifier\n",
        "from sklearn.linear_model import LogisticRegression, LinearRegression, Ridge, RidgeCV, Lasso, LassoCV"
      ],
      "execution_count": null,
      "outputs": []
    },
    {
      "cell_type": "code",
      "metadata": {
        "colab": {
          "base_uri": "https://localhost:8080/"
        },
        "id": "h_Zo5jnE6xMa",
        "outputId": "50c6854d-23a2-4c94-9df2-56c76601e4fb"
      },
      "source": [
        "from google.colab import drive\n",
        "drive.mount('/content/drive')"
      ],
      "execution_count": null,
      "outputs": [
        {
          "output_type": "stream",
          "text": [
            "Mounted at /content/drive\n"
          ],
          "name": "stdout"
        }
      ]
    },
    {
      "cell_type": "markdown",
      "metadata": {
        "id": "YBkWn0I9RrB0"
      },
      "source": [
        "# 2.Data Preprocessing"
      ]
    },
    {
      "cell_type": "code",
      "metadata": {
        "id": "J4p0QAznRqvl"
      },
      "source": [
        "df = pd.read_stata('/content/drive/MyDrive/SNU_Fintech/SNU - 5조/Lending Club/lendingclub.dta')"
      ],
      "execution_count": null,
      "outputs": []
    },
    {
      "cell_type": "code",
      "metadata": {
        "colab": {
          "base_uri": "https://localhost:8080/"
        },
        "id": "LK-l-QWqRqo6",
        "outputId": "f15099ba-10fe-4212-932e-60ca4b085ea2"
      },
      "source": [
        "df.shape"
      ],
      "execution_count": null,
      "outputs": [
        {
          "output_type": "execute_result",
          "data": {
            "text/plain": [
              "(1092919, 333)"
            ]
          },
          "metadata": {
            "tags": []
          },
          "execution_count": 5
        }
      ]
    },
    {
      "cell_type": "code",
      "metadata": {
        "colab": {
          "base_uri": "https://localhost:8080/"
        },
        "id": "z-nYKNfUSSQi",
        "outputId": "1b6a9738-97dc-4658-9c7b-7576493ed5b2"
      },
      "source": [
        "df.head()"
      ],
      "execution_count": null,
      "outputs": [
        {
          "output_type": "execute_result",
          "data": {
            "text/html": [
              "<div>\n",
              "<style scoped>\n",
              "    .dataframe tbody tr th:only-of-type {\n",
              "        vertical-align: middle;\n",
              "    }\n",
              "\n",
              "    .dataframe tbody tr th {\n",
              "        vertical-align: top;\n",
              "    }\n",
              "\n",
              "    .dataframe thead th {\n",
              "        text-align: right;\n",
              "    }\n",
              "</style>\n",
              "<table border=\"1\" class=\"dataframe\">\n",
              "  <thead>\n",
              "    <tr style=\"text-align: right;\">\n",
              "      <th></th>\n",
              "      <th>loan_amnt</th>\n",
              "      <th>funded_amnt</th>\n",
              "      <th>funded_amnt_inv</th>\n",
              "      <th>int_rate</th>\n",
              "      <th>installment</th>\n",
              "      <th>annual_inc</th>\n",
              "      <th>dti</th>\n",
              "      <th>delinq_2yrs</th>\n",
              "      <th>fico_range_low</th>\n",
              "      <th>fico_range_high</th>\n",
              "      <th>inq_last_6mths</th>\n",
              "      <th>open_acc</th>\n",
              "      <th>pub_rec</th>\n",
              "      <th>revol_bal</th>\n",
              "      <th>revol_util</th>\n",
              "      <th>total_acc</th>\n",
              "      <th>out_prncp</th>\n",
              "      <th>out_prncp_inv</th>\n",
              "      <th>total_pymnt</th>\n",
              "      <th>total_pymnt_inv</th>\n",
              "      <th>total_rec_prncp</th>\n",
              "      <th>total_rec_int</th>\n",
              "      <th>total_rec_late_fee</th>\n",
              "      <th>recoveries</th>\n",
              "      <th>collection_recovery_fee</th>\n",
              "      <th>last_pymnt_amnt</th>\n",
              "      <th>last_fico_range_high</th>\n",
              "      <th>last_fico_range_low</th>\n",
              "      <th>collections_12_mths_ex_med</th>\n",
              "      <th>acc_now_delinq</th>\n",
              "      <th>tot_coll_amt</th>\n",
              "      <th>tot_cur_bal</th>\n",
              "      <th>chargeoff_within_12_mths</th>\n",
              "      <th>delinq_amnt</th>\n",
              "      <th>pub_rec_bankruptcies</th>\n",
              "      <th>tax_liens</th>\n",
              "      <th>emp_length1</th>\n",
              "      <th>emp_length2</th>\n",
              "      <th>emp_length3</th>\n",
              "      <th>emp_length4</th>\n",
              "      <th>...</th>\n",
              "      <th>mths_since_recent_bc4</th>\n",
              "      <th>mths_since_recent_bc5</th>\n",
              "      <th>mths_since_recent_bc6</th>\n",
              "      <th>mths_since_recent_bc7</th>\n",
              "      <th>mths_since_recent_bc8</th>\n",
              "      <th>mths_since_recent_bc9</th>\n",
              "      <th>mths_since_recent_bc10</th>\n",
              "      <th>mths_since_recent_bc11</th>\n",
              "      <th>mths_since_recent_bc_dlq1</th>\n",
              "      <th>mths_since_recent_bc_dlq2</th>\n",
              "      <th>mths_since_recent_bc_dlq3</th>\n",
              "      <th>mths_since_recent_bc_dlq4</th>\n",
              "      <th>mths_since_recent_bc_dlq5</th>\n",
              "      <th>mths_since_recent_bc_dlq6</th>\n",
              "      <th>mths_since_recent_bc_dlq7</th>\n",
              "      <th>mths_since_recent_bc_dlq8</th>\n",
              "      <th>mths_since_recent_bc_dlq9</th>\n",
              "      <th>mths_since_recent_bc_dlq10</th>\n",
              "      <th>mths_since_recent_bc_dlq11</th>\n",
              "      <th>mths_since_recent_inq1</th>\n",
              "      <th>mths_since_recent_inq2</th>\n",
              "      <th>mths_since_recent_inq3</th>\n",
              "      <th>mths_since_recent_inq4</th>\n",
              "      <th>mths_since_recent_inq5</th>\n",
              "      <th>mths_since_recent_inq6</th>\n",
              "      <th>mths_since_recent_inq7</th>\n",
              "      <th>mths_since_recent_inq8</th>\n",
              "      <th>mths_since_recent_inq9</th>\n",
              "      <th>mths_since_recent_inq10</th>\n",
              "      <th>mths_since_recent_revol_delinq1</th>\n",
              "      <th>mths_since_recent_revol_delinq2</th>\n",
              "      <th>mths_since_recent_revol_delinq3</th>\n",
              "      <th>mths_since_recent_revol_delinq4</th>\n",
              "      <th>mths_since_recent_revol_delinq5</th>\n",
              "      <th>mths_since_recent_revol_delinq6</th>\n",
              "      <th>mths_since_recent_revol_delinq7</th>\n",
              "      <th>mths_since_recent_revol_delinq8</th>\n",
              "      <th>mths_since_recent_revol_delinq9</th>\n",
              "      <th>mths_since_recent_revol_delinq10</th>\n",
              "      <th>mths_since_recent_revol_delinq11</th>\n",
              "    </tr>\n",
              "  </thead>\n",
              "  <tbody>\n",
              "    <tr>\n",
              "      <th>0</th>\n",
              "      <td>19000</td>\n",
              "      <td>19000</td>\n",
              "      <td>19000.0</td>\n",
              "      <td>0.0916</td>\n",
              "      <td>605.62</td>\n",
              "      <td>65000.0</td>\n",
              "      <td>16.36</td>\n",
              "      <td>1</td>\n",
              "      <td>670</td>\n",
              "      <td>674</td>\n",
              "      <td>0</td>\n",
              "      <td>10</td>\n",
              "      <td>0</td>\n",
              "      <td>10644</td>\n",
              "      <td>0.714</td>\n",
              "      <td>27</td>\n",
              "      <td>0.0</td>\n",
              "      <td>0.0</td>\n",
              "      <td>20635.862570</td>\n",
              "      <td>20635.86</td>\n",
              "      <td>19000.00</td>\n",
              "      <td>1635.86</td>\n",
              "      <td>0.0</td>\n",
              "      <td>0.0</td>\n",
              "      <td>0.0</td>\n",
              "      <td>13387.76</td>\n",
              "      <td>734</td>\n",
              "      <td>730</td>\n",
              "      <td>0</td>\n",
              "      <td>0</td>\n",
              "      <td>0</td>\n",
              "      <td>33375</td>\n",
              "      <td>0</td>\n",
              "      <td>0</td>\n",
              "      <td>0</td>\n",
              "      <td>0</td>\n",
              "      <td>0</td>\n",
              "      <td>1</td>\n",
              "      <td>0</td>\n",
              "      <td>0</td>\n",
              "      <td>...</td>\n",
              "      <td>0</td>\n",
              "      <td>0</td>\n",
              "      <td>0</td>\n",
              "      <td>0</td>\n",
              "      <td>1</td>\n",
              "      <td>0</td>\n",
              "      <td>0</td>\n",
              "      <td>0</td>\n",
              "      <td>1</td>\n",
              "      <td>0</td>\n",
              "      <td>0</td>\n",
              "      <td>0</td>\n",
              "      <td>0</td>\n",
              "      <td>0</td>\n",
              "      <td>0</td>\n",
              "      <td>0</td>\n",
              "      <td>0</td>\n",
              "      <td>0</td>\n",
              "      <td>0</td>\n",
              "      <td>0</td>\n",
              "      <td>0</td>\n",
              "      <td>0</td>\n",
              "      <td>0</td>\n",
              "      <td>0</td>\n",
              "      <td>0</td>\n",
              "      <td>0</td>\n",
              "      <td>0</td>\n",
              "      <td>1</td>\n",
              "      <td>0</td>\n",
              "      <td>0</td>\n",
              "      <td>0</td>\n",
              "      <td>1</td>\n",
              "      <td>0</td>\n",
              "      <td>0</td>\n",
              "      <td>0</td>\n",
              "      <td>0</td>\n",
              "      <td>0</td>\n",
              "      <td>0</td>\n",
              "      <td>0</td>\n",
              "      <td>0</td>\n",
              "    </tr>\n",
              "    <tr>\n",
              "      <th>1</th>\n",
              "      <td>10000</td>\n",
              "      <td>10000</td>\n",
              "      <td>10000.0</td>\n",
              "      <td>0.0789</td>\n",
              "      <td>312.86</td>\n",
              "      <td>58000.0</td>\n",
              "      <td>5.03</td>\n",
              "      <td>0</td>\n",
              "      <td>690</td>\n",
              "      <td>694</td>\n",
              "      <td>1</td>\n",
              "      <td>5</td>\n",
              "      <td>0</td>\n",
              "      <td>7940</td>\n",
              "      <td>0.684</td>\n",
              "      <td>6</td>\n",
              "      <td>0.0</td>\n",
              "      <td>0.0</td>\n",
              "      <td>10185.630000</td>\n",
              "      <td>10185.63</td>\n",
              "      <td>10000.00</td>\n",
              "      <td>185.63</td>\n",
              "      <td>0.0</td>\n",
              "      <td>0.0</td>\n",
              "      <td>0.0</td>\n",
              "      <td>9568.68</td>\n",
              "      <td>694</td>\n",
              "      <td>690</td>\n",
              "      <td>0</td>\n",
              "      <td>0</td>\n",
              "      <td>0</td>\n",
              "      <td>151309</td>\n",
              "      <td>0</td>\n",
              "      <td>0</td>\n",
              "      <td>0</td>\n",
              "      <td>0</td>\n",
              "      <td>0</td>\n",
              "      <td>0</td>\n",
              "      <td>0</td>\n",
              "      <td>0</td>\n",
              "      <td>...</td>\n",
              "      <td>0</td>\n",
              "      <td>0</td>\n",
              "      <td>0</td>\n",
              "      <td>0</td>\n",
              "      <td>1</td>\n",
              "      <td>0</td>\n",
              "      <td>0</td>\n",
              "      <td>0</td>\n",
              "      <td>1</td>\n",
              "      <td>0</td>\n",
              "      <td>0</td>\n",
              "      <td>0</td>\n",
              "      <td>0</td>\n",
              "      <td>0</td>\n",
              "      <td>0</td>\n",
              "      <td>0</td>\n",
              "      <td>0</td>\n",
              "      <td>0</td>\n",
              "      <td>0</td>\n",
              "      <td>0</td>\n",
              "      <td>1</td>\n",
              "      <td>0</td>\n",
              "      <td>0</td>\n",
              "      <td>0</td>\n",
              "      <td>0</td>\n",
              "      <td>0</td>\n",
              "      <td>0</td>\n",
              "      <td>0</td>\n",
              "      <td>0</td>\n",
              "      <td>1</td>\n",
              "      <td>0</td>\n",
              "      <td>0</td>\n",
              "      <td>0</td>\n",
              "      <td>0</td>\n",
              "      <td>0</td>\n",
              "      <td>0</td>\n",
              "      <td>0</td>\n",
              "      <td>0</td>\n",
              "      <td>0</td>\n",
              "      <td>0</td>\n",
              "    </tr>\n",
              "    <tr>\n",
              "      <th>2</th>\n",
              "      <td>6000</td>\n",
              "      <td>6000</td>\n",
              "      <td>6000.0</td>\n",
              "      <td>0.1147</td>\n",
              "      <td>197.78</td>\n",
              "      <td>46900.0</td>\n",
              "      <td>24.23</td>\n",
              "      <td>2</td>\n",
              "      <td>665</td>\n",
              "      <td>669</td>\n",
              "      <td>1</td>\n",
              "      <td>9</td>\n",
              "      <td>0</td>\n",
              "      <td>4161</td>\n",
              "      <td>0.257</td>\n",
              "      <td>14</td>\n",
              "      <td>0.0</td>\n",
              "      <td>0.0</td>\n",
              "      <td>7112.021631</td>\n",
              "      <td>7112.02</td>\n",
              "      <td>6000.00</td>\n",
              "      <td>1112.02</td>\n",
              "      <td>0.0</td>\n",
              "      <td>0.0</td>\n",
              "      <td>0.0</td>\n",
              "      <td>197.37</td>\n",
              "      <td>579</td>\n",
              "      <td>575</td>\n",
              "      <td>0</td>\n",
              "      <td>0</td>\n",
              "      <td>0</td>\n",
              "      <td>19337</td>\n",
              "      <td>0</td>\n",
              "      <td>0</td>\n",
              "      <td>0</td>\n",
              "      <td>0</td>\n",
              "      <td>0</td>\n",
              "      <td>1</td>\n",
              "      <td>0</td>\n",
              "      <td>0</td>\n",
              "      <td>...</td>\n",
              "      <td>0</td>\n",
              "      <td>0</td>\n",
              "      <td>0</td>\n",
              "      <td>0</td>\n",
              "      <td>0</td>\n",
              "      <td>0</td>\n",
              "      <td>0</td>\n",
              "      <td>1</td>\n",
              "      <td>0</td>\n",
              "      <td>1</td>\n",
              "      <td>0</td>\n",
              "      <td>0</td>\n",
              "      <td>0</td>\n",
              "      <td>0</td>\n",
              "      <td>0</td>\n",
              "      <td>0</td>\n",
              "      <td>0</td>\n",
              "      <td>0</td>\n",
              "      <td>0</td>\n",
              "      <td>0</td>\n",
              "      <td>0</td>\n",
              "      <td>1</td>\n",
              "      <td>0</td>\n",
              "      <td>0</td>\n",
              "      <td>0</td>\n",
              "      <td>0</td>\n",
              "      <td>0</td>\n",
              "      <td>0</td>\n",
              "      <td>0</td>\n",
              "      <td>0</td>\n",
              "      <td>1</td>\n",
              "      <td>0</td>\n",
              "      <td>0</td>\n",
              "      <td>0</td>\n",
              "      <td>0</td>\n",
              "      <td>0</td>\n",
              "      <td>0</td>\n",
              "      <td>0</td>\n",
              "      <td>0</td>\n",
              "      <td>0</td>\n",
              "    </tr>\n",
              "    <tr>\n",
              "      <th>3</th>\n",
              "      <td>25200</td>\n",
              "      <td>25200</td>\n",
              "      <td>25200.0</td>\n",
              "      <td>0.1199</td>\n",
              "      <td>836.89</td>\n",
              "      <td>76280.0</td>\n",
              "      <td>32.87</td>\n",
              "      <td>0</td>\n",
              "      <td>685</td>\n",
              "      <td>689</td>\n",
              "      <td>0</td>\n",
              "      <td>5</td>\n",
              "      <td>1</td>\n",
              "      <td>7755</td>\n",
              "      <td>0.566</td>\n",
              "      <td>34</td>\n",
              "      <td>0.0</td>\n",
              "      <td>0.0</td>\n",
              "      <td>16704.230000</td>\n",
              "      <td>16704.23</td>\n",
              "      <td>12882.27</td>\n",
              "      <td>3821.96</td>\n",
              "      <td>0.0</td>\n",
              "      <td>0.0</td>\n",
              "      <td>0.0</td>\n",
              "      <td>836.89</td>\n",
              "      <td>564</td>\n",
              "      <td>560</td>\n",
              "      <td>0</td>\n",
              "      <td>0</td>\n",
              "      <td>0</td>\n",
              "      <td>59295</td>\n",
              "      <td>0</td>\n",
              "      <td>0</td>\n",
              "      <td>1</td>\n",
              "      <td>0</td>\n",
              "      <td>0</td>\n",
              "      <td>1</td>\n",
              "      <td>0</td>\n",
              "      <td>0</td>\n",
              "      <td>...</td>\n",
              "      <td>0</td>\n",
              "      <td>0</td>\n",
              "      <td>0</td>\n",
              "      <td>0</td>\n",
              "      <td>0</td>\n",
              "      <td>1</td>\n",
              "      <td>0</td>\n",
              "      <td>0</td>\n",
              "      <td>1</td>\n",
              "      <td>0</td>\n",
              "      <td>0</td>\n",
              "      <td>0</td>\n",
              "      <td>0</td>\n",
              "      <td>0</td>\n",
              "      <td>0</td>\n",
              "      <td>0</td>\n",
              "      <td>0</td>\n",
              "      <td>0</td>\n",
              "      <td>0</td>\n",
              "      <td>0</td>\n",
              "      <td>0</td>\n",
              "      <td>0</td>\n",
              "      <td>0</td>\n",
              "      <td>0</td>\n",
              "      <td>0</td>\n",
              "      <td>1</td>\n",
              "      <td>0</td>\n",
              "      <td>0</td>\n",
              "      <td>0</td>\n",
              "      <td>1</td>\n",
              "      <td>0</td>\n",
              "      <td>0</td>\n",
              "      <td>0</td>\n",
              "      <td>0</td>\n",
              "      <td>0</td>\n",
              "      <td>0</td>\n",
              "      <td>0</td>\n",
              "      <td>0</td>\n",
              "      <td>0</td>\n",
              "      <td>0</td>\n",
              "    </tr>\n",
              "    <tr>\n",
              "      <th>4</th>\n",
              "      <td>8000</td>\n",
              "      <td>8000</td>\n",
              "      <td>8000.0</td>\n",
              "      <td>0.1299</td>\n",
              "      <td>269.52</td>\n",
              "      <td>29000.0</td>\n",
              "      <td>20.28</td>\n",
              "      <td>0</td>\n",
              "      <td>770</td>\n",
              "      <td>774</td>\n",
              "      <td>1</td>\n",
              "      <td>12</td>\n",
              "      <td>0</td>\n",
              "      <td>6324</td>\n",
              "      <td>0.160</td>\n",
              "      <td>15</td>\n",
              "      <td>0.0</td>\n",
              "      <td>0.0</td>\n",
              "      <td>9627.310205</td>\n",
              "      <td>9627.31</td>\n",
              "      <td>8000.00</td>\n",
              "      <td>1627.31</td>\n",
              "      <td>0.0</td>\n",
              "      <td>0.0</td>\n",
              "      <td>0.0</td>\n",
              "      <td>1831.86</td>\n",
              "      <td>684</td>\n",
              "      <td>680</td>\n",
              "      <td>0</td>\n",
              "      <td>0</td>\n",
              "      <td>0</td>\n",
              "      <td>29418</td>\n",
              "      <td>0</td>\n",
              "      <td>0</td>\n",
              "      <td>0</td>\n",
              "      <td>0</td>\n",
              "      <td>0</td>\n",
              "      <td>0</td>\n",
              "      <td>0</td>\n",
              "      <td>1</td>\n",
              "      <td>...</td>\n",
              "      <td>0</td>\n",
              "      <td>0</td>\n",
              "      <td>0</td>\n",
              "      <td>0</td>\n",
              "      <td>0</td>\n",
              "      <td>0</td>\n",
              "      <td>0</td>\n",
              "      <td>0</td>\n",
              "      <td>1</td>\n",
              "      <td>0</td>\n",
              "      <td>0</td>\n",
              "      <td>0</td>\n",
              "      <td>0</td>\n",
              "      <td>0</td>\n",
              "      <td>0</td>\n",
              "      <td>0</td>\n",
              "      <td>0</td>\n",
              "      <td>0</td>\n",
              "      <td>0</td>\n",
              "      <td>0</td>\n",
              "      <td>1</td>\n",
              "      <td>0</td>\n",
              "      <td>0</td>\n",
              "      <td>0</td>\n",
              "      <td>0</td>\n",
              "      <td>0</td>\n",
              "      <td>0</td>\n",
              "      <td>0</td>\n",
              "      <td>0</td>\n",
              "      <td>1</td>\n",
              "      <td>0</td>\n",
              "      <td>0</td>\n",
              "      <td>0</td>\n",
              "      <td>0</td>\n",
              "      <td>0</td>\n",
              "      <td>0</td>\n",
              "      <td>0</td>\n",
              "      <td>0</td>\n",
              "      <td>0</td>\n",
              "      <td>0</td>\n",
              "    </tr>\n",
              "  </tbody>\n",
              "</table>\n",
              "<p>5 rows × 333 columns</p>\n",
              "</div>"
            ],
            "text/plain": [
              "   loan_amnt  ...  mths_since_recent_revol_delinq11\n",
              "0      19000  ...                                 0\n",
              "1      10000  ...                                 0\n",
              "2       6000  ...                                 0\n",
              "3      25200  ...                                 0\n",
              "4       8000  ...                                 0\n",
              "\n",
              "[5 rows x 333 columns]"
            ]
          },
          "metadata": {
            "tags": []
          },
          "execution_count": 14
        }
      ]
    },
    {
      "cell_type": "code",
      "metadata": {
        "colab": {
          "base_uri": "https://localhost:8080/",
          "height": 296
        },
        "id": "PnyjRhZqWH30",
        "outputId": "97707d9e-3b1d-44d1-d164-159d6a98e0d5"
      },
      "source": [
        "sns.countplot(x= 'depvar', data = df)"
      ],
      "execution_count": null,
      "outputs": [
        {
          "output_type": "execute_result",
          "data": {
            "text/plain": [
              "<matplotlib.axes._subplots.AxesSubplot at 0x7fa4420bbdd8>"
            ]
          },
          "metadata": {
            "tags": []
          },
          "execution_count": 6
        },
        {
          "output_type": "display_data",
          "data": {
            "image/png": "[encoded data removed]",
            "text/plain": [
              "<Figure size 432x288 with 1 Axes>"
            ]
          },
          "metadata": {
            "tags": [],
            "needs_background": "light"
          }
        }
      ]
    },
    {
      "cell_type": "code",
      "metadata": {
        "id": "VWtY32xlk8ID"
      },
      "source": [
        "# 대출 해주는 시점에서 관측 불가능한 변수와 관측 가능한 변수 구분\n",
        "post_attr = ['out_prncp','out_prncp_inv', 'total_pymnt','total_pymnt_inv', 'total_rec_prncp','total_rec_int',  \n",
        "'recoveries', 'total_rec_late_fee', 'collection_recovery_fee', 'last_pymnt_amnt', 'debt_settlement_flag1',\n",
        "'installment','elapsed_t','term1']\n",
        "\n",
        "for i in range(1,119):\n",
        "    col = 'issue_d' + str(i)\n",
        "    post_attr.append(col)\n",
        "\n",
        "cat_lists = ['mths_since_last_delinq','mths_since_last_major_derog','mths_since_last_record',\n",
        "             'mths_since_rcnt_il','mths_since_recent_bc','mths_since_recent_bc_dlq','mths_since_recent_revol_delinq']\n",
        "\n",
        "for col in cat_lists:\n",
        "    for i in range(1,12):\n",
        "        coli = col + str(i)\n",
        "        post_attr.append(coli)\n",
        "        \n",
        "for i in range(1,11):\n",
        "    col = 'mths_since_recent_inq' + str(i)\n",
        "    post_attr.append(col)"
      ],
      "execution_count": null,
      "outputs": []
    },
    {
      "cell_type": "code",
      "metadata": {
        "id": "08LoufMMxA_G"
      },
      "source": [
        "pre_attr = list(set(df.columns) - set(post_attr))\n",
        "pre_attr.sort()"
      ],
      "execution_count": null,
      "outputs": []
    },
    {
      "cell_type": "code",
      "metadata": {
        "colab": {
          "base_uri": "https://localhost:8080/"
        },
        "id": "pkGnWHaIsuRL",
        "outputId": "b7fe87bb-b95c-4f79-c7fe-0119044f1b0d"
      },
      "source": [
        "df = df[pre_attr]\n",
        "df.shape"
      ],
      "execution_count": null,
      "outputs": [
        {
          "output_type": "execute_result",
          "data": {
            "text/plain": [
              "(1092919, 114)"
            ]
          },
          "metadata": {
            "tags": []
          },
          "execution_count": 11
        }
      ]
    },
    {
      "cell_type": "code",
      "metadata": {
        "id": "MXkRIiOcgjS2"
      },
      "source": [
        "X = df.drop('depvar', axis=1)\n",
        "y = df['depvar']\n",
        "\n",
        "X_train, X_test, y_train, y_test = train_test_split(X, y, train_size=0.8, test_size=0.2, random_state=47)\n",
        "X_train, X_valid, y_train, y_valid = train_test_split(X_train,y_train,test_size=0.25,random_state=73)"
      ],
      "execution_count": null,
      "outputs": []
    },
    {
      "cell_type": "markdown",
      "metadata": {
        "id": "jBh2ClYqcF6i"
      },
      "source": [
        "### confusion matrix & ploting confusion matirx"
      ]
    },
    {
      "cell_type": "code",
      "metadata": {
        "id": "QvRKVmkzzwL1"
      },
      "source": [
        "# confusion matrix : fpr, tpr 계산하기\n",
        "def get_rates(cm):\n",
        "    \n",
        "    FP = cm[0,1]\n",
        "    FN = cm[1,0]\n",
        "    TP = cm[1,1]\n",
        "    TN = cm[0,0]\n",
        "\n",
        "    Recall = TP / (TP + FN) # Sensitivity, hit rate, recall, or true positive rate\n",
        "    Precision = TP / (TP + FP) # Precision or positive predictive value\n",
        "    FPR = FP / (FP + TN) # False positive rate or False alarm rate\n",
        "    # FNR = FN / (FN + TP) # False negative rate or Miss Rate\n",
        "    Accuracy = (TP+TN) / (FP+FN+TP+TN)\n",
        "\n",
        "    return Recall, FPR, Precision, Accuracy\n",
        "\n",
        "\n",
        "\n",
        "# plotting confusion matrix\n",
        "def plot_confusion_matrix(cm, classes=None, title='Confusion matrix'):\n",
        "    sns.set(rc={'figure.figsize':(10,9)})\n",
        "    if classes is not None:\n",
        "        sns.heatmap(cm, cmap=\"YlGnBu\", xticklabels=classes, yticklabels=classes, vmin=0., vmax=1., annot=True, annot_kws={'size':50})\n",
        "    else:\n",
        "        sns.heatmap(cm, vmin=0., vmax=1.)\n",
        "    plt.title(title)\n",
        "    plt.ylabel('True label')\n",
        "    plt.xlabel('Predicted label')"
      ],
      "execution_count": null,
      "outputs": []
    },
    {
      "cell_type": "markdown",
      "metadata": {
        "id": "VBCH6_Vyi0HO"
      },
      "source": [
        "# 3. Random Forest Classifier"
      ]
    },
    {
      "cell_type": "code",
      "metadata": {
        "colab": {
          "base_uri": "https://localhost:8080/"
        },
        "id": "6E7wA6vHi5ql",
        "outputId": "94502d1d-dcc8-4851-b01f-53c42a28f6c8"
      },
      "source": [
        "# w = {0:1,1:9}\n",
        "rf_model = RandomForestClassifier(class_weight='balanced',criterion='entropy',max_depth=7,random_state=47)\n",
        "rf_model.fit(X=X_train, y=y_train) "
      ],
      "execution_count": null,
      "outputs": [
        {
          "output_type": "execute_result",
          "data": {
            "text/plain": [
              "RandomForestClassifier(bootstrap=True, ccp_alpha=0.0, class_weight='balanced',\n",
              "                       criterion='entropy', max_depth=7, max_features='auto',\n",
              "                       max_leaf_nodes=None, max_samples=None,\n",
              "                       min_impurity_decrease=0.0, min_impurity_split=None,\n",
              "                       min_samples_leaf=1, min_samples_split=2,\n",
              "                       min_weight_fraction_leaf=0.0, n_estimators=100,\n",
              "                       n_jobs=None, oob_score=False, random_state=47, verbose=0,\n",
              "                       warm_start=False)"
            ]
          },
          "metadata": {
            "tags": []
          },
          "execution_count": 15
        }
      ]
    },
    {
      "cell_type": "code",
      "metadata": {
        "colab": {
          "base_uri": "https://localhost:8080/",
          "height": 212
        },
        "id": "sFph7SLJgzIJ",
        "outputId": "20504b46-72ce-4a91-b7e0-a1ed24264103"
      },
      "source": [
        "fi_col2 = []\n",
        "fi2 = []\n",
        "\n",
        "for i, column in enumerate(X):\n",
        "  fi_col2.append(column)\n",
        "  fi2.append(rf_model.feature_importances_[i])\n",
        "\n",
        "fi_df2 = zip(fi_col2, fi2)\n",
        "fi_df2 = pd.DataFrame(fi_df2, columns=['features', 'feature importance'])\n",
        "fi_df2 = fi_df2.sort_values('feature importance', ascending=False).reset_index()\n",
        "\n",
        "idx_to_drop2 = fi_df2.index[fi_df2['feature importance'] == 0].tolist()\n",
        "fi_df2.drop(index = idx_to_drop2,inplace=True) # feature importance 가 0인 변수들 제거\n",
        "print(fi_df2.shape) # 113개 중에 111개 생존\n",
        "fi_df2.head()"
      ],
      "execution_count": null,
      "outputs": [
        {
          "output_type": "stream",
          "text": [
            "(111, 3)\n"
          ],
          "name": "stdout"
        },
        {
          "output_type": "execute_result",
          "data": {
            "text/html": [
              "<div>\n",
              "<style scoped>\n",
              "    .dataframe tbody tr th:only-of-type {\n",
              "        vertical-align: middle;\n",
              "    }\n",
              "\n",
              "    .dataframe tbody tr th {\n",
              "        vertical-align: top;\n",
              "    }\n",
              "\n",
              "    .dataframe thead th {\n",
              "        text-align: right;\n",
              "    }\n",
              "</style>\n",
              "<table border=\"1\" class=\"dataframe\">\n",
              "  <thead>\n",
              "    <tr style=\"text-align: right;\">\n",
              "      <th></th>\n",
              "      <th>index</th>\n",
              "      <th>features</th>\n",
              "      <th>feature importance</th>\n",
              "    </tr>\n",
              "  </thead>\n",
              "  <tbody>\n",
              "    <tr>\n",
              "      <th>0</th>\n",
              "      <td>84</td>\n",
              "      <td>last_fico_range_high</td>\n",
              "      <td>0.446779</td>\n",
              "    </tr>\n",
              "    <tr>\n",
              "      <th>1</th>\n",
              "      <td>85</td>\n",
              "      <td>last_fico_range_low</td>\n",
              "      <td>0.438049</td>\n",
              "    </tr>\n",
              "    <tr>\n",
              "      <th>2</th>\n",
              "      <td>83</td>\n",
              "      <td>int_rate</td>\n",
              "      <td>0.046423</td>\n",
              "    </tr>\n",
              "    <tr>\n",
              "      <th>3</th>\n",
              "      <td>70</td>\n",
              "      <td>fico_range_high</td>\n",
              "      <td>0.011368</td>\n",
              "    </tr>\n",
              "    <tr>\n",
              "      <th>4</th>\n",
              "      <td>71</td>\n",
              "      <td>fico_range_low</td>\n",
              "      <td>0.010357</td>\n",
              "    </tr>\n",
              "  </tbody>\n",
              "</table>\n",
              "</div>"
            ],
            "text/plain": [
              "   index              features  feature importance\n",
              "0     84  last_fico_range_high            0.446779\n",
              "1     85   last_fico_range_low            0.438049\n",
              "2     83              int_rate            0.046423\n",
              "3     70       fico_range_high            0.011368\n",
              "4     71        fico_range_low            0.010357"
            ]
          },
          "metadata": {
            "tags": []
          },
          "execution_count": 16
        }
      ]
    },
    {
      "cell_type": "markdown",
      "metadata": {
        "id": "ecOtR-m_Puau"
      },
      "source": [
        "feature importance 반영하여 돌린 결과"
      ]
    },
    {
      "cell_type": "code",
      "metadata": {
        "colab": {
          "base_uri": "https://localhost:8080/"
        },
        "id": "WUWH3j9MPlxV",
        "outputId": "d0445013-796c-4ca8-e5e0-441cb90f77c7"
      },
      "source": [
        "featlist = list(fi_df2[\"features\"])\n",
        "X = df[featlist]\n",
        "y = df['depvar']\n",
        "X_train, X_test, y_train, y_test = train_test_split(X, y, train_size=0.8, test_size=0.2, random_state=47)\n",
        "X_train, X_valid, y_train, y_valid = train_test_split(X_train,y_train,test_size=0.25,random_state=73)\n",
        "\n",
        "# w = {0:1,1:9}\n",
        "rf_model = RandomForestClassifier(class_weight='balanced',criterion='entropy',max_depth=7,random_state=47)\n",
        "rf_model.fit(X=X_train, y=y_train) "
      ],
      "execution_count": null,
      "outputs": [
        {
          "output_type": "execute_result",
          "data": {
            "text/plain": [
              "RandomForestClassifier(bootstrap=True, ccp_alpha=0.0, class_weight='balanced',\n",
              "                       criterion='entropy', max_depth=7, max_features='auto',\n",
              "                       max_leaf_nodes=None, max_samples=None,\n",
              "                       min_impurity_decrease=0.0, min_impurity_split=None,\n",
              "                       min_samples_leaf=1, min_samples_split=2,\n",
              "                       min_weight_fraction_leaf=0.0, n_estimators=100,\n",
              "                       n_jobs=None, oob_score=False, random_state=47, verbose=0,\n",
              "                       warm_start=False)"
            ]
          },
          "metadata": {
            "tags": []
          },
          "execution_count": 17
        }
      ]
    },
    {
      "cell_type": "code",
      "metadata": {
        "id": "JTYheHkmgy8N"
      },
      "source": [
        "valid_pred2 = rf_model.predict(X_valid)\n",
        "valid_pred_prob2 = rf_model.predict_proba(X_valid) # 각 column : 0(살아날)일 확률 & 1(부도할) 확률"
      ],
      "execution_count": null,
      "outputs": []
    },
    {
      "cell_type": "code",
      "metadata": {
        "colab": {
          "base_uri": "https://localhost:8080/"
        },
        "id": "L50w_zew6BWU",
        "outputId": "8aba4696-85df-4ad4-80db-aa736f3a1f12"
      },
      "source": [
        "# roc_curve & auc\n",
        "fpr, tpr, threshold = roc_curve(y_valid,valid_pred_prob2[:,1])\n",
        "roc_auc = auc(fpr,tpr)\n",
        "roc_auc"
      ],
      "execution_count": null,
      "outputs": [
        {
          "output_type": "execute_result",
          "data": {
            "text/plain": [
              "0.9183001398240356"
            ]
          },
          "metadata": {
            "tags": []
          },
          "execution_count": 25
        }
      ]
    },
    {
      "cell_type": "code",
      "metadata": {
        "colab": {
          "base_uri": "https://localhost:8080/",
          "height": 294
        },
        "id": "NXQw0kgmgy2h",
        "outputId": "01661aee-b06b-4db1-95dd-fc4009cc4a18"
      },
      "source": [
        "plt.figure()\n",
        "plt.plot(fpr, tpr, label='ROC curve (area= %0.2f)' % roc_auc)\n",
        "ㅁ\n",
        "##그래프에 직선 추가하기\n",
        "plt.plot([0,1],[0,1],color='navy', linestyle='--')\n",
        "\n",
        "#x축과 y축 구간 설정하기\n",
        "plt.xlim([0,1])\n",
        "plt.ylim([0,1.05])\n",
        "\n",
        "#축 이름 및 그래프 타이틀, 레전드 추가하기\n",
        "plt.xlabel('False Positive Rate')\n",
        "plt.ylabel('True Positive Rate')\n",
        "plt.title('Receiver Operating Characteristic Curve :Logit')\n",
        "plt.legend(loc=\"lower right\")\n",
        "\n",
        "plt.show()"
      ],
      "execution_count": null,
      "outputs": [
        {
          "output_type": "display_data",
          "data": {
            "image/png": "[encoded data removed]",
            "text/plain": [
              "<Figure size 432x288 with 1 Axes>"
            ]
          },
          "metadata": {
            "tags": [],
            "needs_background": "light"
          }
        }
      ]
    },
    {
      "cell_type": "code",
      "metadata": {
        "colab": {
          "base_uri": "https://localhost:8080/"
        },
        "id": "rrMO3UPLfS1V",
        "outputId": "b43fdfcb-3efb-4995-a3c5-394d1bf4b3db"
      },
      "source": [
        "threshold_interval = np.linspace(0,1,101)\n",
        "\n",
        "for i in threshold_interval:\n",
        "    test_result_temp0 = pd.DataFrame(rf_model.predict_proba(X_test)[:,1],columns=['pred_prob'])\n",
        "    test_result_temp0['binary'] = np.where(test_result_temp0['pred_prob']>=(i-0.01),1,0)\n",
        "\n",
        "    test_result_temp1 = pd.DataFrame(rf_model.predict_proba(X_test)[:,1],columns=['pred_prob'])\n",
        "    test_result_temp1['binary'] = np.where(test_result_temp1['pred_prob']>=i,1,0)\n",
        "    \n",
        "    cm_temp0 = confusion_matrix(y_test,test_result_temp0['binary'])\n",
        "    cm_norm_temp0 = cm_temp0 / cm_temp0.sum(axis=1).reshape(-1,1)\n",
        "\n",
        "    cm_temp1 = confusion_matrix(y_test,test_result_temp1['binary'])\n",
        "    cm_norm_temp1 = cm_temp1 / cm_temp1.sum(axis=1).reshape(-1,1)\n",
        "\n",
        "    print(i)\n",
        "    print(-4.5*12*(cm_norm_temp1[0,1]-cm_norm_temp0[0,1])>33*(cm_norm_temp1[1,0]-cm_norm_temp0[1,0]))\n",
        "    print(\"accuracy is :\", (cm_temp1[0,0]+cm_temp1[1,1])/(cm_temp1[0,0]+cm_temp1[0,1]+cm_temp1[1,0]+cm_temp1[1,1]))\n",
        "    print('')"
      ],
      "execution_count": null,
      "outputs": [
        {
          "output_type": "stream",
          "text": [
            "0.0\n",
            "False\n",
            "accuracy is : 0.1615488782344545\n",
            "\n",
            "0.01\n",
            "False\n",
            "accuracy is : 0.1615488782344545\n",
            "\n",
            "0.02\n",
            "False\n",
            "accuracy is : 0.1615488782344545\n",
            "\n",
            "0.03\n",
            "False\n",
            "accuracy is : 0.1615488782344545\n",
            "\n",
            "0.04\n",
            "False\n",
            "accuracy is : 0.1615488782344545\n",
            "\n",
            "0.05\n",
            "False\n",
            "accuracy is : 0.1615488782344545\n",
            "\n",
            "0.06\n",
            "True\n",
            "accuracy is : 0.16157175273579036\n",
            "\n",
            "0.07\n",
            "True\n",
            "accuracy is : 0.16297624711781283\n",
            "\n",
            "0.08\n",
            "True\n",
            "accuracy is : 0.1695869780038795\n",
            "\n",
            "0.09\n",
            "True\n",
            "accuracy is : 0.18139937049372323\n",
            "\n",
            "0.1\n",
            "True\n",
            "accuracy is : 0.19750301943417634\n",
            "\n",
            "0.11\n",
            "True\n",
            "accuracy is : 0.21754108260439922\n",
            "\n",
            "0.12\n",
            "True\n",
            "accuracy is : 0.24100574607473557\n",
            "\n",
            "0.13\n",
            "True\n",
            "accuracy is : 0.27004263807049006\n",
            "\n",
            "0.14\n",
            "True\n",
            "accuracy is : 0.3037550781392966\n",
            "\n",
            "0.15\n",
            "True\n",
            "accuracy is : 0.3419966694726055\n",
            "\n",
            "0.16\n",
            "True\n",
            "accuracy is : 0.3836968854078981\n",
            "\n",
            "0.17\n",
            "True\n",
            "accuracy is : 0.4285400578267394\n",
            "\n",
            "0.18\n",
            "True\n",
            "accuracy is : 0.47389561907550415\n",
            "\n",
            "0.19\n",
            "True\n",
            "accuracy is : 0.5187342165940783\n",
            "\n",
            "0.2\n",
            "True\n",
            "accuracy is : 0.5600318413058595\n",
            "\n",
            "0.21\n",
            "True\n",
            "accuracy is : 0.5984610035501227\n",
            "\n",
            "0.22\n",
            "True\n",
            "accuracy is : 0.6347674120704169\n",
            "\n",
            "0.23\n",
            "True\n",
            "accuracy is : 0.6674413497785748\n",
            "\n",
            "0.24\n",
            "True\n",
            "accuracy is : 0.6961305493540241\n",
            "\n",
            "0.25\n",
            "True\n",
            "accuracy is : 0.7209036343007722\n",
            "\n",
            "0.26\n",
            "True\n",
            "accuracy is : 0.740282911832522\n",
            "\n",
            "0.27\n",
            "True\n",
            "accuracy is : 0.7559976942502653\n",
            "\n",
            "0.28\n",
            "True\n",
            "accuracy is : 0.7683316253705669\n",
            "\n",
            "0.29\n",
            "True\n",
            "accuracy is : 0.7775546243091901\n",
            "\n",
            "0.3\n",
            "True\n",
            "accuracy is : 0.7848195659334627\n",
            "\n",
            "0.31\n",
            "True\n",
            "accuracy is : 0.7905839402701021\n",
            "\n",
            "0.32\n",
            "True\n",
            "accuracy is : 0.795337261647696\n",
            "\n",
            "0.33\n",
            "True\n",
            "accuracy is : 0.7992350766753284\n",
            "\n",
            "0.34\n",
            "True\n",
            "accuracy is : 0.8025610291695641\n",
            "\n",
            "0.35000000000000003\n",
            "True\n",
            "accuracy is : 0.8050772243165099\n",
            "\n",
            "0.36\n",
            "True\n",
            "accuracy is : 0.8072823262452878\n",
            "\n",
            "0.37\n",
            "True\n",
            "accuracy is : 0.8090162134465468\n",
            "\n",
            "0.38\n",
            "True\n",
            "accuracy is : 0.8103658090253633\n",
            "\n",
            "0.39\n",
            "True\n",
            "accuracy is : 0.8116056069977674\n",
            "\n",
            "0.4\n",
            "True\n",
            "accuracy is : 0.8127356073637595\n",
            "\n",
            "0.41000000000000003\n",
            "True\n",
            "accuracy is : 0.8138884822310873\n",
            "\n",
            "0.42\n",
            "True\n",
            "accuracy is : 0.8149407092925374\n",
            "\n",
            "0.43\n",
            "True\n",
            "accuracy is : 0.8158099403433006\n",
            "\n",
            "0.44\n",
            "True\n",
            "accuracy is : 0.81676609449914\n",
            "\n",
            "0.45\n",
            "True\n",
            "accuracy is : 0.8177313984555137\n",
            "\n",
            "0.46\n",
            "True\n",
            "accuracy is : 0.8187195769132233\n",
            "\n",
            "0.47000000000000003\n",
            "True\n",
            "accuracy is : 0.819817552977345\n",
            "\n",
            "0.48\n",
            "True\n",
            "accuracy is : 0.8207691322329174\n",
            "\n",
            "0.49\n",
            "True\n",
            "accuracy is : 0.821757310690627\n",
            "\n",
            "0.5\n",
            "True\n",
            "accuracy is : 0.8227226146470007\n",
            "\n",
            "0.51\n",
            "True\n",
            "accuracy is : 0.8237748417084507\n",
            "\n",
            "0.52\n",
            "True\n",
            "accuracy is : 0.8248499432712367\n",
            "\n",
            "0.53\n",
            "True\n",
            "accuracy is : 0.8259479193353585\n",
            "\n",
            "0.54\n",
            "True\n",
            "accuracy is : 0.8271556930058924\n",
            "\n",
            "0.55\n",
            "True\n",
            "accuracy is : 0.8285601873879149\n",
            "\n",
            "0.56\n",
            "True\n",
            "accuracy is : 0.8300470299747466\n",
            "\n",
            "0.5700000000000001\n",
            "True\n",
            "accuracy is : 0.831950188485891\n",
            "\n",
            "0.58\n",
            "True\n",
            "accuracy is : 0.8340317681074553\n",
            "\n",
            "0.59\n",
            "True\n",
            "accuracy is : 0.8365250887530652\n",
            "\n",
            "0.6\n",
            "True\n",
            "accuracy is : 0.8394210006221864\n",
            "\n",
            "0.61\n",
            "True\n",
            "accuracy is : 0.8425502324049335\n",
            "\n",
            "0.62\n",
            "True\n",
            "accuracy is : 0.8461186546133295\n",
            "\n",
            "0.63\n",
            "True\n",
            "accuracy is : 0.849838048530542\n",
            "\n",
            "0.64\n",
            "True\n",
            "accuracy is : 0.8536901145555027\n",
            "\n",
            "0.65\n",
            "False\n",
            "accuracy is : 0.8576245287852725\n",
            "\n",
            "0.66\n",
            "False\n",
            "accuracy is : 0.861577242616111\n",
            "\n",
            "0.67\n",
            "False\n",
            "accuracy is : 0.8653652600373312\n",
            "\n",
            "0.68\n",
            "False\n",
            "accuracy is : 0.8691349778574827\n",
            "\n",
            "0.6900000000000001\n",
            "False\n",
            "accuracy is : 0.8722870841415657\n",
            "\n",
            "0.7000000000000001\n",
            "False\n",
            "accuracy is : 0.8748902023935878\n",
            "\n",
            "0.71\n",
            "False\n",
            "accuracy is : 0.8768985836108772\n",
            "\n",
            "0.72\n",
            "False\n",
            "accuracy is : 0.8787148190169455\n",
            "\n",
            "0.73\n",
            "False\n",
            "accuracy is : 0.8791631592431285\n",
            "\n",
            "0.74\n",
            "False\n",
            "accuracy is : 0.8789481389305713\n",
            "\n",
            "0.75\n",
            "False\n",
            "accuracy is : 0.8776717417560297\n",
            "\n",
            "0.76\n",
            "False\n",
            "accuracy is : 0.8751921458112213\n",
            "\n",
            "0.77\n",
            "False\n",
            "accuracy is : 0.8710747355707645\n",
            "\n",
            "0.78\n",
            "False\n",
            "accuracy is : 0.8658684990667204\n",
            "\n",
            "0.79\n",
            "False\n",
            "accuracy is : 0.8607080115653479\n",
            "\n",
            "0.8\n",
            "False\n",
            "accuracy is : 0.8551174834388611\n",
            "\n",
            "0.81\n",
            "False\n",
            "accuracy is : 0.8492387365955422\n",
            "\n",
            "0.8200000000000001\n",
            "False\n",
            "accuracy is : 0.844636386926765\n",
            "\n",
            "0.8300000000000001\n",
            "False\n",
            "accuracy is : 0.8408895436079493\n",
            "\n",
            "0.84\n",
            "False\n",
            "accuracy is : 0.8389223364930645\n",
            "\n",
            "0.85\n",
            "False\n",
            "accuracy is : 0.8384739962668813\n",
            "\n",
            "0.86\n",
            "False\n",
            "accuracy is : 0.8384511217655455\n",
            "\n",
            "0.87\n",
            "False\n",
            "accuracy is : 0.8384511217655455\n",
            "\n",
            "0.88\n",
            "False\n",
            "accuracy is : 0.8384511217655455\n",
            "\n",
            "0.89\n",
            "False\n",
            "accuracy is : 0.8384511217655455\n",
            "\n",
            "0.9\n",
            "False\n",
            "accuracy is : 0.8384511217655455\n",
            "\n",
            "0.91\n",
            "False\n",
            "accuracy is : 0.8384511217655455\n",
            "\n",
            "0.92\n",
            "False\n",
            "accuracy is : 0.8384511217655455\n",
            "\n",
            "0.93\n",
            "False\n",
            "accuracy is : 0.8384511217655455\n",
            "\n",
            "0.9400000000000001\n",
            "False\n",
            "accuracy is : 0.8384511217655455\n",
            "\n",
            "0.9500000000000001\n",
            "False\n",
            "accuracy is : 0.8384511217655455\n",
            "\n",
            "0.96\n",
            "False\n",
            "accuracy is : 0.8384511217655455\n",
            "\n",
            "0.97\n",
            "False\n",
            "accuracy is : 0.8384511217655455\n",
            "\n",
            "0.98\n",
            "False\n",
            "accuracy is : 0.8384511217655455\n",
            "\n",
            "0.99\n",
            "False\n",
            "accuracy is : 0.8384511217655455\n",
            "\n",
            "1.0\n",
            "False\n",
            "accuracy is : 0.8384511217655455\n",
            "\n"
          ],
          "name": "stdout"
        }
      ]
    },
    {
      "cell_type": "markdown",
      "metadata": {
        "id": "7rwWUjQSgJae"
      },
      "source": [
        "* optimal_threshold_rf = 0.65\n",
        "* accuracy : 0.8581735168173333"
      ]
    },
    {
      "cell_type": "code",
      "metadata": {
        "id": "oPoirzRAAOH5"
      },
      "source": [
        "optimal_threshold_rf = 0.65\n",
        "\n",
        "# test set 검증\n",
        "test_result2 = pd.DataFrame(rf_model.predict_proba(X_test)[:,1],columns=['pred_prob'])\n",
        "test_result2['rf_binary'] = np.where(test_result2['pred_prob']>=optimal_threshold_rf,1,0)"
      ],
      "execution_count": null,
      "outputs": []
    },
    {
      "cell_type": "code",
      "metadata": {
        "colab": {
          "base_uri": "https://localhost:8080/",
          "height": 401
        },
        "id": "YJI2xtWqyfmK",
        "outputId": "ea9fdae1-4953-4cf8-cc31-cb3e8c96d1e7"
      },
      "source": [
        "test_result2"
      ],
      "execution_count": null,
      "outputs": [
        {
          "output_type": "execute_result",
          "data": {
            "text/html": [
              "<div>\n",
              "<style scoped>\n",
              "    .dataframe tbody tr th:only-of-type {\n",
              "        vertical-align: middle;\n",
              "    }\n",
              "\n",
              "    .dataframe tbody tr th {\n",
              "        vertical-align: top;\n",
              "    }\n",
              "\n",
              "    .dataframe thead th {\n",
              "        text-align: right;\n",
              "    }\n",
              "</style>\n",
              "<table border=\"1\" class=\"dataframe\">\n",
              "  <thead>\n",
              "    <tr style=\"text-align: right;\">\n",
              "      <th></th>\n",
              "      <th>pred_prob</th>\n",
              "      <th>rf_binary</th>\n",
              "    </tr>\n",
              "  </thead>\n",
              "  <tbody>\n",
              "    <tr>\n",
              "      <th>0</th>\n",
              "      <td>0.183090</td>\n",
              "      <td>0</td>\n",
              "    </tr>\n",
              "    <tr>\n",
              "      <th>1</th>\n",
              "      <td>0.191853</td>\n",
              "      <td>0</td>\n",
              "    </tr>\n",
              "    <tr>\n",
              "      <th>2</th>\n",
              "      <td>0.199716</td>\n",
              "      <td>0</td>\n",
              "    </tr>\n",
              "    <tr>\n",
              "      <th>3</th>\n",
              "      <td>0.202154</td>\n",
              "      <td>0</td>\n",
              "    </tr>\n",
              "    <tr>\n",
              "      <th>4</th>\n",
              "      <td>0.823006</td>\n",
              "      <td>1</td>\n",
              "    </tr>\n",
              "    <tr>\n",
              "      <th>...</th>\n",
              "      <td>...</td>\n",
              "      <td>...</td>\n",
              "    </tr>\n",
              "    <tr>\n",
              "      <th>218579</th>\n",
              "      <td>0.588713</td>\n",
              "      <td>0</td>\n",
              "    </tr>\n",
              "    <tr>\n",
              "      <th>218580</th>\n",
              "      <td>0.154994</td>\n",
              "      <td>0</td>\n",
              "    </tr>\n",
              "    <tr>\n",
              "      <th>218581</th>\n",
              "      <td>0.747689</td>\n",
              "      <td>1</td>\n",
              "    </tr>\n",
              "    <tr>\n",
              "      <th>218582</th>\n",
              "      <td>0.211239</td>\n",
              "      <td>0</td>\n",
              "    </tr>\n",
              "    <tr>\n",
              "      <th>218583</th>\n",
              "      <td>0.721054</td>\n",
              "      <td>1</td>\n",
              "    </tr>\n",
              "  </tbody>\n",
              "</table>\n",
              "<p>218584 rows × 2 columns</p>\n",
              "</div>"
            ],
            "text/plain": [
              "        pred_prob  rf_binary\n",
              "0        0.183090          0\n",
              "1        0.191853          0\n",
              "2        0.199716          0\n",
              "3        0.202154          0\n",
              "4        0.823006          1\n",
              "...           ...        ...\n",
              "218579   0.588713          0\n",
              "218580   0.154994          0\n",
              "218581   0.747689          1\n",
              "218582   0.211239          0\n",
              "218583   0.721054          1\n",
              "\n",
              "[218584 rows x 2 columns]"
            ]
          },
          "metadata": {
            "tags": []
          },
          "execution_count": 29
        }
      ]
    },
    {
      "cell_type": "code",
      "metadata": {
        "colab": {
          "base_uri": "https://localhost:8080/"
        },
        "id": "D0Gbmys_AN5L",
        "outputId": "b191e570-d606-40ad-931a-67fcf727f2e9"
      },
      "source": [
        "cm2 = confusion_matrix(y_test,test_result2['rf_binary'])\n",
        "cm2"
      ],
      "execution_count": null,
      "outputs": [
        {
          "output_type": "execute_result",
          "data": {
            "text/plain": [
              "array([[157390,  25882],\n",
              "       [  5119,  30193]])"
            ]
          },
          "metadata": {
            "tags": []
          },
          "execution_count": 121
        }
      ]
    },
    {
      "cell_type": "code",
      "metadata": {
        "colab": {
          "base_uri": "https://localhost:8080/"
        },
        "id": "bTjh4qDcAOAg",
        "outputId": "3fac3d25-60ce-4fa7-ffa6-127fe0373aaf"
      },
      "source": [
        "print(classification_report(y_test, test_result2['rf_binary']))"
      ],
      "execution_count": null,
      "outputs": [
        {
          "output_type": "stream",
          "text": [
            "              precision    recall  f1-score   support\n",
            "\n",
            "         0.0       0.97      0.86      0.91    183272\n",
            "         1.0       0.54      0.86      0.66     35312\n",
            "\n",
            "    accuracy                           0.86    218584\n",
            "   macro avg       0.75      0.86      0.79    218584\n",
            "weighted avg       0.90      0.86      0.87    218584\n",
            "\n"
          ],
          "name": "stdout"
        }
      ]
    },
    {
      "cell_type": "code",
      "metadata": {
        "colab": {
          "base_uri": "https://localhost:8080/"
        },
        "id": "8e81FypHgykP",
        "outputId": "29852429-d5df-4cbf-9414-bdbd8cadb898"
      },
      "source": [
        "tpr, fpr, prc, acc =  get_rates(cm2)\n",
        "print(\"TPR : {:.2f}%\".format(tpr*100))\n",
        "print(\"FPR : {:.2f}%\".format(fpr*100))\n",
        "print(\"Precision : {:.2f}%\".format(prc*100))\n",
        "print(\"Accuracy : {:.2f}%\".format(acc*100))"
      ],
      "execution_count": null,
      "outputs": [
        {
          "output_type": "stream",
          "text": [
            "TPR : 85.50%\n",
            "FPR : 14.12%\n",
            "Precision : 53.84%\n",
            "Accuracy : 85.82%\n"
          ],
          "name": "stdout"
        }
      ]
    },
    {
      "cell_type": "code",
      "metadata": {
        "colab": {
          "base_uri": "https://localhost:8080/",
          "height": 573
        },
        "id": "1J1Dj1NqvVS_",
        "outputId": "60417ed4-cbde-417f-df85-63c2eada91a5"
      },
      "source": [
        "cm2_norm = cm2 / cm2.sum(axis=1).reshape(-1,1)\n",
        "\n",
        "plot_confusion_matrix(cm2_norm, classes = rf_model.classes_, title='Random Forest Classifier')"
      ],
      "execution_count": null,
      "outputs": [
        {
          "output_type": "display_data",
          "data": {
            "image/png": "[encoded data removed]",
            "text/plain": [
              "<Figure size 720x648 with 2 Axes>"
            ]
          },
          "metadata": {
            "tags": []
          }
        }
      ]
    },
    {
      "cell_type": "markdown",
      "metadata": {
        "id": "Uu_BYetw12_H"
      },
      "source": [
        "# 4. Logistic Regression\n",
        "\n",
        "* Feature Selectoin : DecisionTree / Lasso "
      ]
    },
    {
      "cell_type": "markdown",
      "metadata": {
        "id": "fidNgtrMYwO3"
      },
      "source": [
        "## I) Feature Selection : Decision Tree"
      ]
    },
    {
      "cell_type": "code",
      "metadata": {
        "id": "zwfRhrNeJkO9"
      },
      "source": [
        "X = df.drop('depvar', axis=1)\n",
        "y = df['depvar']\n",
        "\n",
        "X_train, X_test, y_train, y_test = train_test_split(X, y, train_size=0.8, test_size=0.2, random_state=47)\n",
        "X_train, X_valid, y_train, y_valid = train_test_split(X_train,y_train,test_size=0.25,random_state=73)"
      ],
      "execution_count": null,
      "outputs": []
    },
    {
      "cell_type": "code",
      "metadata": {
        "colab": {
          "base_uri": "https://localhost:8080/"
        },
        "id": "K82jQRxxWFlA",
        "outputId": "0e3be9ce-5ca4-49f3-a67c-42b6225b5634"
      },
      "source": [
        "dt_model = DecisionTreeClassifier(random_state=43, criterion='entropy',max_depth=10,class_weight='balanced')\n",
        "dt_model.fit(X_train,y_train)"
      ],
      "execution_count": null,
      "outputs": [
        {
          "output_type": "execute_result",
          "data": {
            "text/plain": [
              "DecisionTreeClassifier(ccp_alpha=0.0, class_weight='balanced',\n",
              "                       criterion='entropy', max_depth=10, max_features=None,\n",
              "                       max_leaf_nodes=None, min_impurity_decrease=0.0,\n",
              "                       min_impurity_split=None, min_samples_leaf=1,\n",
              "                       min_samples_split=2, min_weight_fraction_leaf=0.0,\n",
              "                       presort='deprecated', random_state=43, splitter='best')"
            ]
          },
          "metadata": {
            "tags": []
          },
          "execution_count": 20
        }
      ]
    },
    {
      "cell_type": "code",
      "metadata": {
        "colab": {
          "base_uri": "https://localhost:8080/",
          "height": 212
        },
        "id": "EeZ2UWaZWFlC",
        "outputId": "00946708-b14c-4024-93b9-a51bdce00c45"
      },
      "source": [
        "fi_col1 = []\n",
        "fi1 = []\n",
        "\n",
        "for i, column in enumerate(X):\n",
        "  fi_col1.append(column)\n",
        "  fi1.append(dt_model.feature_importances_[i])\n",
        "\n",
        "fi_df1 = pd.DataFrame(zip(fi_col1, fi1), columns=['features', 'feature importance'])\n",
        "fi_df1 = fi_df1.sort_values('feature importance', ascending=False).reset_index()\n",
        "idx_to_drop = fi_df1.index[fi_df1['feature importance'] == 0].tolist()\n",
        "fi_df1.drop(index = idx_to_drop,inplace=True) # feature importance 가 0인 변수들 제거\n",
        "print(fi_df1.shape) # 113개중에 75개 살아남음\n",
        "fi_df1.head()"
      ],
      "execution_count": null,
      "outputs": [
        {
          "output_type": "stream",
          "text": [
            "(75, 3)\n"
          ],
          "name": "stdout"
        },
        {
          "output_type": "execute_result",
          "data": {
            "text/html": [
              "<div>\n",
              "<style scoped>\n",
              "    .dataframe tbody tr th:only-of-type {\n",
              "        vertical-align: middle;\n",
              "    }\n",
              "\n",
              "    .dataframe tbody tr th {\n",
              "        vertical-align: top;\n",
              "    }\n",
              "\n",
              "    .dataframe thead th {\n",
              "        text-align: right;\n",
              "    }\n",
              "</style>\n",
              "<table border=\"1\" class=\"dataframe\">\n",
              "  <thead>\n",
              "    <tr style=\"text-align: right;\">\n",
              "      <th></th>\n",
              "      <th>index</th>\n",
              "      <th>features</th>\n",
              "      <th>feature importance</th>\n",
              "    </tr>\n",
              "  </thead>\n",
              "  <tbody>\n",
              "    <tr>\n",
              "      <th>0</th>\n",
              "      <td>85</td>\n",
              "      <td>last_fico_range_low</td>\n",
              "      <td>0.906617</td>\n",
              "    </tr>\n",
              "    <tr>\n",
              "      <th>1</th>\n",
              "      <td>84</td>\n",
              "      <td>last_fico_range_high</td>\n",
              "      <td>0.021945</td>\n",
              "    </tr>\n",
              "    <tr>\n",
              "      <th>2</th>\n",
              "      <td>72</td>\n",
              "      <td>funded_amnt</td>\n",
              "      <td>0.010985</td>\n",
              "    </tr>\n",
              "    <tr>\n",
              "      <th>3</th>\n",
              "      <td>83</td>\n",
              "      <td>int_rate</td>\n",
              "      <td>0.009709</td>\n",
              "    </tr>\n",
              "    <tr>\n",
              "      <th>4</th>\n",
              "      <td>61</td>\n",
              "      <td>emp_length12</td>\n",
              "      <td>0.007586</td>\n",
              "    </tr>\n",
              "  </tbody>\n",
              "</table>\n",
              "</div>"
            ],
            "text/plain": [
              "   index              features  feature importance\n",
              "0     85   last_fico_range_low            0.906617\n",
              "1     84  last_fico_range_high            0.021945\n",
              "2     72           funded_amnt            0.010985\n",
              "3     83              int_rate            0.009709\n",
              "4     61          emp_length12            0.007586"
            ]
          },
          "metadata": {
            "tags": []
          },
          "execution_count": 21
        }
      ]
    },
    {
      "cell_type": "code",
      "metadata": {
        "id": "NwqITMUxscOq",
        "colab": {
          "base_uri": "https://localhost:8080/"
        },
        "outputId": "3c17e5b0-5279-40b9-9d04-8cbd8f030fce"
      },
      "source": [
        "X_train_dt = X_train[fi_df1.features]\n",
        "X_valid_dt = X_valid[fi_df1.features]\n",
        "X_test_dt = X_test[fi_df1.features]\n",
        "\n",
        "print(X_train_dt.shape)\n",
        "print(X_valid_dt.shape)\n",
        "print(X_test_dt.shape)"
      ],
      "execution_count": null,
      "outputs": [
        {
          "output_type": "stream",
          "text": [
            "(655751, 75)\n",
            "(218584, 75)\n",
            "(218584, 75)\n"
          ],
          "name": "stdout"
        }
      ]
    },
    {
      "cell_type": "code",
      "metadata": {
        "colab": {
          "base_uri": "https://localhost:8080/"
        },
        "id": "7gF8_vxFsUwD",
        "outputId": "1bd427c6-0cd0-4f49-f8ab-8b53dfb679f9"
      },
      "source": [
        "w = {0:1, 1:4.5}\n",
        "log_reg_dt = LogisticRegression(penalty=\"none\", random_state=37, solver='saga', class_weight='balanced')\n",
        "log_reg_dt.fit(X_train_dt, y_train)"
      ],
      "execution_count": null,
      "outputs": [
        {
          "output_type": "stream",
          "text": [
            "/usr/local/lib/python3.6/dist-packages/sklearn/linear_model/_sag.py:330: ConvergenceWarning: The max_iter was reached which means the coef_ did not converge\n",
            "  \"the coef_ did not converge\", ConvergenceWarning)\n"
          ],
          "name": "stderr"
        },
        {
          "output_type": "execute_result",
          "data": {
            "text/plain": [
              "LogisticRegression(C=1.0, class_weight='balanced', dual=False,\n",
              "                   fit_intercept=True, intercept_scaling=1, l1_ratio=None,\n",
              "                   max_iter=100, multi_class='auto', n_jobs=None,\n",
              "                   penalty='none', random_state=37, solver='saga', tol=0.0001,\n",
              "                   verbose=0, warm_start=False)"
            ]
          },
          "metadata": {
            "tags": []
          },
          "execution_count": 23
        }
      ]
    },
    {
      "cell_type": "code",
      "metadata": {
        "id": "XLygHBlrxexg",
        "colab": {
          "base_uri": "https://localhost:8080/"
        },
        "outputId": "e32bf53f-9ba6-4d97-8400-f89b44dddfb0"
      },
      "source": [
        "y_pred_dt = log_reg_dt.predict(X_train_dt)\n",
        "pred_prob_dt = log_reg_dt.predict_proba(X_train_dt)\n",
        "log_reg_dt.coef_\n",
        "print(\"Predicted classes for train set are:{}\".format(y_pred_dt) , \"The coefficients are : {}\".format(log_reg_dt.coef_), \"Odds are:{}\".format(np.exp(log_reg_dt.coef_)), sep='\\n')"
      ],
      "execution_count": null,
      "outputs": [
        {
          "output_type": "stream",
          "text": [
            "Predicted classes for train set are:[1. 1. 0. ... 1. 1. 0.]\n",
            "The coefficients are : [[-1.36660043e-06 -8.91712825e-07  7.11356349e-06  2.70175087e-10\n",
            "   2.41772428e-10  7.11050547e-06  1.13824826e-08  2.30973229e-08\n",
            "  -2.23276772e-06  4.68650406e-10 -1.23339842e-06 -3.67024505e-07\n",
            "   1.70991518e-07  7.11342348e-06  1.72462103e-07  8.27957055e-09\n",
            "   2.19884181e-07  4.29562892e-10  5.34731251e-10  1.97093397e-09\n",
            "   3.13261128e-10  6.78820645e-10 -1.54868454e-10  5.22730862e-10\n",
            "   2.72314198e-10 -4.03725697e-11  9.76525908e-11 -6.24219364e-10\n",
            "  -1.17854108e-10 -2.47397046e-10 -1.60390730e-11 -8.11497166e-12\n",
            "   2.19049700e-11  1.17970904e-11 -3.15096995e-10  9.94445664e-08\n",
            "  -2.97479502e-11  2.65858669e-11 -7.65924151e-12  4.94603337e-11\n",
            "   5.20675174e-10  9.28945669e-11  4.38173545e-11 -1.91616350e-11\n",
            "   1.82520514e-11  2.69993433e-11  1.80181921e-12  3.29776895e-12\n",
            "   2.16702800e-11 -1.62994374e-11  2.31312516e-11 -7.77275666e-12\n",
            "   1.92310922e-11  1.10886400e-12  1.95471344e-11  2.30807416e-11\n",
            "   2.43226012e-11  2.05113983e-11  2.16397969e-11 -1.40913563e-11\n",
            "   1.33587065e-11 -3.03243176e-11 -1.89748797e-11  5.89749459e-11\n",
            "   5.55817113e-11  4.06386177e-11 -1.02020728e-12  1.53889698e-11\n",
            "   7.04123465e-11  1.26522919e-11  7.77090922e-11  3.62293642e-12\n",
            "   3.01688327e-11 -2.28030695e-12 -5.79832788e-12]]\n",
            "Odds are:[[0.99999863 0.99999911 1.00000711 1.         1.         1.00000711\n",
            "  1.00000001 1.00000002 0.99999777 1.         0.99999877 0.99999963\n",
            "  1.00000017 1.00000711 1.00000017 1.00000001 1.00000022 1.\n",
            "  1.         1.         1.         1.         1.         1.\n",
            "  1.         1.         1.         1.         1.         1.\n",
            "  1.         1.         1.         1.         1.         1.0000001\n",
            "  1.         1.         1.         1.         1.         1.\n",
            "  1.         1.         1.         1.         1.         1.\n",
            "  1.         1.         1.         1.         1.         1.\n",
            "  1.         1.         1.         1.         1.         1.\n",
            "  1.         1.         1.         1.         1.         1.\n",
            "  1.         1.         1.         1.         1.         1.\n",
            "  1.         1.         1.        ]]\n"
          ],
          "name": "stdout"
        }
      ]
    },
    {
      "cell_type": "code",
      "metadata": {
        "colab": {
          "base_uri": "https://localhost:8080/"
        },
        "id": "YUNcMeKEX5lS",
        "outputId": "73119962-132e-447c-b494-9dc65a612482"
      },
      "source": [
        "pred_prob_dt"
      ],
      "execution_count": null,
      "outputs": [
        {
          "output_type": "execute_result",
          "data": {
            "text/plain": [
              "array([[0.47303591, 0.52696409],\n",
              "       [0.49847566, 0.50152434],\n",
              "       [0.56623378, 0.43376622],\n",
              "       ...,\n",
              "       [0.43744666, 0.56255334],\n",
              "       [0.42182371, 0.57817629],\n",
              "       [0.50362687, 0.49637313]])"
            ]
          },
          "metadata": {
            "tags": []
          },
          "execution_count": 25
        }
      ]
    },
    {
      "cell_type": "code",
      "metadata": {
        "colab": {
          "base_uri": "https://localhost:8080/"
        },
        "id": "AftVUjY4yl3Y",
        "outputId": "01f5c5e6-805f-4f26-f759-8fad4836536b"
      },
      "source": [
        "print(\"Train accuracy is: \", log_reg_dt.score(X_train_dt, y_train))\n",
        "print(\"Test accuracy is: \", log_reg_dt.score(X_test_dt, y_test))\n",
        "print(classification_report(y_train, y_pred_dt))"
      ],
      "execution_count": null,
      "outputs": [
        {
          "output_type": "stream",
          "text": [
            "Train accuracy is:  0.5488394222807133\n",
            "Test accuracy is:  0.5501317571276946\n",
            "              precision    recall  f1-score   support\n",
            "\n",
            "         0.0       0.87      0.54      0.67    549698\n",
            "         1.0       0.20      0.58      0.29    106053\n",
            "\n",
            "    accuracy                           0.55    655751\n",
            "   macro avg       0.53      0.56      0.48    655751\n",
            "weighted avg       0.76      0.55      0.61    655751\n",
            "\n"
          ],
          "name": "stdout"
        }
      ]
    },
    {
      "cell_type": "code",
      "metadata": {
        "colab": {
          "base_uri": "https://localhost:8080/",
          "height": 572
        },
        "id": "zYoUUtK_zUft",
        "outputId": "f469d8ea-0780-4a32-a89c-c0bbb84ce82d"
      },
      "source": [
        "cm = confusion_matrix(y_train, y_pred_dt)\n",
        "cm_norm = cm / cm.sum(axis=1).reshape(-1,1)\n",
        "\n",
        "plot_confusion_matrix(cm_norm, classes = log_reg_dt.classes_, title='Logistic Regression (Decision Tree)')"
      ],
      "execution_count": null,
      "outputs": [
        {
          "output_type": "display_data",
          "data": {
            "image/png": "[encoded data removed]",
            "text/plain": [
              "<Figure size 720x648 with 2 Axes>"
            ]
          },
          "metadata": {
            "tags": []
          }
        }
      ]
    },
    {
      "cell_type": "code",
      "metadata": {
        "colab": {
          "base_uri": "https://localhost:8080/"
        },
        "id": "ejLVPeicxaIK",
        "outputId": "d0cd0071-855c-43dc-aa5c-4bef55fd6832"
      },
      "source": [
        "print(cm, cm_norm, sep='\\n\\n\\n')"
      ],
      "execution_count": null,
      "outputs": [
        {
          "output_type": "stream",
          "text": [
            "[[405403 144295]\n",
            " [ 65988  40065]]\n",
            "\n",
            "\n",
            "[[0.73750132 0.26249868]\n",
            " [0.62221719 0.37778281]]\n"
          ],
          "name": "stdout"
        }
      ]
    },
    {
      "cell_type": "code",
      "metadata": {
        "colab": {
          "base_uri": "https://localhost:8080/"
        },
        "id": "hqCG0hHKfSQk",
        "outputId": "35b1fac1-010a-4858-fd68-048bc49fa9d0"
      },
      "source": [
        "pred_proba_valid = log_reg_dt.predict_proba(X_valid_dt)\n",
        "fpr, tpr, thresholds = roc_curve(y_valid,pred_proba_valid[:,1])\n",
        "roc_auc_logit = auc(fpr, tpr)\n",
        "roc_auc_logit"
      ],
      "execution_count": null,
      "outputs": [
        {
          "output_type": "execute_result",
          "data": {
            "text/plain": [
              "0.5878683787178327"
            ]
          },
          "metadata": {
            "tags": []
          },
          "execution_count": 50
        }
      ]
    },
    {
      "cell_type": "code",
      "metadata": {
        "colab": {
          "base_uri": "https://localhost:8080/",
          "height": 295
        },
        "id": "rvWm1fuNccHD",
        "outputId": "fba9e222-b54b-47fc-e76d-3776783f614a"
      },
      "source": [
        "plt.figure()\n",
        "plt.plot(fpr, tpr, label='ROC curve (area= %0.2f)' % roc_auc_logit)\n",
        "\n",
        "##그래프에 직선 추가하기\n",
        "plt.plot([0,1],[0,1],color='navy', linestyle='--')\n",
        "\n",
        "#x축과 y축 구간 설정하기\n",
        "plt.xlim([0,1])\n",
        "plt.ylim([0,1.05])\n",
        "\n",
        "#축 이름 및 그래프 타이틀, 레전드 추가하기\n",
        "plt.xlabel('False Positive Rate')\n",
        "plt.ylabel('True Positive Rate')\n",
        "plt.title('Receiver Operating Characteristic Curve :Logit')\n",
        "plt.legend(loc=\"lower right\")\n",
        "\n",
        "plt.show()"
      ],
      "execution_count": null,
      "outputs": [
        {
          "output_type": "display_data",
          "data": {
            "image/png": "[encoded data removed]",
            "text/plain": [
              "<Figure size 432x288 with 1 Axes>"
            ]
          },
          "metadata": {
            "tags": [],
            "needs_background": "light"
          }
        }
      ]
    },
    {
      "cell_type": "code",
      "metadata": {
        "colab": {
          "base_uri": "https://localhost:8080/"
        },
        "id": "EkxSe8gV05u6",
        "outputId": "62fddf39-7917-41fe-bef4-04a3ecc983b1"
      },
      "source": [
        "# finding optimal threshold\n",
        "for i in threshold_interval:\n",
        "    valid_result_temp0 = pd.DataFrame(log_reg_dt.predict_proba(X_valid_dt)[:,1],columns=['pred_prob'])\n",
        "    valid_result_temp0['binary'] = np.where(valid_result_temp0['pred_prob']>=(i-0.01),1,0)\n",
        "\n",
        "    valid_result_temp1 = pd.DataFrame(log_reg_dt.predict_proba(X_valid_dt)[:,1],columns=['pred_prob'])\n",
        "    valid_result_temp1['binary'] = np.where(valid_result_temp1['pred_prob']>=i,1,0)\n",
        "    \n",
        "    cm_temp0 = confusion_matrix(y_test,valid_result_temp0['binary'])\n",
        "    cm_norm_temp0 = cm_temp0 / cm_temp0.sum(axis=1).reshape(-1,1)\n",
        "\n",
        "    cm_temp1 = confusion_matrix(y_test,valid_result_temp1['binary'])\n",
        "    cm_norm_temp1 = cm_temp1 / cm_temp1.sum(axis=1).reshape(-1,1)\n",
        "    # print(\"1-fpr : tpr = {} : {}\".format(a*5/100,1-(a*5/100)))\n",
        "    # print(\"optimal threshold : {}\".format(np.ceil(optimal_threshold_logit_temp*1000)/1000))\n",
        "    print(i)\n",
        "    print(-4.5*12*(cm_norm_temp1[0,1]-cm_norm_temp0[0,1])>33*(cm_norm_temp1[1,0]-cm_norm_temp0[1,0]))\n",
        "    print(\"accuracy is :\", (cm_temp1[0,0]+cm_temp1[1,1])/(cm_temp1[0,0]+cm_temp1[0,1]+cm_temp1[1,0]+cm_temp1[1,1]))\n",
        "    print('')"
      ],
      "execution_count": null,
      "outputs": [
        {
          "output_type": "stream",
          "text": [
            "0.0\n",
            "False\n",
            "accuracy is : 0.1615488782344545\n",
            "\n",
            "0.01\n",
            "True\n",
            "accuracy is : 0.1617410240456758\n",
            "\n",
            "0.02\n",
            "True\n",
            "accuracy is : 0.16182337225048493\n",
            "\n",
            "0.03\n",
            "True\n",
            "accuracy is : 0.16190572045529408\n",
            "\n",
            "0.04\n",
            "False\n",
            "accuracy is : 0.16198349375983603\n",
            "\n",
            "0.05\n",
            "True\n",
            "accuracy is : 0.16208414156571388\n",
            "\n",
            "0.06\n",
            "True\n",
            "accuracy is : 0.16220766387292757\n",
            "\n",
            "0.07\n",
            "False\n",
            "accuracy is : 0.1622945869780039\n",
            "\n",
            "0.08\n",
            "True\n",
            "accuracy is : 0.1624318339860191\n",
            "\n",
            "0.09\n",
            "True\n",
            "accuracy is : 0.16264685429857628\n",
            "\n",
            "0.1\n",
            "True\n",
            "accuracy is : 0.16280697580792738\n",
            "\n",
            "0.11\n",
            "True\n",
            "accuracy is : 0.1629670973172785\n",
            "\n",
            "0.12\n",
            "True\n",
            "accuracy is : 0.16315466822823263\n",
            "\n",
            "0.13\n",
            "True\n",
            "accuracy is : 0.16336968854078981\n",
            "\n",
            "0.14\n",
            "True\n",
            "accuracy is : 0.16360758335468287\n",
            "\n",
            "0.15\n",
            "True\n",
            "accuracy is : 0.16394612597445377\n",
            "\n",
            "0.16\n",
            "True\n",
            "accuracy is : 0.1643487171979651\n",
            "\n",
            "0.17\n",
            "True\n",
            "accuracy is : 0.16472843392014055\n",
            "\n",
            "0.18\n",
            "True\n",
            "accuracy is : 0.16513560004391906\n",
            "\n",
            "0.19\n",
            "True\n",
            "accuracy is : 0.16555649086849908\n",
            "\n",
            "0.2\n",
            "True\n",
            "accuracy is : 0.1662061267064378\n",
            "\n",
            "0.21\n",
            "True\n",
            "accuracy is : 0.16680086374117045\n",
            "\n",
            "0.22\n",
            "True\n",
            "accuracy is : 0.16736357647403285\n",
            "\n",
            "0.23\n",
            "True\n",
            "accuracy is : 0.16830600592907075\n",
            "\n",
            "0.24\n",
            "True\n",
            "accuracy is : 0.16930333418731472\n",
            "\n",
            "0.25\n",
            "True\n",
            "accuracy is : 0.1703692859495663\n",
            "\n",
            "0.26\n",
            "True\n",
            "accuracy is : 0.17165483292464223\n",
            "\n",
            "0.27\n",
            "True\n",
            "accuracy is : 0.17324232331735168\n",
            "\n",
            "0.28\n",
            "True\n",
            "accuracy is : 0.1750448340226183\n",
            "\n",
            "0.29\n",
            "True\n",
            "accuracy is : 0.17716301284631994\n",
            "\n",
            "0.3\n",
            "True\n",
            "accuracy is : 0.17980273030047944\n",
            "\n",
            "0.31\n",
            "True\n",
            "accuracy is : 0.1827718405738755\n",
            "\n",
            "0.32\n",
            "True\n",
            "accuracy is : 0.18636771218387438\n",
            "\n",
            "0.33\n",
            "True\n",
            "accuracy is : 0.19060864473154485\n",
            "\n",
            "0.34\n",
            "True\n",
            "accuracy is : 0.19604820114921495\n",
            "\n",
            "0.35000000000000003\n",
            "True\n",
            "accuracy is : 0.2025262599275336\n",
            "\n",
            "0.36\n",
            "True\n",
            "accuracy is : 0.21000164696409618\n",
            "\n",
            "0.37\n",
            "True\n",
            "accuracy is : 0.2191743219997804\n",
            "\n",
            "0.38\n",
            "True\n",
            "accuracy is : 0.229380924495846\n",
            "\n",
            "0.39\n",
            "True\n",
            "accuracy is : 0.24221351974526956\n",
            "\n",
            "0.4\n",
            "True\n",
            "accuracy is : 0.25732441532774586\n",
            "\n",
            "0.41000000000000003\n",
            "True\n",
            "accuracy is : 0.27508875306518316\n",
            "\n",
            "0.42\n",
            "True\n",
            "accuracy is : 0.296517585916627\n",
            "\n",
            "0.43\n",
            "True\n",
            "accuracy is : 0.3215468652783369\n",
            "\n",
            "0.44\n",
            "True\n",
            "accuracy is : 0.3499203967353512\n",
            "\n",
            "0.45\n",
            "True\n",
            "accuracy is : 0.3840674523295392\n",
            "\n",
            "0.46\n",
            "True\n",
            "accuracy is : 0.42443637228708414\n",
            "\n",
            "0.47000000000000003\n",
            "True\n",
            "accuracy is : 0.471237602020276\n",
            "\n",
            "0.48\n",
            "True\n",
            "accuracy is : 0.5254089960838854\n",
            "\n",
            "0.49\n",
            "True\n",
            "accuracy is : 0.585944076419134\n",
            "\n",
            "0.5\n",
            "True\n",
            "accuracy is : 0.6466575778648026\n",
            "\n",
            "0.51\n",
            "True\n",
            "accuracy is : 0.7032765435713502\n",
            "\n",
            "0.52\n",
            "True\n",
            "accuracy is : 0.748741902426527\n",
            "\n",
            "0.53\n",
            "True\n",
            "accuracy is : 0.7807753540972807\n",
            "\n",
            "0.54\n",
            "True\n",
            "accuracy is : 0.8031466164037624\n",
            "\n",
            "0.55\n",
            "True\n",
            "accuracy is : 0.81781832156059\n",
            "\n",
            "0.56\n",
            "True\n",
            "accuracy is : 0.8270275957984116\n",
            "\n",
            "0.5700000000000001\n",
            "True\n",
            "accuracy is : 0.8324671522160817\n",
            "\n",
            "0.58\n",
            "True\n",
            "accuracy is : 0.835600958899096\n",
            "\n",
            "0.59\n",
            "True\n",
            "accuracy is : 0.8374034696043626\n",
            "\n",
            "0.6\n",
            "True\n",
            "accuracy is : 0.8382223767521868\n",
            "\n",
            "0.61\n",
            "True\n",
            "accuracy is : 0.8383916480620722\n",
            "\n",
            "0.62\n",
            "True\n",
            "accuracy is : 0.8384465468652783\n",
            "\n",
            "0.63\n",
            "False\n",
            "accuracy is : 0.8384511217655455\n",
            "\n",
            "0.64\n",
            "False\n",
            "accuracy is : 0.8384511217655455\n",
            "\n",
            "0.65\n",
            "False\n",
            "accuracy is : 0.8384511217655455\n",
            "\n",
            "0.66\n",
            "False\n",
            "accuracy is : 0.8384511217655455\n",
            "\n",
            "0.67\n",
            "False\n",
            "accuracy is : 0.8384511217655455\n",
            "\n",
            "0.68\n",
            "False\n",
            "accuracy is : 0.8384511217655455\n",
            "\n",
            "0.6900000000000001\n",
            "False\n",
            "accuracy is : 0.8384511217655455\n",
            "\n",
            "0.7000000000000001\n",
            "False\n",
            "accuracy is : 0.8384511217655455\n",
            "\n",
            "0.71\n",
            "False\n",
            "accuracy is : 0.8384511217655455\n",
            "\n",
            "0.72\n",
            "False\n",
            "accuracy is : 0.8384511217655455\n",
            "\n",
            "0.73\n",
            "False\n",
            "accuracy is : 0.8384511217655455\n",
            "\n",
            "0.74\n",
            "False\n",
            "accuracy is : 0.8384511217655455\n",
            "\n",
            "0.75\n",
            "False\n",
            "accuracy is : 0.8384511217655455\n",
            "\n",
            "0.76\n",
            "False\n",
            "accuracy is : 0.8384511217655455\n",
            "\n",
            "0.77\n",
            "False\n",
            "accuracy is : 0.8384511217655455\n",
            "\n",
            "0.78\n",
            "False\n",
            "accuracy is : 0.8384511217655455\n",
            "\n",
            "0.79\n",
            "False\n",
            "accuracy is : 0.8384511217655455\n",
            "\n",
            "0.8\n",
            "False\n",
            "accuracy is : 0.8384511217655455\n",
            "\n",
            "0.81\n",
            "False\n",
            "accuracy is : 0.8384511217655455\n",
            "\n",
            "0.8200000000000001\n",
            "False\n",
            "accuracy is : 0.8384511217655455\n",
            "\n",
            "0.8300000000000001\n",
            "False\n",
            "accuracy is : 0.8384511217655455\n",
            "\n",
            "0.84\n",
            "False\n",
            "accuracy is : 0.8384511217655455\n",
            "\n",
            "0.85\n",
            "False\n",
            "accuracy is : 0.8384511217655455\n",
            "\n",
            "0.86\n",
            "False\n",
            "accuracy is : 0.8384511217655455\n",
            "\n",
            "0.87\n",
            "False\n",
            "accuracy is : 0.8384511217655455\n",
            "\n",
            "0.88\n",
            "False\n",
            "accuracy is : 0.8384511217655455\n",
            "\n",
            "0.89\n",
            "False\n",
            "accuracy is : 0.8384511217655455\n",
            "\n",
            "0.9\n",
            "False\n",
            "accuracy is : 0.8384511217655455\n",
            "\n",
            "0.91\n",
            "False\n",
            "accuracy is : 0.8384511217655455\n",
            "\n",
            "0.92\n",
            "False\n",
            "accuracy is : 0.8384511217655455\n",
            "\n",
            "0.93\n",
            "False\n",
            "accuracy is : 0.8384511217655455\n",
            "\n",
            "0.9400000000000001\n",
            "False\n",
            "accuracy is : 0.8384511217655455\n",
            "\n",
            "0.9500000000000001\n",
            "False\n",
            "accuracy is : 0.8384511217655455\n",
            "\n",
            "0.96\n",
            "False\n",
            "accuracy is : 0.8384511217655455\n",
            "\n",
            "0.97\n",
            "False\n",
            "accuracy is : 0.8384511217655455\n",
            "\n",
            "0.98\n",
            "False\n",
            "accuracy is : 0.8384511217655455\n",
            "\n",
            "0.99\n",
            "False\n",
            "accuracy is : 0.8384511217655455\n",
            "\n",
            "1.0\n",
            "False\n",
            "accuracy is : 0.8384511217655455\n",
            "\n"
          ],
          "name": "stdout"
        }
      ]
    },
    {
      "cell_type": "markdown",
      "metadata": {
        "id": "fUmZUd-XkWTN"
      },
      "source": [
        "* optimal_threshold_df_lg = 0.62\n",
        "* accuracy : 0.8384465468652783"
      ]
    },
    {
      "cell_type": "code",
      "metadata": {
        "id": "orbm2Iyw1_yO"
      },
      "source": [
        "optimal_threshold_df_lg = 0.62\n",
        "\n",
        "# test set 검증\n",
        "test_result_lg1 = pd.DataFrame(log_reg_dt.predict_proba(X_test_dt)[:,1],columns=['pred_prob'])\n",
        "test_result_lg1['rf_binary'] = np.where(test_result_lg1['pred_prob']>=optimal_threshold_df_lg,1,0)"
      ],
      "execution_count": null,
      "outputs": []
    },
    {
      "cell_type": "code",
      "metadata": {
        "colab": {
          "base_uri": "https://localhost:8080/",
          "height": 419
        },
        "id": "6bShoJZ21_yd",
        "outputId": "6fbbcf70-bd89-4c36-8e97-965e551ba667"
      },
      "source": [
        "test_result_lg1"
      ],
      "execution_count": null,
      "outputs": [
        {
          "output_type": "execute_result",
          "data": {
            "text/html": [
              "<div>\n",
              "<style scoped>\n",
              "    .dataframe tbody tr th:only-of-type {\n",
              "        vertical-align: middle;\n",
              "    }\n",
              "\n",
              "    .dataframe tbody tr th {\n",
              "        vertical-align: top;\n",
              "    }\n",
              "\n",
              "    .dataframe thead th {\n",
              "        text-align: right;\n",
              "    }\n",
              "</style>\n",
              "<table border=\"1\" class=\"dataframe\">\n",
              "  <thead>\n",
              "    <tr style=\"text-align: right;\">\n",
              "      <th></th>\n",
              "      <th>pred_prob</th>\n",
              "      <th>rf_binary</th>\n",
              "    </tr>\n",
              "  </thead>\n",
              "  <tbody>\n",
              "    <tr>\n",
              "      <th>0</th>\n",
              "      <td>0.529090</td>\n",
              "      <td>0</td>\n",
              "    </tr>\n",
              "    <tr>\n",
              "      <th>1</th>\n",
              "      <td>0.499169</td>\n",
              "      <td>0</td>\n",
              "    </tr>\n",
              "    <tr>\n",
              "      <th>2</th>\n",
              "      <td>0.495492</td>\n",
              "      <td>0</td>\n",
              "    </tr>\n",
              "    <tr>\n",
              "      <th>3</th>\n",
              "      <td>0.568262</td>\n",
              "      <td>0</td>\n",
              "    </tr>\n",
              "    <tr>\n",
              "      <th>4</th>\n",
              "      <td>0.521806</td>\n",
              "      <td>0</td>\n",
              "    </tr>\n",
              "    <tr>\n",
              "      <th>...</th>\n",
              "      <td>...</td>\n",
              "      <td>...</td>\n",
              "    </tr>\n",
              "    <tr>\n",
              "      <th>218579</th>\n",
              "      <td>0.434723</td>\n",
              "      <td>0</td>\n",
              "    </tr>\n",
              "    <tr>\n",
              "      <th>218580</th>\n",
              "      <td>0.471269</td>\n",
              "      <td>0</td>\n",
              "    </tr>\n",
              "    <tr>\n",
              "      <th>218581</th>\n",
              "      <td>0.450444</td>\n",
              "      <td>0</td>\n",
              "    </tr>\n",
              "    <tr>\n",
              "      <th>218582</th>\n",
              "      <td>0.411573</td>\n",
              "      <td>0</td>\n",
              "    </tr>\n",
              "    <tr>\n",
              "      <th>218583</th>\n",
              "      <td>0.514253</td>\n",
              "      <td>0</td>\n",
              "    </tr>\n",
              "  </tbody>\n",
              "</table>\n",
              "<p>218584 rows × 2 columns</p>\n",
              "</div>"
            ],
            "text/plain": [
              "        pred_prob  rf_binary\n",
              "0        0.529090          0\n",
              "1        0.499169          0\n",
              "2        0.495492          0\n",
              "3        0.568262          0\n",
              "4        0.521806          0\n",
              "...           ...        ...\n",
              "218579   0.434723          0\n",
              "218580   0.471269          0\n",
              "218581   0.450444          0\n",
              "218582   0.411573          0\n",
              "218583   0.514253          0\n",
              "\n",
              "[218584 rows x 2 columns]"
            ]
          },
          "metadata": {
            "tags": []
          },
          "execution_count": 126
        }
      ]
    },
    {
      "cell_type": "code",
      "metadata": {
        "colab": {
          "base_uri": "https://localhost:8080/"
        },
        "id": "-PYMGCt01_ye",
        "outputId": "4bfebc37-3aa4-4e23-d709-af743e6ff050"
      },
      "source": [
        "cm2 = confusion_matrix(y_test,test_result_lg1['rf_binary'])\n",
        "cm2"
      ],
      "execution_count": null,
      "outputs": [
        {
          "output_type": "execute_result",
          "data": {
            "text/plain": [
              "array([[183271,      1],\n",
              "       [ 35312,      0]])"
            ]
          },
          "metadata": {
            "tags": []
          },
          "execution_count": 127
        }
      ]
    },
    {
      "cell_type": "code",
      "metadata": {
        "colab": {
          "base_uri": "https://localhost:8080/"
        },
        "id": "68bO8mCQ1_yf",
        "outputId": "7468a764-c651-44ac-9f03-ba8ac4ae2304"
      },
      "source": [
        "print(classification_report(y_test, test_result_lg1['rf_binary']))"
      ],
      "execution_count": null,
      "outputs": [
        {
          "output_type": "stream",
          "text": [
            "              precision    recall  f1-score   support\n",
            "\n",
            "         0.0       0.84      1.00      0.91    183272\n",
            "         1.0       0.00      0.00      0.00     35312\n",
            "\n",
            "    accuracy                           0.84    218584\n",
            "   macro avg       0.42      0.50      0.46    218584\n",
            "weighted avg       0.70      0.84      0.76    218584\n",
            "\n"
          ],
          "name": "stdout"
        }
      ]
    },
    {
      "cell_type": "code",
      "metadata": {
        "colab": {
          "base_uri": "https://localhost:8080/"
        },
        "id": "AKkRpn1R1_yf",
        "outputId": "5ded9f53-25ca-4c98-ada1-40b2b424db68"
      },
      "source": [
        "tpr, fpr, prc, acc =  get_rates(cm2)\n",
        "print(\"TPR : {:.2f}%\".format(tpr*100))\n",
        "print(\"FPR : {:.2f}%\".format(fpr*100))\n",
        "print(\"Precision : {:.2f}%\".format(prc*100))\n",
        "print(\"Accuracy : {:.2f}%\".format(acc*100))"
      ],
      "execution_count": null,
      "outputs": [
        {
          "output_type": "stream",
          "text": [
            "TPR : 0.00%\n",
            "FPR : 0.00%\n",
            "Precision : 0.00%\n",
            "Accuracy : 83.84%\n"
          ],
          "name": "stdout"
        }
      ]
    },
    {
      "cell_type": "code",
      "metadata": {
        "colab": {
          "base_uri": "https://localhost:8080/",
          "height": 573
        },
        "id": "bO9BqnE41_yf",
        "outputId": "a9d6379b-f77b-418d-ea4b-49c8e6549bd8"
      },
      "source": [
        "cm2_norm = cm2 / cm2.sum(axis=1).reshape(-1,1)\n",
        "\n",
        "plot_confusion_matrix(cm2_norm, classes = rf_model.classes_, title='Logistic Classification (with Decision Tree)')"
      ],
      "execution_count": null,
      "outputs": [
        {
          "output_type": "display_data",
          "data": {
            "image/png": "[encoded data removed]",
            "text/plain": [
              "<Figure size 720x648 with 2 Axes>"
            ]
          },
          "metadata": {
            "tags": []
          }
        }
      ]
    },
    {
      "cell_type": "markdown",
      "metadata": {
        "id": "rOTiFexta-jm"
      },
      "source": [
        "## II) Featuer Selection : Lasso"
      ]
    },
    {
      "cell_type": "code",
      "metadata": {
        "id": "F49MvOrjcmr6",
        "colab": {
          "base_uri": "https://localhost:8080/"
        },
        "outputId": "58336052-067d-48e6-8749-cb527f052c33"
      },
      "source": [
        "w = {0:1, 1:4.5}\n",
        "log_reg_ls = LogisticRegression(penalty = 'elasticnet',random_state=37, solver='saga', class_weight=w, l1_ratio=1e-3)\n",
        "log_reg_ls.fit(X_train, y_train)"
      ],
      "execution_count": null,
      "outputs": [
        {
          "output_type": "stream",
          "text": [
            "/usr/local/lib/python3.6/dist-packages/sklearn/linear_model/_sag.py:330: ConvergenceWarning: The max_iter was reached which means the coef_ did not converge\n",
            "  \"the coef_ did not converge\", ConvergenceWarning)\n"
          ],
          "name": "stderr"
        },
        {
          "output_type": "execute_result",
          "data": {
            "text/plain": [
              "LogisticRegression(C=1.0, class_weight={0: 1, 1: 4.5}, dual=False,\n",
              "                   fit_intercept=True, intercept_scaling=1, l1_ratio=0.1,\n",
              "                   max_iter=100, multi_class='auto', n_jobs=None,\n",
              "                   penalty='elasticnet', random_state=37, solver='saga',\n",
              "                   tol=0.0001, verbose=0, warm_start=False)"
            ]
          },
          "metadata": {
            "tags": []
          },
          "execution_count": 148
        }
      ]
    },
    {
      "cell_type": "code",
      "metadata": {
        "colab": {
          "base_uri": "https://localhost:8080/",
          "height": 436
        },
        "id": "J5CuAeOrcmr8",
        "outputId": "08a57b5f-db2e-4cd2-958c-fc88a437fcd7"
      },
      "source": [
        "fi_col4 = []\n",
        "fi4 = []\n",
        "\n",
        "for i, column in enumerate(X):\n",
        "  fi_col4.append(column)\n",
        "  fi4.append(log_reg_ls.coef_[0][i])\n",
        "\n",
        "fi_df4 = zip(fi_col4, fi4)\n",
        "fi_df4 = pd.DataFrame(fi_df4, columns=['features', 'feature importance'])\n",
        "fi_df4 = fi_df4.sort_values('feature importance', ascending=False).reset_index()\n",
        "\n",
        "idx_to_drop3 = fi_df4.index[fi_df4['feature importance'] == 0].tolist()\n",
        "fi_df4.drop(index = idx_to_drop3,inplace=True) # feature importance 가 0인 변수들 제거\n",
        "print(fi_df4.shape) # 114개중에 113개 살아남음 \n",
        "fi_df4"
      ],
      "execution_count": null,
      "outputs": [
        {
          "output_type": "stream",
          "text": [
            "(113, 3)\n"
          ],
          "name": "stdout"
        },
        {
          "output_type": "execute_result",
          "data": {
            "text/html": [
              "<div>\n",
              "<style scoped>\n",
              "    .dataframe tbody tr th:only-of-type {\n",
              "        vertical-align: middle;\n",
              "    }\n",
              "\n",
              "    .dataframe tbody tr th {\n",
              "        vertical-align: top;\n",
              "    }\n",
              "\n",
              "    .dataframe thead th {\n",
              "        text-align: right;\n",
              "    }\n",
              "</style>\n",
              "<table border=\"1\" class=\"dataframe\">\n",
              "  <thead>\n",
              "    <tr style=\"text-align: right;\">\n",
              "      <th></th>\n",
              "      <th>index</th>\n",
              "      <th>features</th>\n",
              "      <th>feature importance</th>\n",
              "    </tr>\n",
              "  </thead>\n",
              "  <tbody>\n",
              "    <tr>\n",
              "      <th>0</th>\n",
              "      <td>72</td>\n",
              "      <td>funded_amnt</td>\n",
              "      <td>6.849531e-06</td>\n",
              "    </tr>\n",
              "    <tr>\n",
              "      <th>1</th>\n",
              "      <td>86</td>\n",
              "      <td>loan_amnt</td>\n",
              "      <td>6.849305e-06</td>\n",
              "    </tr>\n",
              "    <tr>\n",
              "      <th>2</th>\n",
              "      <td>73</td>\n",
              "      <td>funded_amnt_inv</td>\n",
              "      <td>6.847048e-06</td>\n",
              "    </tr>\n",
              "    <tr>\n",
              "      <th>3</th>\n",
              "      <td>107</td>\n",
              "      <td>tot_coll_amt</td>\n",
              "      <td>2.082114e-07</td>\n",
              "    </tr>\n",
              "    <tr>\n",
              "      <th>4</th>\n",
              "      <td>56</td>\n",
              "      <td>delinq_amnt</td>\n",
              "      <td>1.526020e-07</td>\n",
              "    </tr>\n",
              "    <tr>\n",
              "      <th>...</th>\n",
              "      <td>...</td>\n",
              "      <td>...</td>\n",
              "      <td>...</td>\n",
              "    </tr>\n",
              "    <tr>\n",
              "      <th>108</th>\n",
              "      <td>104</td>\n",
              "      <td>revol_bal</td>\n",
              "      <td>-9.876549e-07</td>\n",
              "    </tr>\n",
              "    <tr>\n",
              "      <th>109</th>\n",
              "      <td>108</td>\n",
              "      <td>tot_cur_bal</td>\n",
              "      <td>-1.220849e-06</td>\n",
              "    </tr>\n",
              "    <tr>\n",
              "      <th>110</th>\n",
              "      <td>84</td>\n",
              "      <td>last_fico_range_high</td>\n",
              "      <td>-1.732486e-06</td>\n",
              "    </tr>\n",
              "    <tr>\n",
              "      <th>111</th>\n",
              "      <td>85</td>\n",
              "      <td>last_fico_range_low</td>\n",
              "      <td>-2.447301e-06</td>\n",
              "    </tr>\n",
              "    <tr>\n",
              "      <th>112</th>\n",
              "      <td>52</td>\n",
              "      <td>annual_inc</td>\n",
              "      <td>-3.448643e-06</td>\n",
              "    </tr>\n",
              "  </tbody>\n",
              "</table>\n",
              "<p>113 rows × 3 columns</p>\n",
              "</div>"
            ],
            "text/plain": [
              "     index              features  feature importance\n",
              "0       72           funded_amnt        6.849531e-06\n",
              "1       86             loan_amnt        6.849305e-06\n",
              "2       73       funded_amnt_inv        6.847048e-06\n",
              "3      107          tot_coll_amt        2.082114e-07\n",
              "4       56           delinq_amnt        1.526020e-07\n",
              "..     ...                   ...                 ...\n",
              "108    104             revol_bal       -9.876549e-07\n",
              "109    108           tot_cur_bal       -1.220849e-06\n",
              "110     84  last_fico_range_high       -1.732486e-06\n",
              "111     85   last_fico_range_low       -2.447301e-06\n",
              "112     52            annual_inc       -3.448643e-06\n",
              "\n",
              "[113 rows x 3 columns]"
            ]
          },
          "metadata": {
            "tags": []
          },
          "execution_count": 149
        }
      ]
    },
    {
      "cell_type": "code",
      "metadata": {
        "id": "24MMjjbacfPs"
      },
      "source": [
        "X_train_ls = X_train[fi_df4.features]\n",
        "X_valid_ls = X_valid[fi_df4.features]\n",
        "X_test_ls = X_test[fi_df4.features]"
      ],
      "execution_count": null,
      "outputs": []
    },
    {
      "cell_type": "code",
      "metadata": {
        "colab": {
          "base_uri": "https://localhost:8080/"
        },
        "id": "oe-lCa7l-fEn",
        "outputId": "e7f7d125-595e-4c10-b91e-c90aa7a8cba0"
      },
      "source": [
        "y_pred_ls = log_reg_ls.predict(X_train_ls)\n",
        "pred_prob_ls = log_reg_ls.predict_proba(X_train_ls)\n",
        "log_reg_dt.coef_\n",
        "print(\"Predicted classes for train set are:{}\".format(y_pred_dt) , \"The coefficients are : {}\".format(log_reg_dt.coef_), \"Odds are:{}\".format(np.exp(log_reg_dt.coef_)), sep='\\n')"
      ],
      "execution_count": null,
      "outputs": [
        {
          "output_type": "stream",
          "text": [
            "Predicted classes for train set are:[1. 0. 0. ... 1. 1. 0.]\n",
            "The coefficients are : [[-2.44730077e-06 -1.73248571e-06  6.84953086e-06  3.40318346e-10\n",
            "   3.06152535e-10  6.84704819e-06  6.89016290e-09  2.41630956e-08\n",
            "  -3.44864293e-06  4.48148568e-10 -1.22084942e-06 -9.87654904e-07\n",
            "  -1.13888796e-07  6.84930541e-06 -1.13816410e-07  7.46618838e-09\n",
            "   2.08211372e-07  5.24864760e-10  6.85065192e-10  2.71921385e-09\n",
            "   2.90217266e-10  8.88722885e-10 -5.32209537e-10  5.50646884e-10\n",
            "   3.17036775e-10 -8.27527027e-11  1.06448260e-10 -1.16050280e-09\n",
            "  -3.11001363e-10 -5.29828123e-10 -3.09724333e-11 -3.13486487e-11\n",
            "   2.30594606e-11 -1.90949850e-11 -6.07657706e-10  1.52601976e-07\n",
            "  -5.73015471e-11  1.70933373e-11 -2.25217368e-11  6.50682310e-11\n",
            "   4.71864514e-10  1.29800809e-10 -5.40929642e-12 -3.68125870e-11\n",
            "   2.26475501e-11  2.14935186e-11  1.17312406e-12  3.57614747e-12\n",
            "   1.02530365e-11 -3.05993992e-11  2.37821420e-11 -1.33536003e-11\n",
            "   2.44941563e-11  6.11112165e-13  1.33173346e-11  1.12987213e-11\n",
            "   2.92460969e-11  2.49967172e-11 -2.09941624e-11 -3.06327092e-11\n",
            "   9.22931893e-12 -5.75100688e-11 -3.59930308e-11  8.86510649e-11\n",
            "   1.81584258e-11  4.87875376e-11 -2.32342945e-12 -1.00122181e-11\n",
            "   7.10461411e-11  5.52929812e-12  7.41586212e-11 -1.18300118e-11\n",
            "   3.68515598e-11 -6.17540406e-12 -1.89904450e-11]]\n",
            "Odds are:[[0.99999755 0.99999827 1.00000685 1.         1.         1.00000685\n",
            "  1.00000001 1.00000002 0.99999655 1.         0.99999878 0.99999901\n",
            "  0.99999989 1.00000685 0.99999989 1.00000001 1.00000021 1.\n",
            "  1.         1.         1.         1.         1.         1.\n",
            "  1.         1.         1.         1.         1.         1.\n",
            "  1.         1.         1.         1.         1.         1.00000015\n",
            "  1.         1.         1.         1.         1.         1.\n",
            "  1.         1.         1.         1.         1.         1.\n",
            "  1.         1.         1.         1.         1.         1.\n",
            "  1.         1.         1.         1.         1.         1.\n",
            "  1.         1.         1.         1.         1.         1.\n",
            "  1.         1.         1.         1.         1.         1.\n",
            "  1.         1.         1.        ]]\n"
          ],
          "name": "stdout"
        }
      ]
    },
    {
      "cell_type": "code",
      "metadata": {
        "colab": {
          "base_uri": "https://localhost:8080/"
        },
        "id": "n0ZebcRf-fEn",
        "outputId": "84e750dd-b429-4077-ed29-745d236cbecf"
      },
      "source": [
        "pred_prob_ls"
      ],
      "execution_count": null,
      "outputs": [
        {
          "output_type": "execute_result",
          "data": {
            "text/plain": [
              "array([[0.50422335, 0.49577665],\n",
              "       [0.50638757, 0.49361243],\n",
              "       [0.50199767, 0.49800233],\n",
              "       ...,\n",
              "       [0.50872874, 0.49127126],\n",
              "       [0.50080597, 0.49919403],\n",
              "       [0.50284557, 0.49715443]])"
            ]
          },
          "metadata": {
            "tags": []
          },
          "execution_count": 152
        }
      ]
    },
    {
      "cell_type": "code",
      "metadata": {
        "colab": {
          "base_uri": "https://localhost:8080/",
          "height": 573
        },
        "id": "a6zESIw--fEo",
        "outputId": "41c668d2-c14e-4fb9-a6a6-803b9a873979"
      },
      "source": [
        "cm = confusion_matrix(y_train, y_pred_ls)\n",
        "cm_norm = cm / cm.sum(axis=1).reshape(-1,1)\n",
        "\n",
        "plot_confusion_matrix(cm_norm, classes = log_reg_ls.classes_, title='Logistic Regression (Lasso)')"
      ],
      "execution_count": null,
      "outputs": [
        {
          "output_type": "display_data",
          "data": {
            "image/png": "[encoded data removed]",
            "text/plain": [
              "<Figure size 720x648 with 2 Axes>"
            ]
          },
          "metadata": {
            "tags": []
          }
        }
      ]
    },
    {
      "cell_type": "code",
      "metadata": {
        "colab": {
          "base_uri": "https://localhost:8080/"
        },
        "id": "GTSiK3Ht-fEo",
        "outputId": "81470b52-85da-4bb6-ae0c-2a4aa091283f"
      },
      "source": [
        "print(cm, cm_norm, sep='\\n\\n\\n')"
      ],
      "execution_count": null,
      "outputs": [
        {
          "output_type": "stream",
          "text": [
            "[[540253   9445]\n",
            " [104471   1582]]\n",
            "\n",
            "\n",
            "[[0.98281784 0.01718216]\n",
            " [0.98508293 0.01491707]]\n"
          ],
          "name": "stdout"
        }
      ]
    },
    {
      "cell_type": "code",
      "metadata": {
        "colab": {
          "base_uri": "https://localhost:8080/"
        },
        "id": "xAmEl37V-fEp",
        "outputId": "18d85d60-4f94-4049-df32-304c9376a2de"
      },
      "source": [
        "pred_proba_valid = log_reg_ls.predict_proba(X_valid_ls)\n",
        "fpr, tpr, thresholds = roc_curve(y_valid,pred_proba_valid[:,1])\n",
        "roc_auc_logit = auc(fpr, tpr)\n",
        "roc_auc_logit"
      ],
      "execution_count": null,
      "outputs": [
        {
          "output_type": "execute_result",
          "data": {
            "text/plain": [
              "0.5161225368682785"
            ]
          },
          "metadata": {
            "tags": []
          },
          "execution_count": 156
        }
      ]
    },
    {
      "cell_type": "code",
      "metadata": {
        "colab": {
          "base_uri": "https://localhost:8080/",
          "height": 573
        },
        "id": "NgSWKwx8-fEp",
        "outputId": "49b62671-ebec-4ece-b828-63c12f8afefa"
      },
      "source": [
        "plt.figure()\n",
        "plt.plot(fpr, tpr, label='ROC curve (area= %0.2f)' % roc_auc_logit)\n",
        "\n",
        "##그래프에 직선 추가하기\n",
        "plt.plot([0,1],[0,1],color='navy', linestyle='--')\n",
        "\n",
        "#x축과 y축 구간 설정하기\n",
        "plt.xlim([0,1])\n",
        "plt.ylim([0,1.05])\n",
        "\n",
        "#축 이름 및 그래프 타이틀, 레전드 추가하기\n",
        "plt.xlabel('False Positive Rate')\n",
        "plt.ylabel('True Positive Rate')\n",
        "plt.title('Receiver Operating Characteristic Curve :Logit')\n",
        "plt.legend(loc=\"lower right\")\n",
        "\n",
        "plt.show()"
      ],
      "execution_count": null,
      "outputs": [
        {
          "output_type": "display_data",
          "data": {
            "image/png": "[encoded data removed]",
            "text/plain": [
              "<Figure size 720x648 with 1 Axes>"
            ]
          },
          "metadata": {
            "tags": []
          }
        }
      ]
    },
    {
      "cell_type": "code",
      "metadata": {
        "colab": {
          "base_uri": "https://localhost:8080/"
        },
        "id": "cvko1iOJ-fEp",
        "outputId": "fc2cdef2-7b4d-49f9-e047-079c4e1a7330"
      },
      "source": [
        "# finding optimal threshold\n",
        "for i in threshold_interval:\n",
        "    valid_result_temp0 = pd.DataFrame(log_reg_ls.predict_proba(X_valid_ls)[:,1],columns=['pred_prob'])\n",
        "    valid_result_temp0['binary'] = np.where(valid_result_temp0['pred_prob']>=(i-0.01),1,0)\n",
        "\n",
        "    valid_result_temp1 = pd.DataFrame(log_reg_ls.predict_proba(X_valid_ls)[:,1],columns=['pred_prob'])\n",
        "    valid_result_temp1['binary'] = np.where(valid_result_temp1['pred_prob']>=i,1,0)\n",
        "    \n",
        "    cm_temp0 = confusion_matrix(y_test,valid_result_temp0['binary'])\n",
        "    cm_norm_temp0 = cm_temp0 / cm_temp0.sum(axis=1).reshape(-1,1)\n",
        "\n",
        "    cm_temp1 = confusion_matrix(y_test,valid_result_temp1['binary'])\n",
        "    cm_norm_temp1 = cm_temp1 / cm_temp1.sum(axis=1).reshape(-1,1)\n",
        "    \n",
        "    # print(\"1-fpr : tpr = {} : {}\".format(a*5/100,1-(a*5/100)))\n",
        "    # print(\"optimal threshold : {}\".format(np.ceil(optimal_threshold_logit_temp*1000)/1000))\n",
        "    print(i)\n",
        "    print(-4.5*12*(cm_norm_temp1[0,1]-cm_norm_temp0[0,1])>33*(cm_norm_temp1[1,0]-cm_norm_temp0[1,0]))\n",
        "    print(\"accuracy is :\", (cm_temp1[0,0]+cm_temp1[1,1])/(cm_temp1[0,0]+cm_temp1[0,1]+cm_temp1[1,0]+cm_temp1[1,1]))\n",
        "    print('')"
      ],
      "execution_count": null,
      "outputs": [
        {
          "output_type": "stream",
          "text": [
            "0.0\n",
            "False\n",
            "accuracy is : 0.1615488782344545\n",
            "\n",
            "0.01\n",
            "False\n",
            "accuracy is : 0.1615488782344545\n",
            "\n",
            "0.02\n",
            "False\n",
            "accuracy is : 0.1615488782344545\n",
            "\n",
            "0.03\n",
            "False\n",
            "accuracy is : 0.1615488782344545\n",
            "\n",
            "0.04\n",
            "False\n",
            "accuracy is : 0.1615488782344545\n",
            "\n",
            "0.05\n",
            "True\n",
            "accuracy is : 0.16155345313472166\n",
            "\n",
            "0.06\n",
            "False\n",
            "accuracy is : 0.16155345313472166\n",
            "\n",
            "0.07\n",
            "False\n",
            "accuracy is : 0.16155345313472166\n",
            "\n",
            "0.08\n",
            "False\n",
            "accuracy is : 0.16155345313472166\n",
            "\n",
            "0.09\n",
            "False\n",
            "accuracy is : 0.16155345313472166\n",
            "\n",
            "0.1\n",
            "False\n",
            "accuracy is : 0.16155345313472166\n",
            "\n",
            "0.11\n",
            "False\n",
            "accuracy is : 0.16155345313472166\n",
            "\n",
            "0.12\n",
            "False\n",
            "accuracy is : 0.16155345313472166\n",
            "\n",
            "0.13\n",
            "False\n",
            "accuracy is : 0.16155345313472166\n",
            "\n",
            "0.14\n",
            "False\n",
            "accuracy is : 0.16155345313472166\n",
            "\n",
            "0.15\n",
            "False\n",
            "accuracy is : 0.16155345313472166\n",
            "\n",
            "0.16\n",
            "False\n",
            "accuracy is : 0.16155345313472166\n",
            "\n",
            "0.17\n",
            "False\n",
            "accuracy is : 0.16155345313472166\n",
            "\n",
            "0.18\n",
            "False\n",
            "accuracy is : 0.16155345313472166\n",
            "\n",
            "0.19\n",
            "False\n",
            "accuracy is : 0.16155345313472166\n",
            "\n",
            "0.2\n",
            "True\n",
            "accuracy is : 0.16155802803498884\n",
            "\n",
            "0.21\n",
            "False\n",
            "accuracy is : 0.16155802803498884\n",
            "\n",
            "0.22\n",
            "False\n",
            "accuracy is : 0.16155802803498884\n",
            "\n",
            "0.23\n",
            "True\n",
            "accuracy is : 0.161562602935256\n",
            "\n",
            "0.24\n",
            "True\n",
            "accuracy is : 0.16157175273579036\n",
            "\n",
            "0.25\n",
            "False\n",
            "accuracy is : 0.16157175273579036\n",
            "\n",
            "0.26\n",
            "False\n",
            "accuracy is : 0.16157175273579036\n",
            "\n",
            "0.27\n",
            "True\n",
            "accuracy is : 0.1615809025363247\n",
            "\n",
            "0.28\n",
            "True\n",
            "accuracy is : 0.16159005233685905\n",
            "\n",
            "0.29\n",
            "True\n",
            "accuracy is : 0.16159462723712623\n",
            "\n",
            "0.3\n",
            "False\n",
            "accuracy is : 0.16159462723712623\n",
            "\n",
            "0.31\n",
            "True\n",
            "accuracy is : 0.16161292683819492\n",
            "\n",
            "0.32\n",
            "False\n",
            "accuracy is : 0.16161292683819492\n",
            "\n",
            "0.33\n",
            "True\n",
            "accuracy is : 0.1616175017384621\n",
            "\n",
            "0.34\n",
            "False\n",
            "accuracy is : 0.1616358013395308\n",
            "\n",
            "0.35000000000000003\n",
            "True\n",
            "accuracy is : 0.16165867584086666\n",
            "\n",
            "0.36\n",
            "False\n",
            "accuracy is : 0.16165867584086666\n",
            "\n",
            "0.37\n",
            "True\n",
            "accuracy is : 0.16168612524246972\n",
            "\n",
            "0.38\n",
            "False\n",
            "accuracy is : 0.16170442484353842\n",
            "\n",
            "0.39\n",
            "True\n",
            "accuracy is : 0.16180049774914906\n",
            "\n",
            "0.4\n",
            "True\n",
            "accuracy is : 0.16189657065475974\n",
            "\n",
            "0.41000000000000003\n",
            "True\n",
            "accuracy is : 0.1620063682611719\n",
            "\n",
            "0.42\n",
            "True\n",
            "accuracy is : 0.16216191487025583\n",
            "\n",
            "0.43\n",
            "True\n",
            "accuracy is : 0.16250045749002673\n",
            "\n",
            "0.44\n",
            "True\n",
            "accuracy is : 0.16295337261647697\n",
            "\n",
            "0.45\n",
            "True\n",
            "accuracy is : 0.16372195586136223\n",
            "\n",
            "0.46\n",
            "True\n",
            "accuracy is : 0.16503952713830838\n",
            "\n",
            "0.47000000000000003\n",
            "True\n",
            "accuracy is : 0.16767009479193354\n",
            "\n",
            "0.48\n",
            "True\n",
            "accuracy is : 0.1742808256780002\n",
            "\n",
            "0.49\n",
            "True\n",
            "accuracy is : 0.22305841232661128\n",
            "\n",
            "0.5\n",
            "True\n",
            "accuracy is : 0.8275765838304725\n",
            "\n",
            "0.51\n",
            "True\n",
            "accuracy is : 0.8384511217655455\n",
            "\n",
            "0.52\n",
            "False\n",
            "accuracy is : 0.8384511217655455\n",
            "\n",
            "0.53\n",
            "False\n",
            "accuracy is : 0.8384511217655455\n",
            "\n",
            "0.54\n",
            "False\n",
            "accuracy is : 0.8384511217655455\n",
            "\n",
            "0.55\n",
            "False\n",
            "accuracy is : 0.8384511217655455\n",
            "\n",
            "0.56\n",
            "False\n",
            "accuracy is : 0.8384511217655455\n",
            "\n",
            "0.5700000000000001\n",
            "False\n",
            "accuracy is : 0.8384511217655455\n",
            "\n",
            "0.58\n",
            "False\n",
            "accuracy is : 0.8384511217655455\n",
            "\n",
            "0.59\n",
            "False\n",
            "accuracy is : 0.8384511217655455\n",
            "\n",
            "0.6\n",
            "False\n",
            "accuracy is : 0.8384511217655455\n",
            "\n",
            "0.61\n",
            "False\n",
            "accuracy is : 0.8384511217655455\n",
            "\n",
            "0.62\n",
            "False\n",
            "accuracy is : 0.8384511217655455\n",
            "\n",
            "0.63\n",
            "False\n",
            "accuracy is : 0.8384511217655455\n",
            "\n",
            "0.64\n",
            "False\n",
            "accuracy is : 0.8384511217655455\n",
            "\n",
            "0.65\n",
            "False\n",
            "accuracy is : 0.8384511217655455\n",
            "\n",
            "0.66\n",
            "False\n",
            "accuracy is : 0.8384511217655455\n",
            "\n",
            "0.67\n",
            "False\n",
            "accuracy is : 0.8384511217655455\n",
            "\n",
            "0.68\n",
            "False\n",
            "accuracy is : 0.8384511217655455\n",
            "\n",
            "0.6900000000000001\n",
            "False\n",
            "accuracy is : 0.8384511217655455\n",
            "\n",
            "0.7000000000000001\n",
            "False\n",
            "accuracy is : 0.8384511217655455\n",
            "\n",
            "0.71\n",
            "False\n",
            "accuracy is : 0.8384511217655455\n",
            "\n",
            "0.72\n",
            "False\n",
            "accuracy is : 0.8384511217655455\n",
            "\n",
            "0.73\n",
            "False\n",
            "accuracy is : 0.8384511217655455\n",
            "\n",
            "0.74\n",
            "False\n",
            "accuracy is : 0.8384511217655455\n",
            "\n",
            "0.75\n",
            "False\n",
            "accuracy is : 0.8384511217655455\n",
            "\n",
            "0.76\n",
            "False\n",
            "accuracy is : 0.8384511217655455\n",
            "\n",
            "0.77\n",
            "False\n",
            "accuracy is : 0.8384511217655455\n",
            "\n",
            "0.78\n",
            "False\n",
            "accuracy is : 0.8384511217655455\n",
            "\n",
            "0.79\n",
            "False\n",
            "accuracy is : 0.8384511217655455\n",
            "\n",
            "0.8\n",
            "False\n",
            "accuracy is : 0.8384511217655455\n",
            "\n",
            "0.81\n",
            "False\n",
            "accuracy is : 0.8384511217655455\n",
            "\n",
            "0.8200000000000001\n",
            "False\n",
            "accuracy is : 0.8384511217655455\n",
            "\n",
            "0.8300000000000001\n",
            "False\n",
            "accuracy is : 0.8384511217655455\n",
            "\n",
            "0.84\n",
            "False\n",
            "accuracy is : 0.8384511217655455\n",
            "\n",
            "0.85\n",
            "False\n",
            "accuracy is : 0.8384511217655455\n",
            "\n",
            "0.86\n",
            "False\n",
            "accuracy is : 0.8384511217655455\n",
            "\n",
            "0.87\n",
            "False\n",
            "accuracy is : 0.8384511217655455\n",
            "\n",
            "0.88\n",
            "False\n",
            "accuracy is : 0.8384511217655455\n",
            "\n",
            "0.89\n",
            "False\n",
            "accuracy is : 0.8384511217655455\n",
            "\n",
            "0.9\n",
            "False\n",
            "accuracy is : 0.8384511217655455\n",
            "\n",
            "0.91\n",
            "False\n",
            "accuracy is : 0.8384511217655455\n",
            "\n",
            "0.92\n",
            "False\n",
            "accuracy is : 0.8384511217655455\n",
            "\n",
            "0.93\n",
            "False\n",
            "accuracy is : 0.8384511217655455\n",
            "\n",
            "0.9400000000000001\n",
            "False\n",
            "accuracy is : 0.8384511217655455\n",
            "\n",
            "0.9500000000000001\n",
            "False\n",
            "accuracy is : 0.8384511217655455\n",
            "\n",
            "0.96\n",
            "False\n",
            "accuracy is : 0.8384511217655455\n",
            "\n",
            "0.97\n",
            "False\n",
            "accuracy is : 0.8384511217655455\n",
            "\n",
            "0.98\n",
            "False\n",
            "accuracy is : 0.8384511217655455\n",
            "\n",
            "0.99\n",
            "False\n",
            "accuracy is : 0.8384511217655455\n",
            "\n",
            "1.0\n",
            "False\n",
            "accuracy is : 0.8384511217655455\n",
            "\n"
          ],
          "name": "stdout"
        }
      ]
    },
    {
      "cell_type": "markdown",
      "metadata": {
        "id": "TPJw_yE7-fEq"
      },
      "source": [
        "* optimal_threshold_ls_lg = 0.51\n",
        "* accuracy : 0.8384511217655455"
      ]
    },
    {
      "cell_type": "code",
      "metadata": {
        "id": "q-WSEGje-fEq"
      },
      "source": [
        "optimal_threshold_ls_lg = 0.51\n",
        "\n",
        "# test set 검증\n",
        "test_result_lg2 = pd.DataFrame(log_reg_ls.predict_proba(X_test_ls)[:,1],columns=['pred_prob'])\n",
        "test_result_lg2['rf_binary'] = np.where(test_result_lg2['pred_prob']>=optimal_threshold_ls_lg,1,0)"
      ],
      "execution_count": null,
      "outputs": []
    },
    {
      "cell_type": "code",
      "metadata": {
        "colab": {
          "base_uri": "https://localhost:8080/",
          "height": 419
        },
        "id": "NJ66UU0s-fEq",
        "outputId": "499773bf-abef-40e2-eb9a-94cb2f04b800"
      },
      "source": [
        "test_result_lg2"
      ],
      "execution_count": null,
      "outputs": [
        {
          "output_type": "execute_result",
          "data": {
            "text/html": [
              "<div>\n",
              "<style scoped>\n",
              "    .dataframe tbody tr th:only-of-type {\n",
              "        vertical-align: middle;\n",
              "    }\n",
              "\n",
              "    .dataframe tbody tr th {\n",
              "        vertical-align: top;\n",
              "    }\n",
              "\n",
              "    .dataframe thead th {\n",
              "        text-align: right;\n",
              "    }\n",
              "</style>\n",
              "<table border=\"1\" class=\"dataframe\">\n",
              "  <thead>\n",
              "    <tr style=\"text-align: right;\">\n",
              "      <th></th>\n",
              "      <th>pred_prob</th>\n",
              "      <th>rf_binary</th>\n",
              "    </tr>\n",
              "  </thead>\n",
              "  <tbody>\n",
              "    <tr>\n",
              "      <th>0</th>\n",
              "      <td>0.485737</td>\n",
              "      <td>0</td>\n",
              "    </tr>\n",
              "    <tr>\n",
              "      <th>1</th>\n",
              "      <td>0.497067</td>\n",
              "      <td>0</td>\n",
              "    </tr>\n",
              "    <tr>\n",
              "      <th>2</th>\n",
              "      <td>0.497676</td>\n",
              "      <td>0</td>\n",
              "    </tr>\n",
              "    <tr>\n",
              "      <th>3</th>\n",
              "      <td>0.487843</td>\n",
              "      <td>0</td>\n",
              "    </tr>\n",
              "    <tr>\n",
              "      <th>4</th>\n",
              "      <td>0.498908</td>\n",
              "      <td>0</td>\n",
              "    </tr>\n",
              "    <tr>\n",
              "      <th>...</th>\n",
              "      <td>...</td>\n",
              "      <td>...</td>\n",
              "    </tr>\n",
              "    <tr>\n",
              "      <th>218579</th>\n",
              "      <td>0.498401</td>\n",
              "      <td>0</td>\n",
              "    </tr>\n",
              "    <tr>\n",
              "      <th>218580</th>\n",
              "      <td>0.491635</td>\n",
              "      <td>0</td>\n",
              "    </tr>\n",
              "    <tr>\n",
              "      <th>218581</th>\n",
              "      <td>0.486159</td>\n",
              "      <td>0</td>\n",
              "    </tr>\n",
              "    <tr>\n",
              "      <th>218582</th>\n",
              "      <td>0.499007</td>\n",
              "      <td>0</td>\n",
              "    </tr>\n",
              "    <tr>\n",
              "      <th>218583</th>\n",
              "      <td>0.492716</td>\n",
              "      <td>0</td>\n",
              "    </tr>\n",
              "  </tbody>\n",
              "</table>\n",
              "<p>218584 rows × 2 columns</p>\n",
              "</div>"
            ],
            "text/plain": [
              "        pred_prob  rf_binary\n",
              "0        0.485737          0\n",
              "1        0.497067          0\n",
              "2        0.497676          0\n",
              "3        0.487843          0\n",
              "4        0.498908          0\n",
              "...           ...        ...\n",
              "218579   0.498401          0\n",
              "218580   0.491635          0\n",
              "218581   0.486159          0\n",
              "218582   0.499007          0\n",
              "218583   0.492716          0\n",
              "\n",
              "[218584 rows x 2 columns]"
            ]
          },
          "metadata": {
            "tags": []
          },
          "execution_count": 172
        }
      ]
    },
    {
      "cell_type": "code",
      "metadata": {
        "colab": {
          "base_uri": "https://localhost:8080/"
        },
        "id": "jQCleUMf-fEr",
        "outputId": "255d30da-d9f3-442b-d0ef-5e2bc07cc046"
      },
      "source": [
        "cm2 = confusion_matrix(y_test,test_result_lg2['rf_binary'])\n",
        "cm2"
      ],
      "execution_count": null,
      "outputs": [
        {
          "output_type": "execute_result",
          "data": {
            "text/plain": [
              "array([[183272,      0],\n",
              "       [ 35312,      0]])"
            ]
          },
          "metadata": {
            "tags": []
          },
          "execution_count": 173
        }
      ]
    },
    {
      "cell_type": "code",
      "metadata": {
        "colab": {
          "base_uri": "https://localhost:8080/"
        },
        "id": "_EFqCa16-fEr",
        "outputId": "28d80af0-e567-4369-9794-9f10a76c221b"
      },
      "source": [
        "print(classification_report(y_test, test_result_lg2['rf_binary']))"
      ],
      "execution_count": null,
      "outputs": [
        {
          "output_type": "stream",
          "text": [
            "/usr/local/lib/python3.6/dist-packages/sklearn/metrics/_classification.py:1272: UndefinedMetricWarning: Precision and F-score are ill-defined and being set to 0.0 in labels with no predicted samples. Use `zero_division` parameter to control this behavior.\n",
            "  _warn_prf(average, modifier, msg_start, len(result))\n"
          ],
          "name": "stderr"
        },
        {
          "output_type": "stream",
          "text": [
            "              precision    recall  f1-score   support\n",
            "\n",
            "         0.0       0.84      1.00      0.91    183272\n",
            "         1.0       0.00      0.00      0.00     35312\n",
            "\n",
            "    accuracy                           0.84    218584\n",
            "   macro avg       0.42      0.50      0.46    218584\n",
            "weighted avg       0.70      0.84      0.76    218584\n",
            "\n"
          ],
          "name": "stdout"
        }
      ]
    },
    {
      "cell_type": "code",
      "metadata": {
        "colab": {
          "base_uri": "https://localhost:8080/"
        },
        "id": "twhNeIyb-fEr",
        "outputId": "c33cc9e1-6c8b-4802-aea5-cd06a06b9f4f"
      },
      "source": [
        "tpr, fpr, prc, acc =  get_rates(cm2)\n",
        "print(\"TPR : {:.2f}%\".format(tpr*100))\n",
        "print(\"FPR : {:.2f}%\".format(fpr*100))\n",
        "print(\"Precision : {:.2f}%\".format(prc*100))\n",
        "print(\"Accuracy : {:.2f}%\".format(acc*100))"
      ],
      "execution_count": null,
      "outputs": [
        {
          "output_type": "stream",
          "text": [
            "TPR : 0.00%\n",
            "FPR : 0.00%\n",
            "Precision : nan%\n",
            "Accuracy : 83.85%\n"
          ],
          "name": "stdout"
        },
        {
          "output_type": "stream",
          "text": [
            "/usr/local/lib/python3.6/dist-packages/ipykernel_launcher.py:10: RuntimeWarning: invalid value encountered in long_scalars\n",
            "  # Remove the CWD from sys.path while we load stuff.\n"
          ],
          "name": "stderr"
        }
      ]
    },
    {
      "cell_type": "code",
      "metadata": {
        "colab": {
          "base_uri": "https://localhost:8080/",
          "height": 573
        },
        "id": "YEP9kldq-fEr",
        "outputId": "a09ca493-a659-4839-f244-ce7c5b0ace0f"
      },
      "source": [
        "cm2_norm = cm2 / cm2.sum(axis=1).reshape(-1,1)\n",
        "\n",
        "plot_confusion_matrix(cm2_norm, classes = rf_model.classes_, title='Logistic Classification (with Lasso)')"
      ],
      "execution_count": null,
      "outputs": [
        {
          "output_type": "display_data",
          "data": {
            "image/png": "[encoded data removed]",
            "text/plain": [
              "<Figure size 720x648 with 2 Axes>"
            ]
          },
          "metadata": {
            "tags": []
          }
        }
      ]
    },
    {
      "cell_type": "markdown",
      "metadata": {
        "id": "TU0iM25UXMT_"
      },
      "source": [
        "# <optimal threshold 구하기>\n",
        "### 1.기대수익을 극대화하기 위해서는 threshold를 1단위(가령 1%p) 만큼 낮췄을 때 증가한 부도금액보다 증가한 이자수익이 더 크거나 같아야 함. 그리고 이 둘이 같아질 때가 최적의 threshold라고 할 수 있음.\n",
        "### 2. 기대 이자수익을 구하기 위해 int_rate으로부터 class가 0인 사람들의 평균 이자율(약 12.2%)을 구함. 그리고 total_rec_prncp로부터 원금의 규모를 구함(이들은 돈을 다 갚았다는 사람들이므로 total_rec_prncp이 곧 대출금을 의미한다고 판단함). 이 값이 대략 \\$13,500정도로 나옴.\n",
        "### 3. 기대 부도금액을 추정하기 위해 class가 0인 사람들과 class가 1인 사람들의 대출금은 평균적으로 큰 차이가 없다고 가정을 함. 그 다음 class가 1인 사람들의 total_pymnt_inv\t(약 \\$9,100)로부터 원리금 회수율을 도출해보고자 함. 앞에서 구한 class 0인 사람들의 원금 규모로 class 1인 사람들의 갚은 원리금 규모를 나눴더니 약 67%가 나옴. 즉, 부도를 낸 사람들도 다 갚지는 못했으나 평균적으로 67%의 금액을 갚고 원금의 33%를 부도냈다는 것으로 해석할 수 있음.\n",
        "### 4. 앞에서 이미 class 0과 class 1의 대출금액은 큰 차이가 없을 것이라 가정했으므로 기대수익을 확인하기 위해서는 절대적 금액이 아닌 이자율과 (회수율-100%)만 비교하면 됨. 즉, threshold를 1단위 낮춰서 class 1인 사람이 1명 늘어났다고 하면 67%-100%=-33%의 손실을 본 것과 같음. 대신 threshold를 낮추면서 class가 0인 사람들도 늘어날 것이므로 (늘어난 사람의 수)*12.2%의 수익을 보게 될 것임. 이로부터 늘어나는 class 0인 사람들이 늘어나는 class 1인 사람들의 2.75(=33%/12%)배 이상일 때 최적의 수익을 달성할 수 있으리라 기대 가능함. \n",
        "### 5. 이제 구체적으로 weight을 조정하는 방법에 대해 논하겠음. confusion matrix에서의 1종 오류율(실제는 0인데 1로 예측)과 2종 오류율(실제는 1인데 0으로 예측)만으로 판단하면 모집단의 크기를 고려하지 못하기 때문에 앞서 구한 class 0와 class 1의 전체 비율인 5:1을 고려해야 함. 앞서 4.에서 언급한 2.75배를 class 1에 곱해주고 5배를 class 0에 곱해주면 기대수익을 고려한 이들의 가중치가 나옴. 즉, class0는 class1보다 5/2.75=1.8배 중요하므로 threshold를 한 단위 낮출 때 줄어드는 1종 오류율이 증가하는 2종 오류율의 약 1.8배가 될 때 1-fpr과 tpr의 최적 weight가 된다는 것이 본인의 주장임. 단, 우리의 경우 threshold를 변화시켜 가면서 marginal한 1종 오류율의 변화와 2종 오류율의 변화를 관찰할 수 없으므로 weight를 grid search로 변화시켜 가면서 marginal 1종 오류율 =marginal 2종 오류율*1.8이 될 때를 최적의 weight로 구할 수 있고 이로부터 최적의 threshold를 구할 수 있음."
      ]
    },
    {
      "cell_type": "code",
      "metadata": {
        "id": "uE6iWe2ljQ48"
      },
      "source": [
        ""
      ],
      "execution_count": null,
      "outputs": []
    }
  ]
}